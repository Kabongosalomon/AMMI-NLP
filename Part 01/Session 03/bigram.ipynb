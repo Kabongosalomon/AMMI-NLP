{
 "cells": [
  {
   "cell_type": "code",
   "execution_count": 16,
   "metadata": {},
   "outputs": [],
   "source": [
    "import io, sys, math, re\n",
    "from collections import defaultdict\n",
    "import numpy as np\n",
    "import ipdb#"
   ]
  },
  {
   "cell_type": "code",
   "execution_count": 17,
   "metadata": {},
   "outputs": [],
   "source": [
    "# dataloader\n",
    "\n",
    "def load_data(filename):\n",
    "    fin = io.open(filename, 'r', encoding='utf-8')\n",
    "    data = []\n",
    "    vocab = defaultdict(lambda:0)\n",
    "    for line in fin:\n",
    "        sentence = line.split()\n",
    "        data.append(sentence)\n",
    "        for word in sentence:\n",
    "            vocab[word] += 1\n",
    "    return data, vocab"
   ]
  },
  {
   "cell_type": "code",
   "execution_count": 18,
   "metadata": {},
   "outputs": [],
   "source": [
    "def remove_rare_words(data, vocab, mincount):\n",
    "    ## FILL CODE\n",
    "    # replace words in data that are not in the vocab \n",
    "    # or have a count that is below mincount\n",
    "    for i1, words in enumerate(data):\n",
    "        for i2, w in enumerate(words):\n",
    "            if w not in vocab.keys():\n",
    "                data[i1][i2] = '<unk>'\n",
    "            elif vocab[w] < mincount:\n",
    "                data[i1][i2] = '<unk>'\n",
    "            \n",
    "    return data"
   ]
  },
  {
   "cell_type": "code",
   "execution_count": 19,
   "metadata": {},
   "outputs": [
    {
     "name": "stdout",
     "output_type": "stream",
     "text": [
      "load training set\n",
      "load validation set\n"
     ]
    }
   ],
   "source": [
    "# LOAD DATA\n",
    "print(\"load training set\")\n",
    "train_data, vocab = load_data(\"train2.txt\")\n",
    "## FILL CODE \n",
    "# If you have a Out of Vocabulary error (OOV) \n",
    "# call the function \"remove_rare_words\" to replace \n",
    "# rare words with <unk> in the dataset\n",
    "train_data_r = remove_rare_words(train_data, vocab, mincount = 10)\n",
    "\n",
    "print(\"load validation set\")\n",
    "valid_data, _ = load_data(\"valid2.txt\")\n",
    "## FILL CODE \n",
    "# If you have a Out of Vocabulary error (OOV) \n",
    "# call the function \"remove_rare_words\" to replace \n",
    "# OOV with <unk> in the dataset\n",
    "valid_data_r = remove_rare_words(valid_data, vocab, mincount = 10)"
   ]
  },
  {
   "cell_type": "code",
   "execution_count": 5,
   "metadata": {},
   "outputs": [],
   "source": [
    "# Function to build a bigram model\n",
    "\n",
    "def build_bigram(data):\n",
    "    unigram_counts = defaultdict(lambda:0)\n",
    "    bigram_counts  = defaultdict(lambda: defaultdict(lambda: 0.0))\n",
    "    total_number_words = 0\n",
    "\n",
    "    ## FILL CODE\n",
    "    # Store the unigram and bigram counts as well as the total \n",
    "    # number of words in the dataset\n",
    "    for i1, sentence in enumerate(data):\n",
    "        total_number_words += len(sentence)\n",
    "        for i2, _ in enumerate(sentence):\n",
    "            unigram_counts[data[i1][i2]] += 1\n",
    "            if i2+1 < len(sentence):\n",
    "                bigram_counts[data[i1][i2]][data[i1][i2+1]] += 1\n",
    "\n",
    "\n",
    "    unigram_prob = defaultdict(lambda:0)\n",
    "    bigram_prob = defaultdict(lambda: defaultdict(lambda: 0.0))\n",
    "\n",
    "    ## FILL CODE\n",
    "    # Build unigram and bigram probabilities from counts\n",
    "    \n",
    "    for word in unigram_counts.keys():\n",
    "        unigram_prob[word] = unigram_counts[word]/total_number_words\n",
    "\n",
    "    \n",
    "    for i1, words in enumerate(data):\n",
    "        for i2, w in enumerate(words):\n",
    "            if i2+1 < len(words):\n",
    "                # P(w_t/w_{t-1}) = P(i2+1/i2)\n",
    "                bigram_prob[data[i1][i2]][data[i1][i2+1]] = \\\n",
    "                    bigram_counts[data[i1][i2]][data[i1][i2+1]]/unigram_counts[data[i1][i2]]\n",
    "    \n",
    "    return {'bigram': bigram_prob, 'unigram': unigram_prob}"
   ]
  },
  {
   "cell_type": "code",
   "execution_count": 6,
   "metadata": {},
   "outputs": [
    {
     "name": "stdout",
     "output_type": "stream",
     "text": [
      "build bigram model\n"
     ]
    }
   ],
   "source": [
    "# RUN TO BUILD BIGRAM MODEL\n",
    "\n",
    "print(\"build bigram model\")\n",
    "model = build_bigram(train_data_r)"
   ]
  },
  {
   "cell_type": "code",
   "execution_count": 7,
   "metadata": {},
   "outputs": [
    {
     "data": {
      "text/plain": [
       "0.15040555555555554"
      ]
     },
     "execution_count": 7,
     "metadata": {},
     "output_type": "execute_result"
    }
   ],
   "source": [
    "model['bigram']['<s>']['i']"
   ]
  },
  {
   "cell_type": "code",
   "execution_count": 8,
   "metadata": {},
   "outputs": [],
   "source": [
    "#model['bigram']"
   ]
  },
  {
   "cell_type": "code",
   "execution_count": 9,
   "metadata": {},
   "outputs": [],
   "source": [
    "# model['bigram']"
   ]
  },
  {
   "cell_type": "code",
   "execution_count": 10,
   "metadata": {},
   "outputs": [],
   "source": [
    "# Stupid backoff #pp37 (lecture 4)\n",
    "def get_prob(model, w1, w2):\n",
    "    assert model[\"unigram\"][w2] != 0, \"Out of Vocabulary word!\"\n",
    "    ## FILL CODE\n",
    "    # Should return the probability of the bigram (w1w2) if it exists\n",
    "    # Else it return the probility of unigram (w2) multiply by 0.4\n",
    "    if model['bigram'][w1][w2] != 0:\n",
    "        return model['bigram'][w1][w2]\n",
    "    else :\n",
    "        return model['unigram'][w2] * 0.4\n",
    "\n",
    "def perplexity(model, data): \n",
    "    ## FILL CODE\n",
    "    # follow the formula in the slides\n",
    "    # call the function get_prob to get P(w2 | w1)\n",
    "    \n",
    "    perp = []\n",
    "    \n",
    "    for i1, sentence in enumerate(data):\n",
    "        perp_s = 1.0\n",
    "        sentence = tuple(sentence)\n",
    "        for i2, w in enumerate(sentence):\n",
    "            if i2+1 < len(sentence):\n",
    "                perp_s *= 1.0/get_prob(model, data[i1][i2], data[i1][i2+1])\n",
    "        \n",
    "        perp.append(perp_s**(1/len(sentence)))\n",
    "                \n",
    "    return np.mean(perp)     "
   ]
  },
  {
   "cell_type": "code",
   "execution_count": 11,
   "metadata": {},
   "outputs": [
    {
     "name": "stdout",
     "output_type": "stream",
     "text": [
      "The perplexity is 42.50827716082787\n"
     ]
    }
   ],
   "source": [
    "# COMPUTE PERPLEXITY ON VALIDATION SET\n",
    "\n",
    "print(\"The perplexity is\", perplexity(model, valid_data_r))"
   ]
  },
  {
   "cell_type": "raw",
   "metadata": {},
   "source": [
    "choice(a, size=None, replace=True, p=None)\n",
    "\n",
    "Generates a random sample from a given 1-D array\n",
    "\n",
    "        .. versionadded:: 1.7.0\n",
    "\n",
    "Parameters\n",
    "-----------\n",
    "a : 1-D array-like or int\n",
    "    If an ndarray, a random sample is generated from its elements.\n",
    "    If an int, the random sample is generated as if a were np.arange(a)\n",
    "size : int or tuple of ints, optional\n",
    "    Output shape.  If the given shape is, e.g., ``(m, n, k)``, then\n",
    "    ``m * n * k`` samples are drawn.  Default is None, in which case a\n",
    "    single value is returned.\n",
    "replace : boolean, optional\n",
    "    Whether the sample is with or without replacement\n",
    "p : 1-D array-like, optional\n",
    "    The probabilities associated with each entry in a.\n",
    "    If not given the sample assumes a uniform distribution over all\n",
    "    entries in a."
   ]
  },
  {
   "cell_type": "code",
   "execution_count": 12,
   "metadata": {},
   "outputs": [],
   "source": [
    "# model['bigram'].values()"
   ]
  },
  {
   "cell_type": "code",
   "execution_count": 13,
   "metadata": {},
   "outputs": [],
   "source": [
    "def generate(model):\n",
    "    sentence = [\"<s>\"]\n",
    "    ## FILL CODE\n",
    "    # generate a sentence. A sentence starts with a <s> and ends with a </s>\n",
    "    # Possiblly a use function is:\n",
    "    #   np.random.choice(x, 1, p = y)\n",
    "    # where x is a list of things to sample from\n",
    "    # and y is a list of probability (of the same length as x)\n",
    "    i = 0\n",
    "    while True :\n",
    "        current_pred = np.random.choice(list(model['bigram'][sentence[i]].keys()), 1, \\\n",
    "                                         p = list(model['bigram'][sentence[i]].values()))\n",
    "        sentence.append(current_pred[0])\n",
    "        i+=1\n",
    "        if current_pred[0] == '</s>':\n",
    "            break\n",
    "    \n",
    "    return sentence"
   ]
  },
  {
   "cell_type": "code",
   "execution_count": null,
   "metadata": {},
   "outputs": [],
   "source": [
    " geometric_mean([1.322, 1.798, 1.252, 1.257, 1.11, 1.313, 1.328, 1.331, 1.312, 1.205, 1.616])"
   ]
  },
  {
   "cell_type": "code",
   "execution_count": 14,
   "metadata": {},
   "outputs": [],
   "source": [
    "# word = np.random.choice(list(model['bigram']['<s>'].keys()), 1, p=list(model['bigram']['<s>'].values()))\n",
    "# print(word, model['bigram']['.'][word[0]])\n",
    "\n",
    "# # train_data[:5]"
   ]
  },
  {
   "cell_type": "code",
   "execution_count": 15,
   "metadata": {},
   "outputs": [
    {
     "name": "stdout",
     "output_type": "stream",
     "text": [
      "Generated sentence:  ['<s>', 'my', 'teeth', 'everywhere', 'but', 'i', 'cannot', '<unk>', 'his', 'remark', 'gave', 'him', 'for', '<unk>', 'himself', 'to', 'do', 'in', 'tokyo', '.', '</s>']\n"
     ]
    }
   ],
   "source": [
    "# GENERATE A SENTENCE FROM THE MODEL\n",
    "\n",
    "print(\"Generated sentence: \", generate(model))"
   ]
  },
  {
   "cell_type": "markdown",
   "metadata": {},
   "source": [
    "<h1>About the Authors:</h1> \n",
    "\n",
    "<a href=\"https://skabongo.github.io/\">Salomon Kabongo</a>, Master degree student at <a href=\"https://aims.ac.za/\">the African Master in Machine Intelligence (AMMI, Ghana)</a> his research focused on the use machine learning technique in the field of Natural Language Processing, learn more about him [here](https://skabongo.github.io/) or [twitter](https://twitter.com/SalomonKabongo1).\n",
    "\n",
    "**References :** NLP Course at AMMI by [Edouard Grave](https://twitter.com/exgrv?lang=en)\n",
    "\n",
    "Copyright &copy; 2020. This notebook and its source code are released under the terms of the <a href=\"https://www.apache.org/licenses/LICENSE-2.0\">Apache License 2.0</a>."
   ]
  }
 ],
 "metadata": {
  "kernelspec": {
   "display_name": "Python 3",
   "language": "python",
   "name": "python3"
  },
  "language_info": {
   "codemirror_mode": {
    "name": "ipython",
    "version": 3
   },
   "file_extension": ".py",
   "mimetype": "text/x-python",
   "name": "python",
   "nbconvert_exporter": "python",
   "pygments_lexer": "ipython3",
   "version": "3.7.4"
  }
 },
 "nbformat": 4,
 "nbformat_minor": 4
}

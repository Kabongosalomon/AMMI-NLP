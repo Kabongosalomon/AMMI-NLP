{
 "cells": [
  {
   "cell_type": "code",
   "execution_count": 1,
   "metadata": {},
   "outputs": [],
   "source": [
    "import io, sys, math, re\n",
    "from collections import defaultdict\n",
    "import numpy as np\n",
    "import ipdb"
   ]
  },
  {
   "cell_type": "code",
   "execution_count": 2,
   "metadata": {},
   "outputs": [],
   "source": [
    "# dataloader\n",
    "\n",
    "def load_data(filename):\n",
    "    fin = io.open(filename, 'r', encoding='utf-8')\n",
    "    data = []\n",
    "    vocab = defaultdict(lambda:0)\n",
    "    for line in fin:\n",
    "        sentence = line.split()\n",
    "        data.append(sentence)\n",
    "        for word in sentence:\n",
    "            vocab[word] += 1\n",
    "    return data, vocab"
   ]
  },
  {
   "cell_type": "code",
   "execution_count": 3,
   "metadata": {},
   "outputs": [],
   "source": [
    "def remove_rare_words(data, vocab, mincount):\n",
    "    ## FILL CODE\n",
    "    # replace words in data that are not in the vocab \n",
    "    # or have a count that is below mincount\n",
    "    for i1, words in enumerate(data):\n",
    "        for i2, w in enumerate(words):\n",
    "            if w not in vocab.keys():\n",
    "                data[i1][i2] = '<unk>'\n",
    "            elif vocab[w] < mincount:\n",
    "                data[i1][i2] = '<unk>'\n",
    "            \n",
    "    return data"
   ]
  },
  {
   "cell_type": "code",
   "execution_count": 4,
   "metadata": {},
   "outputs": [
    {
     "name": "stdout",
     "output_type": "stream",
     "text": [
      "load training set\n",
      "load validation set\n"
     ]
    }
   ],
   "source": [
    "# LOAD DATA\n",
    "\n",
    "print(\"load training set\")\n",
    "train_data, vocab = load_data(\"train2.txt\")\n",
    "\n",
    "## FILL CODE\n",
    "# Same as bigram.py\n",
    "train_data_r = remove_rare_words(train_data, vocab, mincount = 10)\n",
    "\n",
    "print(\"load validation set\")\n",
    "valid_data, _ = load_data(\"valid2.txt\")\n",
    "## FILL CODE\n",
    "# Same as bigram.py\n",
    "valid_data_r = remove_rare_words(valid_data, vocab, mincount = 10)"
   ]
  },
  {
   "cell_type": "code",
   "execution_count": 40,
   "metadata": {},
   "outputs": [],
   "source": [
    "def build_ngram(data, n):\n",
    "    total_number_words = 0\n",
    "    counts = defaultdict(lambda: defaultdict(lambda: 0.0))\n",
    "\n",
    "    for sentence in data:\n",
    "        sentence = tuple(sentence)\n",
    "        ## FILL CODE\n",
    "        # dict can be indexed by tuples\n",
    "        # store in the same dict all the ngrams\n",
    "        # by using the context as a key and the word as a value\n",
    "        total_number_words += len(sentence)\n",
    "        for gram in range(1, n+1):\n",
    "            for i in range(len(sentence)-gram+1):\n",
    "#                 ipdb.set_trace()\n",
    "                counts[sentence[i:(gram+i-1)]][sentence[gram+i-1]]+=1\n",
    "\n",
    "    prob  = defaultdict(lambda: defaultdict(lambda: 0.0))\n",
    "    ## FILL CODE\n",
    "    # Build the probabilities from the counts\n",
    "    # Be careful with how you normalize!\n",
    "    for context in counts.keys():\n",
    "        for target in counts[context].keys():\n",
    "            prob[context][target] = counts[context][target]/(sum(counts[context].values()))\n",
    "\n",
    "    return prob"
   ]
  },
  {
   "cell_type": "code",
   "execution_count": 41,
   "metadata": {},
   "outputs": [
    {
     "name": "stdout",
     "output_type": "stream",
     "text": [
      "build ngram model with n =  2\n"
     ]
    }
   ],
   "source": [
    "# RUN TO BUILD NGRAM MODEL\n",
    "\n",
    "n = 2\n",
    "print(\"build ngram model with n = \", n)\n",
    "model = build_ngram(train_data, n)"
   ]
  },
  {
   "cell_type": "code",
   "execution_count": 17,
   "metadata": {},
   "outputs": [],
   "source": [
    "def get_prob(model, context, w):\n",
    "    ## FILL CODE\n",
    "    # code a recursive function over \n",
    "    # smaller and smaller context\n",
    "    # to compute the backoff model\n",
    "    # Bonus: You can also code an interpolation model this way\n",
    "    if model[context][w] != 0:\n",
    "        return model[context][w]\n",
    "    else :\n",
    "        return 0.4*get_prob(model, context[1:], w)\n",
    "\n",
    "def perplexity(model, data, n):\n",
    "    ## FILL CODE\n",
    "    # Same as bigram.py\n",
    "    perp = []\n",
    "        \n",
    "    for sentence in data:\n",
    "        sentence = tuple(sentence)\n",
    "        perp_s = 1.0\n",
    "        for i in range(len(sentence)):\n",
    "            if (n+i-1) < len(sentence):                \n",
    "                perp_s *= 1.0/get_prob(model, sentence[i:(n+i-1)], sentence[n+i-1])\n",
    "            \n",
    "        perp.append(perp_s**(1/len(sentence)))\n",
    "                \n",
    "    return np.mean(perp)"
   ]
  },
  {
   "cell_type": "code",
   "execution_count": 18,
   "metadata": {},
   "outputs": [
    {
     "name": "stdout",
     "output_type": "stream",
     "text": [
      "The perplexity is 28.8281280690292\n"
     ]
    }
   ],
   "source": [
    "# COMPUTE PERPLEXITY ON VALIDATION SET\n",
    "\n",
    "print(\"The perplexity is\", perplexity(model, valid_data_r, n))"
   ]
  },
  {
   "cell_type": "code",
   "execution_count": 25,
   "metadata": {},
   "outputs": [],
   "source": [
    "def get_proba_distrib(model, context):\n",
    "    ## FILL CODE\n",
    "    # code a recursive function over context\n",
    "    # to find the longest available ngram \n",
    "    if sum(model[context].values()) != 0:\n",
    "        return context\n",
    "    else :\n",
    "#         ipdb.set_trace()\n",
    "        return get_proba_distrib(model, context[1:])\n",
    "    \n",
    "\n",
    "def generate(model):\n",
    "    ## FILL CODE\n",
    "    # generate a sentence. A sentence starts with a <s> and ends with a </s>\n",
    "    # Possiblly a use function is:\n",
    "    #   np.random.choice(x, 1, p = y)\n",
    "    # where x is a list of things to sample from\n",
    "    # and y is a list of probability (of the same length as x)\n",
    "    \n",
    "    sentence = [\"<s>\"]\n",
    "    \n",
    "    i = 0\n",
    "    while True :\n",
    "        \n",
    "        avail_context = get_proba_distrib(model, \\\n",
    "                                        tuple(sentence[max(i+1-n, 0):i+1]))\n",
    "#         ipdb.set_trace()\n",
    "        a = list(model[avail_context].keys())\n",
    "        prob = list(model[avail_context].values())\n",
    "        current_pred = np.random.choice(a, 1, \\\n",
    "                                     p = prob)\n",
    "        sentence.append(current_pred[0])\n",
    "        i+=1\n",
    "        if current_pred[0] == '</s>':\n",
    "            break\n",
    "    \n",
    "    return sentence"
   ]
  },
  {
   "cell_type": "code",
   "execution_count": 35,
   "metadata": {},
   "outputs": [
    {
     "name": "stdout",
     "output_type": "stream",
     "text": [
      "Generated sentence:  ['<s>', 'the', 'twins', 'a', 'charity', '?', '\"', '</s>']\n"
     ]
    }
   ],
   "source": [
    "# GENERATE A SENTENCE FROM THE MODEL\n",
    "\n",
    "print(\"Generated sentence: \",generate(model))"
   ]
  },
  {
   "cell_type": "markdown",
   "metadata": {},
   "source": [
    "<h1>About the Authors:</h1> \n",
    "\n",
    "<a href=\"https://skabongo.github.io/\">Salomon Kabongo</a>, Master degree student at <a href=\"https://aims.ac.za/\">the African Master in Machine Intelligence (AMMI, Ghana)</a> his research focused on the use machine learning technique in the field of Natural Language Processing, learn more about him [here](https://skabongo.github.io/) or [twitter](https://twitter.com/SalomonKabongo1).\n",
    "\n",
    "**References :** NLP Course at AMMI by [Edouard Grave](https://twitter.com/exgrv?lang=en)\n",
    "\n",
    "Copyright &copy; 2020. This notebook and its source code are released under the terms of the <a href=\"https://www.apache.org/licenses/LICENSE-2.0\">Apache License 2.0</a>."
   ]
  },
  {
   "cell_type": "code",
   "execution_count": null,
   "metadata": {},
   "outputs": [],
   "source": []
  }
 ],
 "metadata": {
  "kernelspec": {
   "display_name": "Python 3",
   "language": "python",
   "name": "python3"
  },
  "language_info": {
   "codemirror_mode": {
    "name": "ipython",
    "version": 3
   },
   "file_extension": ".py",
   "mimetype": "text/x-python",
   "name": "python",
   "nbconvert_exporter": "python",
   "pygments_lexer": "ipython3",
   "version": "3.7.4"
  }
 },
 "nbformat": 4,
 "nbformat_minor": 4
}

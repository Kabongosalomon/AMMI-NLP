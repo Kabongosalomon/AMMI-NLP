{
 "cells": [
  {
   "cell_type": "markdown",
   "metadata": {
    "colab_type": "text",
    "id": "view-in-github"
   },
   "source": [
    "<a href=\"https://colab.research.google.com/github/Kabongosalomon/AMMI-NLP/blob/master/Part%2003/Day%2001/lab1/ammi_dnlp_lab1.ipynb\" target=\"_parent\"><img src=\"https://colab.research.google.com/assets/colab-badge.svg\" alt=\"Open In Colab\"/></a>"
   ]
  },
  {
   "cell_type": "markdown",
   "metadata": {
    "colab_type": "text",
    "id": "uzAMazBhyO7O"
   },
   "source": [
    "# AMMI Deep Natural Language Processing: Lab 1"
   ]
  },
  {
   "cell_type": "markdown",
   "metadata": {
    "colab_type": "text",
    "id": "z2oBLu8PyV1V"
   },
   "source": [
    "## 0. Introduction"
   ]
  },
  {
   "cell_type": "markdown",
   "metadata": {
    "colab_type": "text",
    "id": "NHed26lWcGwQ"
   },
   "source": [
    "In this tutorial we will train neural networks on the bAbI tasks using ParlAI framework.  \n",
    "This tutorial can be run both in google colab or on your computer.  \n",
    "The solutions will be added during the lab [here](https://fburl.com/ammi_dnlp_lab1).  \n",
    "\n",
    "We will cover the following:\n",
    "0. Introduction\n",
    "    - Introduction to ParlAI and installation\n",
    "    - Introduction to the bAbI tasks\n",
    "1. Exploring the data:\n",
    "    - Compute some statistics (number of examples in train, valid, test, size of examples...)\n",
    "    - Look at some examples\n",
    "2. Choose the appropriate metrics\n",
    "3. Baselines\n",
    "    - Ranom baseline\n",
    "    - Majority class baseline\n",
    "    - Information retrieval baseline\n",
    "4. More elaborate models\n",
    "   - Generative model: Seq2Seq\n",
    "   - Ranking model: Memory Network\n",
    "5. To go further\n",
    "    - Additional ideas to try if you want to dig deeper\n",
    "\n",
    "### ParlAI\n",
    "[ParlAI](https://github.com/facebookresearch/ParlAI/blob/master/README.md) (**pronounced “par-lay”**) is a framework for dialogue AI research, implemented in Python.\n",
    "\n",
    "Its goal is to provide researchers:\n",
    "\n",
    "* a unified framework for sharing, training and testing dialogue models\n",
    "* many popular datasets available all in one place -- from open-domain chitchat to visual question answering.\n",
    "* a wide set of reference models -- from retrieval baselines to Transformers.\n",
    "* seamless integration of Amazon Mechanical Turk for data collection and human evaluation\n",
    "* integration with Facebook Messenger to connect agents with humans in a chat interface\n",
    "\n",
    "Documentation can be found [here](http://www.parl.ai/static/docs/), some of this tutorial is inspired from the ParlAI documentation so feel free to go back and forth between the notebook and the documentation.\n",
    "\n",
    "\n",
    "### Setup the notebook\n",
    "If using google colab, make sure to use TPU runtime by going to ***Runtime > Change runtime type > Hardware accelerator: TPU > Save***"
   ]
  },
  {
   "cell_type": "markdown",
   "metadata": {
    "colab_type": "text",
    "id": "-k8BZE3HJaut"
   },
   "source": [
    "### Install ParlAI\n",
    "\n",
    "Start by installing ParlAI from github. The ParlAI folder will be located in the home directory at `~/ParlAI/`.  \n",
    "*Note: In a jupyter notebook, you can run arbitrary bash commands by prefixing them with a question mark, example: `!echo \"Hello World\"`*"
   ]
  },
  {
   "cell_type": "code",
   "execution_count": 1,
   "metadata": {
    "colab": {
     "base_uri": "https://localhost:8080/",
     "height": 708
    },
    "colab_type": "code",
    "id": "l8V7QcnMI7Wk",
    "outputId": "97608c9c-1d21-426e-9027-fcb97696b3cd"
   },
   "outputs": [
    {
     "name": "stdout",
     "output_type": "stream",
     "text": [
      "fatal: destination path '/home/aims/ParlAI' already exists and is not an empty directory.\n",
      "HEAD is now at 6bd0e586 light paper link on webpage! (#1536)\n"
     ]
    }
   ],
   "source": [
    "# Remove `> /dev/null` to see the output of commands\n",
    "!git clone https://github.com/facebookresearch/ParlAI.git ~/ParlAI  > /dev/null\n",
    "!cd ~/ParlAI && git checkout 6bd0e58692b3fd3a13b5f654944525ac1b7cd8e3\n",
    "!cd ~/ParlAI && python3 setup.py develop > /dev/null"
   ]
  },
  {
   "cell_type": "markdown",
   "metadata": {
    "colab_type": "text",
    "id": "EJDOC-zsL3wR"
   },
   "source": [
    "Most of the scripts that we will use in ParlAI are located in the `~/ParlAI/examples` directory.  \n",
    "Let's have a first glance at the scripts available, we will come back to them later:"
   ]
  },
  {
   "cell_type": "code",
   "execution_count": 2,
   "metadata": {
    "colab": {
     "base_uri": "https://localhost:8080/",
     "height": 104
    },
    "colab_type": "code",
    "id": "bIMjwxKrLm36",
    "outputId": "42039ef9-e933-4424-de61-ab16a21b1d88"
   },
   "outputs": [
    {
     "name": "stdout",
     "output_type": "stream",
     "text": [
      "base_train.py\t       eval_model.py\t\t remote.py\n",
      "build_dict.py\t       extract_image_feature.py  seq2seq_train_babi.py\n",
      "build_pytorch_data.py  interactive.py\t\t train_model.py\n",
      "display_data.py        profile_train.py\n",
      "display_model.py       README.md\n"
     ]
    }
   ],
   "source": [
    "!ls ~/ParlAI/examples/"
   ]
  },
  {
   "cell_type": "markdown",
   "metadata": {
    "colab_type": "text",
    "id": "N4UnbCdcqHPu"
   },
   "source": [
    "### The bAbI tasks\n",
    "Many datasets and tasks are included in ParlAI, we will focus on the bAbI tasks.\n",
    "The bAbI tasks are 20 synthetic tasks that each test a unique aspect of text and reasoning, and hence test different capabilities of learning models from [Weston et al. ‘16](http://arxiv.org/abs/1502.05698).\n",
    "\n",
    "---\n",
    "**Question 0.**  \n",
    "Open the bAbI [paper](https://arxiv.org/pdf/1502.05698.pdf) and read the abstract  and section: *\"3 The Tasks\"* (until paragraph **Two or Three Supporting Facts**,  included).  \n",
    "- **0.a.** Explain in your own words the motivations behind these tasks (in 2-3 sentences).\n",
    "\n",
    "*ANSWER HERE*\n",
    "\n",
    "---\n",
    "\n",
    "These tasks can be downloaded and used directly from ParlAI.  \n",
    "We will focus on tasks 1, 2 and 3, see examples below:\n",
    "\n",
    "\n",
    "**Task 1: Single Supporting Fact**  \n",
    "Mary went to the bathroom.  \n",
    "John moved to the hallway.  \n",
    "Mary travelled to the office.  \n",
    "Where is Mary?  \n",
    "**Answer: office**  \n",
    "\n",
    "\n",
    "**Task 2: Two Supporting Facts**  \n",
    "John is in the playground.  \n",
    "John picked up the football.  \n",
    "Bob went to the kitchen.  \n",
    "Where is the football?  \n",
    "**Answer: playground**\n",
    "\n",
    "\n",
    "**Task 3: Three Supporting Facts **  \n",
    "John picked up the apple.  \n",
    "John went to the office.  \n",
    "John went to the kitchen.  \n",
    "John dropped the apple.   \n",
    "Where was the apple before the kitchen?  \n",
    "**Answer: office**\n",
    "\n"
   ]
  },
  {
   "cell_type": "markdown",
   "metadata": {
    "colab_type": "text",
    "id": "L6IZA9r0MjBd"
   },
   "source": [
    "## 1. Exploring the data"
   ]
  },
  {
   "cell_type": "markdown",
   "metadata": {
    "colab_type": "text",
    "id": "1Cc-Si6SyatK"
   },
   "source": [
    "First we need to download the data, we will use the `build_dict.py` as a dummy task to download the data."
   ]
  },
  {
   "cell_type": "code",
   "execution_count": 3,
   "metadata": {
    "colab": {
     "base_uri": "https://localhost:8080/",
     "height": 1000
    },
    "colab_type": "code",
    "id": "XAEH7xUXtxFj",
    "outputId": "50c9f028-746d-46ca-988a-1b794732c7e2"
   },
   "outputs": [
    {
     "name": "stdout",
     "output_type": "stream",
     "text": [
      "[ Main ParlAI Arguments: ] \n",
      "[  batchsize: 1 ]\n",
      "[  datapath: /home/aims/ParlAI/data ]\n",
      "[  datatype: train ]\n",
      "[  download_path: /home/aims/ParlAI/downloads ]\n",
      "[  hide_labels: False ]\n",
      "[  image_mode: raw ]\n",
      "[  multitask_weights: [1] ]\n",
      "[  numthreads: 1 ]\n",
      "[  show_advanced_args: False ]\n",
      "[  task: babi:task1k:1 ]\n",
      "[ ParlAI Model Arguments: ] \n",
      "[  dict_class: None ]\n",
      "[  init_model: None ]\n",
      "[  model: None ]\n",
      "[  model_file: None ]\n",
      "[ PytorchData Arguments: ] \n",
      "[  batch_length_range: 5 ]\n",
      "[  batch_sort_cache_type: pop ]\n",
      "[  batch_sort_field: text ]\n",
      "[  numworkers: 4 ]\n",
      "[  pytorch_context_length: -1 ]\n",
      "[  pytorch_datapath: None ]\n",
      "[  pytorch_include_labels: True ]\n",
      "[  pytorch_preprocess: False ]\n",
      "[  pytorch_teacher_batch_sort: False ]\n",
      "[  pytorch_teacher_dataset: None ]\n",
      "[  pytorch_teacher_task: None ]\n",
      "[  shuffle: False ]\n",
      "[ Dictionary Loop Arguments: ] \n",
      "[  dict_include_test: False ]\n",
      "[  dict_include_valid: False ]\n",
      "[  dict_maxexs: -1 ]\n",
      "[  log_every_n_secs: 2 ]\n",
      "[ Dictionary Arguments: ] \n",
      "[  bpe_debug: False ]\n",
      "[  dict_endtoken: __end__ ]\n",
      "[  dict_file: /tmp/babi1.dict ]\n",
      "[  dict_initpath: None ]\n",
      "[  dict_language: english ]\n",
      "[  dict_lower: False ]\n",
      "[  dict_max_ngram_size: -1 ]\n",
      "[  dict_maxtokens: -1 ]\n",
      "[  dict_minfreq: 0 ]\n",
      "[  dict_nulltoken: __null__ ]\n",
      "[  dict_starttoken: __start__ ]\n",
      "[  dict_textfields: text,labels ]\n",
      "[  dict_tokenizer: re ]\n",
      "[  dict_unktoken: __unk__ ]\n",
      "[ ParlAI Image Preprocessing Arguments: ] \n",
      "[  image_cropsize: 224 ]\n",
      "[  image_size: 256 ]\n",
      "[creating task(s): babi:task1k:1]\n",
      "[ running dictionary over data.. ]\n",
      "Building dictionary:   0%|                           | 0.00/900 [00:00<?, ?ex/s][loading fbdialog data:/home/aims/ParlAI/data/bAbI/tasks_1-20_v1-2/en-valid-nosf/qa1_train.txt]\n",
      "[loading fbdialog data:/home/aims/ParlAI/data/bAbI/tasks_1-20_v1-2/en-valid-nosf/qa1_train.txt]\n",
      "Building dictionary: 100%|████████████████████| 900/900 [00:00<00:00, 21.7kex/s]\n",
      "Dictionary: saving dictionary to /tmp/babi1.dict\n",
      "[ dictionary built with 26 tokens in 0s ]\n",
      "1 Mary moved to the bathroom.\n",
      "2 John went to the hallway.\n",
      "3 Where is Mary? \tbathroom\n",
      "4 Daniel went back to the hallway.\n",
      "5 Sandra moved to the garden.\n",
      "6 Where is Daniel? \thallway\n",
      "7 John moved to the office.\n",
      "8 Sandra journeyed to the bathroom.\n",
      "9 Where is Daniel? \thallway\n",
      "10 Mary moved to the hallway.\n",
      "11 Daniel travelled to the office.\n",
      "12 Where is Daniel? \toffice\n",
      "13 John went back to the garden.\n",
      "14 John moved to the bedroom.\n",
      "15 Where is Sandra? \tbathroom\n",
      "1 Mary went to the bedroom.\n",
      "2 John journeyed to the bathroom.\n",
      "3 Where is John? \tbathroom\n",
      "4 Sandra journeyed to the hallway.\n",
      "5 John journeyed to the garden.\n",
      "6 Where is Mary? \tbedroom\n",
      "7 John journeyed to the bathroom.\n",
      "8 Sandra journeyed to the garden.\n",
      "9 Where is John? \tbathroom\n",
      "10 Sandra went back to the bedroom.\n",
      "11 Daniel travelled to the bathroom.\n",
      "12 Where is John? \tbathroom\n",
      "13 John went to the office.\n",
      "14 Mary moved to the office.\n",
      "15 Where is Sandra? \tbedroom\n"
     ]
    }
   ],
   "source": [
    "# Download the data silently\n",
    "!python ~/ParlAI/examples/build_dict.py --task babi:task1k:1 --dict-file /tmp/babi1.dict\n",
    "# Print a few examples\n",
    "!head -n 30 ~/ParlAI/data/bAbI/tasks_1-20_v1-2/en-valid-10k-nosf/qa1_train.txt"
   ]
  },
  {
   "cell_type": "markdown",
   "metadata": {
    "colab_type": "text",
    "id": "vbc5n2xpPnsb"
   },
   "source": [
    "The bAbI tasks were downloaded in `~/ParlAI/data/bAbI/tasks_1-20_v1-2/en-valid-nosf/`\n",
    "\n",
    "In bAbI the data is organised as follows:\n",
    "- **Dialog turn**: A dialog turn is a single utterance / statement. Each line in the file corresponds to one dialog turn.   \n",
    "  Example: *\"John went to the office.\"*\n",
    "- **Sample (question)**: Every few dialog turns, a question can be asked that the model has to answer, this consitute a sample.  The question is followed by its ground truth answer, separated by a tab.\n",
    "  Example: *\"Where is John? `<tab>` bathroom\"*\n",
    "- **Episode**: a sequence of ordered coherent dialog turns that are related to each other form an episode. Each new episode is independant of the others. Each line starts with the dialog turn number in the current episode.\n",
    "\n",
    "\n",
    "---\n",
    "**Question 1.**\n",
    "- **1.a.** Look at the training file of task 1 (`~/ParlAI/data/bAbI/tasks_1-20_v1-2/en/qa1_train.txt`) and compute the following information:\n",
    "  - Number of episodes\n",
    "  - Number of  samples (questions)\n",
    "  - Number of dialog turns per episode\n",
    "  - How many different answers are there in the train set? How many times does each appear? (*hint: Use a python [counter](https://docs.python.org/3/library/collections.html#collections.Counter)*)\n",
    "  - How many unique words appear in the training set? How many time does each appear? (*hint: Use the Counter `most_common()` method*)\n",
    "\n",
    "*Print the answer in the following code cell*\n",
    "  \n",
    "  ---"
   ]
  },
  {
   "cell_type": "code",
   "execution_count": 12,
   "metadata": {
    "colab": {
     "base_uri": "https://localhost:8080/",
     "height": 158
    },
    "colab_type": "code",
    "id": "nk7B40wOf8nU",
    "outputId": "358a4b0f-a65a-407f-9a23-98bc067888f5"
   },
   "outputs": [
    {
     "ename": "FileNotFoundError",
     "evalue": "[Errno 2] No such file or directory: '~/ParlAI/data/bAbI/tasks_1-20_v1-2/en-valid-10k-nosf/qa1_train.txt'",
     "output_type": "error",
     "traceback": [
      "\u001b[0;31m---------------------------------------------------------------------------\u001b[0m",
      "\u001b[0;31mFileNotFoundError\u001b[0m                         Traceback (most recent call last)",
      "\u001b[0;32m<ipython-input-12-816e5b93e776>\u001b[0m in \u001b[0;36m<module>\u001b[0;34m\u001b[0m\n\u001b[1;32m      6\u001b[0m \u001b[0mtask_1_train_path\u001b[0m \u001b[0;34m=\u001b[0m \u001b[0;34m\"~/ParlAI/data/bAbI/tasks_1-20_v1-2/en-valid-10k-nosf/qa1_train.txt\"\u001b[0m\u001b[0;34m\u001b[0m\u001b[0;34m\u001b[0m\u001b[0m\n\u001b[1;32m      7\u001b[0m \u001b[0;34m\u001b[0m\u001b[0m\n\u001b[0;32m----> 8\u001b[0;31m \u001b[0;32mwith\u001b[0m \u001b[0mopen\u001b[0m\u001b[0;34m(\u001b[0m\u001b[0mtask_1_train_path\u001b[0m\u001b[0;34m,\u001b[0m \u001b[0;34m'r'\u001b[0m\u001b[0;34m)\u001b[0m \u001b[0;32mas\u001b[0m \u001b[0mf\u001b[0m\u001b[0;34m:\u001b[0m\u001b[0;34m\u001b[0m\u001b[0;34m\u001b[0m\u001b[0m\n\u001b[0m\u001b[1;32m      9\u001b[0m     \u001b[0;31m# FILL CODE HERE\u001b[0m\u001b[0;34m\u001b[0m\u001b[0;34m\u001b[0m\u001b[0;34m\u001b[0m\u001b[0m\n\u001b[1;32m     10\u001b[0m     \u001b[0mn_episode\u001b[0m \u001b[0;34m=\u001b[0m \u001b[0;36m0\u001b[0m\u001b[0;34m\u001b[0m\u001b[0;34m\u001b[0m\u001b[0m\n",
      "\u001b[0;31mFileNotFoundError\u001b[0m: [Errno 2] No such file or directory: '~/ParlAI/data/bAbI/tasks_1-20_v1-2/en-valid-10k-nosf/qa1_train.txt'"
     ]
    }
   ],
   "source": [
    "# FILL THIS CELL\n",
    "from collections import Counter\n",
    "\n",
    "\n",
    "task_1_train_path = '/root/ParlAI/data/bAbI/tasks_1-20_v1-2/en-valid-10k-nosf/qa1_train.txt'\n",
    "\n",
    "with open(task_1_train_path, 'r') as f:\n",
    "    # FILL CODE HERE\n",
    "    n_episode = 0\n",
    "    n_questions = 0\n",
    "    n_total_dialog = 0\n",
    "    possible_ans = Counter()\n",
    "    vocabulary = Counter()\n",
    "    i = 1\n",
    "    for line in f:\n",
    "        if int(line.split(' ')[0]) == i:\n",
    "             n_episode+=1\n",
    "        \n",
    "        line = ' '.join(line.split(' ')[1:])\n",
    "        fields = line.split('\\t')\n",
    "\n",
    "        if len(fields)>1:\n",
    "            n_questions +=1\n",
    "            possible_ans.update([fields[1]])\n",
    "\n",
    "        vocabulary.update(fields[0].split(' '))\n",
    "        n_total_dialog += 1\n",
    "\n",
    "\n",
    "print(f'Number of episodes: {n_episode}')\n",
    "print(f'Number of questions: {n_questions}')\n",
    "print(f'Number of dialog turns per episode: {n_total_dialog/n_episode}')\n",
    "print(f'Possible answers: {possible_ans} ({len(possible_ans)})')\n",
    "print(f'Accuracy of a random model: {1/len(possible_ans):.4f}')\n",
    "print(f'Vocabulary size: {len(vocabulary)}')\n",
    "print(f'Most common words: {vocabulary.most_common()}')"
   ]
  },
  {
   "cell_type": "markdown",
   "metadata": {
    "colab_type": "text",
    "id": "XNYNtDHiuVq8"
   },
   "source": [
    "\n",
    "- **1.b.** Use the appropriate script from the `~/ParlAI/examples/` to take a quick look at examples of the first bAbI task.  \n",
    "Does the number of episodes and examples fit what you computed before? (*hint: you can use the argument `--task babi:task1k:1` to select the first babi task*)"
   ]
  },
  {
   "cell_type": "code",
   "execution_count": 24,
   "metadata": {
    "colab": {
     "base_uri": "https://localhost:8080/",
     "height": 1000
    },
    "colab_type": "code",
    "id": "f6HlIvzGgKv2",
    "outputId": "b3983008-10ed-43ce-ff2a-64a0a54e5610"
   },
   "outputs": [
    {
     "name": "stdout",
     "output_type": "stream",
     "text": [
      "[ optional arguments: ] \n",
      "[  display_ignore_fields: agent_reply ]\n",
      "[  max_display_len: 1000 ]\n",
      "[  num_examples: 10 ]\n",
      "[ Main ParlAI Arguments: ] \n",
      "[  batchsize: 1 ]\n",
      "[  datapath: /root/ParlAI/data ]\n",
      "[  datatype: train:stream ]\n",
      "[  download_path: /root/ParlAI/downloads ]\n",
      "[  hide_labels: False ]\n",
      "[  image_mode: raw ]\n",
      "[  multitask_weights: [1] ]\n",
      "[  numthreads: 1 ]\n",
      "[  show_advanced_args: False ]\n",
      "[  task: babi:task10k:1 ]\n",
      "[ ParlAI Model Arguments: ] \n",
      "[  dict_class: None ]\n",
      "[  init_model: None ]\n",
      "[  model: None ]\n",
      "[  model_file: None ]\n",
      "[ PytorchData Arguments: ] \n",
      "[  batch_length_range: 5 ]\n",
      "[  batch_sort_cache_type: pop ]\n",
      "[  batch_sort_field: text ]\n",
      "[  numworkers: 4 ]\n",
      "[  pytorch_context_length: -1 ]\n",
      "[  pytorch_datapath: None ]\n",
      "[  pytorch_include_labels: True ]\n",
      "[  pytorch_preprocess: False ]\n",
      "[  pytorch_teacher_batch_sort: False ]\n",
      "[  pytorch_teacher_dataset: None ]\n",
      "[  pytorch_teacher_task: None ]\n",
      "[  shuffle: False ]\n",
      "[ ParlAI Image Preprocessing Arguments: ] \n",
      "[  image_cropsize: 224 ]\n",
      "[  image_size: 256 ]\n",
      "[creating task(s): babi:task10k:1]\n",
      "[loading fbdialog data:/root/ParlAI/data/bAbI/tasks_1-20_v1-2/en-valid-10k-nosf/qa1_train.txt]\n",
      "[loading fbdialog data:/root/ParlAI/data/bAbI/tasks_1-20_v1-2/en-valid-10k-nosf/qa1_train.txt]\n",
      "[babi:task10k:1]: Mary moved to the bathroom.\n",
      "John went to the hallway.\n",
      "Where is Mary?\n",
      "[labels: bathroom]\n",
      "[label_candidates: office|garden|hallway|bedroom|bathroom|...and 1 more]\n",
      "~~\n",
      "[babi:task10k:1]: Daniel went back to the hallway.\n",
      "Sandra moved to the garden.\n",
      "Where is Daniel?\n",
      "[labels: hallway]\n",
      "[label_candidates: office|garden|hallway|bedroom|bathroom|...and 1 more]\n",
      "~~\n",
      "[babi:task10k:1]: John moved to the office.\n",
      "Sandra journeyed to the bathroom.\n",
      "Where is Daniel?\n",
      "[labels: hallway]\n",
      "[label_candidates: office|garden|hallway|bedroom|bathroom|...and 1 more]\n",
      "~~\n",
      "[babi:task10k:1]: Mary moved to the hallway.\n",
      "Daniel travelled to the office.\n",
      "Where is Daniel?\n",
      "[labels: office]\n",
      "[label_candidates: office|garden|hallway|bedroom|bathroom|...and 1 more]\n",
      "~~\n",
      "[babi:task10k:1]: John went back to the garden.\n",
      "John moved to the bedroom.\n",
      "Where is Sandra?\n",
      "[labels: bathroom]\n",
      "[label_candidates: office|garden|hallway|bedroom|bathroom|...and 1 more]\n",
      "- - - - - - - - - - - - - - - - - - - - -\n",
      "~~\n",
      "[babi:task10k:1]: Mary went to the bedroom.\n",
      "John journeyed to the bathroom.\n",
      "Where is John?\n",
      "[labels: bathroom]\n",
      "[label_candidates: office|garden|hallway|bedroom|bathroom|...and 1 more]\n",
      "~~\n",
      "[babi:task10k:1]: Sandra journeyed to the hallway.\n",
      "John journeyed to the garden.\n",
      "Where is Mary?\n",
      "[labels: bedroom]\n",
      "[label_candidates: office|garden|hallway|bedroom|bathroom|...and 1 more]\n",
      "~~\n",
      "[babi:task10k:1]: John journeyed to the bathroom.\n",
      "Sandra journeyed to the garden.\n",
      "Where is John?\n",
      "[labels: bathroom]\n",
      "[label_candidates: office|garden|hallway|bedroom|bathroom|...and 1 more]\n",
      "~~\n",
      "[babi:task10k:1]: Sandra went back to the bedroom.\n",
      "Daniel travelled to the bathroom.\n",
      "Where is John?\n",
      "[labels: bathroom]\n",
      "[label_candidates: office|garden|hallway|bedroom|bathroom|...and 1 more]\n",
      "~~\n",
      "[babi:task10k:1]: John went to the office.\n",
      "Mary moved to the office.\n",
      "Where is Sandra?\n",
      "[labels: bedroom]\n",
      "[label_candidates: office|garden|hallway|bedroom|bathroom|...and 1 more]\n",
      "- - - - - - - - - - - - - - - - - - - - -\n",
      "~~\n",
      "[ loaded 1800 episodes with a total of 9000 examples ]\n"
     ]
    }
   ],
   "source": [
    "# FILL THIS CELL\n",
    "!python ~/ParlAI/examples/display_data.py --task babi:task10k:1"
   ]
  },
  {
   "cell_type": "code",
   "execution_count": 38,
   "metadata": {
    "colab": {
     "base_uri": "https://localhost:8080/",
     "height": 35
    },
    "colab_type": "code",
    "id": "DFNzC6DyM_kt",
    "outputId": "89ef587c-576e-4dc7-9eb3-063748e904e9"
   },
   "outputs": [
    {
     "name": "stdout",
     "output_type": "stream",
     "text": [
      "ParlAI\n"
     ]
    }
   ],
   "source": [
    "!ls ~"
   ]
  },
  {
   "cell_type": "markdown",
   "metadata": {
    "colab_type": "text",
    "id": "TovRmKOA858i"
   },
   "source": [
    "## 2. Metrics"
   ]
  },
  {
   "cell_type": "markdown",
   "metadata": {
    "colab_type": "text",
    "id": "g9NV_vBlPSWP"
   },
   "source": [
    "The bAbI task 1 expects single word answers among a small set of possible answers.\n",
    "\n",
    "\n",
    "---\n",
    "**Question 2**  \n",
    "- **2.a.** Which metrics do you think are appropriate for evaluating a model on this task?   \n",
    "-  **2.b.**  What are their respective strengths?  \n",
    "-  **2.c.** When do they fail? (find specific examples)  \n",
    "\n",
    "\n",
    "*ANSWER HERE* \n",
    "- 2.a. we can use accuracy, precision or f1-score\n",
    "\n",
    "- 2.b. the accuracy is quick to compute and can be a quick evaluation if the clases are balanced, and f1-score allows to have a mectric that can be robus to the case of imballanced data\n",
    "\n",
    "- 2.c. Accuracy fail when we have amballanced dataset \n",
    "\n",
    "\n",
    "\n",
    "\n",
    "---"
   ]
  },
  {
   "cell_type": "markdown",
   "metadata": {
    "colab_type": "text",
    "id": "0_MZKCTW6fh9"
   },
   "source": [
    "## 3. Baseline\n",
    "\n"
   ]
  },
  {
   "cell_type": "markdown",
   "metadata": {
    "colab_type": "text",
    "id": "RSexIY71yiD6"
   },
   "source": [
    "We now have a clearer idea of the data distribution and the metrics that we can use.  \n",
    "The next step is to start solving the tasks with a simple baseline. This will allow us to compare more elaborate models agains this baseline.  \n",
    "Here are a few classical baselines:\n",
    "- **Random model**: The model answers randomly among the set of possible answers for each question\n",
    "-  **Majority class**: The model always answers with the most frequent answer in the training set (majority class)\n",
    "\n",
    "We are going to reimplement these own baselines.  \n",
    "Implementing a new model in ParlAI is detailed in the [tutorial](https://www.parl.ai/docs/tutorial_quick.html) but for our simple baselines, we will only need to inherit the [Agent](https://github.com/facebookresearch/ParlAI/blob/6d246842d3f4e941dd3806f3d9fa62f607d48f59/parlai/core/agents.py#L50) class and override the `act()` method.\n",
    "\n",
    "\n",
    "---\n",
    "**Question 3**  \n",
    "- **3.a.** What would be the accuracy of a model that choses a random answer among the set of possible answers for each question? \n",
    "\n",
    "*ANSWER HERE*\n",
    "\n",
    "---\n",
    "\n",
    "*Note: the `%%writefile` magic command in jupyter writes the content of the cell to a file at the given path.*"
   ]
  },
  {
   "cell_type": "code",
   "execution_count": null,
   "metadata": {
    "colab": {},
    "colab_type": "code",
    "id": "9ahmFL0Rk6g1"
   },
   "outputs": [],
   "source": [
    "!mkdir -p ~/ParlAI/parlai/agents/baseline/\n",
    "!touch ~/ParlAI/parlai/agents/baseline/random.py\n",
    "!touch ~/ParlAI/parlai/agents/baseline/majorityclass.py"
   ]
  },
  {
   "cell_type": "markdown",
   "metadata": {
    "colab_type": "text",
    "id": "mZLM7DtkkJN1"
   },
   "source": [
    "- **3.b.**  Design a baseline that answers a random word in the set of possible answer (run it multiple time to observe variance in results)."
   ]
  },
  {
   "cell_type": "code",
   "execution_count": 40,
   "metadata": {
    "colab": {
     "base_uri": "https://localhost:8080/",
     "height": 35
    },
    "colab_type": "code",
    "id": "Zx4emBSPjmE-",
    "outputId": "aa7586a6-ac10-464b-a7f7-4b23503be099"
   },
   "outputs": [
    {
     "name": "stdout",
     "output_type": "stream",
     "text": [
      "Overwriting /root/ParlAI/parlai/agents/baseline/random.py\n"
     ]
    }
   ],
   "source": [
    "# FILL THIS CELL\n",
    "%%writefile ~/ParlAI/parlai/agents/baseline/random.py\n",
    "import random\n",
    "\n",
    "from parlai.core.torch_agent import Agent\n",
    "\n",
    "\n",
    "class RandomAgent(Agent):\n",
    "  \n",
    "    def act(self):\n",
    "        # FILL CODE HERE\n",
    "        if 'label_candidates' not in self.observation: # check that the model expect the answer\n",
    "            return\n",
    "        candidates = list(self.observation['label_candidates'])\n",
    "        reply = {'text': candidates[random.randrange(len(candidates))]}\n",
    "        return reply"
   ]
  },
  {
   "cell_type": "code",
   "execution_count": 41,
   "metadata": {
    "colab": {
     "base_uri": "https://localhost:8080/",
     "height": 35
    },
    "colab_type": "code",
    "id": "dMOWxgVj1Joz",
    "outputId": "376deb6b-c3d4-4ec3-f9d6-cc9e983058db"
   },
   "outputs": [
    {
     "name": "stdout",
     "output_type": "stream",
     "text": [
      "{'exs': 1000, 'accuracy': 0.168, 'f1': 0.168, 'bleu': 1.68e-10}\n"
     ]
    }
   ],
   "source": [
    "!python ~/ParlAI/examples/eval_model.py -t babi:task10k:1 -m baseline/random | grep accuracy -A 1"
   ]
  },
  {
   "cell_type": "code",
   "execution_count": 42,
   "metadata": {
    "colab": {
     "base_uri": "https://localhost:8080/",
     "height": 1000
    },
    "colab_type": "code",
    "id": "oVs3pOKE2-WE",
    "outputId": "1995e4bc-e01e-4aae-89df-ea1e57437e05"
   },
   "outputs": [
    {
     "name": "stdout",
     "output_type": "stream",
     "text": [
      "[ optional arguments: ] \n",
      "[  display_ignore_fields:  ]\n",
      "[  num_examples: 10 ]\n",
      "[ Main ParlAI Arguments: ] \n",
      "[  batchsize: 1 ]\n",
      "[  datapath: /root/ParlAI/data ]\n",
      "[  datatype: valid ]\n",
      "[  download_path: /root/ParlAI/downloads ]\n",
      "[  hide_labels: False ]\n",
      "[  image_mode: raw ]\n",
      "[  multitask_weights: [1] ]\n",
      "[  numthreads: 1 ]\n",
      "[  show_advanced_args: False ]\n",
      "[  task: babi:task10k:1 ]\n",
      "[ ParlAI Model Arguments: ] \n",
      "[  dict_class: None ]\n",
      "[  init_model: None ]\n",
      "[  model: baseline/random ]\n",
      "[  model_file: None ]\n",
      "[ ParlAI Image Preprocessing Arguments: ] \n",
      "[  image_cropsize: 224 ]\n",
      "[  image_size: 256 ]\n",
      "[creating task(s): babi:task10k:1]\n",
      "[loading fbdialog data:/root/ParlAI/data/bAbI/tasks_1-20_v1-2/en-valid-10k-nosf/qa1_valid.txt]\n",
      "[babi:task10k:1]: Sandra travelled to the office.\n",
      "Sandra went to the bathroom.\n",
      "Where is Sandra?\n",
      "[label_candidates: bedroom|garden|hallway|kitchen|office|...and 1 more]\n",
      "[eval_labels: bathroom]\n",
      "   bathroom\n",
      "~~\n",
      "[babi:task10k:1]: Mary went to the bedroom.\n",
      "Daniel moved to the hallway.\n",
      "Where is Sandra?\n",
      "[label_candidates: bedroom|garden|hallway|kitchen|office|...and 1 more]\n",
      "[eval_labels: bathroom]\n",
      "   bedroom\n",
      "~~\n",
      "[babi:task10k:1]: John went to the garden.\n",
      "John travelled to the office.\n",
      "Where is Sandra?\n",
      "[label_candidates: bedroom|garden|hallway|kitchen|office|...and 1 more]\n",
      "[eval_labels: bathroom]\n",
      "   bedroom\n",
      "~~\n",
      "[babi:task10k:1]: Daniel journeyed to the bedroom.\n",
      "Daniel travelled to the hallway.\n",
      "Where is John?\n",
      "[label_candidates: bedroom|garden|hallway|kitchen|office|...and 1 more]\n",
      "[eval_labels: office]\n",
      "   bathroom\n",
      "~~\n",
      "[babi:task10k:1]: John went to the bedroom.\n",
      "John travelled to the office.\n",
      "Where is Daniel?\n",
      "[label_candidates: bedroom|garden|hallway|kitchen|office|...and 1 more]\n",
      "[eval_labels: hallway]\n",
      "   hallway\n",
      "- - - - - - - - - - - - - - - - - - - - -\n",
      "~~\n",
      "[babi:task10k:1]: Sandra went back to the bathroom.\n",
      "Mary moved to the garden.\n",
      "Where is Mary?\n",
      "[label_candidates: bedroom|garden|hallway|kitchen|office|...and 1 more]\n",
      "[eval_labels: garden]\n",
      "   garden\n",
      "~~\n",
      "[babi:task10k:1]: Mary went back to the hallway.\n",
      "Sandra went to the office.\n",
      "Where is Sandra?\n",
      "[label_candidates: bedroom|garden|hallway|kitchen|office|...and 1 more]\n",
      "[eval_labels: office]\n",
      "   garden\n",
      "~~\n",
      "[babi:task10k:1]: John went back to the hallway.\n",
      "John travelled to the office.\n",
      "Where is Sandra?\n",
      "[label_candidates: bedroom|garden|hallway|kitchen|office|...and 1 more]\n",
      "[eval_labels: office]\n",
      "   garden\n",
      "~~\n",
      "[babi:task10k:1]: Sandra journeyed to the hallway.\n",
      "Daniel moved to the office.\n",
      "Where is John?\n",
      "[label_candidates: bedroom|garden|hallway|kitchen|office|...and 1 more]\n",
      "[eval_labels: office]\n",
      "   bathroom\n",
      "~~\n",
      "[babi:task10k:1]: Mary went to the office.\n",
      "Sandra went to the office.\n",
      "Where is John?\n",
      "[label_candidates: bedroom|garden|hallway|kitchen|office|...and 1 more]\n",
      "[eval_labels: office]\n",
      "   bedroom\n",
      "- - - - - - - - - - - - - - - - - - - - -\n",
      "~~\n"
     ]
    }
   ],
   "source": [
    "!python ~/ParlAI/examples/display_model.py -t babi:task10k:1 -m baseline/random -n 10 "
   ]
  },
  {
   "cell_type": "markdown",
   "metadata": {
    "colab_type": "text",
    "id": "3UnE4oVakR4k"
   },
   "source": [
    "- **3.c.**  Design a baseline that answers the most common answer every time (majority class baseline)."
   ]
  },
  {
   "cell_type": "code",
   "execution_count": null,
   "metadata": {
    "colab": {},
    "colab_type": "code",
    "id": "QKwEIfI8P91g"
   },
   "outputs": [],
   "source": [
    "l = [1, 2, 2, 2, 0, 0]"
   ]
  },
  {
   "cell_type": "code",
   "execution_count": 51,
   "metadata": {
    "colab": {
     "base_uri": "https://localhost:8080/",
     "height": 35
    },
    "colab_type": "code",
    "id": "ja5bOqLJQAw0",
    "outputId": "219dcb5d-34f9-45d0-f100-38646398e2d5"
   },
   "outputs": [
    {
     "data": {
      "text/plain": [
       "Counter({0: 2, 1: 1, 2: 3})"
      ]
     },
     "execution_count": 51,
     "metadata": {
      "tags": []
     },
     "output_type": "execute_result"
    }
   ],
   "source": [
    "Counter(l)"
   ]
  },
  {
   "cell_type": "code",
   "execution_count": 66,
   "metadata": {
    "colab": {
     "base_uri": "https://localhost:8080/",
     "height": 35
    },
    "colab_type": "code",
    "id": "hHIV2NUzGzQc",
    "outputId": "cbde2e4c-cc4e-4995-86af-3931aa8286dd"
   },
   "outputs": [
    {
     "name": "stdout",
     "output_type": "stream",
     "text": [
      "Overwriting /root/ParlAI/parlai/agents/baseline/majorityclass.py\n"
     ]
    }
   ],
   "source": [
    "# FILL THIS CELL\n",
    "%%writefile ~/ParlAI/parlai/agents/baseline/majorityclass.py\n",
    "import random\n",
    "\n",
    "from parlai.core.torch_agent import Agent\n",
    "\n",
    "\n",
    "class MajorityclassAgent(Agent):\n",
    "  \n",
    "    def act(self):\n",
    "        # FILL CODE HERE\n",
    "        if 'label_candidates' not in self.observation: # check that the model expect the answer\n",
    "            return\n",
    "\n",
    "        candidates = list(self.observation['label_candidates'])\n",
    "\n",
    "        # reply = {'text': max(set(candidates), key = candidates.count)} nto a good idea\n",
    "        reply = {'text': 'bathroom'}\n",
    "        return reply"
   ]
  },
  {
   "cell_type": "code",
   "execution_count": 67,
   "metadata": {
    "colab": {
     "base_uri": "https://localhost:8080/",
     "height": 35
    },
    "colab_type": "code",
    "id": "U34z6bx0lJV9",
    "outputId": "c4659eec-deac-4214-a215-be1cbdf5c7f2"
   },
   "outputs": [
    {
     "name": "stdout",
     "output_type": "stream",
     "text": [
      "{'exs': 1000, 'accuracy': 0.169, 'f1': 0.169, 'bleu': 1.69e-10}\n"
     ]
    }
   ],
   "source": [
    "!python ~/ParlAI/examples/eval_model.py -t babi:task10k:1 -m baseline/majorityclass | grep accuracy -A 1"
   ]
  },
  {
   "cell_type": "code",
   "execution_count": 68,
   "metadata": {
    "colab": {
     "base_uri": "https://localhost:8080/",
     "height": 1000
    },
    "colab_type": "code",
    "id": "X8LHkfUS3AL0",
    "outputId": "f08ce13a-bb52-4d09-8019-3200d0f2741b"
   },
   "outputs": [
    {
     "name": "stdout",
     "output_type": "stream",
     "text": [
      "[ optional arguments: ] \n",
      "[  display_ignore_fields:  ]\n",
      "[  num_examples: 10 ]\n",
      "[ Main ParlAI Arguments: ] \n",
      "[  batchsize: 1 ]\n",
      "[  datapath: /root/ParlAI/data ]\n",
      "[  datatype: valid ]\n",
      "[  download_path: /root/ParlAI/downloads ]\n",
      "[  hide_labels: False ]\n",
      "[  image_mode: raw ]\n",
      "[  multitask_weights: [1] ]\n",
      "[  numthreads: 1 ]\n",
      "[  show_advanced_args: False ]\n",
      "[  task: babi:task10k:1 ]\n",
      "[ ParlAI Model Arguments: ] \n",
      "[  dict_class: None ]\n",
      "[  init_model: None ]\n",
      "[  model: baseline/majorityclass ]\n",
      "[  model_file: None ]\n",
      "[ ParlAI Image Preprocessing Arguments: ] \n",
      "[  image_cropsize: 224 ]\n",
      "[  image_size: 256 ]\n",
      "[creating task(s): babi:task10k:1]\n",
      "[loading fbdialog data:/root/ParlAI/data/bAbI/tasks_1-20_v1-2/en-valid-10k-nosf/qa1_valid.txt]\n",
      "[babi:task10k:1]: Sandra travelled to the office.\n",
      "Sandra went to the bathroom.\n",
      "Where is Sandra?\n",
      "[eval_labels: bathroom]\n",
      "[label_candidates: garden|bathroom|hallway|kitchen|office|...and 1 more]\n",
      "   bathroom\n",
      "~~\n",
      "[babi:task10k:1]: Mary went to the bedroom.\n",
      "Daniel moved to the hallway.\n",
      "Where is Sandra?\n",
      "[eval_labels: bathroom]\n",
      "[label_candidates: garden|bathroom|hallway|kitchen|office|...and 1 more]\n",
      "   bathroom\n",
      "~~\n",
      "[babi:task10k:1]: John went to the garden.\n",
      "John travelled to the office.\n",
      "Where is Sandra?\n",
      "[eval_labels: bathroom]\n",
      "[label_candidates: garden|bathroom|hallway|kitchen|office|...and 1 more]\n",
      "   bathroom\n",
      "~~\n",
      "[babi:task10k:1]: Daniel journeyed to the bedroom.\n",
      "Daniel travelled to the hallway.\n",
      "Where is John?\n",
      "[eval_labels: office]\n",
      "[label_candidates: garden|bathroom|hallway|kitchen|office|...and 1 more]\n",
      "   bathroom\n",
      "~~\n",
      "[babi:task10k:1]: John went to the bedroom.\n",
      "John travelled to the office.\n",
      "Where is Daniel?\n",
      "[eval_labels: hallway]\n",
      "[label_candidates: garden|bathroom|hallway|kitchen|office|...and 1 more]\n",
      "   bathroom\n",
      "- - - - - - - - - - - - - - - - - - - - -\n",
      "~~\n",
      "[babi:task10k:1]: Sandra went back to the bathroom.\n",
      "Mary moved to the garden.\n",
      "Where is Mary?\n",
      "[eval_labels: garden]\n",
      "[label_candidates: garden|bathroom|hallway|kitchen|office|...and 1 more]\n",
      "   bathroom\n",
      "~~\n",
      "[babi:task10k:1]: Mary went back to the hallway.\n",
      "Sandra went to the office.\n",
      "Where is Sandra?\n",
      "[eval_labels: office]\n",
      "[label_candidates: garden|bathroom|hallway|kitchen|office|...and 1 more]\n",
      "   bathroom\n",
      "~~\n",
      "[babi:task10k:1]: John went back to the hallway.\n",
      "John travelled to the office.\n",
      "Where is Sandra?\n",
      "[eval_labels: office]\n",
      "[label_candidates: garden|bathroom|hallway|kitchen|office|...and 1 more]\n",
      "   bathroom\n",
      "~~\n",
      "[babi:task10k:1]: Sandra journeyed to the hallway.\n",
      "Daniel moved to the office.\n",
      "Where is John?\n",
      "[eval_labels: office]\n",
      "[label_candidates: garden|bathroom|hallway|kitchen|office|...and 1 more]\n",
      "   bathroom\n",
      "~~\n",
      "[babi:task10k:1]: Mary went to the office.\n",
      "Sandra went to the office.\n",
      "Where is John?\n",
      "[eval_labels: office]\n",
      "[label_candidates: garden|bathroom|hallway|kitchen|office|...and 1 more]\n",
      "   bathroom\n",
      "- - - - - - - - - - - - - - - - - - - - -\n",
      "~~\n"
     ]
    }
   ],
   "source": [
    "!python ~/ParlAI/examples/display_model.py -t babi:task10k:1 -m baseline/majorityclass -n 10"
   ]
  },
  {
   "cell_type": "markdown",
   "metadata": {
    "colab_type": "text",
    "id": "BOW4ZTSekWt9"
   },
   "source": [
    "---\n",
    "- **3.d.**  In which cases would the majority class baseline be better than the random baseline?\n",
    "\n",
    "*ANSWER HERE*\n",
    "\n",
    "---"
   ]
  },
  {
   "cell_type": "markdown",
   "metadata": {
    "colab_type": "text",
    "id": "layL9aTK_D1a"
   },
   "source": [
    "Another slightly more advanced baseline is implemented in ParlAI: the information retrieval baseline (`ir_baseline`)\n",
    "\n",
    "---\n",
    "- **3.e.** Look at the [implementation](https://github.com/facebookresearch/ParlAI/blob/53ea58acf389bffc79c85c43bcdd848eecdcecb4/parlai/agents/ir_baseline/ir_baseline.py#L211) of the IR baseline and explain in a few lines how it works (*hint: look at the following methods `act()` `rank_candidates()`  `score_match()`*)  \n",
    "\n",
    "*ANSWER HERE*\n",
    "\n",
    "\n",
    "---"
   ]
  },
  {
   "cell_type": "markdown",
   "metadata": {
    "colab_type": "text",
    "id": "oKo6zJHwksKA"
   },
   "source": [
    "- **3.f.** Use the IR baseline and compare its with one of your baselines (random and/or majority) on bAbI tasks 1, 2 and 3.  \n",
    "    (*hint: you can use `!python ... -t babi:task1-k:{i+1}` syntax to substitute the task number in a bash command from jupyter*)\n"
   ]
  },
  {
   "cell_type": "code",
   "execution_count": 75,
   "metadata": {
    "colab": {
     "base_uri": "https://localhost:8080/",
     "height": 311
    },
    "colab_type": "code",
    "id": "EzBAEWP7k10U",
    "outputId": "6ef00817-da1f-4635-8cf7-26b68271844e"
   },
   "outputs": [
    {
     "name": "stdout",
     "output_type": "stream",
     "text": [
      "~ Task 1 ~\n",
      "Random baseline:\n",
      "{'exs': 1000, 'accuracy': 0.17, 'f1': 0.17, 'bleu': 1.7e-10}\n",
      "Majority class baseline:\n",
      "{'exs': 1000, 'accuracy': 0.169, 'f1': 0.169, 'bleu': 1.69e-10}\n",
      "IR baseline:\n",
      "{'exs': 1000, 'accuracy': 0.465, 'f1': 0.465, 'hits@1': 0.465, 'hits@5': 0.961, 'hits@10': 1.0, 'hits@100': 1.0, 'bleu': 4.65e-10}\n",
      "~ Task 2 ~\n",
      "Random baseline:\n",
      "{'exs': 1000, 'accuracy': 0.161, 'f1': 0.161, 'bleu': 1.61e-10}\n",
      "IR baseline:\n",
      "{'exs': 1000, 'accuracy': 0.284, 'f1': 0.284, 'hits@1': 0.284, 'hits@5': 0.9, 'hits@10': 1.0, 'hits@100': 1.0, 'bleu': 2.84e-10}\n",
      "~ Task 3 ~\n",
      "Random baseline:\n",
      "{'exs': 1000, 'accuracy': 0.172, 'f1': 0.172, 'bleu': 1.72e-10}\n",
      "IR baseline:\n",
      "{'exs': 1000, 'accuracy': 0.132, 'f1': 0.132, 'hits@1': 0.132, 'hits@5': 0.836, 'hits@10': 1.0, 'hits@100': 1.0, 'bleu': 1.32e-10}\n"
     ]
    }
   ],
   "source": [
    "# FILL THIS CELL\n",
    "for i in range(3):\n",
    "    print(f'~ Task {i+1} ~')\n",
    "    # FILL CODE HERE\n",
    "    print('Random baseline:')\n",
    "    !python ~/ParlAI/examples/eval_model.py -t babi:task10k:{i+1} -m baseline/random | grep accuracy\n",
    "    if i == 0:  # Majority class was only computed for the first task (it might be something else than bathroom for task 2 and 3)\n",
    "        print('Majority class baseline:')\n",
    "        !python ~/ParlAI/examples/eval_model.py -t babi:task10k:{i+1} -m baseline/majorityclass | grep accuracy\n",
    "    print('IR baseline:')\n",
    "    !python ~/ParlAI/examples/eval_model.py -t babi:task10k:{i+1} -m ir_baseline | grep accuracy"
   ]
  },
  {
   "cell_type": "markdown",
   "metadata": {
    "colab_type": "text",
    "id": "xZGFSbEwJdvx"
   },
   "source": [
    "## 4. More elaborate models\n",
    "\n"
   ]
  },
  {
   "cell_type": "markdown",
   "metadata": {
    "colab_type": "text",
    "id": "wj7onBcoyoZz"
   },
   "source": [
    "We can now continue to more elaborate models and evaluate their performance in perspective to the baselines.\n",
    "We will use the `~/ParlAI/examples/train_model.py` script. Let's first get a glance at its arguments:"
   ]
  },
  {
   "cell_type": "code",
   "execution_count": 70,
   "metadata": {
    "colab": {
     "base_uri": "https://localhost:8080/",
     "height": 1000
    },
    "colab_type": "code",
    "id": "gZa5Xl5Bxxxe",
    "outputId": "c4482786-cb71-4290-a33c-a031427f6fc4"
   },
   "outputs": [
    {
     "name": "stdout",
     "output_type": "stream",
     "text": [
      "usage: train_model.py [-h] [-v] [-t TASK]\n",
      "                      [-dt {train,train:stream,train:ordered,train:ordered:stream,train:stream:ordered,train:evalmode,train:evalmode:stream,train:evalmode:ordered,train:evalmode:ordered:stream,train:evalmode:stream:ordered,valid,valid:stream,test,test:stream}]\n",
      "                      [-nt NUMTHREADS] [-bs BATCHSIZE] [-dp DATAPATH] [-m MODEL] [-mf MODEL_FILE] [-im INIT_MODEL] [-et EVALTASK]\n",
      "                      [-eps NUM_EPOCHS] [-ttim MAX_TRAIN_TIME] [-vtim VALIDATION_EVERY_N_SECS] [-stim SAVE_EVERY_N_SECS]\n",
      "                      [-sval SAVE_AFTER_VALID] [-veps VALIDATION_EVERY_N_EPOCHS] [-vp VALIDATION_PATIENCE]\n",
      "                      [-vmt VALIDATION_METRIC] [-vmm {max,min}] [-pyt PYTORCH_TEACHER_TASK] [-pytd PYTORCH_TEACHER_DATASET]\n",
      "\n",
      "Train a model\n",
      "\n",
      "optional arguments:\n",
      "  -h, --help\n",
      "        show this help message and exit\n",
      "\n",
      "Main ParlAI Arguments:\n",
      "  -v, --show-advanced-args\n",
      "        Show hidden command line options (advanced users only) (default: False)\n",
      "  -t, --task TASK\n",
      "        ParlAI task(s), e.g. \"babi:Task1\" or \"babi,cbt\" (default: None)\n",
      "  -dt, --datatype {train,train:stream,train:ordered,train:ordered:stream,train:stream:ordered,train:evalmode,train:evalmode:stream,train:evalmode:ordered,train:evalmode:ordered:stream,train:evalmode:stream:ordered,valid,valid:stream,test,test:stream}\n",
      "        choose from: train, train:ordered, valid, test. to stream data add \":stream\" to any option (e.g., train:stream). by\n",
      "        default: train is random with replacement, valid is ordered, test is ordered. (default: train)\n",
      "  -nt, --numthreads NUMTHREADS\n",
      "        number of threads. Used for hogwild if batchsize is 1, else for number of threads in threadpool loading, (default: 1)\n",
      "  -bs, --batchsize BATCHSIZE\n",
      "        batch size for minibatch training schemes (default: 1)\n",
      "  -dp, --datapath DATAPATH\n",
      "        path to datasets, defaults to {parlai_dir}/data (default: /root/ParlAI/data)\n",
      "\n",
      "ParlAI Model Arguments:\n",
      "  -m, --model MODEL\n",
      "        the model class name. can match parlai/agents/<model> for agents in that directory, or can provide a fully specified\n",
      "        module for `from X import Y` via `-m X:Y` (e.g. `-m parlai.agents.seq2seq.seq2seq:Seq2SeqAgent`) (default: None)\n",
      "  -mf, --model-file MODEL_FILE\n",
      "        model file name for loading and saving models (default: None)\n",
      "  -im, --init-model INIT_MODEL\n",
      "        load model weights and dict from this file (default: None)\n",
      "\n",
      "Training Loop Arguments:\n",
      "  -et, --evaltask EVALTASK\n",
      "        task to use for valid/test (defaults to the one used for training if not set) (default: None)\n",
      "  -eps, --num-epochs NUM_EPOCHS\n",
      "  -ttim, --max-train-time MAX_TRAIN_TIME\n",
      "  -vtim, --validation-every-n-secs VALIDATION_EVERY_N_SECS\n",
      "        Validate every n seconds. Saves model to model_file (if set) whenever best val metric is found (default: -1)\n",
      "  -stim, --save-every-n-secs SAVE_EVERY_N_SECS\n",
      "        Saves the model to model_file.checkpoint after every n seconds (default -1, never). (default: -1)\n",
      "  -sval, --save-after-valid SAVE_AFTER_VALID\n",
      "        Saves the model to model_file.checkpoint after every validation (default False).\n",
      "  -veps, --validation-every-n-epochs VALIDATION_EVERY_N_EPOCHS\n",
      "        Validate every n epochs. Saves model to model_file (if set) whenever best val metric is found (default: -1)\n",
      "  -vp, --validation-patience VALIDATION_PATIENCE\n",
      "        number of iterations of validation where result does not improve before we stop training (default: 10)\n",
      "  -vmt, --validation-metric VALIDATION_METRIC\n",
      "        key into report table for selecting best validation (default: accuracy)\n",
      "  -vmm, --validation-metric-mode {max,min}\n",
      "        how to optimize validation metric (max or min) (default: None)\n",
      "\n",
      "PytorchData Arguments:\n",
      "  -pyt, --pytorch-teacher-task PYTORCH_TEACHER_TASK\n",
      "        Use the PytorchDataTeacher for multiprocessed data loading with a standard ParlAI task, e.g. \"babi:Task1k\" (default: None)\n",
      "  -pytd, --pytorch-teacher-dataset PYTORCH_TEACHER_DATASET\n",
      "        Use the PytorchDataTeacher for multiprocessed data loading with a pytorch Dataset, e.g. \"vqa_1\" or \"flickr30k\" (default:\n",
      "        None)\n"
     ]
    }
   ],
   "source": [
    "!python ~/ParlAI/examples/train_model.py --help"
   ]
  },
  {
   "cell_type": "markdown",
   "metadata": {
    "colab_type": "text",
    "id": "s2apZUNj6JrS"
   },
   "source": [
    "We can train two types of models:\n",
    "- **Generative models**: The model generates an answer from its vocabulary.\n",
    "- **Ranking models**: The model is given a list of possible answers and has to choose the correct answer. This is much easier for the model since the list of possible answers is often way smaller than the size of the vocabulary\n"
   ]
  },
  {
   "cell_type": "markdown",
   "metadata": {
    "colab_type": "text",
    "id": "HdBwoP2K36DH"
   },
   "source": [
    "### Generative model: seq2seq with attention\n",
    "\n",
    "The generative model we are going to train is a sequence to sequence model with attention based on [Sustskever et al. 2014](https://arxiv.org/abs/1409.3215) and [Bahdanau et al. 2014](https://arxiv.org/abs/1409.0473).\n",
    "      \n",
    "- **4.a.** Briefly explain how attention works in sequence to sequence neural networks.\n",
    "- **4.b.** Do you think attention is useful for the babi tasks? How would you verify it experimentally?\n",
    "\n",
    "*ANSWER HERE*\n",
    "\n",
    "---\n",
    "- **4.c.** Train a seq2seq on bAbI task 1 (10k) and compare its results to the baselines.\n",
    "   (*hint: for faster training use the following arguments `--batchsize 32 --numthreads 1 --num-epochs 5 --hiddensize 64 --embeddingsize 64 --numlayers 1 --decoder shared`)\n"
   ]
  },
  {
   "cell_type": "code",
   "execution_count": 71,
   "metadata": {
    "colab": {
     "base_uri": "https://localhost:8080/",
     "height": 1000
    },
    "colab_type": "code",
    "id": "VIpwQj4NpY5s",
    "outputId": "c8547d18-89e6-4d29-b6df-8f6ee0ed1c21"
   },
   "outputs": [
    {
     "name": "stdout",
     "output_type": "stream",
     "text": [
      "[ Main ParlAI Arguments: ] \n",
      "[  batchsize: 32 ]\n",
      "[  datapath: /root/ParlAI/data ]\n",
      "[  datatype: train ]\n",
      "[  download_path: /root/ParlAI/downloads ]\n",
      "[  hide_labels: False ]\n",
      "[  image_mode: raw ]\n",
      "[  multitask_weights: [1] ]\n",
      "[  numthreads: 1 ]\n",
      "[  show_advanced_args: False ]\n",
      "[  task: babi:task10k:1 ]\n",
      "[ ParlAI Model Arguments: ] \n",
      "[  dict_class: parlai.core.dict:DictionaryAgent ]\n",
      "[  init_model: None ]\n",
      "[  model: seq2seq ]\n",
      "[  model_file: /tmp/babi_s2s ]\n",
      "[ Training Loop Arguments: ] \n",
      "[  dict_build_first: True ]\n",
      "[  display_examples: False ]\n",
      "[  eval_batchsize: None ]\n",
      "[  evaltask: None ]\n",
      "[  load_from_checkpoint: False ]\n",
      "[  max_train_time: -1 ]\n",
      "[  num_epochs: 5.0 ]\n",
      "[  save_after_valid: False ]\n",
      "[  save_every_n_secs: -1 ]\n",
      "[  validation_cutoff: 1.0 ]\n",
      "[  validation_every_n_epochs: -1 ]\n",
      "[  validation_every_n_secs: -1 ]\n",
      "[  validation_max_exs: -1 ]\n",
      "[  validation_metric: accuracy ]\n",
      "[  validation_metric_mode: None ]\n",
      "[  validation_patience: 10 ]\n",
      "[  validation_share_agent: False ]\n",
      "[ Tensorboard Arguments: ] \n",
      "[  tensorboard_comment:  ]\n",
      "[  tensorboard_log: False ]\n",
      "[  tensorboard_metrics: None ]\n",
      "[  tensorboard_tag: None ]\n",
      "[ PytorchData Arguments: ] \n",
      "[  batch_length_range: 5 ]\n",
      "[  batch_sort_cache_type: pop ]\n",
      "[  batch_sort_field: text ]\n",
      "[  numworkers: 4 ]\n",
      "[  pytorch_context_length: -1 ]\n",
      "[  pytorch_datapath: None ]\n",
      "[  pytorch_include_labels: True ]\n",
      "[  pytorch_preprocess: False ]\n",
      "[  pytorch_teacher_batch_sort: False ]\n",
      "[  pytorch_teacher_dataset: None ]\n",
      "[  pytorch_teacher_task: None ]\n",
      "[  shuffle: False ]\n",
      "[ Dictionary Loop Arguments: ] \n",
      "[  dict_include_test: False ]\n",
      "[  dict_include_valid: False ]\n",
      "[  dict_maxexs: -1 ]\n",
      "[  log_every_n_secs: 2 ]\n",
      "[ ParlAI Image Preprocessing Arguments: ] \n",
      "[  image_cropsize: 224 ]\n",
      "[  image_size: 256 ]\n",
      "[ Seq2Seq Arguments: ] \n",
      "[  attention: none ]\n",
      "[  attention_length: 48 ]\n",
      "[  attention_time: post ]\n",
      "[  bidirectional: False ]\n",
      "[  decoder: shared ]\n",
      "[  dropout: 0.1 ]\n",
      "[  embeddingsize: 64 ]\n",
      "[  hiddensize: 64 ]\n",
      "[  input_dropout: 0.0 ]\n",
      "[  lookuptable: unique ]\n",
      "[  numlayers: 1 ]\n",
      "[  numsoftmax: 1 ]\n",
      "[  rnn_class: lstm ]\n",
      "[ Torch Generator Agent: ] \n",
      "[  beam_block_ngram: 0 ]\n",
      "[  beam_dot_log: False ]\n",
      "[  beam_min_length: 1 ]\n",
      "[  beam_min_n_best: 3 ]\n",
      "[  beam_size: 1 ]\n",
      "[  skip_generation: False ]\n",
      "[ TorchAgent Arguments: ] \n",
      "[  add_p1_after_newln: False ]\n",
      "[  betas: (0.9, 0.999) ]\n",
      "[  delimiter: \n",
      " ]\n",
      "[  embedding_projection: random ]\n",
      "[  embedding_type: random ]\n",
      "[  gpu: -1 ]\n",
      "[  gradient_clip: 0.1 ]\n",
      "[  history_size: -1 ]\n",
      "[  label_truncate: None ]\n",
      "[  learningrate: 1 ]\n",
      "[  lr_scheduler: reduceonplateau ]\n",
      "[  lr_scheduler_decay: 0.5 ]\n",
      "[  lr_scheduler_patience: 3 ]\n",
      "[  momentum: 0 ]\n",
      "[  nesterov: True ]\n",
      "[  no_cuda: False ]\n",
      "[  nus: (0.7,) ]\n",
      "[  optimizer: sgd ]\n",
      "[  person_tokens: False ]\n",
      "[  rank_candidates: False ]\n",
      "[  split_lines: False ]\n",
      "[  text_truncate: None ]\n",
      "[  truncate: -1 ]\n",
      "[  update_freq: -1 ]\n",
      "[  use_reply: label ]\n",
      "[  warmup_rate: 0.0001 ]\n",
      "[  warmup_updates: -1 ]\n",
      "[ Dictionary Arguments: ] \n",
      "[  bpe_debug: False ]\n",
      "[  dict_endtoken: __end__ ]\n",
      "[  dict_file: None ]\n",
      "[  dict_initpath: None ]\n",
      "[  dict_language: english ]\n",
      "[  dict_lower: False ]\n",
      "[  dict_max_ngram_size: -1 ]\n",
      "[  dict_maxtokens: -1 ]\n",
      "[  dict_minfreq: 0 ]\n",
      "[  dict_nulltoken: __null__ ]\n",
      "[  dict_starttoken: __start__ ]\n",
      "[  dict_textfields: text,labels ]\n",
      "[  dict_tokenizer: re ]\n",
      "[  dict_unktoken: __unk__ ]\n",
      "[ building dictionary first... ]\n",
      "[creating task(s): babi:task10k:1]\n",
      "[ running dictionary over data.. ]\n",
      "Building dictionary:   0% 0.00/9.00k [00:00<?, ?ex/s][loading fbdialog data:/root/ParlAI/data/bAbI/tasks_1-20_v1-2/en-valid-10k-nosf/qa1_train.txt]\n",
      "Building dictionary:  84% 7.59k/9.00k [00:00<00:00, 25.0kex/s][loading fbdialog data:/root/ParlAI/data/bAbI/tasks_1-20_v1-2/en-valid-10k-nosf/qa1_train.txt]\n",
      "Building dictionary: 100% 9.00k/9.00k [00:00<00:00, 25.4kex/s]\n",
      "Dictionary: saving dictionary to /tmp/babi_s2s.dict\n",
      "[ dictionary built with 26 tokens in 0s ]\n",
      "[ no model with opt yet at: /tmp/babi_s2s(.opt) ]\n",
      "Dictionary: loading dictionary from /tmp/babi_s2s.dict\n",
      "[ num words =  26 ]\n",
      "/usr/local/lib/python3.6/dist-packages/torch/nn/_reduction.py:43: UserWarning: size_average and reduce args will be deprecated, please use reduction='sum' instead.\n",
      "  warnings.warn(warning.format(ret))\n",
      "[creating task(s): babi:task10k:1]\n",
      "[loading fbdialog data:/root/ParlAI/data/bAbI/tasks_1-20_v1-2/en-valid-10k-nosf/qa1_train.txt]\n",
      "[ training... ]\n",
      "[ time:2.0s total_exs:608 epochs:0.07 time_left:151.0s ] {'exs': 608, 'lr': 1, 'num_updates': 19, 'loss': 32.79, 'token_acc': 0.4836, 'nll_loss': 1.726, 'ppl': 5.618}\n",
      "[ time:4.0s total_exs:1280 epochs:0.14 time_left:145.0s ] {'exs': 672, 'lr': 1, 'num_updates': 40, 'loss': 23.54, 'token_acc': 0.5818, 'nll_loss': 1.121, 'ppl': 3.068}\n",
      "[ time:6.0s total_exs:1920 epochs:0.21 time_left:141.0s ] {'exs': 640, 'lr': 1, 'num_updates': 60, 'loss': 20.86, 'token_acc': 0.5914, 'nll_loss': 1.043, 'ppl': 2.837}\n",
      "[ time:8.0s total_exs:2560 epochs:0.28 time_left:138.0s ] {'exs': 640, 'lr': 1, 'num_updates': 80, 'loss': 20.07, 'token_acc': 0.607, 'nll_loss': 1.004, 'ppl': 2.728}\n",
      "[ time:10.0s total_exs:3200 epochs:0.36 time_left:135.0s ] {'exs': 640, 'lr': 1, 'num_updates': 100, 'loss': 20.3, 'token_acc': 0.5977, 'nll_loss': 1.015, 'ppl': 2.759}\n",
      "[ time:12.0s total_exs:3840 epochs:0.43 time_left:132.0s ] {'exs': 640, 'lr': 1, 'num_updates': 120, 'loss': 20.23, 'token_acc': 0.5867, 'nll_loss': 1.011, 'ppl': 2.749}\n",
      "[ time:14.0s total_exs:4512 epochs:0.5 time_left:129.0s ] {'exs': 672, 'lr': 1, 'num_updates': 141, 'loss': 21.1, 'token_acc': 0.5811, 'nll_loss': 1.005, 'ppl': 2.732}\n",
      "[ time:16.0s total_exs:5152 epochs:0.57 time_left:127.0s ] {'exs': 640, 'lr': 1, 'num_updates': 161, 'loss': 19.53, 'token_acc': 0.5977, 'nll_loss': 0.9763, 'ppl': 2.655}\n",
      "[ time:18.0s total_exs:5792 epochs:0.64 time_left:125.0s ] {'exs': 640, 'lr': 1, 'num_updates': 181, 'loss': 19.45, 'token_acc': 0.5977, 'nll_loss': 0.9724, 'ppl': 2.644}\n",
      "[ time:20.0s total_exs:6432 epochs:0.71 time_left:122.0s ] {'exs': 640, 'lr': 1, 'num_updates': 201, 'loss': 19.63, 'token_acc': 0.5914, 'nll_loss': 0.9813, 'ppl': 2.668}\n",
      "[ time:22.0s total_exs:7104 epochs:0.79 time_left:120.0s ] {'exs': 672, 'lr': 1, 'num_updates': 222, 'loss': 20.52, 'token_acc': 0.5885, 'nll_loss': 0.9771, 'ppl': 2.657}\n",
      "[ time:24.0s total_exs:7776 epochs:0.86 time_left:118.0s ] {'exs': 672, 'lr': 1, 'num_updates': 243, 'loss': 20.8, 'token_acc': 0.5818, 'nll_loss': 0.9905, 'ppl': 2.693}\n",
      "[ time:26.0s total_exs:8448 epochs:0.94 time_left:116.0s ] {'exs': 672, 'lr': 1, 'num_updates': 264, 'loss': 20.15, 'token_acc': 0.593, 'nll_loss': 0.9593, 'ppl': 2.61}\n",
      "[ time:28.0s total_exs:9088 epochs:1.01 time_left:114.0s ] {'exs': 640, 'lr': 1, 'num_updates': 284, 'loss': 19.5, 'token_acc': 0.5859, 'nll_loss': 0.9751, 'ppl': 2.652}\n",
      "[ time:30.0s total_exs:9760 epochs:1.08 time_left:112.0s ] {'exs': 672, 'lr': 1, 'num_updates': 305, 'loss': 20.27, 'token_acc': 0.5826, 'nll_loss': 0.9654, 'ppl': 2.626}\n",
      "[ time:32.0s total_exs:10400 epochs:1.16 time_left:110.0s ] {'exs': 640, 'lr': 1, 'num_updates': 325, 'loss': 19.06, 'token_acc': 0.6047, 'nll_loss': 0.9531, 'ppl': 2.594}\n",
      "[ time:34.0s total_exs:11072 epochs:1.23 time_left:107.0s ] {'exs': 672, 'lr': 1, 'num_updates': 346, 'loss': 19.59, 'token_acc': 0.6176, 'nll_loss': 0.9331, 'ppl': 2.542}\n",
      "[ time:36.0s total_exs:11744 epochs:1.3 time_left:105.0s ] {'exs': 672, 'lr': 1, 'num_updates': 367, 'loss': 19.54, 'token_acc': 0.6042, 'nll_loss': 0.9306, 'ppl': 2.536}\n",
      "[ time:38.0s total_exs:12384 epochs:1.38 time_left:103.0s ] {'exs': 640, 'lr': 1, 'num_updates': 387, 'loss': 18.49, 'token_acc': 0.6195, 'nll_loss': 0.9245, 'ppl': 2.521}\n",
      "[ time:40.0s total_exs:12992 epochs:1.44 time_left:101.0s ] {'exs': 608, 'lr': 1, 'num_updates': 406, 'loss': 17.1, 'token_acc': 0.6258, 'nll_loss': 0.9, 'ppl': 2.46}\n",
      "[ time:43.0s total_exs:13600 epochs:1.51 time_left:100.0s ] {'exs': 608, 'lr': 1, 'num_updates': 425, 'loss': 16.68, 'token_acc': 0.6357, 'nll_loss': 0.8778, 'ppl': 2.406}\n",
      "[ time:45.0s total_exs:14240 epochs:1.58 time_left:98.0s ] {'exs': 640, 'lr': 1, 'num_updates': 445, 'loss': 17.82, 'token_acc': 0.6359, 'nll_loss': 0.8908, 'ppl': 2.437}\n",
      "[ time:47.0s total_exs:14880 epochs:1.65 time_left:96.0s ] {'exs': 640, 'lr': 1, 'num_updates': 465, 'loss': 17.61, 'token_acc': 0.6578, 'nll_loss': 0.8806, 'ppl': 2.412}\n",
      "[ time:49.0s total_exs:15520 epochs:1.72 time_left:94.0s ] {'exs': 640, 'lr': 1, 'num_updates': 485, 'loss': 17.47, 'token_acc': 0.6523, 'nll_loss': 0.8733, 'ppl': 2.395}\n",
      "[ time:51.0s total_exs:16160 epochs:1.8 time_left:92.0s ] {'exs': 640, 'lr': 1, 'num_updates': 505, 'loss': 17.6, 'token_acc': 0.6609, 'nll_loss': 0.8802, 'ppl': 2.411}\n",
      "[ time:53.0s total_exs:16800 epochs:1.87 time_left:90.0s ] {'exs': 640, 'lr': 1, 'num_updates': 525, 'loss': 16.54, 'token_acc': 0.6719, 'nll_loss': 0.8271, 'ppl': 2.287}\n",
      "[ time:55.0s total_exs:17440 epochs:1.94 time_left:88.0s ] {'exs': 640, 'lr': 1, 'num_updates': 545, 'loss': 16.87, 'token_acc': 0.6875, 'nll_loss': 0.8434, 'ppl': 2.324}\n",
      "[ time:57.0s total_exs:18080 epochs:2.01 time_left:86.0s ] {'exs': 640, 'lr': 1, 'num_updates': 565, 'loss': 15.82, 'token_acc': 0.6891, 'nll_loss': 0.7912, 'ppl': 2.206}\n",
      "[ time:59.0s total_exs:18720 epochs:2.08 time_left:84.0s ] {'exs': 640, 'lr': 1, 'num_updates': 585, 'loss': 16.11, 'token_acc': 0.7039, 'nll_loss': 0.8056, 'ppl': 2.238}\n",
      "[ time:61.0s total_exs:19360 epochs:2.15 time_left:82.0s ] {'exs': 640, 'lr': 1, 'num_updates': 605, 'loss': 16.26, 'token_acc': 0.7023, 'nll_loss': 0.813, 'ppl': 2.255}\n",
      "[ time:63.0s total_exs:20000 epochs:2.22 time_left:80.0s ] {'exs': 640, 'lr': 1, 'num_updates': 625, 'loss': 16.4, 'token_acc': 0.7016, 'nll_loss': 0.8198, 'ppl': 2.27}\n",
      "[ time:65.0s total_exs:20640 epochs:2.29 time_left:78.0s ] {'exs': 640, 'lr': 1, 'num_updates': 645, 'loss': 15.08, 'token_acc': 0.7211, 'nll_loss': 0.7538, 'ppl': 2.125}\n",
      "[ time:67.0s total_exs:21280 epochs:2.36 time_left:76.0s ] {'exs': 640, 'lr': 1, 'num_updates': 665, 'loss': 15.78, 'token_acc': 0.7125, 'nll_loss': 0.789, 'ppl': 2.201}\n",
      "[ time:69.0s total_exs:21920 epochs:2.44 time_left:74.0s ] {'exs': 640, 'lr': 1, 'num_updates': 685, 'loss': 15.73, 'token_acc': 0.7211, 'nll_loss': 0.7864, 'ppl': 2.195}\n",
      "[ time:71.0s total_exs:22560 epochs:2.51 time_left:72.0s ] {'exs': 640, 'lr': 1, 'num_updates': 705, 'loss': 14.88, 'token_acc': 0.7375, 'nll_loss': 0.7442, 'ppl': 2.105}\n",
      "[ time:73.0s total_exs:23200 epochs:2.58 time_left:70.0s ] {'exs': 640, 'lr': 1, 'num_updates': 725, 'loss': 15.61, 'token_acc': 0.7156, 'nll_loss': 0.7805, 'ppl': 2.183}\n",
      "[ time:75.0s total_exs:23840 epochs:2.65 time_left:68.0s ] {'exs': 640, 'lr': 1, 'num_updates': 745, 'loss': 14.79, 'token_acc': 0.7477, 'nll_loss': 0.7397, 'ppl': 2.095}\n",
      "[ time:77.0s total_exs:24480 epochs:2.72 time_left:66.0s ] {'exs': 640, 'lr': 1, 'num_updates': 765, 'loss': 14.99, 'token_acc': 0.7297, 'nll_loss': 0.7493, 'ppl': 2.115}\n",
      "[ time:79.0s total_exs:25120 epochs:2.79 time_left:64.0s ] {'exs': 640, 'lr': 1, 'num_updates': 785, 'loss': 14.83, 'token_acc': 0.732, 'nll_loss': 0.7416, 'ppl': 2.099}\n",
      "[ time:81.0s total_exs:25760 epochs:2.86 time_left:62.0s ] {'exs': 640, 'lr': 1, 'num_updates': 805, 'loss': 14.51, 'token_acc': 0.7383, 'nll_loss': 0.7257, 'ppl': 2.066}\n",
      "[ time:83.0s total_exs:26400 epochs:2.93 time_left:59.0s ] {'exs': 640, 'lr': 1, 'num_updates': 825, 'loss': 14.31, 'token_acc': 0.732, 'nll_loss': 0.7155, 'ppl': 2.045}\n",
      "[ time:85.0s total_exs:27040 epochs:3.0 time_left:57.0s ] {'exs': 640, 'lr': 1, 'num_updates': 845, 'loss': 14.02, 'token_acc': 0.7477, 'nll_loss': 0.7011, 'ppl': 2.016}\n",
      "[ time:87.0s total_exs:27680 epochs:3.08 time_left:55.0s ] {'exs': 640, 'lr': 1, 'num_updates': 865, 'loss': 14.28, 'token_acc': 0.743, 'nll_loss': 0.7141, 'ppl': 2.042}\n",
      "[ time:89.0s total_exs:28320 epochs:3.15 time_left:53.0s ] {'exs': 640, 'lr': 1, 'num_updates': 885, 'loss': 14.25, 'token_acc': 0.7352, 'nll_loss': 0.7124, 'ppl': 2.039}\n",
      "[ time:91.0s total_exs:28960 epochs:3.22 time_left:51.0s ] {'exs': 640, 'lr': 1, 'num_updates': 905, 'loss': 14.09, 'token_acc': 0.7438, 'nll_loss': 0.7047, 'ppl': 2.023}\n",
      "[ time:93.0s total_exs:29600 epochs:3.29 time_left:49.0s ] {'exs': 640, 'lr': 1, 'num_updates': 925, 'loss': 14.21, 'token_acc': 0.7367, 'nll_loss': 0.7107, 'ppl': 2.036}\n",
      "[ time:95.0s total_exs:30240 epochs:3.36 time_left:47.0s ] {'exs': 640, 'lr': 1, 'num_updates': 945, 'loss': 14.67, 'token_acc': 0.7211, 'nll_loss': 0.7337, 'ppl': 2.083}\n",
      "[ time:97.0s total_exs:30880 epochs:3.43 time_left:45.0s ] {'exs': 640, 'lr': 1, 'num_updates': 965, 'loss': 14.66, 'token_acc': 0.7312, 'nll_loss': 0.7332, 'ppl': 2.082}\n",
      "[ time:100.0s total_exs:31520 epochs:3.5 time_left:43.0s ] {'exs': 640, 'lr': 1, 'num_updates': 985, 'loss': 13.53, 'token_acc': 0.7523, 'nll_loss': 0.6765, 'ppl': 1.967}\n",
      "[ time:102.0s total_exs:32160 epochs:3.57 time_left:41.0s ] {'exs': 640, 'lr': 1, 'num_updates': 1005, 'loss': 13.28, 'token_acc': 0.7562, 'nll_loss': 0.6638, 'ppl': 1.942}\n",
      "[ time:104.0s total_exs:32800 epochs:3.64 time_left:39.0s ] {'exs': 640, 'lr': 1, 'num_updates': 1025, 'loss': 13.93, 'token_acc': 0.7469, 'nll_loss': 0.6966, 'ppl': 2.007}\n",
      "[ time:106.0s total_exs:33440 epochs:3.72 time_left:37.0s ] {'exs': 640, 'lr': 1, 'num_updates': 1045, 'loss': 13.76, 'token_acc': 0.7477, 'nll_loss': 0.6878, 'ppl': 1.989}\n",
      "[ time:108.0s total_exs:34080 epochs:3.79 time_left:35.0s ] {'exs': 640, 'lr': 1, 'num_updates': 1065, 'loss': 13.45, 'token_acc': 0.7422, 'nll_loss': 0.6727, 'ppl': 1.96}\n",
      "[ time:110.0s total_exs:34720 epochs:3.86 time_left:33.0s ] {'exs': 640, 'lr': 1, 'num_updates': 1085, 'loss': 13.73, 'token_acc': 0.7484, 'nll_loss': 0.6865, 'ppl': 1.987}\n",
      "[ time:112.0s total_exs:35360 epochs:3.93 time_left:31.0s ] {'exs': 640, 'lr': 1, 'num_updates': 1105, 'loss': 13.55, 'token_acc': 0.7461, 'nll_loss': 0.6774, 'ppl': 1.969}\n",
      "[ time:114.0s total_exs:36000 epochs:4.0 time_left:29.0s ] {'exs': 640, 'lr': 1, 'num_updates': 1125, 'loss': 13.23, 'token_acc': 0.7422, 'nll_loss': 0.6616, 'ppl': 1.938}\n",
      "[ time:116.0s total_exs:36640 epochs:4.07 time_left:27.0s ] {'exs': 640, 'lr': 1, 'num_updates': 1145, 'loss': 13.83, 'token_acc': 0.7422, 'nll_loss': 0.6915, 'ppl': 1.997}\n",
      "[ time:118.0s total_exs:37280 epochs:4.14 time_left:25.0s ] {'exs': 640, 'lr': 1, 'num_updates': 1165, 'loss': 13.0, 'token_acc': 0.7484, 'nll_loss': 0.6501, 'ppl': 1.916}\n",
      "[ time:120.0s total_exs:37920 epochs:4.21 time_left:23.0s ] {'exs': 640, 'lr': 1, 'num_updates': 1185, 'loss': 13.82, 'token_acc': 0.7312, 'nll_loss': 0.691, 'ppl': 1.996}\n",
      "[ time:122.0s total_exs:38560 epochs:4.28 time_left:21.0s ] {'exs': 640, 'lr': 1, 'num_updates': 1205, 'loss': 13.13, 'token_acc': 0.7555, 'nll_loss': 0.6567, 'ppl': 1.929}\n",
      "[ time:124.0s total_exs:39200 epochs:4.36 time_left:19.0s ] {'exs': 640, 'lr': 1, 'num_updates': 1225, 'loss': 13.33, 'token_acc': 0.7398, 'nll_loss': 0.6663, 'ppl': 1.947}\n",
      "[ time:126.0s total_exs:39840 epochs:4.43 time_left:17.0s ] {'exs': 640, 'lr': 1, 'num_updates': 1245, 'loss': 14.17, 'token_acc': 0.7281, 'nll_loss': 0.7084, 'ppl': 2.031}\n",
      "[ time:128.0s total_exs:40480 epochs:4.5 time_left:15.0s ] {'exs': 640, 'lr': 1, 'num_updates': 1265, 'loss': 12.84, 'token_acc': 0.743, 'nll_loss': 0.6421, 'ppl': 1.9}\n",
      "[ time:130.0s total_exs:41120 epochs:4.57 time_left:13.0s ] {'exs': 640, 'lr': 1, 'num_updates': 1285, 'loss': 13.04, 'token_acc': 0.7477, 'nll_loss': 0.652, 'ppl': 1.919}\n",
      "[ time:132.0s total_exs:41760 epochs:4.64 time_left:11.0s ] {'exs': 640, 'lr': 1, 'num_updates': 1305, 'loss': 13.02, 'token_acc': 0.7445, 'nll_loss': 0.6508, 'ppl': 1.917}\n",
      "[ time:134.0s total_exs:42400 epochs:4.71 time_left:9.0s ] {'exs': 640, 'lr': 1, 'num_updates': 1325, 'loss': 13.36, 'token_acc': 0.7492, 'nll_loss': 0.6678, 'ppl': 1.95}\n",
      "[ time:136.0s total_exs:43040 epochs:4.78 time_left:7.0s ] {'exs': 640, 'lr': 1, 'num_updates': 1345, 'loss': 13.08, 'token_acc': 0.75, 'nll_loss': 0.6539, 'ppl': 1.923}\n",
      "[ time:138.0s total_exs:43680 epochs:4.85 time_left:5.0s ] {'exs': 640, 'lr': 1, 'num_updates': 1365, 'loss': 13.3, 'token_acc': 0.7406, 'nll_loss': 0.6651, 'ppl': 1.945}\n",
      "[ time:140.0s total_exs:44320 epochs:4.92 time_left:3.0s ] {'exs': 640, 'lr': 1, 'num_updates': 1385, 'loss': 12.7, 'token_acc': 0.7547, 'nll_loss': 0.6352, 'ppl': 1.887}\n",
      "[ time:142.0s total_exs:44960 epochs:5.0 time_left:1.0s ] {'exs': 640, 'lr': 1, 'num_updates': 1405, 'loss': 13.05, 'token_acc': 0.7445, 'nll_loss': 0.6524, 'ppl': 1.92}\n",
      "[ time:142.0s total_exs:45024 epochs:5.0 time_left:0s ] {'exs': 64, 'lr': 1, 'num_updates': 1407, 'loss': 1.139, 'token_acc': 0.7656, 'nll_loss': 0.5693, 'ppl': 1.767}\n",
      "[ num_epochs completed:5.0 time elapsed:142.90143036842346s ]\n",
      "[creating task(s): babi:task10k:1]\n",
      "[loading fbdialog data:/root/ParlAI/data/bAbI/tasks_1-20_v1-2/en-valid-10k-nosf/qa1_valid.txt]\n",
      "[ running eval: valid ]\n",
      "valid:{'exs': 1000, 'accuracy': 0.541, 'f1': 0.541, 'bleu': 5.41e-10, 'lr': 1, 'num_updates': 1407, 'loss': 20.29, 'token_acc': 0.7705, 'nll_loss': 0.5707, 'ppl': 1.77}\n",
      "[creating task(s): babi:task10k:1]\n",
      "[loading fbdialog data:/root/ParlAI/data/bAbI/tasks_1-20_v1-2/en-valid-10k-nosf/qa1_test.txt]\n",
      "[ running eval: test ]\n",
      "test:{'exs': 1000, 'accuracy': 0.51, 'f1': 0.51, 'bleu': 5.1e-10, 'lr': 1, 'num_updates': 1407, 'loss': 20.96, 'token_acc': 0.755, 'nll_loss': 0.6034, 'ppl': 1.828}\n"
     ]
    }
   ],
   "source": [
    "# FILL THIS CELL\n",
    "!python ~/ParlAI/examples/train_model.py --task babi:task10k:1 --model seq2seq  --model-file /tmp/babi_s2s --batchsize 32 --numthreads 1 --num-epochs 5 --hiddensize 64 --embeddingsize 64 --numlayers 1 --decoder shared"
   ]
  },
  {
   "cell_type": "code",
   "execution_count": 72,
   "metadata": {
    "colab": {
     "base_uri": "https://localhost:8080/",
     "height": 1000
    },
    "colab_type": "code",
    "id": "OvxjgtEHTXFb",
    "outputId": "2ef8e382-b7f3-4d81-cbad-845a5a134322"
   },
   "outputs": [
    {
     "name": "stdout",
     "output_type": "stream",
     "text": [
      "[ optional arguments: ] \n",
      "[  display_ignore_fields:  ]\n",
      "[  num_examples: 10 ]\n",
      "[ Main ParlAI Arguments: ] \n",
      "[  batchsize: 1 ]\n",
      "[  datapath: /root/ParlAI/data ]\n",
      "[  datatype: valid ]\n",
      "[  download_path: /root/ParlAI/downloads ]\n",
      "[  hide_labels: False ]\n",
      "[  image_mode: raw ]\n",
      "[  multitask_weights: [1] ]\n",
      "[  numthreads: 1 ]\n",
      "[  show_advanced_args: False ]\n",
      "[  task: babi:task10k:1 ]\n",
      "[ ParlAI Model Arguments: ] \n",
      "[  dict_class: parlai.core.dict:DictionaryAgent ]\n",
      "[  init_model: None ]\n",
      "[  model: seq2seq ]\n",
      "[  model_file: /tmp/babi_s2s ]\n",
      "[ ParlAI Image Preprocessing Arguments: ] \n",
      "[  image_cropsize: 224 ]\n",
      "[  image_size: 256 ]\n",
      "[ Seq2Seq Arguments: ] \n",
      "[  attention: none ]\n",
      "[  attention_length: 48 ]\n",
      "[  attention_time: post ]\n",
      "[  bidirectional: False ]\n",
      "[  decoder: same ]\n",
      "[  dropout: 0.1 ]\n",
      "[  embeddingsize: 128 ]\n",
      "[  hiddensize: 128 ]\n",
      "[  input_dropout: 0.0 ]\n",
      "[  lookuptable: unique ]\n",
      "[  numlayers: 2 ]\n",
      "[  numsoftmax: 1 ]\n",
      "[  rnn_class: lstm ]\n",
      "[ Torch Generator Agent: ] \n",
      "[  beam_block_ngram: 0 ]\n",
      "[  beam_dot_log: False ]\n",
      "[  beam_min_length: 1 ]\n",
      "[  beam_min_n_best: 3 ]\n",
      "[  beam_size: 1 ]\n",
      "[  skip_generation: False ]\n",
      "[ TorchAgent Arguments: ] \n",
      "[  add_p1_after_newln: False ]\n",
      "[  betas: (0.9, 0.999) ]\n",
      "[  delimiter: \n",
      " ]\n",
      "[  embedding_projection: random ]\n",
      "[  embedding_type: random ]\n",
      "[  gpu: -1 ]\n",
      "[  gradient_clip: 0.1 ]\n",
      "[  history_size: -1 ]\n",
      "[  label_truncate: None ]\n",
      "[  learningrate: 1 ]\n",
      "[  lr_scheduler: reduceonplateau ]\n",
      "[  lr_scheduler_decay: 0.5 ]\n",
      "[  lr_scheduler_patience: 3 ]\n",
      "[  momentum: 0 ]\n",
      "[  nesterov: True ]\n",
      "[  no_cuda: False ]\n",
      "[  nus: (0.7,) ]\n",
      "[  optimizer: sgd ]\n",
      "[  person_tokens: False ]\n",
      "[  rank_candidates: False ]\n",
      "[  split_lines: False ]\n",
      "[  text_truncate: None ]\n",
      "[  truncate: -1 ]\n",
      "[  update_freq: -1 ]\n",
      "[  use_reply: label ]\n",
      "[  warmup_rate: 0.0001 ]\n",
      "[  warmup_updates: -1 ]\n",
      "[ Dictionary Arguments: ] \n",
      "[  bpe_debug: False ]\n",
      "[  dict_endtoken: __end__ ]\n",
      "[  dict_file: None ]\n",
      "[  dict_initpath: None ]\n",
      "[  dict_language: english ]\n",
      "[  dict_lower: False ]\n",
      "[  dict_max_ngram_size: -1 ]\n",
      "[  dict_maxtokens: -1 ]\n",
      "[  dict_minfreq: 0 ]\n",
      "[  dict_nulltoken: __null__ ]\n",
      "[  dict_starttoken: __start__ ]\n",
      "[  dict_textfields: text,labels ]\n",
      "[  dict_tokenizer: re ]\n",
      "[  dict_unktoken: __unk__ ]\n",
      "Dictionary: loading dictionary from /tmp/babi_s2s.dict\n",
      "[ num words =  26 ]\n",
      "/usr/local/lib/python3.6/dist-packages/torch/nn/_reduction.py:43: UserWarning: size_average and reduce args will be deprecated, please use reduction='sum' instead.\n",
      "  warnings.warn(warning.format(ret))\n",
      "[ Loading existing model params from /tmp/babi_s2s ]\n",
      "/root/ParlAI/parlai/core/torch_agent.py:727: UserWarning: LR scheduler is different from saved. Starting fresh!\n",
      "  warn_once(\"LR scheduler is different from saved. Starting fresh!\")\n",
      "[creating task(s): babi:task10k:1]\n",
      "[loading fbdialog data:/root/ParlAI/data/bAbI/tasks_1-20_v1-2/en-valid-10k-nosf/qa1_valid.txt]\n",
      "[eval_labels_choice]: bathroom\n",
      "[babi:task10k:1]: Sandra travelled to the office.\n",
      "Sandra went to the bathroom.\n",
      "Where is Sandra?\n",
      "[label_candidates: hallway|bathroom|office|bedroom|garden|...and 1 more]\n",
      "[eval_labels: bathroom]\n",
      "   [Seq2Seq]: bathroom\n",
      "~~\n",
      "[eval_labels_choice]: bathroom\n",
      "[babi:task10k:1]: Sandra travelled to the office.\n",
      "Sandra went to the bathroom.\n",
      "Where is Sandra?\n",
      "bathroom\n",
      "Mary went to the bedroom.\n",
      "Daniel moved to the hallway.\n",
      "Where is Sandra?\n",
      "[label_candidates: hallway|bathroom|office|bedroom|garden|...and 1 more]\n",
      "[eval_labels: bathroom]\n",
      "   [Seq2Seq]: hallway\n",
      "~~\n",
      "[eval_labels_choice]: bathroom\n",
      "[babi:task10k:1]: Sandra travelled to the office.\n",
      "Sandra went to the bathroom.\n",
      "Where is Sandra?\n",
      "bathroom\n",
      "Mary went to the bedroom.\n",
      "Daniel moved to the hallway.\n",
      "Where is Sandra?\n",
      "bathroom\n",
      "John went to the garden.\n",
      "John travelled to the office.\n",
      "Where is Sandra?\n",
      "[label_candidates: hallway|bathroom|office|bedroom|garden|...and 1 more]\n",
      "[eval_labels: bathroom]\n",
      "   [Seq2Seq]: garden\n",
      "~~\n",
      "[eval_labels_choice]: office\n",
      "[babi:task10k:1]: Sandra travelled to the office.\n",
      "Sandra went to the bathroom.\n",
      "Where is Sandra?\n",
      "bathroom\n",
      "Mary went to the bedroom.\n",
      "Daniel moved to the hallway.\n",
      "Where is Sandra?\n",
      "bathroom\n",
      "John went to the garden.\n",
      "John travelled to the office.\n",
      "Where is Sandra?\n",
      "bathroom\n",
      "Daniel journeyed to the bedroom.\n",
      "Daniel travelled to the hallway.\n",
      "Where is John?\n",
      "[label_candidates: hallway|bathroom|office|bedroom|garden|...and 1 more]\n",
      "[eval_labels: office]\n",
      "   [Seq2Seq]: hallway\n",
      "~~\n",
      "[eval_labels_choice]: hallway\n",
      "[babi:task10k:1]: Sandra travelled to the office.\n",
      "Sandra went to the bathroom.\n",
      "Where is Sandra?\n",
      "bathroom\n",
      "Mary went to the bedroom.\n",
      "Daniel moved to the hallway.\n",
      "Where is Sandra?\n",
      "bathroom\n",
      "John went to the garden.\n",
      "John travelled to the office.\n",
      "Where is Sandra?\n",
      "bathroom\n",
      "Daniel journeyed to the bedroom.\n",
      "Daniel travelled to the hallway.\n",
      "Where is John?\n",
      "office\n",
      "John went to the bedroom.\n",
      "John travelled to the office.\n",
      "Where is Daniel?\n",
      "[label_candidates: hallway|bathroom|office|bedroom|garden|...and 1 more]\n",
      "[eval_labels: hallway]\n",
      "   [Seq2Seq]: office\n",
      "- - - - - - - - - - - - - - - - - - - - -\n",
      "~~\n",
      "[eval_labels_choice]: garden\n",
      "[babi:task10k:1]: Sandra went back to the bathroom.\n",
      "Mary moved to the garden.\n",
      "Where is Mary?\n",
      "[label_candidates: hallway|bathroom|office|bedroom|garden|...and 1 more]\n",
      "[eval_labels: garden]\n",
      "   [Seq2Seq]: garden\n",
      "~~\n",
      "[eval_labels_choice]: office\n",
      "[babi:task10k:1]: Sandra went back to the bathroom.\n",
      "Mary moved to the garden.\n",
      "Where is Mary?\n",
      "garden\n",
      "Mary went back to the hallway.\n",
      "Sandra went to the office.\n",
      "Where is Sandra?\n",
      "[label_candidates: hallway|bathroom|office|bedroom|garden|...and 1 more]\n",
      "[eval_labels: office]\n",
      "   [Seq2Seq]: office\n",
      "~~\n",
      "[eval_labels_choice]: office\n",
      "[babi:task10k:1]: Sandra went back to the bathroom.\n",
      "Mary moved to the garden.\n",
      "Where is Mary?\n",
      "garden\n",
      "Mary went back to the hallway.\n",
      "Sandra went to the office.\n",
      "Where is Sandra?\n",
      "office\n",
      "John went back to the hallway.\n",
      "John travelled to the office.\n",
      "Where is Sandra?\n",
      "[label_candidates: hallway|bathroom|office|bedroom|garden|...and 1 more]\n",
      "[eval_labels: office]\n",
      "   [Seq2Seq]: office\n",
      "~~\n",
      "[eval_labels_choice]: office\n",
      "[babi:task10k:1]: Sandra went back to the bathroom.\n",
      "Mary moved to the garden.\n",
      "Where is Mary?\n",
      "garden\n",
      "Mary went back to the hallway.\n",
      "Sandra went to the office.\n",
      "Where is Sandra?\n",
      "office\n",
      "John went back to the hallway.\n",
      "John travelled to the office.\n",
      "Where is Sandra?\n",
      "office\n",
      "Sandra journeyed to the hallway.\n",
      "Daniel moved to the office.\n",
      "Where is John?\n",
      "[label_candidates: hallway|bathroom|office|bedroom|garden|...and 1 more]\n",
      "[eval_labels: office]\n",
      "   [Seq2Seq]: office\n",
      "~~\n",
      "[eval_labels_choice]: office\n",
      "[babi:task10k:1]: Sandra went back to the bathroom.\n",
      "Mary moved to the garden.\n",
      "Where is Mary?\n",
      "garden\n",
      "Mary went back to the hallway.\n",
      "Sandra went to the office.\n",
      "Where is Sandra?\n",
      "office\n",
      "John went back to the hallway.\n",
      "John travelled to the office.\n",
      "Where is Sandra?\n",
      "office\n",
      "Sandra journeyed to the hallway.\n",
      "Daniel moved to the office.\n",
      "Where is John?\n",
      "office\n",
      "Mary went to the office.\n",
      "Sandra went to the office.\n",
      "Where is John?\n",
      "[label_candidates: hallway|bathroom|office|bedroom|garden|...and 1 more]\n",
      "[eval_labels: office]\n",
      "   [Seq2Seq]: office\n",
      "- - - - - - - - - - - - - - - - - - - - -\n",
      "~~\n"
     ]
    }
   ],
   "source": [
    "!python ~/ParlAI/examples/display_model.py --task babi:task10k:1 --model seq2seq --model-file /tmp/babi_s2s"
   ]
  },
  {
   "cell_type": "markdown",
   "metadata": {
    "colab_type": "text",
    "id": "DaX_GSktxrz1"
   },
   "source": [
    "### Ranking model: memory network\n",
    "\n",
    "We saw in the class that Memory Networks ([Sukhbaatar et al. 15'](https://papers.nips.cc/paper/5846-end-to-end-memory-networks.pdf)) rely on an explicit memory \"database\". this is especially adapted to tasks where a few useful memories are \"hidden\" among distractor memories.  \n",
    "These type of networks worktherefore  especially well for the bAbI tasks by turning the previous dialog turns as memories and the question as the query.  \n",
    "Here is an illustration of how a memory network work:\n",
    "\n",
    "![Memory Network schema](https://raw.githubusercontent.com/louismartin/ammi-2019-bordes-DeepNLP/master/lab1/memory_network.png)\n",
    "\n",
    "\n",
    "---\n",
    "**Question 4**  \n",
    "- **4.d.** Explain how hops work in a memory network (either with words or formulas using the notations of the above figure)\n",
    "- **4.e.** How can a memory network be used to rank multiple candidates?  \n",
    "  (*hint: you can look at the [implementation](https://github.com/facebookresearch/ParlAI/blob/6bd0e58692b3fd3a13b5f654944525ac1b7cd8e3/parlai/agents/memnn/modules.py#L22) of the memory network in ParlAI and especially the `_score()` method. Recall how the IR baseline worked.*)\n",
    "  \n",
    "*ANSWER HERE*\n",
    "  \n",
    " \n",
    "---"
   ]
  },
  {
   "cell_type": "markdown",
   "metadata": {
    "colab_type": "text",
    "id": "YHICORdji1Cx"
   },
   "source": [
    "\n",
    "- **4.f.** Using the ParlAI implementation, train a memory network on bAbI tasks 1, 2 and 3 (10k) and compare its results with the baselines.  \n",
    "   (*hint: use a 1 thread, a batch size of 32 and 5 epochs*)\n"
   ]
  },
  {
   "cell_type": "code",
   "execution_count": 74,
   "metadata": {
    "colab": {
     "base_uri": "https://localhost:8080/",
     "height": 711
    },
    "colab_type": "code",
    "id": "iKeyD3UYsaFs",
    "outputId": "a660c35e-3a3d-4267-cbf4-414dd52e8336"
   },
   "outputs": [
    {
     "name": "stdout",
     "output_type": "stream",
     "text": [
      "~ Task 1 ~\n",
      "~ Task 1 ~\n",
      "Building dictionary: 100% 9.00k/9.00k [00:00<00:00, 25.5kex/s]\n",
      "/usr/local/lib/python3.6/dist-packages/torch/nn/_reduction.py:43: UserWarning: size_average and reduce args will be deprecated, please use reduction='sum' instead.\n",
      "  warnings.warn(warning.format(ret))\n",
      "/root/ParlAI/parlai/core/torch_ranker_agent.py:376: UserWarning: [ Executing train mode with provided inline set of candidates ]\n",
      "  ''.format(mode)\n",
      "/root/ParlAI/parlai/core/torch_ranker_agent.py:214: UserWarning: Some training metrics are omitted for speed. Set the flag `--train-predict` to calculate train metrics.\n",
      "  \"Some training metrics are omitted for speed. Set the flag \"\n",
      "/root/ParlAI/parlai/core/torch_ranker_agent.py:376: UserWarning: [ Executing eval mode with provided inline set of candidates ]\n",
      "  ''.format(mode)\n",
      "valid:{'exs': 1000, 'accuracy': 0.992, 'f1': 0.992, 'hits@1': 0.992, 'hits@5': 1.0, 'hits@10': 1.0, 'hits@100': 1.0, 'bleu': 9.92e-10, 'lr': 1, 'num_updates': 1407, 'examples': 1000, 'loss': 33.05, 'mean_loss': 0.03305, 'mean_rank': 1.008}\n",
      "test:{'exs': 1000, 'accuracy': 0.984, 'f1': 0.984, 'hits@1': 0.984, 'hits@5': 1.0, 'hits@10': 1.0, 'hits@100': 1.0, 'bleu': 9.84e-10, 'lr': 1, 'num_updates': 1407, 'examples': 1000, 'loss': 52.57, 'mean_loss': 0.05257, 'mean_rank': 1.02}\n",
      "~ Task 2 ~\n",
      "~ Task 2 ~\n",
      "Building dictionary: 100% 9.00k/9.00k [00:00<00:00, 18.4kex/s]\n",
      "/usr/local/lib/python3.6/dist-packages/torch/nn/_reduction.py:43: UserWarning: size_average and reduce args will be deprecated, please use reduction='sum' instead.\n",
      "  warnings.warn(warning.format(ret))\n",
      "/root/ParlAI/parlai/core/torch_ranker_agent.py:376: UserWarning: [ Executing train mode with provided inline set of candidates ]\n",
      "  ''.format(mode)\n",
      "/root/ParlAI/parlai/core/torch_ranker_agent.py:214: UserWarning: Some training metrics are omitted for speed. Set the flag `--train-predict` to calculate train metrics.\n",
      "  \"Some training metrics are omitted for speed. Set the flag \"\n",
      "/root/ParlAI/parlai/core/torch_ranker_agent.py:376: UserWarning: [ Executing eval mode with provided inline set of candidates ]\n",
      "  ''.format(mode)\n",
      "valid:{'exs': 1000, 'accuracy': 0.208, 'f1': 0.208, 'hits@1': 0.208, 'hits@5': 0.847, 'hits@10': 1.0, 'hits@100': 1.0, 'bleu': 2.08e-10, 'lr': 1, 'num_updates': 1407, 'examples': 1000, 'loss': 2303.0, 'mean_loss': 2.303, 'mean_rank': 3.341}\n",
      "test:{'exs': 1000, 'accuracy': 0.223, 'f1': 0.223, 'hits@1': 0.223, 'hits@5': 0.865, 'hits@10': 1.0, 'hits@100': 1.0, 'bleu': 2.23e-10, 'lr': 1, 'num_updates': 1407, 'examples': 1000, 'loss': 2170.0, 'mean_loss': 2.17, 'mean_rank': 3.181}\n",
      "~ Task 3 ~\n",
      "~ Task 3 ~\n",
      "Building dictionary: 100% 9.00k/9.00k [00:01<00:00, 8.66kex/s]\n",
      "/usr/local/lib/python3.6/dist-packages/torch/nn/_reduction.py:43: UserWarning: size_average and reduce args will be deprecated, please use reduction='sum' instead.\n",
      "  warnings.warn(warning.format(ret))\n",
      "/root/ParlAI/parlai/core/torch_ranker_agent.py:376: UserWarning: [ Executing train mode with provided inline set of candidates ]\n",
      "  ''.format(mode)\n",
      "/root/ParlAI/parlai/core/torch_ranker_agent.py:214: UserWarning: Some training metrics are omitted for speed. Set the flag `--train-predict` to calculate train metrics.\n",
      "  \"Some training metrics are omitted for speed. Set the flag \"\n",
      "/root/ParlAI/parlai/core/torch_ranker_agent.py:376: UserWarning: [ Executing eval mode with provided inline set of candidates ]\n",
      "  ''.format(mode)\n",
      "valid:{'exs': 1000, 'accuracy': 0.377, 'f1': 0.377, 'hits@1': 0.377, 'hits@5': 0.987, 'hits@10': 1.0, 'hits@100': 1.0, 'bleu': 3.77e-10, 'lr': 1, 'num_updates': 1407, 'examples': 1000, 'loss': 1741.0, 'mean_loss': 1.741, 'mean_rank': 2.477}\n",
      "test:{'exs': 1000, 'accuracy': 0.409, 'f1': 0.409, 'hits@1': 0.409, 'hits@5': 0.988, 'hits@10': 1.0, 'hits@100': 1.0, 'bleu': 4.09e-10, 'lr': 1, 'num_updates': 1407, 'examples': 1000, 'loss': 1665.0, 'mean_loss': 1.665, 'mean_rank': 2.41}\n"
     ]
    }
   ],
   "source": [
    "# FILL CELL\n",
    "for i in range(3):\n",
    "    print(f'~ Task {i+1} ~')\n",
    "    # FILL CODE HERE\n",
    "    print(f'~ Task {i+1} ~')\n",
    "    !python ~/ParlAI/examples/train_model.py -t babi:task10k:{i+1} -m memnn -mf /tmp/babi{i+1}_memnn -bs 32 -eps 5 | grep \"'accuracy':\""
   ]
  },
  {
   "cell_type": "markdown",
   "metadata": {
    "colab_type": "text",
    "id": "DHH0Wy34o3_W"
   },
   "source": [
    "## 5. To go further"
   ]
  },
  {
   "cell_type": "markdown",
   "metadata": {
    "colab_type": "text",
    "id": "zaNGupqLssUB"
   },
   "source": [
    "If you want to go further you can try to do the following:\n",
    "\n",
    "- Retrieve and plot the attention of the memory network for the different hops along the memories.\n",
    "- For the seq2seq model, can you plot the training loss? The validation loss? Both on the same plot?\n",
    "- Can you show an example of overfitting?\n",
    "- Adapt the seq2seq model for ranking using the [torch ranker tutorial](http://www.parl.ai/static/docs/tutorial_torch_ranker_agent.html)\n",
    "- Try multitasking babi and squad, does it improve the performance? (this will require more GPU power than what is available in google colab)\n",
    "- You can play around with other models and other tasks\n",
    "- Try interfacing ParlAI with [messenger](https://parl.ai/docs/tutorial_chat_service.html)"
   ]
  }
 ],
 "metadata": {
  "accelerator": "TPU",
  "colab": {
   "collapsed_sections": [
    "N4UnbCdcqHPu"
   ],
   "include_colab_link": true,
   "name": "ammi_dnlp_lab1.ipynb",
   "provenance": []
  },
  "kernelspec": {
   "display_name": "Python 3",
   "language": "python",
   "name": "python3"
  },
  "language_info": {
   "codemirror_mode": {
    "name": "ipython",
    "version": 3
   },
   "file_extension": ".py",
   "mimetype": "text/x-python",
   "name": "python",
   "nbconvert_exporter": "python",
   "pygments_lexer": "ipython3",
   "version": "3.7.4"
  }
 },
 "nbformat": 4,
 "nbformat_minor": 4
}

{
  "nbformat": 4,
  "nbformat_minor": 0,
  "metadata": {
    "accelerator": "TPU",
    "colab": {
      "name": "ammi_dnlp_lab1.ipynb",
      "provenance": [],
      "collapsed_sections": [
        "N4UnbCdcqHPu"
      ],
      "include_colab_link": true
    },
    "kernelspec": {
      "display_name": "Python 3",
      "language": "python",
      "name": "python3"
    },
    "language_info": {
      "codemirror_mode": {
        "name": "ipython",
        "version": 3
      },
      "file_extension": ".py",
      "mimetype": "text/x-python",
      "name": "python",
      "nbconvert_exporter": "python",
      "pygments_lexer": "ipython3",
      "version": "3.7.4"
    }
  },
  "cells": [
    {
      "cell_type": "markdown",
      "metadata": {
        "id": "view-in-github",
        "colab_type": "text"
      },
      "source": [
        "<a href=\"https://colab.research.google.com/github/Kabongosalomon/AMMI-NLP/blob/master/Part%2003/Lab%2001/ammi_dnlp_lab1.ipynb\" target=\"_parent\"><img src=\"https://colab.research.google.com/assets/colab-badge.svg\" alt=\"Open In Colab\"/></a>"
      ]
    },
    {
      "cell_type": "markdown",
      "metadata": {
        "colab_type": "text",
        "id": "uzAMazBhyO7O"
      },
      "source": [
        "# AMMI Deep Natural Language Processing: Lab 1"
      ]
    },
    {
      "cell_type": "markdown",
      "metadata": {
        "colab_type": "text",
        "id": "z2oBLu8PyV1V"
      },
      "source": [
        "## 0. Introduction"
      ]
    },
    {
      "cell_type": "markdown",
      "metadata": {
        "colab_type": "text",
        "id": "NHed26lWcGwQ"
      },
      "source": [
        "In this tutorial we will train neural networks on the bAbI tasks using ParlAI framework.  \n",
        "This tutorial can be run both in google colab or on your computer.  \n",
        "The solutions will be added during the lab [here](https://fburl.com/ammi_dnlp_lab1).  \n",
        "\n",
        "We will cover the following:\n",
        "0. Introduction\n",
        "    - Introduction to ParlAI and installation\n",
        "    - Introduction to the bAbI tasks\n",
        "1. Exploring the data:\n",
        "    - Compute some statistics (number of examples in train, valid, test, size of examples...)\n",
        "    - Look at some examples\n",
        "2. Choose the appropriate metrics\n",
        "3. Baselines\n",
        "    - Ranom baseline\n",
        "    - Majority class baseline\n",
        "    - Information retrieval baseline\n",
        "4. More elaborate models\n",
        "   - Generative model: Seq2Seq\n",
        "   - Ranking model: Memory Network\n",
        "5. To go further\n",
        "    - Additional ideas to try if you want to dig deeper\n",
        "\n",
        "### ParlAI\n",
        "[ParlAI](https://github.com/facebookresearch/ParlAI/blob/master/README.md) (**pronounced “par-lay”**) is a framework for dialogue AI research, implemented in Python.\n",
        "\n",
        "Its goal is to provide researchers:\n",
        "\n",
        "* a unified framework for sharing, training and testing dialogue models\n",
        "* many popular datasets available all in one place -- from open-domain chitchat to visual question answering.\n",
        "* a wide set of reference models -- from retrieval baselines to Transformers.\n",
        "* seamless integration of Amazon Mechanical Turk for data collection and human evaluation\n",
        "* integration with Facebook Messenger to connect agents with humans in a chat interface\n",
        "\n",
        "Documentation can be found [here](http://www.parl.ai/static/docs/), some of this tutorial is inspired from the ParlAI documentation so feel free to go back and forth between the notebook and the documentation.\n",
        "\n",
        "\n",
        "### Setup the notebook\n",
        "If using google colab, make sure to use TPU runtime by going to ***Runtime > Change runtime type > Hardware accelerator: TPU > Save***"
      ]
    },
    {
      "cell_type": "markdown",
      "metadata": {
        "colab_type": "text",
        "id": "-k8BZE3HJaut"
      },
      "source": [
        "### Install ParlAI\n",
        "\n",
        "Start by installing ParlAI from github. The ParlAI folder will be located in the home directory at `~/ParlAI/`.  \n",
        "*Note: In a jupyter notebook, you can run arbitrary bash commands by prefixing them with a question mark, example: `!echo \"Hello World\"`*"
      ]
    },
    {
      "cell_type": "code",
      "metadata": {
        "colab_type": "code",
        "id": "l8V7QcnMI7Wk",
        "outputId": "fd8a5423-7224-42be-8148-79b947bacb3a",
        "colab": {
          "base_uri": "https://localhost:8080/",
          "height": 697
        }
      },
      "source": [
        "# Remove `> /dev/null` to see the output of commands\n",
        "!git clone https://github.com/facebookresearch/ParlAI.git ~/ParlAI  > /dev/null\n",
        "!cd ~/ParlAI && git checkout 6bd0e58692b3fd3a13b5f654944525ac1b7cd8e3 > /dev/null\n",
        "!cd ~/ParlAI && python3 setup.py develop > /dev/null"
      ],
      "execution_count": 1,
      "outputs": [
        {
          "output_type": "stream",
          "text": [
            "Cloning into '/root/ParlAI'...\n",
            "remote: Enumerating objects: 68, done.\u001b[K\n",
            "remote: Counting objects:   1% (1/68)\u001b[K\rremote: Counting objects:   2% (2/68)\u001b[K\rremote: Counting objects:   4% (3/68)\u001b[K\rremote: Counting objects:   5% (4/68)\u001b[K\rremote: Counting objects:   7% (5/68)\u001b[K\rremote: Counting objects:   8% (6/68)\u001b[K\rremote: Counting objects:  10% (7/68)\u001b[K\rremote: Counting objects:  11% (8/68)\u001b[K\rremote: Counting objects:  13% (9/68)\u001b[K\rremote: Counting objects:  14% (10/68)\u001b[K\rremote: Counting objects:  16% (11/68)\u001b[K\rremote: Counting objects:  17% (12/68)\u001b[K\rremote: Counting objects:  19% (13/68)\u001b[K\rremote: Counting objects:  20% (14/68)\u001b[K\rremote: Counting objects:  22% (15/68)\u001b[K\rremote: Counting objects:  23% (16/68)\u001b[K\rremote: Counting objects:  25% (17/68)\u001b[K\rremote: Counting objects:  26% (18/68)\u001b[K\rremote: Counting objects:  27% (19/68)\u001b[K\rremote: Counting objects:  29% (20/68)\u001b[K\rremote: Counting objects:  30% (21/68)\u001b[K\rremote: Counting objects:  32% (22/68)\u001b[K\rremote: Counting objects:  33% (23/68)\u001b[K\rremote: Counting objects:  35% (24/68)\u001b[K\rremote: Counting objects:  36% (25/68)\u001b[K\rremote: Counting objects:  38% (26/68)\u001b[K\rremote: Counting objects:  39% (27/68)\u001b[K\rremote: Counting objects:  41% (28/68)\u001b[K\rremote: Counting objects:  42% (29/68)\u001b[K\rremote: Counting objects:  44% (30/68)\u001b[K\rremote: Counting objects:  45% (31/68)\u001b[K\rremote: Counting objects:  47% (32/68)\u001b[K\rremote: Counting objects:  48% (33/68)\u001b[K\rremote: Counting objects:  50% (34/68)\u001b[K\rremote: Counting objects:  51% (35/68)\u001b[K\rremote: Counting objects:  52% (36/68)\u001b[K\rremote: Counting objects:  54% (37/68)\u001b[K\rremote: Counting objects:  55% (38/68)\u001b[K\rremote: Counting objects:  57% (39/68)\u001b[K\rremote: Counting objects:  58% (40/68)\u001b[K\rremote: Counting objects:  60% (41/68)\u001b[K\rremote: Counting objects:  61% (42/68)\u001b[K\rremote: Counting objects:  63% (43/68)\u001b[K\rremote: Counting objects:  64% (44/68)\u001b[K\rremote: Counting objects:  66% (45/68)\u001b[K\rremote: Counting objects:  67% (46/68)\u001b[K\rremote: Counting objects:  69% (47/68)\u001b[K\rremote: Counting objects:  70% (48/68)\u001b[K\rremote: Counting objects:  72% (49/68)\u001b[K\rremote: Counting objects:  73% (50/68)\u001b[K\rremote: Counting objects:  75% (51/68)\u001b[K\rremote: Counting objects:  76% (52/68)\u001b[K\rremote: Counting objects:  77% (53/68)\u001b[K\rremote: Counting objects:  79% (54/68)\u001b[K\rremote: Counting objects:  80% (55/68)\u001b[K\rremote: Counting objects:  82% (56/68)\u001b[K\rremote: Counting objects:  83% (57/68)\u001b[K\rremote: Counting objects:  85% (58/68)\u001b[K\rremote: Counting objects:  86% (59/68)\u001b[K\rremote: Counting objects:  88% (60/68)\u001b[K\rremote: Counting objects:  89% (61/68)\u001b[K\rremote: Counting objects:  91% (62/68)\u001b[K\rremote: Counting objects:  92% (63/68)\u001b[K\rremote: Counting objects:  94% (64/68)\u001b[K\rremote: Counting objects:  95% (65/68)\u001b[K\rremote: Counting objects:  97% (66/68)\u001b[K\rremote: Counting objects:  98% (67/68)\u001b[K\rremote: Counting objects: 100% (68/68)\u001b[K\rremote: Counting objects: 100% (68/68), done.\u001b[K\n",
            "remote: Compressing objects: 100% (54/54), done.\u001b[K\n",
            "remote: Total 30031 (delta 34), reused 25 (delta 13), pack-reused 29963\u001b[K\n",
            "Receiving objects: 100% (30031/30031), 57.92 MiB | 31.67 MiB/s, done.\n",
            "Resolving deltas: 100% (21377/21377), done.\n",
            "Note: checking out '6bd0e58692b3fd3a13b5f654944525ac1b7cd8e3'.\n",
            "\n",
            "You are in 'detached HEAD' state. You can look around, make experimental\n",
            "changes and commit them, and you can discard any commits you make in this\n",
            "state without impacting any branches by performing another checkout.\n",
            "\n",
            "If you want to create a new branch to retain commits you create, you may\n",
            "do so (now or later) by using -b with the checkout command again. Example:\n",
            "\n",
            "  git checkout -b <new-branch-name>\n",
            "\n",
            "HEAD is now at 6bd0e586 light paper link on webpage! (#1536)\n",
            "zip_safe flag not set; analyzing archive contents...\n",
            "  File \"build/bdist.linux-x86_64/egg/websocket/policyserver.py\", line 21\n",
            "    print 'Accepted connection from %s:%s' % address\n",
            "                                         ^\n",
            "SyntaxError: Missing parentheses in call to 'print'. Did you mean print('Accepted connection from %s:%s' % address)?\n",
            "\n",
            "  File \"build/bdist.linux-x86_64/egg/websocket/server.py\", line 57\n",
            "    except IOError, ex:\n",
            "                  ^\n",
            "SyntaxError: invalid syntax\n",
            "\n",
            "  File \"/usr/local/lib/python3.6/dist-packages/websocket-0.2.1-py3.6.egg/websocket/policyserver.py\", line 21\n",
            "    print 'Accepted connection from %s:%s' % address\n",
            "                                         ^\n",
            "SyntaxError: Missing parentheses in call to 'print'. Did you mean print('Accepted connection from %s:%s' % address)?\n",
            "\n",
            "  File \"/usr/local/lib/python3.6/dist-packages/websocket-0.2.1-py3.6.egg/websocket/server.py\", line 57\n",
            "    except IOError, ex:\n",
            "                  ^\n",
            "SyntaxError: invalid syntax\n",
            "\n"
          ],
          "name": "stdout"
        }
      ]
    },
    {
      "cell_type": "markdown",
      "metadata": {
        "colab_type": "text",
        "id": "EJDOC-zsL3wR"
      },
      "source": [
        "Most of the scripts that we will use in ParlAI are located in the `~/ParlAI/examples` directory.  \n",
        "Let's have a first glance at the scripts available, we will come back to them later:"
      ]
    },
    {
      "cell_type": "code",
      "metadata": {
        "colab_type": "code",
        "id": "bIMjwxKrLm36",
        "outputId": "d8acffa4-8db7-46a1-ad88-8e09e065f3bc",
        "colab": {
          "base_uri": "https://localhost:8080/",
          "height": 102
        }
      },
      "source": [
        "!ls ~/ParlAI/examples/"
      ],
      "execution_count": 2,
      "outputs": [
        {
          "output_type": "stream",
          "text": [
            "base_train.py\t       eval_model.py\t\t remote.py\n",
            "build_dict.py\t       extract_image_feature.py  seq2seq_train_babi.py\n",
            "build_pytorch_data.py  interactive.py\t\t train_model.py\n",
            "display_data.py        profile_train.py\n",
            "display_model.py       README.md\n"
          ],
          "name": "stdout"
        }
      ]
    },
    {
      "cell_type": "markdown",
      "metadata": {
        "colab_type": "text",
        "id": "N4UnbCdcqHPu"
      },
      "source": [
        "### The bAbI tasks\n",
        "Many datasets and tasks are included in ParlAI, we will focus on the bAbI tasks.\n",
        "The bAbI tasks are 20 synthetic tasks that each test a unique aspect of text and reasoning, and hence test different capabilities of learning models from [Weston et al. ‘16](http://arxiv.org/abs/1502.05698).\n",
        "\n",
        "---\n",
        "**Question 0.**  \n",
        "Open the bAbI [paper](https://arxiv.org/pdf/1502.05698.pdf) and read the abstract  and section: *\"3 The Tasks\"* (until paragraph **Two or Three Supporting Facts**,  included).  \n",
        "- **0.a.** Explain in your own words the motivations behind these tasks (in 2-3 sentences).\n",
        "\n",
        "*ANSWER HERE*\n",
        "\n",
        "---\n",
        "\n",
        "These tasks can be downloaded and used directly from ParlAI.  \n",
        "We will focus on tasks 1, 2 and 3, see examples below:\n",
        "\n",
        "\n",
        "**Task 1: Single Supporting Fact**  \n",
        "Mary went to the bathroom.  \n",
        "John moved to the hallway.  \n",
        "Mary travelled to the office.  \n",
        "Where is Mary?  \n",
        "**Answer: office**  \n",
        "\n",
        "\n",
        "**Task 2: Two Supporting Facts**  \n",
        "John is in the playground.  \n",
        "John picked up the football.  \n",
        "Bob went to the kitchen.  \n",
        "Where is the football?  \n",
        "**Answer: playground**\n",
        "\n",
        "\n",
        "**Task 3: Three Supporting Facts **  \n",
        "John picked up the apple.  \n",
        "John went to the office.  \n",
        "John went to the kitchen.  \n",
        "John dropped the apple.   \n",
        "Where was the apple before the kitchen?  \n",
        "**Answer: office**\n",
        "\n"
      ]
    },
    {
      "cell_type": "markdown",
      "metadata": {
        "colab_type": "text",
        "id": "L6IZA9r0MjBd"
      },
      "source": [
        "## 1. Exploring the data"
      ]
    },
    {
      "cell_type": "markdown",
      "metadata": {
        "colab_type": "text",
        "id": "1Cc-Si6SyatK"
      },
      "source": [
        "First we need to download the data, we will use the `build_dict.py` as a dummy task to download the data."
      ]
    },
    {
      "cell_type": "code",
      "metadata": {
        "colab_type": "code",
        "id": "XAEH7xUXtxFj",
        "outputId": "d76ea4b8-4881-4898-885c-4de8ae868df7",
        "colab": {
          "base_uri": "https://localhost:8080/",
          "height": 1000
        }
      },
      "source": [
        "# Download the data silently\n",
        "!python ~/ParlAI/examples/build_dict.py --task babi:task1k:1 --dict-file /tmp/babi1.dict\n",
        "# Print a few examples\n",
        "!head -n 30 ~/ParlAI/data/bAbI/tasks_1-20_v1-2/en-valid-10k-nosf/qa1_train.txt"
      ],
      "execution_count": 3,
      "outputs": [
        {
          "output_type": "stream",
          "text": [
            "[ Main ParlAI Arguments: ] \n",
            "[  batchsize: 1 ]\n",
            "[  datapath: /root/ParlAI/data ]\n",
            "[  datatype: train ]\n",
            "[  download_path: /root/ParlAI/downloads ]\n",
            "[  hide_labels: False ]\n",
            "[  image_mode: raw ]\n",
            "[  multitask_weights: [1] ]\n",
            "[  numthreads: 1 ]\n",
            "[  show_advanced_args: False ]\n",
            "[  task: babi:task1k:1 ]\n",
            "[ ParlAI Model Arguments: ] \n",
            "[  dict_class: None ]\n",
            "[  init_model: None ]\n",
            "[  model: None ]\n",
            "[  model_file: None ]\n",
            "[ PytorchData Arguments: ] \n",
            "[  batch_length_range: 5 ]\n",
            "[  batch_sort_cache_type: pop ]\n",
            "[  batch_sort_field: text ]\n",
            "[  numworkers: 4 ]\n",
            "[  pytorch_context_length: -1 ]\n",
            "[  pytorch_datapath: None ]\n",
            "[  pytorch_include_labels: True ]\n",
            "[  pytorch_preprocess: False ]\n",
            "[  pytorch_teacher_batch_sort: False ]\n",
            "[  pytorch_teacher_dataset: None ]\n",
            "[  pytorch_teacher_task: None ]\n",
            "[  shuffle: False ]\n",
            "[ Dictionary Loop Arguments: ] \n",
            "[  dict_include_test: False ]\n",
            "[  dict_include_valid: False ]\n",
            "[  dict_maxexs: -1 ]\n",
            "[  log_every_n_secs: 2 ]\n",
            "[ Dictionary Arguments: ] \n",
            "[  bpe_debug: False ]\n",
            "[  dict_endtoken: __end__ ]\n",
            "[  dict_file: /tmp/babi1.dict ]\n",
            "[  dict_initpath: None ]\n",
            "[  dict_language: english ]\n",
            "[  dict_lower: False ]\n",
            "[  dict_max_ngram_size: -1 ]\n",
            "[  dict_maxtokens: -1 ]\n",
            "[  dict_minfreq: 0 ]\n",
            "[  dict_nulltoken: __null__ ]\n",
            "[  dict_starttoken: __start__ ]\n",
            "[  dict_textfields: text,labels ]\n",
            "[  dict_tokenizer: re ]\n",
            "[  dict_unktoken: __unk__ ]\n",
            "[ ParlAI Image Preprocessing Arguments: ] \n",
            "[  image_cropsize: 224 ]\n",
            "[  image_size: 256 ]\n",
            "[creating task(s): babi:task1k:1]\n",
            "[building data: /root/ParlAI/data/bAbI]\n",
            "[ downloading: http://parl.ai/downloads/babi/babi.tar.gz to /root/ParlAI/data/bAbI/babi.tar.gz ]\n",
            "Downloading babi.tar.gz: 100% 19.2M/19.2M [00:01<00:00, 12.2MB/s]\n",
            "unpacking babi.tar.gz\n",
            "[ running dictionary over data.. ]\n",
            "[loading fbdialog data:/root/ParlAI/data/bAbI/tasks_1-20_v1-2/en-valid-nosf/qa1_train.txt]\n",
            "Building dictionary:   0% 0.00/900 [00:00<?, ?ex/s][loading fbdialog data:/root/ParlAI/data/bAbI/tasks_1-20_v1-2/en-valid-nosf/qa1_train.txt]\n",
            "[loading fbdialog data:/root/ParlAI/data/bAbI/tasks_1-20_v1-2/en-valid-nosf/qa1_train.txt]\n",
            "Building dictionary: 100% 900/900 [00:00<00:00, 20.7kex/s]\n",
            "Dictionary: saving dictionary to /tmp/babi1.dict\n",
            "[ dictionary built with 26 tokens in 0s ]\n",
            "1 Mary moved to the bathroom.\n",
            "2 John went to the hallway.\n",
            "3 Where is Mary? \tbathroom\n",
            "4 Daniel went back to the hallway.\n",
            "5 Sandra moved to the garden.\n",
            "6 Where is Daniel? \thallway\n",
            "7 John moved to the office.\n",
            "8 Sandra journeyed to the bathroom.\n",
            "9 Where is Daniel? \thallway\n",
            "10 Mary moved to the hallway.\n",
            "11 Daniel travelled to the office.\n",
            "12 Where is Daniel? \toffice\n",
            "13 John went back to the garden.\n",
            "14 John moved to the bedroom.\n",
            "15 Where is Sandra? \tbathroom\n",
            "1 Mary went to the bedroom.\n",
            "2 John journeyed to the bathroom.\n",
            "3 Where is John? \tbathroom\n",
            "4 Sandra journeyed to the hallway.\n",
            "5 John journeyed to the garden.\n",
            "6 Where is Mary? \tbedroom\n",
            "7 John journeyed to the bathroom.\n",
            "8 Sandra journeyed to the garden.\n",
            "9 Where is John? \tbathroom\n",
            "10 Sandra went back to the bedroom.\n",
            "11 Daniel travelled to the bathroom.\n",
            "12 Where is John? \tbathroom\n",
            "13 John went to the office.\n",
            "14 Mary moved to the office.\n",
            "15 Where is Sandra? \tbedroom\n"
          ],
          "name": "stdout"
        }
      ]
    },
    {
      "cell_type": "markdown",
      "metadata": {
        "colab_type": "text",
        "id": "vbc5n2xpPnsb"
      },
      "source": [
        "The bAbI tasks were downloaded in `~/ParlAI/data/bAbI/tasks_1-20_v1-2/en-valid-nosf/`\n",
        "\n",
        "In bAbI the data is organised as follows:\n",
        "- **Dialog turn**: A dialog turn is a single utterance / statement. Each line in the file corresponds to one dialog turn.   \n",
        "  Example: *\"John went to the office.\"*\n",
        "- **Sample (question)**: Every few dialog turns, a question can be asked that the model has to answer, this consitute a sample.  The question is followed by its ground truth answer, separated by a tab.\n",
        "  Example: *\"Where is John? `<tab>` bathroom\"*\n",
        "- **Episode**: a sequence of ordered coherent dialog turns that are related to each other form an episode. Each new episode is independant of the others. Each line starts with the dialog turn number in the current episode.\n",
        "\n",
        "\n",
        "---\n",
        "**Question 1.**\n",
        "- **1.a.** Look at the training file of task 1 (`~/ParlAI/data/bAbI/tasks_1-20_v1-2/en/qa1_train.txt`) and compute the following information:\n",
        "  - Number of episodes\n",
        "  - Number of  samples (questions)\n",
        "  - Number of dialog turns per episode\n",
        "  - How many different answers are there in the train set? How many times does each appear? (*hint: Use a python [counter](https://docs.python.org/3/library/collections.html#collections.Counter)*)\n",
        "  - How many unique words appear in the training set? How many time does each appear? (*hint: Use the Counter `most_common()` method*)\n",
        "\n",
        "*Print the answer in the following code cell*\n",
        "  \n",
        "  ---"
      ]
    },
    {
      "cell_type": "code",
      "metadata": {
        "colab_type": "code",
        "id": "nk7B40wOf8nU",
        "outputId": "8449b655-76bf-47d3-c565-58d672eb9206",
        "colab": {
          "base_uri": "https://localhost:8080/",
          "height": 156
        }
      },
      "source": [
        "# FILL THIS CELL\n",
        "from collections import Counter\n",
        "\n",
        "\n",
        "task_1_train_path = '/root/ParlAI/data/bAbI/tasks_1-20_v1-2/en-valid-10k-nosf/qa1_train.txt'\n",
        "\n",
        "with open(task_1_train_path, 'r') as f:\n",
        "    # FILL CODE HERE\n",
        "    n_episode = 0\n",
        "    n_questions = 0\n",
        "    n_total_dialog = 0\n",
        "    possible_ans = Counter()\n",
        "    vocabulary = Counter()\n",
        "    i = 1\n",
        "    for line in f:\n",
        "        if int(line.split(' ')[0]) == i:\n",
        "             n_episode+=1\n",
        "        \n",
        "        line = ' '.join(line.split(' ')[1:])\n",
        "        fields = line.split('\\t')\n",
        "\n",
        "        if len(fields)>1:\n",
        "            n_questions +=1\n",
        "            possible_ans.update([fields[1]])\n",
        "\n",
        "        vocabulary.update(fields[0].split(' '))\n",
        "        n_total_dialog += 1\n",
        "\n",
        "\n",
        "print(f'Number of episodes: {n_episode}')\n",
        "print(f'Number of questions: {n_questions}')\n",
        "print(f'Number of dialog turns per episode: {n_total_dialog/n_episode}')\n",
        "print(f'Possible answers: {possible_ans}, lenght: ({len(possible_ans)})')\n",
        "print(f'Accuracy of a random model: {1/len(possible_ans):.4f}')\n",
        "print(f'Vocabulary size: {len(vocabulary)}')\n",
        "print(f'Most common words: {vocabulary.most_common()}')"
      ],
      "execution_count": 4,
      "outputs": [
        {
          "output_type": "stream",
          "text": [
            "Number of episodes: 1800\n",
            "Number of questions: 9000\n",
            "Number of dialog turns per episode: 15.0\n",
            "Possible answers: Counter({'bathroom\\n': 1564, 'hallway\\n': 1517, 'garden\\n': 1508, 'bedroom\\n': 1473, 'kitchen\\n': 1471, 'office\\n': 1467}), lenght: (6)\n",
            "Accuracy of a random model: 0.1667\n",
            "Vocabulary size: 24\n",
            "Most common words: [('to', 18000), ('the', 18000), ('Where', 9000), ('is', 9000), ('', 9000), ('went', 7225), ('Mary', 4535), ('Sandra', 4502), ('John', 4484), ('Daniel', 4479), ('journeyed', 3620), ('travelled', 3582), ('back', 3581), ('moved', 3573), ('bathroom.\\n', 3070), ('hallway.\\n', 3045), ('garden.\\n', 2982), ('kitchen.\\n', 2981), ('office.\\n', 2963), ('bedroom.\\n', 2959), ('John?', 2299), ('Mary?', 2265), ('Sandra?', 2244), ('Daniel?', 2192)]\n"
          ],
          "name": "stdout"
        }
      ]
    },
    {
      "cell_type": "markdown",
      "metadata": {
        "colab_type": "text",
        "id": "XNYNtDHiuVq8"
      },
      "source": [
        "\n",
        "- **1.b.** Use the appropriate script from the `~/ParlAI/examples/` to take a quick look at examples of the first bAbI task.  \n",
        "Does the number of episodes and examples fit what you computed before? (*hint: you can use the argument `--task babi:task1k:1` to select the first babi task*)"
      ]
    },
    {
      "cell_type": "code",
      "metadata": {
        "colab_type": "code",
        "id": "f6HlIvzGgKv2",
        "outputId": "517ecaf9-8288-4935-e949-5075e91e76e7",
        "colab": {
          "base_uri": "https://localhost:8080/",
          "height": 1000
        }
      },
      "source": [
        "# FILL THIS CELL\n",
        "!python ~/ParlAI/examples/display_data.py --task babi:task10k:1"
      ],
      "execution_count": 5,
      "outputs": [
        {
          "output_type": "stream",
          "text": [
            "[ optional arguments: ] \n",
            "[  display_ignore_fields: agent_reply ]\n",
            "[  max_display_len: 1000 ]\n",
            "[  num_examples: 10 ]\n",
            "[ Main ParlAI Arguments: ] \n",
            "[  batchsize: 1 ]\n",
            "[  datapath: /root/ParlAI/data ]\n",
            "[  datatype: train:stream ]\n",
            "[  download_path: /root/ParlAI/downloads ]\n",
            "[  hide_labels: False ]\n",
            "[  image_mode: raw ]\n",
            "[  multitask_weights: [1] ]\n",
            "[  numthreads: 1 ]\n",
            "[  show_advanced_args: False ]\n",
            "[  task: babi:task10k:1 ]\n",
            "[ ParlAI Model Arguments: ] \n",
            "[  dict_class: None ]\n",
            "[  init_model: None ]\n",
            "[  model: None ]\n",
            "[  model_file: None ]\n",
            "[ PytorchData Arguments: ] \n",
            "[  batch_length_range: 5 ]\n",
            "[  batch_sort_cache_type: pop ]\n",
            "[  batch_sort_field: text ]\n",
            "[  numworkers: 4 ]\n",
            "[  pytorch_context_length: -1 ]\n",
            "[  pytorch_datapath: None ]\n",
            "[  pytorch_include_labels: True ]\n",
            "[  pytorch_preprocess: False ]\n",
            "[  pytorch_teacher_batch_sort: False ]\n",
            "[  pytorch_teacher_dataset: None ]\n",
            "[  pytorch_teacher_task: None ]\n",
            "[  shuffle: False ]\n",
            "[ ParlAI Image Preprocessing Arguments: ] \n",
            "[  image_cropsize: 224 ]\n",
            "[  image_size: 256 ]\n",
            "[creating task(s): babi:task10k:1]\n",
            "[loading fbdialog data:/root/ParlAI/data/bAbI/tasks_1-20_v1-2/en-valid-10k-nosf/qa1_train.txt]\n",
            "[loading fbdialog data:/root/ParlAI/data/bAbI/tasks_1-20_v1-2/en-valid-10k-nosf/qa1_train.txt]\n",
            "[babi:task10k:1]: Mary moved to the bathroom.\n",
            "John went to the hallway.\n",
            "Where is Mary?\n",
            "[label_candidates: office|kitchen|garden|bathroom|bedroom|...and 1 more]\n",
            "[labels: bathroom]\n",
            "~~\n",
            "[babi:task10k:1]: Daniel went back to the hallway.\n",
            "Sandra moved to the garden.\n",
            "Where is Daniel?\n",
            "[label_candidates: office|kitchen|garden|bathroom|bedroom|...and 1 more]\n",
            "[labels: hallway]\n",
            "~~\n",
            "[babi:task10k:1]: John moved to the office.\n",
            "Sandra journeyed to the bathroom.\n",
            "Where is Daniel?\n",
            "[label_candidates: office|kitchen|garden|bathroom|bedroom|...and 1 more]\n",
            "[labels: hallway]\n",
            "~~\n",
            "[babi:task10k:1]: Mary moved to the hallway.\n",
            "Daniel travelled to the office.\n",
            "Where is Daniel?\n",
            "[label_candidates: office|kitchen|garden|bathroom|bedroom|...and 1 more]\n",
            "[labels: office]\n",
            "~~\n",
            "[babi:task10k:1]: John went back to the garden.\n",
            "John moved to the bedroom.\n",
            "Where is Sandra?\n",
            "[label_candidates: office|kitchen|garden|bathroom|bedroom|...and 1 more]\n",
            "[labels: bathroom]\n",
            "- - - - - - - - - - - - - - - - - - - - -\n",
            "~~\n",
            "[babi:task10k:1]: Mary went to the bedroom.\n",
            "John journeyed to the bathroom.\n",
            "Where is John?\n",
            "[label_candidates: office|kitchen|garden|bathroom|bedroom|...and 1 more]\n",
            "[labels: bathroom]\n",
            "~~\n",
            "[babi:task10k:1]: Sandra journeyed to the hallway.\n",
            "John journeyed to the garden.\n",
            "Where is Mary?\n",
            "[label_candidates: office|kitchen|garden|bathroom|bedroom|...and 1 more]\n",
            "[labels: bedroom]\n",
            "~~\n",
            "[babi:task10k:1]: John journeyed to the bathroom.\n",
            "Sandra journeyed to the garden.\n",
            "Where is John?\n",
            "[label_candidates: office|kitchen|garden|bathroom|bedroom|...and 1 more]\n",
            "[labels: bathroom]\n",
            "~~\n",
            "[babi:task10k:1]: Sandra went back to the bedroom.\n",
            "Daniel travelled to the bathroom.\n",
            "Where is John?\n",
            "[label_candidates: office|kitchen|garden|bathroom|bedroom|...and 1 more]\n",
            "[labels: bathroom]\n",
            "~~\n",
            "[babi:task10k:1]: John went to the office.\n",
            "Mary moved to the office.\n",
            "Where is Sandra?\n",
            "[label_candidates: office|kitchen|garden|bathroom|bedroom|...and 1 more]\n",
            "[labels: bedroom]\n",
            "- - - - - - - - - - - - - - - - - - - - -\n",
            "~~\n",
            "[ loaded 1800 episodes with a total of 9000 examples ]\n"
          ],
          "name": "stdout"
        }
      ]
    },
    {
      "cell_type": "markdown",
      "metadata": {
        "id": "9aMeDYz493Iz",
        "colab_type": "text"
      },
      "source": [
        "Yes, the number of episodes and examples fit those previously computed."
      ]
    },
    {
      "cell_type": "markdown",
      "metadata": {
        "colab_type": "text",
        "id": "TovRmKOA858i"
      },
      "source": [
        "## 2. Metrics"
      ]
    },
    {
      "cell_type": "markdown",
      "metadata": {
        "colab_type": "text",
        "id": "g9NV_vBlPSWP"
      },
      "source": [
        "The bAbI task 1 expects single word answers among a small set of possible answers.\n",
        "\n",
        "\n",
        "---\n",
        "**Question 2**  \n",
        "- **2.a.** Which metrics do you think are appropriate for evaluating a model on this task?   \n",
        "-  **2.b.**  What are their respective strengths?  \n",
        "-  **2.c.** When do they fail? (find specific examples)  \n",
        "\n",
        "\n",
        "*ANSWER HERE* \n",
        "- 2.a. We can use accuracy or f1-score\n",
        "\n",
        "- 2.b. The accuracy is quick to compute and can be a quick evaluation if the classes are balanced, but f1-score allows to have a mectric that can be robus to the case of imballanced data\n",
        "\n",
        "- 2.c. Accuracy doesn't tell all the store when the classes are inbalanced.\n",
        "\n",
        "For example :\n",
        "\n",
        "If we are doing a binary(blue, red) classification task for 50 examples and 48 are blue.\n",
        "\n",
        "Let's try calculating accuracy for the following model that classified 100 fruits as orange (the positive class) or mango (the negative class):\n",
        "\n",
        "TP = 1, TN = 90, FP = 1, FN = 8\n",
        "\n",
        "Accuracy = (TP+TN)/(TP+TN+FP+FN) = 91/100 = 91%\n",
        "\n",
        "Of the 100 fruits, 91 are orange (90 TNs and 1 FP) and 9 are mango (1 TP and 8 FNs).\n",
        "\n",
        "Of the 91 orange, the model correctly identifies 90 as orange. That's good. However, of the 9 mango fruits, the model only correctly identifies 1 as orange—a terrible outcome.\n",
        "\n",
        "While 91% accuracy may seem good at first glance, another fruits-classifier model that always predicts mango would achieve the exact same accuracy (91/100 correct predictions) on our examples.\n",
        "\n",
        "Accuracy alone doesn't tell the full story when you're working with a class-imbalanced data set, like this one, where there is a significant disparity between the number of positive and negative labels.\n",
        "\n",
        "But the same example if we apply f1-score we will get a metric that is makes more sens \n",
        "\n",
        "---"
      ]
    },
    {
      "cell_type": "markdown",
      "metadata": {
        "colab_type": "text",
        "id": "0_MZKCTW6fh9"
      },
      "source": [
        "## 3. Baseline\n",
        "\n"
      ]
    },
    {
      "cell_type": "markdown",
      "metadata": {
        "colab_type": "text",
        "id": "RSexIY71yiD6"
      },
      "source": [
        "We now have a clearer idea of the data distribution and the metrics that we can use.  \n",
        "The next step is to start solving the tasks with a simple baseline. This will allow us to compare more elaborate models agains this baseline.  \n",
        "Here are a few classical baselines:\n",
        "- **Random model**: The model answers randomly among the set of possible answers for each question\n",
        "-  **Majority class**: The model always answers with the most frequent answer in the training set (majority class)\n",
        "\n",
        "We are going to reimplement these own baselines.  \n",
        "Implementing a new model in ParlAI is detailed in the [tutorial](https://www.parl.ai/docs/tutorial_quick.html) but for our simple baselines, we will only need to inherit the [Agent](https://github.com/facebookresearch/ParlAI/blob/6d246842d3f4e941dd3806f3d9fa62f607d48f59/parlai/core/agents.py#L50) class and override the `act()` method.\n",
        "\n",
        "\n",
        "---\n",
        "**Question 3**  \n",
        "- **3.a.** What would be the accuracy of a model that choses a random answer among the set of possible answers for each question? \n",
        "\n",
        "*ANSWER HERE*\n",
        "\n",
        "Accur = 0.1686\n",
        "\n",
        "---\n",
        "\n",
        "*Note: the `%%writefile` magic command in jupyter writes the content of the cell to a file at the given path.*"
      ]
    },
    {
      "cell_type": "code",
      "metadata": {
        "colab_type": "code",
        "id": "9ahmFL0Rk6g1",
        "colab": {}
      },
      "source": [
        "!mkdir -p ~/ParlAI/parlai/agents/baseline/\n",
        "!touch ~/ParlAI/parlai/agents/baseline/random.py\n",
        "!touch ~/ParlAI/parlai/agents/baseline/majorityclass.py"
      ],
      "execution_count": 0,
      "outputs": []
    },
    {
      "cell_type": "markdown",
      "metadata": {
        "colab_type": "text",
        "id": "mZLM7DtkkJN1"
      },
      "source": [
        "- **3.b.**  Design a baseline that answers a random word in the set of possible answer (run it multiple time to observe variance in results)."
      ]
    },
    {
      "cell_type": "code",
      "metadata": {
        "colab_type": "code",
        "id": "Zx4emBSPjmE-",
        "outputId": "7506a600-522b-40fd-8688-0fa1fa39e2ab",
        "colab": {
          "base_uri": "https://localhost:8080/",
          "height": 34
        }
      },
      "source": [
        "# FILL THIS CELL\n",
        "%%writefile ~/ParlAI/parlai/agents/baseline/random.py\n",
        "import random\n",
        "\n",
        "from parlai.core.torch_agent import Agent\n",
        "\n",
        "\n",
        "class RandomAgent(Agent):\n",
        "  \n",
        "    def act(self):\n",
        "        # FILL CODE HERE\n",
        "        if 'label_candidates' not in self.observation: # check that the model expect the answer\n",
        "            return\n",
        "        candidates = list(self.observation['label_candidates'])\n",
        "        reply = {'text': candidates[random.randrange(len(candidates))]}\n",
        "        return reply"
      ],
      "execution_count": 7,
      "outputs": [
        {
          "output_type": "stream",
          "text": [
            "Overwriting /root/ParlAI/parlai/agents/baseline/random.py\n"
          ],
          "name": "stdout"
        }
      ]
    },
    {
      "cell_type": "code",
      "metadata": {
        "id": "XuoZkYJeGbA9",
        "colab_type": "code",
        "outputId": "70f0ecdd-1601-499c-88e9-2541acb2b762",
        "colab": {
          "base_uri": "https://localhost:8080/",
          "height": 34
        }
      },
      "source": [
        "!python ~/ParlAI/examples/eval_model.py -t babi:task10k:1 -m baseline/random | grep accuracy -A 1"
      ],
      "execution_count": 11,
      "outputs": [
        {
          "output_type": "stream",
          "text": [
            "{'exs': 1000, 'accuracy': 0.16, 'f1': 0.16, 'bleu': 1.6e-10}\n"
          ],
          "name": "stdout"
        }
      ]
    },
    {
      "cell_type": "code",
      "metadata": {
        "id": "zLmmyLXaGao_",
        "colab_type": "code",
        "outputId": "b1255af8-fff9-4767-90db-376b20076a99",
        "colab": {
          "base_uri": "https://localhost:8080/",
          "height": 34
        }
      },
      "source": [
        "!python ~/ParlAI/examples/eval_model.py -t babi:task10k:1 -m baseline/random | grep accuracy -A 1"
      ],
      "execution_count": 12,
      "outputs": [
        {
          "output_type": "stream",
          "text": [
            "{'exs': 1000, 'accuracy': 0.177, 'f1': 0.177, 'bleu': 1.77e-10}\n"
          ],
          "name": "stdout"
        }
      ]
    },
    {
      "cell_type": "code",
      "metadata": {
        "colab_type": "code",
        "id": "dMOWxgVj1Joz",
        "outputId": "42bd011d-3948-4a3f-81c9-6caa05063783",
        "colab": {
          "base_uri": "https://localhost:8080/",
          "height": 34
        }
      },
      "source": [
        "!python ~/ParlAI/examples/eval_model.py -t babi:task10k:1 -m baseline/random | grep accuracy -A 1"
      ],
      "execution_count": 13,
      "outputs": [
        {
          "output_type": "stream",
          "text": [
            "{'exs': 1000, 'accuracy': 0.159, 'f1': 0.159, 'bleu': 1.59e-10}\n"
          ],
          "name": "stdout"
        }
      ]
    },
    {
      "cell_type": "code",
      "metadata": {
        "colab_type": "code",
        "id": "oVs3pOKE2-WE",
        "outputId": "734aeca3-25be-4133-c860-2da1fa484d45",
        "colab": {
          "base_uri": "https://localhost:8080/",
          "height": 1000
        }
      },
      "source": [
        "!python ~/ParlAI/examples/display_model.py -t babi:task10k:1 -m baseline/random -n 10 "
      ],
      "execution_count": 0,
      "outputs": [
        {
          "output_type": "stream",
          "text": [
            "[ optional arguments: ] \n",
            "[  display_ignore_fields:  ]\n",
            "[  num_examples: 10 ]\n",
            "[ Main ParlAI Arguments: ] \n",
            "[  batchsize: 1 ]\n",
            "[  datapath: /root/ParlAI/data ]\n",
            "[  datatype: valid ]\n",
            "[  download_path: /root/ParlAI/downloads ]\n",
            "[  hide_labels: False ]\n",
            "[  image_mode: raw ]\n",
            "[  multitask_weights: [1] ]\n",
            "[  numthreads: 1 ]\n",
            "[  show_advanced_args: False ]\n",
            "[  task: babi:task10k:1 ]\n",
            "[ ParlAI Model Arguments: ] \n",
            "[  dict_class: None ]\n",
            "[  init_model: None ]\n",
            "[  model: baseline/random ]\n",
            "[  model_file: None ]\n",
            "[ ParlAI Image Preprocessing Arguments: ] \n",
            "[  image_cropsize: 224 ]\n",
            "[  image_size: 256 ]\n",
            "[creating task(s): babi:task10k:1]\n",
            "[loading fbdialog data:/root/ParlAI/data/bAbI/tasks_1-20_v1-2/en-valid-10k-nosf/qa1_valid.txt]\n",
            "[babi:task10k:1]: Sandra travelled to the office.\n",
            "Sandra went to the bathroom.\n",
            "Where is Sandra?\n",
            "[label_candidates: office|bathroom|hallway|bedroom|garden|...and 1 more]\n",
            "[eval_labels: bathroom]\n",
            "   kitchen\n",
            "~~\n",
            "[babi:task10k:1]: Mary went to the bedroom.\n",
            "Daniel moved to the hallway.\n",
            "Where is Sandra?\n",
            "[label_candidates: office|bathroom|hallway|bedroom|garden|...and 1 more]\n",
            "[eval_labels: bathroom]\n",
            "   office\n",
            "~~\n",
            "[babi:task10k:1]: John went to the garden.\n",
            "John travelled to the office.\n",
            "Where is Sandra?\n",
            "[label_candidates: office|bathroom|hallway|bedroom|garden|...and 1 more]\n",
            "[eval_labels: bathroom]\n",
            "   office\n",
            "~~\n",
            "[babi:task10k:1]: Daniel journeyed to the bedroom.\n",
            "Daniel travelled to the hallway.\n",
            "Where is John?\n",
            "[label_candidates: office|bathroom|hallway|bedroom|garden|...and 1 more]\n",
            "[eval_labels: office]\n",
            "   kitchen\n",
            "~~\n",
            "[babi:task10k:1]: John went to the bedroom.\n",
            "John travelled to the office.\n",
            "Where is Daniel?\n",
            "[label_candidates: office|bathroom|hallway|bedroom|garden|...and 1 more]\n",
            "[eval_labels: hallway]\n",
            "   hallway\n",
            "- - - - - - - - - - - - - - - - - - - - -\n",
            "~~\n",
            "[babi:task10k:1]: Sandra went back to the bathroom.\n",
            "Mary moved to the garden.\n",
            "Where is Mary?\n",
            "[label_candidates: office|bathroom|hallway|bedroom|garden|...and 1 more]\n",
            "[eval_labels: garden]\n",
            "   bathroom\n",
            "~~\n",
            "[babi:task10k:1]: Mary went back to the hallway.\n",
            "Sandra went to the office.\n",
            "Where is Sandra?\n",
            "[label_candidates: office|bathroom|hallway|bedroom|garden|...and 1 more]\n",
            "[eval_labels: office]\n",
            "   bathroom\n",
            "~~\n",
            "[babi:task10k:1]: John went back to the hallway.\n",
            "John travelled to the office.\n",
            "Where is Sandra?\n",
            "[label_candidates: office|bathroom|hallway|bedroom|garden|...and 1 more]\n",
            "[eval_labels: office]\n",
            "   bathroom\n",
            "~~\n",
            "[babi:task10k:1]: Sandra journeyed to the hallway.\n",
            "Daniel moved to the office.\n",
            "Where is John?\n",
            "[label_candidates: office|bathroom|hallway|bedroom|garden|...and 1 more]\n",
            "[eval_labels: office]\n",
            "   kitchen\n",
            "~~\n",
            "[babi:task10k:1]: Mary went to the office.\n",
            "Sandra went to the office.\n",
            "Where is John?\n",
            "[label_candidates: office|bathroom|hallway|bedroom|garden|...and 1 more]\n",
            "[eval_labels: office]\n",
            "   office\n",
            "- - - - - - - - - - - - - - - - - - - - -\n",
            "~~\n"
          ],
          "name": "stdout"
        }
      ]
    },
    {
      "cell_type": "markdown",
      "metadata": {
        "colab_type": "text",
        "id": "3UnE4oVakR4k"
      },
      "source": [
        "- **3.c.**  Design a baseline that answers the most common answer every time (majority class baseline)."
      ]
    },
    {
      "cell_type": "code",
      "metadata": {
        "colab_type": "code",
        "id": "hHIV2NUzGzQc",
        "outputId": "72f7a579-3456-4b23-ecd1-88f2d6a6f34a",
        "colab": {
          "base_uri": "https://localhost:8080/",
          "height": 34
        }
      },
      "source": [
        "# FILL THIS CELL\n",
        "%%writefile ~/ParlAI/parlai/agents/baseline/majorityclass.py\n",
        "import random\n",
        "\n",
        "from parlai.core.torch_agent import Agent\n",
        "\n",
        "\n",
        "class MajorityclassAgent(Agent):\n",
        "  \n",
        "    def act(self):\n",
        "        # FILL CODE HERE\n",
        "        if 'label_candidates' not in self.observation: # check that the model expect the answer\n",
        "            return\n",
        "\n",
        "        candidates = list(self.observation['label_candidates'])\n",
        "\n",
        "        # reply = {'text': max(set(candidates), key = candidates.count)} nto a good idea\n",
        "        reply = {'text': 'bathroom'}\n",
        "        return reply"
      ],
      "execution_count": 0,
      "outputs": [
        {
          "output_type": "stream",
          "text": [
            "Overwriting /root/ParlAI/parlai/agents/baseline/majorityclass.py\n"
          ],
          "name": "stdout"
        }
      ]
    },
    {
      "cell_type": "code",
      "metadata": {
        "colab_type": "code",
        "id": "U34z6bx0lJV9",
        "outputId": "c1216a83-7e86-436d-871b-8be045dadbbc",
        "colab": {
          "base_uri": "https://localhost:8080/",
          "height": 34
        }
      },
      "source": [
        "!python ~/ParlAI/examples/eval_model.py -t babi:task10k:1 -m baseline/majorityclass | grep accuracy -A 1"
      ],
      "execution_count": 0,
      "outputs": [
        {
          "output_type": "stream",
          "text": [
            "{'exs': 1000, 'accuracy': 0.169, 'f1': 0.169, 'bleu': 1.69e-10}\n"
          ],
          "name": "stdout"
        }
      ]
    },
    {
      "cell_type": "code",
      "metadata": {
        "colab_type": "code",
        "id": "X8LHkfUS3AL0",
        "outputId": "61a46028-40a3-403f-93c2-5f25c41ba994",
        "colab": {
          "base_uri": "https://localhost:8080/",
          "height": 1000
        }
      },
      "source": [
        "!python ~/ParlAI/examples/display_model.py -t babi:task10k:1 -m baseline/majorityclass -n 10"
      ],
      "execution_count": 0,
      "outputs": [
        {
          "output_type": "stream",
          "text": [
            "[ optional arguments: ] \n",
            "[  display_ignore_fields:  ]\n",
            "[  num_examples: 10 ]\n",
            "[ Main ParlAI Arguments: ] \n",
            "[  batchsize: 1 ]\n",
            "[  datapath: /root/ParlAI/data ]\n",
            "[  datatype: valid ]\n",
            "[  download_path: /root/ParlAI/downloads ]\n",
            "[  hide_labels: False ]\n",
            "[  image_mode: raw ]\n",
            "[  multitask_weights: [1] ]\n",
            "[  numthreads: 1 ]\n",
            "[  show_advanced_args: False ]\n",
            "[  task: babi:task10k:1 ]\n",
            "[ ParlAI Model Arguments: ] \n",
            "[  dict_class: None ]\n",
            "[  init_model: None ]\n",
            "[  model: baseline/majorityclass ]\n",
            "[  model_file: None ]\n",
            "[ ParlAI Image Preprocessing Arguments: ] \n",
            "[  image_cropsize: 224 ]\n",
            "[  image_size: 256 ]\n",
            "[creating task(s): babi:task10k:1]\n",
            "[loading fbdialog data:/root/ParlAI/data/bAbI/tasks_1-20_v1-2/en-valid-10k-nosf/qa1_valid.txt]\n",
            "[babi:task10k:1]: Sandra travelled to the office.\n",
            "Sandra went to the bathroom.\n",
            "Where is Sandra?\n",
            "[label_candidates: bedroom|garden|hallway|bathroom|office|...and 1 more]\n",
            "[eval_labels: bathroom]\n",
            "   bathroom\n",
            "~~\n",
            "[babi:task10k:1]: Mary went to the bedroom.\n",
            "Daniel moved to the hallway.\n",
            "Where is Sandra?\n",
            "[label_candidates: bedroom|garden|hallway|bathroom|office|...and 1 more]\n",
            "[eval_labels: bathroom]\n",
            "   bathroom\n",
            "~~\n",
            "[babi:task10k:1]: John went to the garden.\n",
            "John travelled to the office.\n",
            "Where is Sandra?\n",
            "[label_candidates: bedroom|garden|hallway|bathroom|office|...and 1 more]\n",
            "[eval_labels: bathroom]\n",
            "   bathroom\n",
            "~~\n",
            "[babi:task10k:1]: Daniel journeyed to the bedroom.\n",
            "Daniel travelled to the hallway.\n",
            "Where is John?\n",
            "[label_candidates: bedroom|garden|hallway|bathroom|office|...and 1 more]\n",
            "[eval_labels: office]\n",
            "   bathroom\n",
            "~~\n",
            "[babi:task10k:1]: John went to the bedroom.\n",
            "John travelled to the office.\n",
            "Where is Daniel?\n",
            "[label_candidates: bedroom|garden|hallway|bathroom|office|...and 1 more]\n",
            "[eval_labels: hallway]\n",
            "   bathroom\n",
            "- - - - - - - - - - - - - - - - - - - - -\n",
            "~~\n",
            "[babi:task10k:1]: Sandra went back to the bathroom.\n",
            "Mary moved to the garden.\n",
            "Where is Mary?\n",
            "[label_candidates: bedroom|garden|hallway|bathroom|office|...and 1 more]\n",
            "[eval_labels: garden]\n",
            "   bathroom\n",
            "~~\n",
            "[babi:task10k:1]: Mary went back to the hallway.\n",
            "Sandra went to the office.\n",
            "Where is Sandra?\n",
            "[label_candidates: bedroom|garden|hallway|bathroom|office|...and 1 more]\n",
            "[eval_labels: office]\n",
            "   bathroom\n",
            "~~\n",
            "[babi:task10k:1]: John went back to the hallway.\n",
            "John travelled to the office.\n",
            "Where is Sandra?\n",
            "[label_candidates: bedroom|garden|hallway|bathroom|office|...and 1 more]\n",
            "[eval_labels: office]\n",
            "   bathroom\n",
            "~~\n",
            "[babi:task10k:1]: Sandra journeyed to the hallway.\n",
            "Daniel moved to the office.\n",
            "Where is John?\n",
            "[label_candidates: bedroom|garden|hallway|bathroom|office|...and 1 more]\n",
            "[eval_labels: office]\n",
            "   bathroom\n",
            "~~\n",
            "[babi:task10k:1]: Mary went to the office.\n",
            "Sandra went to the office.\n",
            "Where is John?\n",
            "[label_candidates: bedroom|garden|hallway|bathroom|office|...and 1 more]\n",
            "[eval_labels: office]\n",
            "   bathroom\n",
            "- - - - - - - - - - - - - - - - - - - - -\n",
            "~~\n"
          ],
          "name": "stdout"
        }
      ]
    },
    {
      "cell_type": "markdown",
      "metadata": {
        "colab_type": "text",
        "id": "BOW4ZTSekWt9"
      },
      "source": [
        "---\n",
        "- **3.d.**  In which cases would the majority class baseline be better than the random baseline?\n",
        "\n",
        "*ANSWER HERE*\n",
        "\n",
        "If we have class-imbalanced data.\n",
        "\n",
        "---"
      ]
    },
    {
      "cell_type": "markdown",
      "metadata": {
        "colab_type": "text",
        "id": "layL9aTK_D1a"
      },
      "source": [
        "Another slightly more advanced baseline is implemented in ParlAI: the information retrieval baseline (`ir_baseline`)\n",
        "\n",
        "---\n",
        "- **3.e.** Look at the [implementation](https://github.com/facebookresearch/ParlAI/blob/53ea58acf389bffc79c85c43bcdd848eecdcecb4/parlai/agents/ir_baseline/ir_baseline.py#L211) of the IR baseline and explain in a few lines how it works (*hint: look at the following methods `act()` `rank_candidates()`  `score_match()`*)  \n",
        "\n",
        "*ANSWER HERE*\n",
        "\n",
        "This Ir baseline when given the label candidates, it ranks them according to their similarity to the input message.\n",
        "\n",
        "\n",
        "---"
      ]
    },
    {
      "cell_type": "markdown",
      "metadata": {
        "colab_type": "text",
        "id": "oKo6zJHwksKA"
      },
      "source": [
        "- **3.f.** Use the IR baseline and compare its with one of your baselines (random and/or majority) on bAbI tasks 1, 2 and 3.  \n",
        "    (*hint: you can use `!python ... -t babi:task1-k:{i+1}` syntax to substitute the task number in a bash command from jupyter*)\n"
      ]
    },
    {
      "cell_type": "code",
      "metadata": {
        "colab_type": "code",
        "id": "EzBAEWP7k10U",
        "outputId": "5aeee60a-4bc3-4ace-9daf-af9fd2f8fdd0",
        "colab": {
          "base_uri": "https://localhost:8080/",
          "height": 306
        }
      },
      "source": [
        "# FILL THIS CELL\n",
        "for i in range(3):\n",
        "    print(f'~ Task {i+1} ~')\n",
        "    # FILL CODE HERE\n",
        "    print('Random baseline:')\n",
        "    !python ~/ParlAI/examples/eval_model.py -t babi:task10k:{i+1} -m baseline/random | grep accuracy\n",
        "    if i == 0:  # Majority class was only computed for the first task (it might be something else than bathroom for task 2 and 3)\n",
        "        print('Majority class baseline:')\n",
        "        !python ~/ParlAI/examples/eval_model.py -t babi:task10k:{i+1} -m baseline/majorityclass | grep accuracy\n",
        "    print('IR baseline:')\n",
        "    !python ~/ParlAI/examples/eval_model.py -t babi:task10k:{i+1} -m ir_baseline | grep accuracy"
      ],
      "execution_count": 0,
      "outputs": [
        {
          "output_type": "stream",
          "text": [
            "~ Task 1 ~\n",
            "Random baseline:\n",
            "{'exs': 1000, 'accuracy': 0.165, 'f1': 0.165, 'bleu': 1.65e-10}\n",
            "Majority class baseline:\n",
            "{'exs': 1000, 'accuracy': 0.169, 'f1': 0.169, 'bleu': 1.69e-10}\n",
            "IR baseline:\n",
            "{'exs': 1000, 'accuracy': 0.465, 'f1': 0.465, 'hits@1': 0.465, 'hits@5': 0.961, 'hits@10': 1.0, 'hits@100': 1.0, 'bleu': 4.65e-10}\n",
            "~ Task 2 ~\n",
            "Random baseline:\n",
            "{'exs': 1000, 'accuracy': 0.181, 'f1': 0.181, 'bleu': 1.81e-10}\n",
            "IR baseline:\n",
            "{'exs': 1000, 'accuracy': 0.284, 'f1': 0.284, 'hits@1': 0.284, 'hits@5': 0.9, 'hits@10': 1.0, 'hits@100': 1.0, 'bleu': 2.84e-10}\n",
            "~ Task 3 ~\n",
            "Random baseline:\n",
            "{'exs': 1000, 'accuracy': 0.159, 'f1': 0.159, 'bleu': 1.59e-10}\n",
            "IR baseline:\n",
            "{'exs': 1000, 'accuracy': 0.132, 'f1': 0.132, 'hits@1': 0.132, 'hits@5': 0.836, 'hits@10': 1.0, 'hits@100': 1.0, 'bleu': 1.32e-10}\n"
          ],
          "name": "stdout"
        }
      ]
    },
    {
      "cell_type": "markdown",
      "metadata": {
        "colab_type": "text",
        "id": "xZGFSbEwJdvx"
      },
      "source": [
        "## 4. More elaborate models\n",
        "\n"
      ]
    },
    {
      "cell_type": "markdown",
      "metadata": {
        "colab_type": "text",
        "id": "wj7onBcoyoZz"
      },
      "source": [
        "We can now continue to more elaborate models and evaluate their performance in perspective to the baselines.\n",
        "We will use the `~/ParlAI/examples/train_model.py` script. Let's first get a glance at its arguments:"
      ]
    },
    {
      "cell_type": "code",
      "metadata": {
        "colab_type": "code",
        "id": "gZa5Xl5Bxxxe",
        "outputId": "1c7df3da-3b25-48c4-a5c5-8e572b953157",
        "colab": {
          "base_uri": "https://localhost:8080/",
          "height": 1000
        }
      },
      "source": [
        "!python ~/ParlAI/examples/train_model.py --help"
      ],
      "execution_count": 0,
      "outputs": [
        {
          "output_type": "stream",
          "text": [
            "usage: train_model.py [-h] [-v] [-t TASK]\n",
            "                      [-dt {train,train:stream,train:ordered,train:ordered:stream,train:stream:ordered,train:evalmode,train:evalmode:stream,train:evalmode:ordered,train:evalmode:ordered:stream,train:evalmode:stream:ordered,valid,valid:stream,test,test:stream}]\n",
            "                      [-nt NUMTHREADS] [-bs BATCHSIZE] [-dp DATAPATH] [-m MODEL] [-mf MODEL_FILE] [-im INIT_MODEL] [-et EVALTASK]\n",
            "                      [-eps NUM_EPOCHS] [-ttim MAX_TRAIN_TIME] [-vtim VALIDATION_EVERY_N_SECS] [-stim SAVE_EVERY_N_SECS]\n",
            "                      [-sval SAVE_AFTER_VALID] [-veps VALIDATION_EVERY_N_EPOCHS] [-vp VALIDATION_PATIENCE]\n",
            "                      [-vmt VALIDATION_METRIC] [-vmm {max,min}] [-pyt PYTORCH_TEACHER_TASK] [-pytd PYTORCH_TEACHER_DATASET]\n",
            "\n",
            "Train a model\n",
            "\n",
            "optional arguments:\n",
            "  -h, --help\n",
            "        show this help message and exit\n",
            "\n",
            "Main ParlAI Arguments:\n",
            "  -v, --show-advanced-args\n",
            "        Show hidden command line options (advanced users only) (default: False)\n",
            "  -t, --task TASK\n",
            "        ParlAI task(s), e.g. \"babi:Task1\" or \"babi,cbt\" (default: None)\n",
            "  -dt, --datatype {train,train:stream,train:ordered,train:ordered:stream,train:stream:ordered,train:evalmode,train:evalmode:stream,train:evalmode:ordered,train:evalmode:ordered:stream,train:evalmode:stream:ordered,valid,valid:stream,test,test:stream}\n",
            "        choose from: train, train:ordered, valid, test. to stream data add \":stream\" to any option (e.g., train:stream). by\n",
            "        default: train is random with replacement, valid is ordered, test is ordered. (default: train)\n",
            "  -nt, --numthreads NUMTHREADS\n",
            "        number of threads. Used for hogwild if batchsize is 1, else for number of threads in threadpool loading, (default: 1)\n",
            "  -bs, --batchsize BATCHSIZE\n",
            "        batch size for minibatch training schemes (default: 1)\n",
            "  -dp, --datapath DATAPATH\n",
            "        path to datasets, defaults to {parlai_dir}/data (default: /root/ParlAI/data)\n",
            "\n",
            "ParlAI Model Arguments:\n",
            "  -m, --model MODEL\n",
            "        the model class name. can match parlai/agents/<model> for agents in that directory, or can provide a fully specified\n",
            "        module for `from X import Y` via `-m X:Y` (e.g. `-m parlai.agents.seq2seq.seq2seq:Seq2SeqAgent`) (default: None)\n",
            "  -mf, --model-file MODEL_FILE\n",
            "        model file name for loading and saving models (default: None)\n",
            "  -im, --init-model INIT_MODEL\n",
            "        load model weights and dict from this file (default: None)\n",
            "\n",
            "Training Loop Arguments:\n",
            "  -et, --evaltask EVALTASK\n",
            "        task to use for valid/test (defaults to the one used for training if not set) (default: None)\n",
            "  -eps, --num-epochs NUM_EPOCHS\n",
            "  -ttim, --max-train-time MAX_TRAIN_TIME\n",
            "  -vtim, --validation-every-n-secs VALIDATION_EVERY_N_SECS\n",
            "        Validate every n seconds. Saves model to model_file (if set) whenever best val metric is found (default: -1)\n",
            "  -stim, --save-every-n-secs SAVE_EVERY_N_SECS\n",
            "        Saves the model to model_file.checkpoint after every n seconds (default -1, never). (default: -1)\n",
            "  -sval, --save-after-valid SAVE_AFTER_VALID\n",
            "        Saves the model to model_file.checkpoint after every validation (default False).\n",
            "  -veps, --validation-every-n-epochs VALIDATION_EVERY_N_EPOCHS\n",
            "        Validate every n epochs. Saves model to model_file (if set) whenever best val metric is found (default: -1)\n",
            "  -vp, --validation-patience VALIDATION_PATIENCE\n",
            "        number of iterations of validation where result does not improve before we stop training (default: 10)\n",
            "  -vmt, --validation-metric VALIDATION_METRIC\n",
            "        key into report table for selecting best validation (default: accuracy)\n",
            "  -vmm, --validation-metric-mode {max,min}\n",
            "        how to optimize validation metric (max or min) (default: None)\n",
            "\n",
            "PytorchData Arguments:\n",
            "  -pyt, --pytorch-teacher-task PYTORCH_TEACHER_TASK\n",
            "        Use the PytorchDataTeacher for multiprocessed data loading with a standard ParlAI task, e.g. \"babi:Task1k\" (default: None)\n",
            "  -pytd, --pytorch-teacher-dataset PYTORCH_TEACHER_DATASET\n",
            "        Use the PytorchDataTeacher for multiprocessed data loading with a pytorch Dataset, e.g. \"vqa_1\" or \"flickr30k\" (default:\n",
            "        None)\n"
          ],
          "name": "stdout"
        }
      ]
    },
    {
      "cell_type": "markdown",
      "metadata": {
        "colab_type": "text",
        "id": "s2apZUNj6JrS"
      },
      "source": [
        "We can train two types of models:\n",
        "- **Generative models**: The model generates an answer from its vocabulary.\n",
        "- **Ranking models**: The model is given a list of possible answers and has to choose the correct answer. This is much easier for the model since the list of possible answers is often way smaller than the size of the vocabulary\n"
      ]
    },
    {
      "cell_type": "markdown",
      "metadata": {
        "colab_type": "text",
        "id": "HdBwoP2K36DH"
      },
      "source": [
        "### Generative model: seq2seq with attention\n",
        "\n",
        "The generative model we are going to train is a sequence to sequence model with attention based on [Sustskever et al. 2014](https://arxiv.org/abs/1409.3215) and [Bahdanau et al. 2014](https://arxiv.org/abs/1409.0473).\n",
        "      \n",
        "- **4.a.** Briefly explain how attention works in sequence to sequence neural networks.\n",
        "- **4.b.** Do you think attention is useful for the babi tasks? How would you verify it experimentally?\n",
        "\n",
        "*ANSWER HERE*\n",
        "\n",
        "4.a : Attention mechanism in a sequence to sequence neural network allows the network to focus (attend) to the part of the encoder that is relevant, in this case which part of the sentence to focus to answer the answer.\n",
        " \n",
        "4.b : The average lengh of sentences (input) for babi tasks are relativilly short and we may not need to use attention in this setting.\n",
        "\n",
        "\n",
        "---\n",
        "- **4.c.** Train a seq2seq on bAbI task 1 (10k) and compare its results to the baselines.\n",
        "   (*hint: for faster training use the following arguments `--batchsize 32 --numthreads 1 --num-epochs 5 --hiddensize 64 --embeddingsize 64 --numlayers 1 --decoder shared`)\n"
      ]
    },
    {
      "cell_type": "code",
      "metadata": {
        "colab_type": "code",
        "id": "VIpwQj4NpY5s",
        "outputId": "4225bb03-796d-4393-e489-26342d77c48b",
        "colab": {
          "base_uri": "https://localhost:8080/",
          "height": 1000
        }
      },
      "source": [
        "# FILL THIS CELL\n",
        "!python ~/ParlAI/examples/train_model.py --task babi:task10k:1 --model seq2seq  --model-file /tmp/babi_s2s --batchsize 32 --numthreads 1 --num-epochs 5 --hiddensize 64 --embeddingsize 64 --numlayers 1 --decoder shared"
      ],
      "execution_count": 0,
      "outputs": [
        {
          "output_type": "stream",
          "text": [
            "[ Main ParlAI Arguments: ] \n",
            "[  batchsize: 32 ]\n",
            "[  datapath: /root/ParlAI/data ]\n",
            "[  datatype: train ]\n",
            "[  download_path: /root/ParlAI/downloads ]\n",
            "[  hide_labels: False ]\n",
            "[  image_mode: raw ]\n",
            "[  multitask_weights: [1] ]\n",
            "[  numthreads: 1 ]\n",
            "[  show_advanced_args: False ]\n",
            "[  task: babi:task10k:1 ]\n",
            "[ ParlAI Model Arguments: ] \n",
            "[  dict_class: parlai.core.dict:DictionaryAgent ]\n",
            "[  init_model: None ]\n",
            "[  model: seq2seq ]\n",
            "[  model_file: /tmp/babi_s2s ]\n",
            "[ Training Loop Arguments: ] \n",
            "[  dict_build_first: True ]\n",
            "[  display_examples: False ]\n",
            "[  eval_batchsize: None ]\n",
            "[  evaltask: None ]\n",
            "[  load_from_checkpoint: False ]\n",
            "[  max_train_time: -1 ]\n",
            "[  num_epochs: 5.0 ]\n",
            "[  save_after_valid: False ]\n",
            "[  save_every_n_secs: -1 ]\n",
            "[  validation_cutoff: 1.0 ]\n",
            "[  validation_every_n_epochs: -1 ]\n",
            "[  validation_every_n_secs: -1 ]\n",
            "[  validation_max_exs: -1 ]\n",
            "[  validation_metric: accuracy ]\n",
            "[  validation_metric_mode: None ]\n",
            "[  validation_patience: 10 ]\n",
            "[  validation_share_agent: False ]\n",
            "[ Tensorboard Arguments: ] \n",
            "[  tensorboard_comment:  ]\n",
            "[  tensorboard_log: False ]\n",
            "[  tensorboard_metrics: None ]\n",
            "[  tensorboard_tag: None ]\n",
            "[ PytorchData Arguments: ] \n",
            "[  batch_length_range: 5 ]\n",
            "[  batch_sort_cache_type: pop ]\n",
            "[  batch_sort_field: text ]\n",
            "[  numworkers: 4 ]\n",
            "[  pytorch_context_length: -1 ]\n",
            "[  pytorch_datapath: None ]\n",
            "[  pytorch_include_labels: True ]\n",
            "[  pytorch_preprocess: False ]\n",
            "[  pytorch_teacher_batch_sort: False ]\n",
            "[  pytorch_teacher_dataset: None ]\n",
            "[  pytorch_teacher_task: None ]\n",
            "[  shuffle: False ]\n",
            "[ Dictionary Loop Arguments: ] \n",
            "[  dict_include_test: False ]\n",
            "[  dict_include_valid: False ]\n",
            "[  dict_maxexs: -1 ]\n",
            "[  log_every_n_secs: 2 ]\n",
            "[ ParlAI Image Preprocessing Arguments: ] \n",
            "[  image_cropsize: 224 ]\n",
            "[  image_size: 256 ]\n",
            "[ Seq2Seq Arguments: ] \n",
            "[  attention: none ]\n",
            "[  attention_length: 48 ]\n",
            "[  attention_time: post ]\n",
            "[  bidirectional: False ]\n",
            "[  decoder: shared ]\n",
            "[  dropout: 0.1 ]\n",
            "[  embeddingsize: 64 ]\n",
            "[  hiddensize: 64 ]\n",
            "[  input_dropout: 0.0 ]\n",
            "[  lookuptable: unique ]\n",
            "[  numlayers: 1 ]\n",
            "[  numsoftmax: 1 ]\n",
            "[  rnn_class: lstm ]\n",
            "[ Torch Generator Agent: ] \n",
            "[  beam_block_ngram: 0 ]\n",
            "[  beam_dot_log: False ]\n",
            "[  beam_min_length: 1 ]\n",
            "[  beam_min_n_best: 3 ]\n",
            "[  beam_size: 1 ]\n",
            "[  skip_generation: False ]\n",
            "[ TorchAgent Arguments: ] \n",
            "[  add_p1_after_newln: False ]\n",
            "[  betas: (0.9, 0.999) ]\n",
            "[  delimiter: \n",
            " ]\n",
            "[  embedding_projection: random ]\n",
            "[  embedding_type: random ]\n",
            "[  gpu: -1 ]\n",
            "[  gradient_clip: 0.1 ]\n",
            "[  history_size: -1 ]\n",
            "[  label_truncate: None ]\n",
            "[  learningrate: 1 ]\n",
            "[  lr_scheduler: reduceonplateau ]\n",
            "[  lr_scheduler_decay: 0.5 ]\n",
            "[  lr_scheduler_patience: 3 ]\n",
            "[  momentum: 0 ]\n",
            "[  nesterov: True ]\n",
            "[  no_cuda: False ]\n",
            "[  nus: (0.7,) ]\n",
            "[  optimizer: sgd ]\n",
            "[  person_tokens: False ]\n",
            "[  rank_candidates: False ]\n",
            "[  split_lines: False ]\n",
            "[  text_truncate: None ]\n",
            "[  truncate: -1 ]\n",
            "[  update_freq: -1 ]\n",
            "[  use_reply: label ]\n",
            "[  warmup_rate: 0.0001 ]\n",
            "[  warmup_updates: -1 ]\n",
            "[ Dictionary Arguments: ] \n",
            "[  bpe_debug: False ]\n",
            "[  dict_endtoken: __end__ ]\n",
            "[  dict_file: None ]\n",
            "[  dict_initpath: None ]\n",
            "[  dict_language: english ]\n",
            "[  dict_lower: False ]\n",
            "[  dict_max_ngram_size: -1 ]\n",
            "[  dict_maxtokens: -1 ]\n",
            "[  dict_minfreq: 0 ]\n",
            "[  dict_nulltoken: __null__ ]\n",
            "[  dict_starttoken: __start__ ]\n",
            "[  dict_textfields: text,labels ]\n",
            "[  dict_tokenizer: re ]\n",
            "[  dict_unktoken: __unk__ ]\n",
            "[ building dictionary first... ]\n",
            "[creating task(s): babi:task10k:1]\n",
            "[ running dictionary over data.. ]\n",
            "Building dictionary:   0% 0.00/9.00k [00:00<?, ?ex/s][loading fbdialog data:/root/ParlAI/data/bAbI/tasks_1-20_v1-2/en-valid-10k-nosf/qa1_train.txt]\n",
            "Building dictionary:  81% 7.26k/9.00k [00:00<00:00, 24.1kex/s][loading fbdialog data:/root/ParlAI/data/bAbI/tasks_1-20_v1-2/en-valid-10k-nosf/qa1_train.txt]\n",
            "Building dictionary: 100% 9.00k/9.00k [00:00<00:00, 24.3kex/s]\n",
            "Dictionary: saving dictionary to /tmp/babi_s2s.dict\n",
            "[ dictionary built with 26 tokens in 0s ]\n",
            "[ no model with opt yet at: /tmp/babi_s2s(.opt) ]\n",
            "Dictionary: loading dictionary from /tmp/babi_s2s.dict\n",
            "[ num words =  26 ]\n",
            "/usr/local/lib/python3.6/dist-packages/torch/nn/_reduction.py:43: UserWarning: size_average and reduce args will be deprecated, please use reduction='sum' instead.\n",
            "  warnings.warn(warning.format(ret))\n",
            "[creating task(s): babi:task10k:1]\n",
            "[loading fbdialog data:/root/ParlAI/data/bAbI/tasks_1-20_v1-2/en-valid-10k-nosf/qa1_train.txt]\n",
            "[ training... ]\n",
            "[ time:2.0s total_exs:384 epochs:0.04 time_left:238.0s ] {'exs': 384, 'lr': 1, 'num_updates': 12, 'loss': 24.52, 'token_acc': 0.4414, 'nll_loss': 2.043, 'ppl': 7.718}\n",
            "[ time:4.0s total_exs:896 epochs:0.1 time_left:204.0s ] {'exs': 512, 'lr': 1, 'num_updates': 28, 'loss': 18.73, 'token_acc': 0.5752, 'nll_loss': 1.17, 'ppl': 3.223}\n",
            "[ time:6.0s total_exs:1408 epochs:0.16 time_left:193.0s ] {'exs': 512, 'lr': 1, 'num_updates': 44, 'loss': 17.04, 'token_acc': 0.5869, 'nll_loss': 1.065, 'ppl': 2.9}\n",
            "[ time:8.0s total_exs:1920 epochs:0.21 time_left:189.0s ] {'exs': 512, 'lr': 1, 'num_updates': 60, 'loss': 16.61, 'token_acc': 0.5977, 'nll_loss': 1.038, 'ppl': 2.824}\n",
            "[ time:10.0s total_exs:2496 epochs:0.28 time_left:178.0s ] {'exs': 576, 'lr': 1, 'num_updates': 78, 'loss': 18.69, 'token_acc': 0.5868, 'nll_loss': 1.038, 'ppl': 2.824}\n",
            "[ time:12.0s total_exs:3040 epochs:0.34 time_left:176.0s ] {'exs': 544, 'lr': 1, 'num_updates': 95, 'loss': 17.13, 'token_acc': 0.5928, 'nll_loss': 1.007, 'ppl': 2.739}\n",
            "[ time:14.0s total_exs:3616 epochs:0.4 time_left:170.0s ] {'exs': 576, 'lr': 1, 'num_updates': 113, 'loss': 17.95, 'token_acc': 0.6033, 'nll_loss': 0.9975, 'ppl': 2.711}\n",
            "[ time:16.0s total_exs:4160 epochs:0.46 time_left:167.0s ] {'exs': 544, 'lr': 1, 'num_updates': 130, 'loss': 17.13, 'token_acc': 0.5754, 'nll_loss': 1.008, 'ppl': 2.739}\n",
            "[ time:18.0s total_exs:4768 epochs:0.53 time_left:160.0s ] {'exs': 608, 'lr': 1, 'num_updates': 149, 'loss': 19.14, 'token_acc': 0.5765, 'nll_loss': 1.008, 'ppl': 2.739}\n",
            "[ time:21.0s total_exs:5280 epochs:0.59 time_left:159.0s ] {'exs': 512, 'lr': 1, 'num_updates': 165, 'loss': 15.91, 'token_acc': 0.5752, 'nll_loss': 0.9944, 'ppl': 2.703}\n",
            "[ time:23.0s total_exs:5888 epochs:0.65 time_left:154.0s ] {'exs': 608, 'lr': 1, 'num_updates': 184, 'loss': 18.45, 'token_acc': 0.5938, 'nll_loss': 0.9711, 'ppl': 2.641}\n",
            "[ time:25.0s total_exs:6400 epochs:0.71 time_left:152.0s ] {'exs': 512, 'lr': 1, 'num_updates': 200, 'loss': 15.57, 'token_acc': 0.5947, 'nll_loss': 0.9729, 'ppl': 2.646}\n",
            "[ time:27.0s total_exs:6976 epochs:0.78 time_left:149.0s ] {'exs': 576, 'lr': 1, 'num_updates': 218, 'loss': 17.66, 'token_acc': 0.5903, 'nll_loss': 0.9809, 'ppl': 2.667}\n",
            "[ time:29.0s total_exs:7520 epochs:0.84 time_left:147.0s ] {'exs': 544, 'lr': 1, 'num_updates': 235, 'loss': 16.52, 'token_acc': 0.5892, 'nll_loss': 0.9717, 'ppl': 2.642}\n",
            "[ time:31.0s total_exs:8128 epochs:0.9 time_left:143.0s ] {'exs': 608, 'lr': 1, 'num_updates': 254, 'loss': 18.28, 'token_acc': 0.597, 'nll_loss': 0.9622, 'ppl': 2.617}\n",
            "[ time:33.0s total_exs:8640 epochs:0.96 time_left:142.0s ] {'exs': 512, 'lr': 1, 'num_updates': 270, 'loss': 15.28, 'token_acc': 0.5889, 'nll_loss': 0.955, 'ppl': 2.599}\n",
            "[ time:35.0s total_exs:9248 epochs:1.03 time_left:139.0s ] {'exs': 608, 'lr': 1, 'num_updates': 289, 'loss': 18.27, 'token_acc': 0.5896, 'nll_loss': 0.9614, 'ppl': 2.615}\n",
            "[ time:37.0s total_exs:9760 epochs:1.08 time_left:137.0s ] {'exs': 512, 'lr': 1, 'num_updates': 305, 'loss': 15.07, 'token_acc': 0.6016, 'nll_loss': 0.9416, 'ppl': 2.564}\n",
            "[ time:39.0s total_exs:10368 epochs:1.15 time_left:134.0s ] {'exs': 608, 'lr': 1, 'num_updates': 324, 'loss': 17.96, 'token_acc': 0.6012, 'nll_loss': 0.9453, 'ppl': 2.574}\n",
            "[ time:41.0s total_exs:10880 epochs:1.21 time_left:132.0s ] {'exs': 512, 'lr': 1, 'num_updates': 340, 'loss': 14.91, 'token_acc': 0.6104, 'nll_loss': 0.9316, 'ppl': 2.539}\n",
            "[ time:44.0s total_exs:11488 epochs:1.28 time_left:129.0s ] {'exs': 608, 'lr': 1, 'num_updates': 359, 'loss': 17.4, 'token_acc': 0.6192, 'nll_loss': 0.9159, 'ppl': 2.499}\n",
            "[ time:46.0s total_exs:12000 epochs:1.33 time_left:127.0s ] {'exs': 512, 'lr': 1, 'num_updates': 375, 'loss': 14.36, 'token_acc': 0.6328, 'nll_loss': 0.8976, 'ppl': 2.454}\n",
            "[ time:48.0s total_exs:12608 epochs:1.4 time_left:125.0s ] {'exs': 608, 'lr': 1, 'num_updates': 394, 'loss': 16.31, 'token_acc': 0.653, 'nll_loss': 0.8582, 'ppl': 2.359}\n",
            "[ time:50.0s total_exs:13120 epochs:1.46 time_left:123.0s ] {'exs': 512, 'lr': 1, 'num_updates': 410, 'loss': 14.3, 'token_acc': 0.6445, 'nll_loss': 0.8936, 'ppl': 2.444}\n",
            "[ time:52.0s total_exs:13696 epochs:1.52 time_left:120.0s ] {'exs': 576, 'lr': 1, 'num_updates': 428, 'loss': 15.17, 'token_acc': 0.6693, 'nll_loss': 0.8428, 'ppl': 2.323}\n",
            "[ time:54.0s total_exs:14208 epochs:1.58 time_left:119.0s ] {'exs': 512, 'lr': 1, 'num_updates': 444, 'loss': 13.55, 'token_acc': 0.6709, 'nll_loss': 0.847, 'ppl': 2.333}\n",
            "[ time:56.0s total_exs:14720 epochs:1.64 time_left:117.0s ] {'exs': 512, 'lr': 1, 'num_updates': 460, 'loss': 12.88, 'token_acc': 0.7148, 'nll_loss': 0.8051, 'ppl': 2.237}\n",
            "[ time:58.0s total_exs:15328 epochs:1.7 time_left:114.0s ] {'exs': 608, 'lr': 1, 'num_updates': 479, 'loss': 15.05, 'token_acc': 0.7138, 'nll_loss': 0.792, 'ppl': 2.208}\n",
            "[ time:60.0s total_exs:15840 epochs:1.76 time_left:112.0s ] {'exs': 512, 'lr': 1, 'num_updates': 495, 'loss': 13.14, 'token_acc': 0.7002, 'nll_loss': 0.8212, 'ppl': 2.273}\n",
            "[ time:62.0s total_exs:16416 epochs:1.82 time_left:110.0s ] {'exs': 576, 'lr': 1, 'num_updates': 513, 'loss': 14.85, 'token_acc': 0.691, 'nll_loss': 0.825, 'ppl': 2.282}\n",
            "[ time:64.0s total_exs:16960 epochs:1.88 time_left:108.0s ] {'exs': 544, 'lr': 1, 'num_updates': 530, 'loss': 14.14, 'token_acc': 0.6967, 'nll_loss': 0.8319, 'ppl': 2.298}\n",
            "[ time:67.0s total_exs:17536 epochs:1.95 time_left:106.0s ] {'exs': 576, 'lr': 1, 'num_updates': 548, 'loss': 14.32, 'token_acc': 0.7109, 'nll_loss': 0.7956, 'ppl': 2.216}\n",
            "[ time:69.0s total_exs:18080 epochs:2.01 time_left:104.0s ] {'exs': 544, 'lr': 1, 'num_updates': 565, 'loss': 12.8, 'token_acc': 0.7252, 'nll_loss': 0.7531, 'ppl': 2.124}\n",
            "[ time:71.0s total_exs:18656 epochs:2.07 time_left:101.0s ] {'exs': 576, 'lr': 1, 'num_updates': 583, 'loss': 14.21, 'token_acc': 0.7127, 'nll_loss': 0.7894, 'ppl': 2.202}\n",
            "[ time:73.0s total_exs:19168 epochs:2.13 time_left:99.0s ] {'exs': 512, 'lr': 1, 'num_updates': 599, 'loss': 11.96, 'token_acc': 0.7344, 'nll_loss': 0.7477, 'ppl': 2.112}\n",
            "[ time:75.0s total_exs:19680 epochs:2.19 time_left:97.0s ] {'exs': 512, 'lr': 1, 'num_updates': 615, 'loss': 12.56, 'token_acc': 0.709, 'nll_loss': 0.7853, 'ppl': 2.193}\n",
            "[ time:77.0s total_exs:20256 epochs:2.25 time_left:95.0s ] {'exs': 576, 'lr': 1, 'num_updates': 633, 'loss': 13.88, 'token_acc': 0.7057, 'nll_loss': 0.7712, 'ppl': 2.162}\n",
            "[ time:79.0s total_exs:20800 epochs:2.31 time_left:93.0s ] {'exs': 544, 'lr': 1, 'num_updates': 650, 'loss': 13.19, 'token_acc': 0.716, 'nll_loss': 0.776, 'ppl': 2.173}\n",
            "[ time:81.0s total_exs:21408 epochs:2.38 time_left:90.0s ] {'exs': 608, 'lr': 1, 'num_updates': 669, 'loss': 14.39, 'token_acc': 0.7385, 'nll_loss': 0.7573, 'ppl': 2.133}\n",
            "[ time:83.0s total_exs:21920 epochs:2.44 time_left:89.0s ] {'exs': 512, 'lr': 1, 'num_updates': 685, 'loss': 12.49, 'token_acc': 0.7031, 'nll_loss': 0.7805, 'ppl': 2.183}\n",
            "[ time:85.0s total_exs:22496 epochs:2.5 time_left:86.0s ] {'exs': 576, 'lr': 1, 'num_updates': 703, 'loss': 13.53, 'token_acc': 0.7248, 'nll_loss': 0.7519, 'ppl': 2.121}\n",
            "[ time:88.0s total_exs:23040 epochs:2.56 time_left:84.0s ] {'exs': 544, 'lr': 1, 'num_updates': 720, 'loss': 13.36, 'token_acc': 0.7169, 'nll_loss': 0.7856, 'ppl': 2.194}\n",
            "[ time:90.0s total_exs:23616 epochs:2.62 time_left:82.0s ] {'exs': 576, 'lr': 1, 'num_updates': 738, 'loss': 13.15, 'token_acc': 0.7396, 'nll_loss': 0.7308, 'ppl': 2.077}\n",
            "[ time:92.0s total_exs:24160 epochs:2.68 time_left:80.0s ] {'exs': 544, 'lr': 1, 'num_updates': 755, 'loss': 12.17, 'token_acc': 0.7353, 'nll_loss': 0.7159, 'ppl': 2.046}\n",
            "[ time:94.0s total_exs:24736 epochs:2.75 time_left:78.0s ] {'exs': 576, 'lr': 1, 'num_updates': 773, 'loss': 13.21, 'token_acc': 0.7422, 'nll_loss': 0.7339, 'ppl': 2.083}\n",
            "[ time:96.0s total_exs:25248 epochs:2.81 time_left:76.0s ] {'exs': 512, 'lr': 1, 'num_updates': 789, 'loss': 11.56, 'token_acc': 0.7412, 'nll_loss': 0.7228, 'ppl': 2.06}\n",
            "[ time:98.0s total_exs:25760 epochs:2.86 time_left:74.0s ] {'exs': 512, 'lr': 1, 'num_updates': 805, 'loss': 11.0, 'token_acc': 0.7617, 'nll_loss': 0.6876, 'ppl': 1.989}\n",
            "[ time:100.0s total_exs:26368 epochs:2.93 time_left:72.0s ] {'exs': 608, 'lr': 1, 'num_updates': 824, 'loss': 13.3, 'token_acc': 0.7484, 'nll_loss': 0.6998, 'ppl': 2.013}\n",
            "[ time:102.0s total_exs:26880 epochs:2.99 time_left:70.0s ] {'exs': 512, 'lr': 1, 'num_updates': 840, 'loss': 11.64, 'token_acc': 0.7363, 'nll_loss': 0.7276, 'ppl': 2.07}\n",
            "[ time:104.0s total_exs:27456 epochs:3.05 time_left:67.0s ] {'exs': 576, 'lr': 1, 'num_updates': 858, 'loss': 12.18, 'token_acc': 0.7639, 'nll_loss': 0.6767, 'ppl': 1.967}\n",
            "[ time:106.0s total_exs:28000 epochs:3.11 time_left:65.0s ] {'exs': 544, 'lr': 1, 'num_updates': 875, 'loss': 12.0, 'token_acc': 0.7399, 'nll_loss': 0.7058, 'ppl': 2.026}\n",
            "[ time:109.0s total_exs:28576 epochs:3.18 time_left:63.0s ] {'exs': 576, 'lr': 1, 'num_updates': 893, 'loss': 12.64, 'token_acc': 0.7517, 'nll_loss': 0.7021, 'ppl': 2.018}\n",
            "[ time:111.0s total_exs:29120 epochs:3.24 time_left:61.0s ] {'exs': 544, 'lr': 1, 'num_updates': 910, 'loss': 11.75, 'token_acc': 0.7472, 'nll_loss': 0.6914, 'ppl': 1.996}\n",
            "[ time:113.0s total_exs:29728 epochs:3.3 time_left:59.0s ] {'exs': 608, 'lr': 1, 'num_updates': 929, 'loss': 13.14, 'token_acc': 0.7525, 'nll_loss': 0.6918, 'ppl': 1.997}\n",
            "[ time:115.0s total_exs:30304 epochs:3.37 time_left:56.0s ] {'exs': 576, 'lr': 1, 'num_updates': 947, 'loss': 11.95, 'token_acc': 0.7535, 'nll_loss': 0.6641, 'ppl': 1.943}\n",
            "[ time:117.0s total_exs:30848 epochs:3.43 time_left:54.0s ] {'exs': 544, 'lr': 1, 'num_updates': 964, 'loss': 11.78, 'token_acc': 0.7472, 'nll_loss': 0.6932, 'ppl': 2.0}\n",
            "[ time:119.0s total_exs:31360 epochs:3.48 time_left:53.0s ] {'exs': 512, 'lr': 1, 'num_updates': 980, 'loss': 11.66, 'token_acc': 0.7422, 'nll_loss': 0.7289, 'ppl': 2.073}\n",
            "[ time:121.0s total_exs:31936 epochs:3.55 time_left:50.0s ] {'exs': 576, 'lr': 1, 'num_updates': 998, 'loss': 11.51, 'token_acc': 0.7665, 'nll_loss': 0.6394, 'ppl': 1.895}\n",
            "[ time:123.0s total_exs:32448 epochs:3.61 time_left:48.0s ] {'exs': 512, 'lr': 1, 'num_updates': 1014, 'loss': 11.22, 'token_acc': 0.7393, 'nll_loss': 0.7011, 'ppl': 2.016}\n",
            "[ time:125.0s total_exs:32960 epochs:3.66 time_left:46.0s ] {'exs': 512, 'lr': 1, 'num_updates': 1030, 'loss': 10.5, 'token_acc': 0.7617, 'nll_loss': 0.6561, 'ppl': 1.927}\n",
            "[ time:127.0s total_exs:33536 epochs:3.73 time_left:44.0s ] {'exs': 576, 'lr': 1, 'num_updates': 1048, 'loss': 11.56, 'token_acc': 0.7561, 'nll_loss': 0.6425, 'ppl': 1.901}\n",
            "[ time:129.0s total_exs:34080 epochs:3.79 time_left:42.0s ] {'exs': 544, 'lr': 1, 'num_updates': 1065, 'loss': 11.76, 'token_acc': 0.7564, 'nll_loss': 0.6919, 'ppl': 1.998}\n",
            "[ time:131.0s total_exs:34688 epochs:3.85 time_left:40.0s ] {'exs': 608, 'lr': 1, 'num_updates': 1084, 'loss': 12.67, 'token_acc': 0.7549, 'nll_loss': 0.6666, 'ppl': 1.948}\n",
            "[ time:134.0s total_exs:35232 epochs:3.91 time_left:38.0s ] {'exs': 544, 'lr': 1, 'num_updates': 1101, 'loss': 11.21, 'token_acc': 0.7665, 'nll_loss': 0.6591, 'ppl': 1.933}\n",
            "[ time:136.0s total_exs:35808 epochs:3.98 time_left:35.0s ] {'exs': 576, 'lr': 1, 'num_updates': 1119, 'loss': 11.81, 'token_acc': 0.763, 'nll_loss': 0.6563, 'ppl': 1.928}\n",
            "[ time:138.0s total_exs:36320 epochs:4.04 time_left:33.0s ] {'exs': 512, 'lr': 1, 'num_updates': 1135, 'loss': 10.59, 'token_acc': 0.7646, 'nll_loss': 0.662, 'ppl': 1.939}\n",
            "[ time:140.0s total_exs:36928 epochs:4.1 time_left:31.0s ] {'exs': 608, 'lr': 1, 'num_updates': 1154, 'loss': 13.04, 'token_acc': 0.7442, 'nll_loss': 0.6862, 'ppl': 1.986}\n",
            "[ time:142.0s total_exs:37472 epochs:4.16 time_left:29.0s ] {'exs': 544, 'lr': 1, 'num_updates': 1171, 'loss': 10.97, 'token_acc': 0.7583, 'nll_loss': 0.6454, 'ppl': 1.907}\n",
            "[ time:144.0s total_exs:38048 epochs:4.23 time_left:27.0s ] {'exs': 576, 'lr': 1, 'num_updates': 1189, 'loss': 11.72, 'token_acc': 0.763, 'nll_loss': 0.6509, 'ppl': 1.917}\n",
            "[ time:146.0s total_exs:38560 epochs:4.28 time_left:25.0s ] {'exs': 512, 'lr': 1, 'num_updates': 1205, 'loss': 10.66, 'token_acc': 0.7412, 'nll_loss': 0.6661, 'ppl': 1.947}\n",
            "[ time:148.0s total_exs:39168 epochs:4.35 time_left:23.0s ] {'exs': 608, 'lr': 1, 'num_updates': 1224, 'loss': 12.17, 'token_acc': 0.7599, 'nll_loss': 0.6403, 'ppl': 1.897}\n",
            "[ time:150.0s total_exs:39680 epochs:4.41 time_left:21.0s ] {'exs': 512, 'lr': 1, 'num_updates': 1240, 'loss': 10.5, 'token_acc': 0.7529, 'nll_loss': 0.6564, 'ppl': 1.928}\n",
            "[ time:152.0s total_exs:40256 epochs:4.47 time_left:18.0s ] {'exs': 576, 'lr': 1, 'num_updates': 1258, 'loss': 11.86, 'token_acc': 0.7283, 'nll_loss': 0.6592, 'ppl': 1.933}\n",
            "[ time:154.0s total_exs:40768 epochs:4.53 time_left:17.0s ] {'exs': 512, 'lr': 1, 'num_updates': 1274, 'loss': 10.04, 'token_acc': 0.7607, 'nll_loss': 0.6276, 'ppl': 1.873}\n",
            "[ time:156.0s total_exs:41280 epochs:4.59 time_left:15.0s ] {'exs': 512, 'lr': 1, 'num_updates': 1290, 'loss': 11.01, 'token_acc': 0.7422, 'nll_loss': 0.6884, 'ppl': 1.991}\n",
            "[ time:158.0s total_exs:41856 epochs:4.65 time_left:12.0s ] {'exs': 576, 'lr': 1, 'num_updates': 1308, 'loss': 11.65, 'token_acc': 0.7483, 'nll_loss': 0.647, 'ppl': 1.91}\n",
            "[ time:160.0s total_exs:42368 epochs:4.71 time_left:10.0s ] {'exs': 512, 'lr': 1, 'num_updates': 1324, 'loss': 10.95, 'token_acc': 0.7295, 'nll_loss': 0.6846, 'ppl': 1.983}\n",
            "[ time:162.0s total_exs:42880 epochs:4.76 time_left:9.0s ] {'exs': 512, 'lr': 1, 'num_updates': 1340, 'loss': 10.56, 'token_acc': 0.7363, 'nll_loss': 0.6602, 'ppl': 1.935}\n",
            "[ time:164.0s total_exs:43488 epochs:4.83 time_left:6.0s ] {'exs': 608, 'lr': 1, 'num_updates': 1359, 'loss': 12.52, 'token_acc': 0.7418, 'nll_loss': 0.6591, 'ppl': 1.933}\n",
            "[ time:166.0s total_exs:44000 epochs:4.89 time_left:4.0s ] {'exs': 512, 'lr': 1, 'num_updates': 1375, 'loss': 10.23, 'token_acc': 0.7656, 'nll_loss': 0.6393, 'ppl': 1.895}\n",
            "[ time:169.0s total_exs:44576 epochs:4.95 time_left:2.0s ] {'exs': 576, 'lr': 1, 'num_updates': 1393, 'loss': 11.04, 'token_acc': 0.7543, 'nll_loss': 0.6133, 'ppl': 1.847}\n",
            "[ time:170.0s total_exs:45024 epochs:5.0 time_left:0s ] {'exs': 448, 'lr': 1, 'num_updates': 1407, 'loss': 8.83, 'token_acc': 0.7511, 'nll_loss': 0.6307, 'ppl': 1.879}\n",
            "[ num_epochs completed:5.0 time elapsed:170.78325295448303s ]\n",
            "[creating task(s): babi:task10k:1]\n",
            "[loading fbdialog data:/root/ParlAI/data/bAbI/tasks_1-20_v1-2/en-valid-10k-nosf/qa1_valid.txt]\n",
            "[ running eval: valid ]\n",
            "valid:{'exs': 1000, 'accuracy': 0.51, 'f1': 0.51, 'bleu': 5.1e-10, 'lr': 1, 'num_updates': 1407, 'loss': 21.83, 'token_acc': 0.755, 'nll_loss': 0.614, 'ppl': 1.848}\n",
            "[creating task(s): babi:task10k:1]\n",
            "[loading fbdialog data:/root/ParlAI/data/bAbI/tasks_1-20_v1-2/en-valid-10k-nosf/qa1_test.txt]\n",
            "[ running eval: test ]\n",
            "test:{'exs': 1000, 'accuracy': 0.505, 'f1': 0.505, 'bleu': 5.05e-10, 'lr': 1, 'num_updates': 1407, 'loss': 22.02, 'token_acc': 0.7525, 'nll_loss': 0.6315, 'ppl': 1.88}\n"
          ],
          "name": "stdout"
        }
      ]
    },
    {
      "cell_type": "code",
      "metadata": {
        "colab_type": "code",
        "id": "OvxjgtEHTXFb",
        "outputId": "436a9988-74e1-4d04-ca86-a52d4e5cc045",
        "colab": {
          "base_uri": "https://localhost:8080/",
          "height": 1000
        }
      },
      "source": [
        "!python ~/ParlAI/examples/display_model.py --task babi:task10k:1 --model seq2seq --model-file /tmp/babi_s2s"
      ],
      "execution_count": 0,
      "outputs": [
        {
          "output_type": "stream",
          "text": [
            "[ optional arguments: ] \n",
            "[  display_ignore_fields:  ]\n",
            "[  num_examples: 10 ]\n",
            "[ Main ParlAI Arguments: ] \n",
            "[  batchsize: 1 ]\n",
            "[  datapath: /root/ParlAI/data ]\n",
            "[  datatype: valid ]\n",
            "[  download_path: /root/ParlAI/downloads ]\n",
            "[  hide_labels: False ]\n",
            "[  image_mode: raw ]\n",
            "[  multitask_weights: [1] ]\n",
            "[  numthreads: 1 ]\n",
            "[  show_advanced_args: False ]\n",
            "[  task: babi:task10k:1 ]\n",
            "[ ParlAI Model Arguments: ] \n",
            "[  dict_class: parlai.core.dict:DictionaryAgent ]\n",
            "[  init_model: None ]\n",
            "[  model: seq2seq ]\n",
            "[  model_file: /tmp/babi_s2s ]\n",
            "[ ParlAI Image Preprocessing Arguments: ] \n",
            "[  image_cropsize: 224 ]\n",
            "[  image_size: 256 ]\n",
            "[ Seq2Seq Arguments: ] \n",
            "[  attention: none ]\n",
            "[  attention_length: 48 ]\n",
            "[  attention_time: post ]\n",
            "[  bidirectional: False ]\n",
            "[  decoder: same ]\n",
            "[  dropout: 0.1 ]\n",
            "[  embeddingsize: 128 ]\n",
            "[  hiddensize: 128 ]\n",
            "[  input_dropout: 0.0 ]\n",
            "[  lookuptable: unique ]\n",
            "[  numlayers: 2 ]\n",
            "[  numsoftmax: 1 ]\n",
            "[  rnn_class: lstm ]\n",
            "[ Torch Generator Agent: ] \n",
            "[  beam_block_ngram: 0 ]\n",
            "[  beam_dot_log: False ]\n",
            "[  beam_min_length: 1 ]\n",
            "[  beam_min_n_best: 3 ]\n",
            "[  beam_size: 1 ]\n",
            "[  skip_generation: False ]\n",
            "[ TorchAgent Arguments: ] \n",
            "[  add_p1_after_newln: False ]\n",
            "[  betas: (0.9, 0.999) ]\n",
            "[  delimiter: \n",
            " ]\n",
            "[  embedding_projection: random ]\n",
            "[  embedding_type: random ]\n",
            "[  gpu: -1 ]\n",
            "[  gradient_clip: 0.1 ]\n",
            "[  history_size: -1 ]\n",
            "[  label_truncate: None ]\n",
            "[  learningrate: 1 ]\n",
            "[  lr_scheduler: reduceonplateau ]\n",
            "[  lr_scheduler_decay: 0.5 ]\n",
            "[  lr_scheduler_patience: 3 ]\n",
            "[  momentum: 0 ]\n",
            "[  nesterov: True ]\n",
            "[  no_cuda: False ]\n",
            "[  nus: (0.7,) ]\n",
            "[  optimizer: sgd ]\n",
            "[  person_tokens: False ]\n",
            "[  rank_candidates: False ]\n",
            "[  split_lines: False ]\n",
            "[  text_truncate: None ]\n",
            "[  truncate: -1 ]\n",
            "[  update_freq: -1 ]\n",
            "[  use_reply: label ]\n",
            "[  warmup_rate: 0.0001 ]\n",
            "[  warmup_updates: -1 ]\n",
            "[ Dictionary Arguments: ] \n",
            "[  bpe_debug: False ]\n",
            "[  dict_endtoken: __end__ ]\n",
            "[  dict_file: None ]\n",
            "[  dict_initpath: None ]\n",
            "[  dict_language: english ]\n",
            "[  dict_lower: False ]\n",
            "[  dict_max_ngram_size: -1 ]\n",
            "[  dict_maxtokens: -1 ]\n",
            "[  dict_minfreq: 0 ]\n",
            "[  dict_nulltoken: __null__ ]\n",
            "[  dict_starttoken: __start__ ]\n",
            "[  dict_textfields: text,labels ]\n",
            "[  dict_tokenizer: re ]\n",
            "[  dict_unktoken: __unk__ ]\n",
            "Dictionary: loading dictionary from /tmp/babi_s2s.dict\n",
            "[ num words =  26 ]\n",
            "/usr/local/lib/python3.6/dist-packages/torch/nn/_reduction.py:43: UserWarning: size_average and reduce args will be deprecated, please use reduction='sum' instead.\n",
            "  warnings.warn(warning.format(ret))\n",
            "[ Loading existing model params from /tmp/babi_s2s ]\n",
            "/root/ParlAI/parlai/core/torch_agent.py:727: UserWarning: LR scheduler is different from saved. Starting fresh!\n",
            "  warn_once(\"LR scheduler is different from saved. Starting fresh!\")\n",
            "[creating task(s): babi:task10k:1]\n",
            "[loading fbdialog data:/root/ParlAI/data/bAbI/tasks_1-20_v1-2/en-valid-10k-nosf/qa1_valid.txt]\n",
            "[eval_labels_choice]: bathroom\n",
            "[babi:task10k:1]: Sandra travelled to the office.\n",
            "Sandra went to the bathroom.\n",
            "Where is Sandra?\n",
            "[label_candidates: hallway|office|kitchen|bathroom|garden|...and 1 more]\n",
            "[eval_labels: bathroom]\n",
            "   [Seq2Seq]: office\n",
            "~~\n",
            "[eval_labels_choice]: bathroom\n",
            "[babi:task10k:1]: Sandra travelled to the office.\n",
            "Sandra went to the bathroom.\n",
            "Where is Sandra?\n",
            "bathroom\n",
            "Mary went to the bedroom.\n",
            "Daniel moved to the hallway.\n",
            "Where is Sandra?\n",
            "[label_candidates: hallway|office|kitchen|bathroom|garden|...and 1 more]\n",
            "[eval_labels: bathroom]\n",
            "   [Seq2Seq]: hallway\n",
            "~~\n",
            "[eval_labels_choice]: bathroom\n",
            "[babi:task10k:1]: Sandra travelled to the office.\n",
            "Sandra went to the bathroom.\n",
            "Where is Sandra?\n",
            "bathroom\n",
            "Mary went to the bedroom.\n",
            "Daniel moved to the hallway.\n",
            "Where is Sandra?\n",
            "bathroom\n",
            "John went to the garden.\n",
            "John travelled to the office.\n",
            "Where is Sandra?\n",
            "[label_candidates: hallway|office|kitchen|bathroom|garden|...and 1 more]\n",
            "[eval_labels: bathroom]\n",
            "   [Seq2Seq]: office\n",
            "~~\n",
            "[eval_labels_choice]: office\n",
            "[babi:task10k:1]: Sandra travelled to the office.\n",
            "Sandra went to the bathroom.\n",
            "Where is Sandra?\n",
            "bathroom\n",
            "Mary went to the bedroom.\n",
            "Daniel moved to the hallway.\n",
            "Where is Sandra?\n",
            "bathroom\n",
            "John went to the garden.\n",
            "John travelled to the office.\n",
            "Where is Sandra?\n",
            "bathroom\n",
            "Daniel journeyed to the bedroom.\n",
            "Daniel travelled to the hallway.\n",
            "Where is John?\n",
            "[label_candidates: hallway|office|kitchen|bathroom|garden|...and 1 more]\n",
            "[eval_labels: office]\n",
            "   [Seq2Seq]: hallway\n",
            "~~\n",
            "[eval_labels_choice]: hallway\n",
            "[babi:task10k:1]: Sandra travelled to the office.\n",
            "Sandra went to the bathroom.\n",
            "Where is Sandra?\n",
            "bathroom\n",
            "Mary went to the bedroom.\n",
            "Daniel moved to the hallway.\n",
            "Where is Sandra?\n",
            "bathroom\n",
            "John went to the garden.\n",
            "John travelled to the office.\n",
            "Where is Sandra?\n",
            "bathroom\n",
            "Daniel journeyed to the bedroom.\n",
            "Daniel travelled to the hallway.\n",
            "Where is John?\n",
            "office\n",
            "John went to the bedroom.\n",
            "John travelled to the office.\n",
            "Where is Daniel?\n",
            "[label_candidates: hallway|office|kitchen|bathroom|garden|...and 1 more]\n",
            "[eval_labels: hallway]\n",
            "   [Seq2Seq]: office\n",
            "- - - - - - - - - - - - - - - - - - - - -\n",
            "~~\n",
            "[eval_labels_choice]: garden\n",
            "[babi:task10k:1]: Sandra went back to the bathroom.\n",
            "Mary moved to the garden.\n",
            "Where is Mary?\n",
            "[label_candidates: hallway|office|kitchen|bathroom|garden|...and 1 more]\n",
            "[eval_labels: garden]\n",
            "   [Seq2Seq]: garden\n",
            "~~\n",
            "[eval_labels_choice]: office\n",
            "[babi:task10k:1]: Sandra went back to the bathroom.\n",
            "Mary moved to the garden.\n",
            "Where is Mary?\n",
            "garden\n",
            "Mary went back to the hallway.\n",
            "Sandra went to the office.\n",
            "Where is Sandra?\n",
            "[label_candidates: hallway|office|kitchen|bathroom|garden|...and 1 more]\n",
            "[eval_labels: office]\n",
            "   [Seq2Seq]: office\n",
            "~~\n",
            "[eval_labels_choice]: office\n",
            "[babi:task10k:1]: Sandra went back to the bathroom.\n",
            "Mary moved to the garden.\n",
            "Where is Mary?\n",
            "garden\n",
            "Mary went back to the hallway.\n",
            "Sandra went to the office.\n",
            "Where is Sandra?\n",
            "office\n",
            "John went back to the hallway.\n",
            "John travelled to the office.\n",
            "Where is Sandra?\n",
            "[label_candidates: hallway|office|kitchen|bathroom|garden|...and 1 more]\n",
            "[eval_labels: office]\n",
            "   [Seq2Seq]: office\n",
            "~~\n",
            "[eval_labels_choice]: office\n",
            "[babi:task10k:1]: Sandra went back to the bathroom.\n",
            "Mary moved to the garden.\n",
            "Where is Mary?\n",
            "garden\n",
            "Mary went back to the hallway.\n",
            "Sandra went to the office.\n",
            "Where is Sandra?\n",
            "office\n",
            "John went back to the hallway.\n",
            "John travelled to the office.\n",
            "Where is Sandra?\n",
            "office\n",
            "Sandra journeyed to the hallway.\n",
            "Daniel moved to the office.\n",
            "Where is John?\n",
            "[label_candidates: hallway|office|kitchen|bathroom|garden|...and 1 more]\n",
            "[eval_labels: office]\n",
            "   [Seq2Seq]: office\n",
            "~~\n",
            "[eval_labels_choice]: office\n",
            "[babi:task10k:1]: Sandra went back to the bathroom.\n",
            "Mary moved to the garden.\n",
            "Where is Mary?\n",
            "garden\n",
            "Mary went back to the hallway.\n",
            "Sandra went to the office.\n",
            "Where is Sandra?\n",
            "office\n",
            "John went back to the hallway.\n",
            "John travelled to the office.\n",
            "Where is Sandra?\n",
            "office\n",
            "Sandra journeyed to the hallway.\n",
            "Daniel moved to the office.\n",
            "Where is John?\n",
            "office\n",
            "Mary went to the office.\n",
            "Sandra went to the office.\n",
            "Where is John?\n",
            "[label_candidates: hallway|office|kitchen|bathroom|garden|...and 1 more]\n",
            "[eval_labels: office]\n",
            "   [Seq2Seq]: office\n",
            "- - - - - - - - - - - - - - - - - - - - -\n",
            "~~\n"
          ],
          "name": "stdout"
        }
      ]
    },
    {
      "cell_type": "markdown",
      "metadata": {
        "colab_type": "text",
        "id": "DaX_GSktxrz1"
      },
      "source": [
        "### Ranking model: memory network\n",
        "\n",
        "We saw in the class that Memory Networks ([Sukhbaatar et al. 15'](https://papers.nips.cc/paper/5846-end-to-end-memory-networks.pdf)) rely on an explicit memory \"database\". this is especially adapted to tasks where a few useful memories are \"hidden\" among distractor memories.  \n",
        "These type of networks worktherefore  especially well for the bAbI tasks by turning the previous dialog turns as memories and the question as the query.  \n",
        "Here is an illustration of how a memory network work:\n",
        "\n",
        "![Memory Network schema](https://raw.githubusercontent.com/louismartin/ammi-2019-bordes-DeepNLP/master/lab1/memory_network.png)\n",
        "\n",
        "\n",
        "---\n",
        "**Question 4**  \n",
        "- **4.d.** Explain how hops work in a memory network (either with words or formulas using the notations of the above figure)\n",
        "- **4.e.** How can a memory network be used to rank multiple candidates?  \n",
        "  (*hint: you can look at the [implementation](https://github.com/facebookresearch/ParlAI/blob/6bd0e58692b3fd3a13b5f654944525ac1b7cd8e3/parlai/agents/memnn/modules.py#L22) of the memory network in ParlAI and especially the `_score()` method. Recall how the IR baseline worked.*)\n",
        "  \n",
        "*ANSWER HERE*\n",
        "  \n",
        "The Hops determine how many time we do the operation question embedding dot memories.\n",
        "\n",
        " \n",
        "---"
      ]
    },
    {
      "cell_type": "markdown",
      "metadata": {
        "colab_type": "text",
        "id": "YHICORdji1Cx"
      },
      "source": [
        "\n",
        "- **4.f.** Using the ParlAI implementation, train a memory network on bAbI tasks 1, 2 and 3 (10k) and compare its results with the baselines.  \n",
        "   (*hint: use a 1 thread, a batch size of 32 and 5 epochs*)\n"
      ]
    },
    {
      "cell_type": "code",
      "metadata": {
        "colab_type": "code",
        "id": "iKeyD3UYsaFs",
        "outputId": "f57604d3-0cb4-4ef3-a72b-d05bfb4f5e23",
        "colab": {
          "base_uri": "https://localhost:8080/",
          "height": 700
        }
      },
      "source": [
        "# FILL CELL\n",
        "for i in range(3):\n",
        "    print(f'~ Task {i+1} ~')\n",
        "    # FILL CODE HERE\n",
        "    print(f'~ Task {i+1} ~')\n",
        "    !python ~/ParlAI/examples/train_model.py -t babi:task10k:{i+1} -m memnn -mf /tmp/babi{i+1}_memnn -bs 32 -eps 5 | grep \"'accuracy':\""
      ],
      "execution_count": 0,
      "outputs": [
        {
          "output_type": "stream",
          "text": [
            "~ Task 1 ~\n",
            "~ Task 1 ~\n",
            "Building dictionary: 100% 9.00k/9.00k [00:00<00:00, 24.0kex/s]\n",
            "/usr/local/lib/python3.6/dist-packages/torch/nn/_reduction.py:43: UserWarning: size_average and reduce args will be deprecated, please use reduction='sum' instead.\n",
            "  warnings.warn(warning.format(ret))\n",
            "/root/ParlAI/parlai/core/torch_ranker_agent.py:376: UserWarning: [ Executing train mode with provided inline set of candidates ]\n",
            "  ''.format(mode)\n",
            "/root/ParlAI/parlai/core/torch_ranker_agent.py:214: UserWarning: Some training metrics are omitted for speed. Set the flag `--train-predict` to calculate train metrics.\n",
            "  \"Some training metrics are omitted for speed. Set the flag \"\n",
            "/root/ParlAI/parlai/core/torch_ranker_agent.py:376: UserWarning: [ Executing eval mode with provided inline set of candidates ]\n",
            "  ''.format(mode)\n",
            "valid:{'exs': 1000, 'accuracy': 0.96, 'f1': 0.96, 'hits@1': 0.96, 'hits@5': 1.0, 'hits@10': 1.0, 'hits@100': 1.0, 'bleu': 9.6e-10, 'lr': 1, 'num_updates': 1407, 'examples': 1000, 'loss': 114.9, 'mean_loss': 0.1149, 'mean_rank': 1.045}\n",
            "test:{'exs': 1000, 'accuracy': 0.964, 'f1': 0.964, 'hits@1': 0.964, 'hits@5': 1.0, 'hits@10': 1.0, 'hits@100': 1.0, 'bleu': 9.64e-10, 'lr': 1, 'num_updates': 1407, 'examples': 1000, 'loss': 97.18, 'mean_loss': 0.09718, 'mean_rank': 1.037}\n",
            "~ Task 2 ~\n",
            "~ Task 2 ~\n",
            "Building dictionary: 100% 9.00k/9.00k [00:00<00:00, 17.5kex/s]\n",
            "/usr/local/lib/python3.6/dist-packages/torch/nn/_reduction.py:43: UserWarning: size_average and reduce args will be deprecated, please use reduction='sum' instead.\n",
            "  warnings.warn(warning.format(ret))\n",
            "/root/ParlAI/parlai/core/torch_ranker_agent.py:376: UserWarning: [ Executing train mode with provided inline set of candidates ]\n",
            "  ''.format(mode)\n",
            "/root/ParlAI/parlai/core/torch_ranker_agent.py:214: UserWarning: Some training metrics are omitted for speed. Set the flag `--train-predict` to calculate train metrics.\n",
            "  \"Some training metrics are omitted for speed. Set the flag \"\n",
            "/root/ParlAI/parlai/core/torch_ranker_agent.py:376: UserWarning: [ Executing eval mode with provided inline set of candidates ]\n",
            "  ''.format(mode)\n",
            "valid:{'exs': 1000, 'accuracy': 0.17, 'f1': 0.17, 'hits@1': 0.17, 'hits@5': 0.845, 'hits@10': 1.0, 'hits@100': 1.0, 'bleu': 1.7e-10, 'lr': 1, 'num_updates': 1407, 'examples': 1000, 'loss': 2067.0, 'mean_loss': 2.067, 'mean_rank': 3.457}\n",
            "test:{'exs': 1000, 'accuracy': 0.169, 'f1': 0.169, 'hits@1': 0.169, 'hits@5': 0.853, 'hits@10': 1.0, 'hits@100': 1.0, 'bleu': 1.69e-10, 'lr': 1, 'num_updates': 1407, 'examples': 1000, 'loss': 1969.0, 'mean_loss': 1.969, 'mean_rank': 3.414}\n",
            "~ Task 3 ~\n",
            "~ Task 3 ~\n",
            "Building dictionary: 100% 9.00k/9.00k [00:01<00:00, 8.11kex/s]\n",
            "/usr/local/lib/python3.6/dist-packages/torch/nn/_reduction.py:43: UserWarning: size_average and reduce args will be deprecated, please use reduction='sum' instead.\n",
            "  warnings.warn(warning.format(ret))\n",
            "/root/ParlAI/parlai/core/torch_ranker_agent.py:376: UserWarning: [ Executing train mode with provided inline set of candidates ]\n",
            "  ''.format(mode)\n",
            "/root/ParlAI/parlai/core/torch_ranker_agent.py:214: UserWarning: Some training metrics are omitted for speed. Set the flag `--train-predict` to calculate train metrics.\n",
            "  \"Some training metrics are omitted for speed. Set the flag \"\n",
            "/root/ParlAI/parlai/core/torch_ranker_agent.py:376: UserWarning: [ Executing eval mode with provided inline set of candidates ]\n",
            "  ''.format(mode)\n",
            "valid:{'exs': 1000, 'accuracy': 0.363, 'f1': 0.363, 'hits@1': 0.363, 'hits@5': 0.986, 'hits@10': 1.0, 'hits@100': 1.0, 'bleu': 3.63e-10, 'lr': 1, 'num_updates': 1407, 'examples': 1000, 'loss': 1698.0, 'mean_loss': 1.698, 'mean_rank': 2.459}\n",
            "test:{'exs': 1000, 'accuracy': 0.38, 'f1': 0.38, 'hits@1': 0.38, 'hits@5': 0.988, 'hits@10': 1.0, 'hits@100': 1.0, 'bleu': 3.8e-10, 'lr': 1, 'num_updates': 1407, 'examples': 1000, 'loss': 1693.0, 'mean_loss': 1.693, 'mean_rank': 2.435}\n"
          ],
          "name": "stdout"
        }
      ]
    },
    {
      "cell_type": "markdown",
      "metadata": {
        "colab_type": "text",
        "id": "DHH0Wy34o3_W"
      },
      "source": [
        "## 5. To go further"
      ]
    },
    {
      "cell_type": "markdown",
      "metadata": {
        "colab_type": "text",
        "id": "zaNGupqLssUB"
      },
      "source": [
        "If you want to go further you can try to do the following:\n",
        "\n",
        "- Retrieve and plot the attention of the memory network for the different hops along the memories.\n",
        "- For the seq2seq model, can you plot the training loss? The validation loss? Both on the same plot?\n",
        "- Can you show an example of overfitting?\n",
        "- Adapt the seq2seq model for ranking using the [torch ranker tutorial](http://www.parl.ai/static/docs/tutorial_torch_ranker_agent.html)\n",
        "- Try multitasking babi and squad, does it improve the performance? (this will require more GPU power than what is available in google colab)\n",
        "- You can play around with other models and other tasks\n",
        "- Try interfacing ParlAI with [messenger](https://parl.ai/docs/tutorial_chat_service.html)"
      ]
    }
  ]
}
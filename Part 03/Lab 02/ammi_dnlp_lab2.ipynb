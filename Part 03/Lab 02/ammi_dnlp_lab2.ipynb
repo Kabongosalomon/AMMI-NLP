{
  "nbformat": 4,
  "nbformat_minor": 0,
  "metadata": {
    "colab": {
      "name": "ammi_dnlp_lab2.ipynb",
      "provenance": [],
      "include_colab_link": true
    },
    "kernelspec": {
      "name": "python3",
      "display_name": "Python 3"
    },
    "accelerator": "GPU"
  },
  "cells": [
    {
      "cell_type": "markdown",
      "metadata": {
        "id": "view-in-github",
        "colab_type": "text"
      },
      "source": [
        "<a href=\"https://colab.research.google.com/github/Kabongosalomon/AMMI-NLP/blob/master/Part%2003/Lab%2002/ammi_dnlp_lab2.ipynb\" target=\"_parent\"><img src=\"https://colab.research.google.com/assets/colab-badge.svg\" alt=\"Open In Colab\"/></a>"
      ]
    },
    {
      "cell_type": "markdown",
      "metadata": {
        "id": "rzBHf68UXD2k",
        "colab_type": "text"
      },
      "source": [
        "# Chit Chat Chatbots"
      ]
    },
    {
      "cell_type": "markdown",
      "metadata": {
        "id": "Jm6rTDCrXJ4V",
        "colab_type": "text"
      },
      "source": [
        "In the previous lab, we explored models that try to answer questions by reasoning over free-text input. In this lab, we will explore two types of models to create chatbots.\n",
        "\n",
        "First, let's consider important qualities for a chit-chat chatbot system\n",
        "\n",
        "\n",
        "1.   **Readability** - whatever model we use, the chats it creates should be easily understood by humans\n",
        "2.   **Consistency** - when chatting with a chatbot, the bot should maintain consistent information. Imagine a bot that says \"Hi I'm Jack'' and then \"Hello, my name is Jane\" - quite confusing\n",
        "3.    **Engaging** - To encourage users to talk to the bot, the bot should be able to generate interesting, engaging responses. If the only response was \"wow, that's cool,\" users are quite unlikely to want to talk very much to the chat bot\n",
        "\n"
      ]
    },
    {
      "cell_type": "code",
      "metadata": {
        "id": "LrYcmfoI5PWO",
        "colab_type": "code",
        "outputId": "c6d78f24-74f1-403b-f66a-d5c446266a1a",
        "colab": {
          "base_uri": "https://localhost:8080/",
          "height": 262
        }
      },
      "source": [
        "%%html\n",
        "<p style='color: blue;'>\n",
        "  Throughout the lab, there will be <b>questions</b> you should answer. <b>All questions you need to write an answer to will be in this blue color.</b>\n",
        "  \n",
        "  <br>Please write brief answers- no need for long explanations. \n",
        "  <br>There can be multiple correct answers to the questions.\n",
        "  \n",
        "  <br><br>The goal of these questions is to:\n",
        "  <ul style='color: green;'>\n",
        "    <li> Review the lecture material in the context of practical models and develop intuition about the models\n",
        "    <li> Develop a sense of experimentation - we will pretend we have a dataset and will walk through an experimental thought process.\n",
        "  </ul>\n",
        "\n",
        "<b>We are going to do the lab as a group. <br>I will explain the sections in more depth, as we did not cover dialogue deeply during the lecture. <br> After we discuss, I will provide time for you to write a few sentences. At the end of the lab, you will hand it in. In theory, everyone should be finished together!</b>\n",
        "\n",
        "  \n",
        "</p>"
      ],
      "execution_count": 0,
      "outputs": [
        {
          "output_type": "display_data",
          "data": {
            "text/html": [
              "<p style='color: blue;'>\n",
              "  Throughout the lab, there will be <b>questions</b> you should answer. <b>All questions you need to write an answer to will be in this blue color.</b>\n",
              "  \n",
              "  <br>Please write brief answers- no need for long explanations. \n",
              "  <br>There can be multiple correct answers to the questions.\n",
              "  \n",
              "  <br><br>The goal of these questions is to:\n",
              "  <ul style='color: green;'>\n",
              "    <li> Review the lecture material in the context of practical models and develop intuition about the models\n",
              "    <li> Develop a sense of experimentation - we will pretend we have a dataset and will walk through an experimental thought process.\n",
              "  </ul>\n",
              "\n",
              "<b>We are going to do the lab as a group. <br>I will explain the sections in more depth, as we did not cover dialogue deeply during the lecture. <br> After we discuss, I will provide time for you to write a few sentences. At the end of the lab, you will hand it in. In theory, everyone should be finished together!</b>\n",
              "\n",
              "  \n",
              "</p>"
            ],
            "text/plain": [
              "<IPython.core.display.HTML object>"
            ]
          },
          "metadata": {
            "tags": []
          }
        }
      ]
    },
    {
      "cell_type": "markdown",
      "metadata": {
        "id": "C3zg0WczXjDs",
        "colab_type": "text"
      },
      "source": [
        "## Data"
      ]
    },
    {
      "cell_type": "markdown",
      "metadata": {
        "id": "kguDIJbLXmZU",
        "colab_type": "text"
      },
      "source": [
        "The dataset we will use for this lab is called `PersonaChat` - it was created to directly address problem 2. Each person talking in the dataset has a personality, which helps maintain consistency in the dialogue. We saw it last week in the tutorials as well (when you worked through beam search)"
      ]
    },
    {
      "cell_type": "code",
      "metadata": {
        "id": "RpvTb8bBX40A",
        "colab_type": "code",
        "colab": {}
      },
      "source": [
        "!git clone https://github.com/facebookresearch/ParlAI.git ~/ParlAI  > /dev/null\n",
        "!cd ~/ParlAI; python setup.py develop > /dev/null"
      ],
      "execution_count": 0,
      "outputs": []
    },
    {
      "cell_type": "markdown",
      "metadata": {
        "id": "3OJJ-L5RCyYT",
        "colab_type": "text"
      },
      "source": [
        "**Example: **\n",
        "\n",
        "your persona: i just started college.\n",
        "\n",
        "your persona: i have 3 science classes.\n",
        "\n",
        "your persona: i work part time in the campus library.\n",
        "\n",
        "your persona: i am living at home but hope to live in the dorms next year.\n",
        "\n",
        "**Partner Dialogue**: hi how are you doing\n",
        "\n",
        "**Your Response**: great ! just got off work and relaxing before i study"
      ]
    },
    {
      "cell_type": "code",
      "metadata": {
        "id": "Oe72XiqFXCS0",
        "colab_type": "code",
        "outputId": "ea5ef29e-add5-4133-9f3b-e294c1d7aa38",
        "colab": {
          "base_uri": "https://localhost:8080/",
          "height": 1601
        }
      },
      "source": [
        "# let's download and take a look at some examples of data in PersonaChat\n",
        "!python ~/ParlAI/examples/display_data.py --task personachat --datatype train"
      ],
      "execution_count": 0,
      "outputs": [
        {
          "output_type": "stream",
          "text": [
            "[ optional arguments: ] \n",
            "[  display_ignore_fields: agent_reply ]\n",
            "[  max_display_len: 1000 ]\n",
            "[  num_examples: 10 ]\n",
            "[ Main ParlAI Arguments: ] \n",
            "[  batchsize: 1 ]\n",
            "[  datapath: /root/ParlAI/data ]\n",
            "[  datatype: train ]\n",
            "[  download_path: /root/ParlAI/downloads ]\n",
            "[  hide_labels: False ]\n",
            "[  image_mode: raw ]\n",
            "[  multitask_weights: [1] ]\n",
            "[  numthreads: 1 ]\n",
            "[  show_advanced_args: False ]\n",
            "[  task: personachat ]\n",
            "[ ParlAI Model Arguments: ] \n",
            "[  dict_class: None ]\n",
            "[  init_model: None ]\n",
            "[  model: None ]\n",
            "[  model_file: None ]\n",
            "[ PytorchData Arguments: ] \n",
            "[  batch_length_range: 5 ]\n",
            "[  batch_sort_cache_type: pop ]\n",
            "[  batch_sort_field: text ]\n",
            "[  numworkers: 4 ]\n",
            "[  pytorch_context_length: -1 ]\n",
            "[  pytorch_datapath: None ]\n",
            "[  pytorch_include_labels: True ]\n",
            "[  pytorch_preprocess: False ]\n",
            "[  pytorch_teacher_batch_sort: False ]\n",
            "[  pytorch_teacher_dataset: None ]\n",
            "[  pytorch_teacher_task: None ]\n",
            "[  shuffle: False ]\n",
            "[ ParlAI Image Preprocessing Arguments: ] \n",
            "[  image_cropsize: 224 ]\n",
            "[  image_size: 256 ]\n",
            "[creating task(s): personachat]\n",
            "[building data: /root/ParlAI/data/Persona-Chat]\n",
            "[ downloading: http://parl.ai/downloads/personachat/personachat.tgz to /root/ParlAI/data/Persona-Chat/personachat.tgz ]\n",
            "Downloading personachat.tgz: 100% 223M/223M [00:35<00:00, 6.27MB/s]\n",
            "unpacking personachat.tgz\n",
            "[loading fbdialog data:/root/ParlAI/data/Persona-Chat/personachat/train_self_original.txt]\n",
            "[personachat]: your persona: i just started college.\n",
            "your persona: i have 3 science classes.\n",
            "your persona: i work part time in the campus library.\n",
            "your persona: i am living at home but hope to live in the dorms next year.\n",
            "hi how are you doing\n",
            "[labels: great ! just got off work and relaxing before i study]\n",
            "[label_candidates: yea . the piano . before i graduated college .|yes . very warm . i love it .|nice meeting you , spend as much time at home now that you can , i wish i could .|he was . he was my favorite artist .|i was . she was an addict though . love hate relationship . in the strongest way|...and 15 more]\n",
            "~~\n",
            "[personachat]: nice where do you work\n",
            "[labels: the library on campus , it is part time but really peaceful and easy]\n",
            "[label_candidates: that is amazing to hear . i like to run with my dogs .|i did not it was so yucky out|not too bad so far|i am a bowler and professional one and i have two kids and you ?|yes it could , i am always sad ugh , how are you ?|...and 15 more]\n",
            "~~\n",
            "[personachat]: that is cool i just live off my girlfriends salary\n",
            "[labels: i live at home , next year i want to move on campus though]\n",
            "[label_candidates: i wish i knew how to play .|hey , they call me blue eyes . do you have a nickname ?|are you going to cook for me ?|no i am currently taking my boards for pharmacy .|they can come too . the more the merrier .|...and 15 more]\n",
            "~~\n",
            "[personachat]: that is cool do you like to cook\n",
            "[labels: i do , i make this one dish with pork marinated in catalina dressing , its good]\n",
            "[label_candidates: i am doing well do you like music ?|i will check them out . i am really going to miss my sister when i move .|were they really ? i did not know that . i love to learn .|hi . i am alright . what do you like to do ? i am a writer .|me and my parents and brother moved here !|...and 15 more]\n",
            "~~\n",
            "[personachat]: that sounds so interesting i like to cook brunch on the weekends\n",
            "[labels: i do not cook a lot . this semester i have 3 different science classes]\n",
            "[label_candidates: wow that is interesting to hear|me too ! what do you do for a living ? i am in finance .|helping people . i guess that is why i am a nurse .|i enjoy going to park and bird watching . love country music|its not as fun as biking , but it pays the bills .|...and 15 more]\n",
            "~~\n",
            "[personachat]: wow is that your major ?\n",
            "[labels: chemistry , but have a minor in biology]\n",
            "[label_candidates: willie nelson , hank williams iii . . . . all the usual stuff . . . plus thrash metal from norway|very short . under 5 feet tall . trying to lose another 20 pounds ! it is hard !|new england is a beautiful place to grow up . i work in connecticut now . nice weather .|for what ? i know oliva pope personally . i have not been on a boat ever ? you ?|what do you do for a living ?|...and 15 more]\n",
            "~~\n",
            "[personachat]: wow what do you want to do after school\n",
            "[labels: ideally i want to work for an energy company working on new energy and fuel sources]\n",
            "[label_candidates: i have written several romance novels under a different name . . . .|do you have any pets ? my dog , socks , lives at my parents house .|what reality show do you like ? i am going to fail math because of dungeons and dragons .|shopping . it is like my passion .|i drop off baking goods in my state where i reside .|...and 15 more]\n",
            "~~\n",
            "[personachat]: cool i wish i knew more about science\n",
            "[labels: it is difficult but i do enjoy it , just takes a lot of studying]\n",
            "[label_candidates: i have three , and am named for my grandmother .|exactleee . . oops i am not great at spelling|black i guess . what about you ?|yes and sunset also is a good time|oh . i eat about anything .|...and 15 more]\n",
            "- - - - - - - - - - - - - - - - - - - - -\n",
            "~~\n",
            "[personachat]: your persona: i have borderline personality disorder.\n",
            "your persona: it is my universe , and everyone else is just a character in it.\n",
            "your persona: i work as a dental assistant in a ritzy part of town.\n",
            "your persona: at night , i party hard in the atlanta club scene , and i never miss a music festival.\n",
            "how are you doing today ?\n",
            "[labels: great ! just got back from some dbt therapy . it really helps me]\n",
            "[label_candidates: i am less afraid to drive as i am terrified of clowns though .|hi how are you today|rap and r b , i hate country tho|maybe you should find a job , i am looking for one , but nba is fun too|you must be a grown up .|...and 15 more]\n",
            "~~\n",
            "[personachat]: what is that ? i am not familiar .\n",
            "[labels: dialectical behavioral therapy . i use it to help with my borderline personality]\n",
            "[label_candidates: i have to hurry and clean up this mess if we are going to go out .|yes they are confused but not about being a boy or girl|princess from mario . what is your favorite song ?|i love texas i am going to live in australia next year for my boyfriend|wow that sounds interesting , my addiction to black coffee is out of control .|...and 15 more]\n",
            "~~\n",
            "[ loaded 8939 episodes with a total of 65719 examples ]\n"
          ],
          "name": "stdout"
        }
      ]
    },
    {
      "cell_type": "code",
      "metadata": {
        "id": "V3Ob4tEt1vNP",
        "colab_type": "code",
        "outputId": "3950f757-cfbf-4e15-8bc1-8235132a3cdc",
        "colab": {
          "base_uri": "https://localhost:8080/",
          "height": 120
        }
      },
      "source": [
        "%%html\n",
        "<p style='color: blue;'>\n",
        "  <b>Questions:</b>\n",
        "  <ul style='color: blue;'>\n",
        "    <li>What do the personalities look like?</li>\n",
        "    <li>How does creating bots with these simple personalities address consistency for chatbots? </li>\n",
        "    <li>What are some drawbacks/limitations of these specific personalities for addressing the problem of consistency?</li>\n",
        "  </ul>\n",
        "</p>"
      ],
      "execution_count": 0,
      "outputs": [
        {
          "output_type": "display_data",
          "data": {
            "text/html": [
              "<p style='color: blue;'>\n",
              "  <b>Questions:</b>\n",
              "  <ul style='color: blue;'>\n",
              "    <li>What do the personalities look like?</li>\n",
              "    <li>How does creating bots with these simple personalities address consistency for chatbots? </li>\n",
              "    <li>What are some drawbacks/limitations of these specific personalities for addressing the problem of consistency?</li>\n",
              "  </ul>\n",
              "</p>"
            ],
            "text/plain": [
              "<IPython.core.display.HTML object>"
            ]
          },
          "metadata": {
            "tags": []
          }
        }
      ]
    },
    {
      "cell_type": "markdown",
      "metadata": {
        "id": "bfRTFtytcOi1",
        "colab_type": "text"
      },
      "source": [
        "- This is personalities of a science student \n",
        "- It will help the chatbots to be train in a way that will avoid inconsistence answers in realtime setting, and this will make the converstion personalise\n",
        "- This will be limited only to the train personality and may be inconsistant for a different personality. "
      ]
    },
    {
      "cell_type": "markdown",
      "metadata": {
        "id": "Kyhri6NvYKda",
        "colab_type": "text"
      },
      "source": [
        "\n",
        "\n",
        "---\n",
        "\n",
        "\n",
        "***Let's understand how much data we have. Let's compute the following using ParlAI:***\n",
        "\n",
        "\n",
        "1.   **How many turns of data do we have?** In dialogue datasets, \"amount of data\" is measured in dialogue turns. Each time there is a single line of dialogue, that is called a \"turn\"\n",
        "2.   **On average, how many words form a model input?**\n",
        "\n",
        "\n",
        "---\n",
        "\n",
        "\n"
      ]
    },
    {
      "cell_type": "code",
      "metadata": {
        "id": "30SF6hN6DAjD",
        "colab_type": "code",
        "outputId": "e938b62b-5924-4af0-b1d1-6025d7b4628a",
        "colab": {
          "base_uri": "https://localhost:8080/",
          "height": 445
        }
      },
      "source": [
        "!python ~/ParlAI/parlai/scripts/data_stats.py -t personachat -dt train -ltim 10000"
      ],
      "execution_count": 0,
      "outputs": [
        {
          "output_type": "stream",
          "text": [
            "[ note: changing datatype from train to train:ordered ]\n",
            "[creating task(s): personachat]\n",
            "[loading fbdialog data:/root/ParlAI/data/Persona-Chat/personachat/train_self_original.txt]\n",
            "[ loaded 8939 episodes with a total of 65719 examples ]\n",
            "24s elapsed: {'exs': 65719, '%done': '100.00%', 'time_left': '0s', 'stats': '\n",
            "input:\n",
            "   utterances: 65719\n",
            "   avg utterance length: 18.356974390967604\n",
            "   tokens: 1206402\n",
            "   unique tokens: 14209\n",
            "   unique utterances: 64580\n",
            "labels:\n",
            "   utterances: 65719\n",
            "   avg utterance length: 11.929411585690591\n",
            "   tokens: 783989\n",
            "   unique tokens: 14507\n",
            "   unique utterances: 64119\n",
            "both:\n",
            "   utterances: 131438\n",
            "   avg utterance length: 15.143192988329098\n",
            "   tokens: 1990391\n",
            "   unique tokens: 18741\n",
            "   unique utterances: 128197\n",
            "'}\n"
          ],
          "name": "stdout"
        }
      ]
    },
    {
      "cell_type": "markdown",
      "metadata": {
        "id": "0vwk7krxU57M",
        "colab_type": "text"
      },
      "source": [
        "## Evaluation\n",
        "\n",
        "How are dialogue models evaluated?\n",
        "\n",
        "\n",
        "\n",
        "1.   **Automatic Evaluation**: Hits @ 1, Hits @ 5, Hits @ 10, F1\n",
        "2.   **Human Evaluation**: Pairing Selection, Human Rating\n",
        "\n"
      ]
    },
    {
      "cell_type": "code",
      "metadata": {
        "id": "pGI2fFPLVRSJ",
        "colab_type": "code",
        "outputId": "283cb271-fea5-415b-a4f3-402fad7282bf",
        "colab": {
          "base_uri": "https://localhost:8080/",
          "height": 69
        }
      },
      "source": [
        "%%html\n",
        "<p style='color: blue;'>\n",
        "  <b>Questions:</b>\n",
        "  <ul style='color: blue;'>\n",
        "    <li>Take some notes about what these metrics are and what they mean here</li>\n",
        "  </ul>\n",
        "</p>"
      ],
      "execution_count": 0,
      "outputs": [
        {
          "output_type": "display_data",
          "data": {
            "text/html": [
              "<p style='color: blue;'>\n",
              "  <b>Questions:</b>\n",
              "  <ul style='color: blue;'>\n",
              "    <li>Take some notes about what these metrics are and what they mean here</li>\n",
              "  </ul>\n",
              "</p>"
            ],
            "text/plain": [
              "<IPython.core.display.HTML object>"
            ]
          },
          "metadata": {
            "tags": []
          }
        }
      ]
    },
    {
      "cell_type": "markdown",
      "metadata": {
        "id": "KpkwidfAZ_7p",
        "colab_type": "text"
      },
      "source": [
        "## Models"
      ]
    },
    {
      "cell_type": "markdown",
      "metadata": {
        "id": "YuqnjqxbZ_W2",
        "colab_type": "text"
      },
      "source": [
        "There are two main kinds of dialogue models. \n",
        "\n",
        "*Retrieval* Models analyze the current dialogue context and try to find appropriate responses in the dataset.\n",
        "\n",
        "*Generative* Models analyze the current dialogue context\n",
        "and try to write an answer, word by word, from left to right.\n",
        "This can be thought of as an application of sequence-to-sequence models,  where the \"encoder side\" is the dialogue history and the \"decoder side\" is the dialogue response your chatbot should generate."
      ]
    },
    {
      "cell_type": "code",
      "metadata": {
        "id": "JPRp1MlH3n0h",
        "colab_type": "code",
        "outputId": "9efcbe84-f3b4-4da6-da7f-3ef3e1f258d0",
        "colab": {
          "base_uri": "https://localhost:8080/",
          "height": 143
        }
      },
      "source": [
        "%%html\n",
        "<p style='color: blue;'>\n",
        "  <b>Questions:</b>\n",
        "  <ul style='color: blue;'>\n",
        "    <li>Let's discuss the pros/cons of retrieval compared to generative models - Are there settings when you might want to use one over the other?</li>\n",
        "    <li>Compare a chit-chat application to something like booking a movie ticket- would you want to use generative, retrieval, or something else to accomplish that task? Why?</li>\n",
        "    <li>How can you evaluate generative models with the metrics we discussed before? How do you think they will perform compared to retrieval models?</li>\n",
        "    <li>In lecture, Antoine mentioned issues with generative model generation being generic and short. How does this happen in beam search?</li>\n",
        "</ul>\n",
        "\n",
        "<b> If you would like me to discuss how to actually use generative models in dialog, please say something! Otherwise, we will skip.</b>\n",
        "</p>"
      ],
      "execution_count": 0,
      "outputs": [
        {
          "output_type": "display_data",
          "data": {
            "text/html": [
              "<p style='color: blue;'>\n",
              "  <b>Questions:</b>\n",
              "  <ul style='color: blue;'>\n",
              "    <li>Let's discuss the pros/cons of retrieval compared to generative models - Are there settings when you might want to use one over the other?</li>\n",
              "    <li>Compare a chit-chat application to something like booking a movie ticket- would you want to use generative, retrieval, or something else to accomplish that task? Why?</li>\n",
              "    <li>How can you evaluate generative models with the metrics we discussed before? How do you think they will perform compared to retrieval models?</li>\n",
              "    <li>In lecture, Antoine mentioned issues with generative model generation being generic and short. How does this happen in beam search?</li>\n",
              "</ul>\n",
              "\n",
              "<b> If you would like me to discuss how to actually use generative models in dialog, please say something! Otherwise, we will skip.</b>\n",
              "</p>"
            ],
            "text/plain": [
              "<IPython.core.display.HTML object>"
            ]
          },
          "metadata": {
            "tags": []
          }
        }
      ]
    },
    {
      "cell_type": "markdown",
      "metadata": {
        "id": "DZfDBfGacZmc",
        "colab_type": "text"
      },
      "source": [
        "- Advantage of retrivial, you can't make mistake as the output is comming from the text itself.\n",
        "\n",
        "- We need something else, as we need some predifined information, that you need in order to be able to accomplis the task \n",
        "\n",
        "- Generative model will do better \n",
        "\n",
        "- A very rare wold but correct may not be include in the generation due to the behavior of beam search."
      ]
    },
    {
      "cell_type": "markdown",
      "metadata": {
        "id": "D_99CoAwaW2w",
        "colab_type": "text"
      },
      "source": [
        "### Retrieval Models"
      ]
    },
    {
      "cell_type": "markdown",
      "metadata": {
        "id": "BAfk4Km8bY_Y",
        "colab_type": "text"
      },
      "source": [
        "Let's train a model to do retrieval first. We will try the *Memory Net.* "
      ]
    },
    {
      "cell_type": "code",
      "metadata": {
        "id": "EyNOObOkbYTQ",
        "colab_type": "code",
        "colab": {}
      },
      "source": [
        "# We can train a model with the following command: \n",
        "# !python ~/ParlAI/examples/train_model.py -m kv_memnn -t personachat -dt train -veps 0.25 --model-file persona_chat_retrieval_model -vmt accuracy\n",
        "\n",
        "# but we have limited time in the tutorial, so let's use an already pretrained model"
      ],
      "execution_count": 0,
      "outputs": []
    },
    {
      "cell_type": "markdown",
      "metadata": {
        "id": "gylhJvZwa0Vp",
        "colab_type": "text"
      },
      "source": [
        "Quick Parameter Refresher:\n",
        "\n",
        "\n",
        "*  `-m ` means which model we're going to use. Recall retrieval models are trained to rank the true response higher over a set of potential responses from the dataset (in ParlAI, these are called the \"label candidates\"). When it's time to write a dialogue response, the retrieval model returns the response that is ranked the highest\n",
        "*  -`t` refers to the task. Here, we are training on PersonaChat data.\n",
        "* `-dt` refers to the data split. We want to train our model, so we are using the training set.\n",
        "* `-veps` refers to how often we should evaluate during training, our performance on validation. recall this is important because models, particularly neural ones, have the capacity to memorize the training dataset. So it's important to check how the model is doing on the validation set.\n",
        "* `--model-file` refers to when your model is saved, what should the filename be\n",
        "*  `-vmt` refers to the metric which we'll use to decide which model is the best. We'll cover this in the next section\n",
        "\n",
        "\n",
        "\n"
      ]
    },
    {
      "cell_type": "markdown",
      "metadata": {
        "id": "W6wdfxEccAAp",
        "colab_type": "text"
      },
      "source": [
        "**Let's interact with the model to get a sense of what it's learning. **How is this chat going to work?\n",
        "\n",
        "\n",
        "\n",
        "1.   You will be assigned a persona. You will chat to the model by typing in the chat box.\n",
        "2.   The chatbot also has a persona. It's secret and hidden from you!\n",
        "3.   When you've finished chatting with this bot, type [DONE] and a new model persona will be assigned to the bot, so you can talk to a new bot. \n",
        "4.   When you move on to the next chatbot persona, the previous persona will be revealed. \n",
        "\n",
        "Interact with the chatbots and the personas. **Try to think about the following:**\n",
        "\n",
        "*   Do the chatbots follow their persona a lot?\n",
        "*   Was it difficult to follow your persona?\n",
        "\n",
        "\n",
        "\n"
      ]
    },
    {
      "cell_type": "code",
      "metadata": {
        "id": "XdyaEgpcI7UL",
        "colab_type": "code",
        "outputId": "45fe238d-c53c-4a48-d6ad-376b3367ff29",
        "colab": {
          "base_uri": "https://localhost:8080/",
          "height": 1788
        }
      },
      "source": [
        "!python ~/ParlAI/projects/convai2/interactive.py -mf models:convai2/kvmemnn/model"
      ],
      "execution_count": 0,
      "outputs": [
        {
          "output_type": "stream",
          "text": [
            "[ warning: overriding opt['model_file'] to /root/ParlAI/data/models/convai2/kvmemnn/model (previously: /checkpoint/jase/20180328/kvmemnn_sweep10/persona-self_rephraseTrn-True_rephraseTst-False_lr-0.1_esz-2000_margin-0.1_tfidf-False_shareEmb-True_hops1_lins0/model )]\n",
            "[ creating KvmemnnAgent ]\n",
            "Dictionary: loading dictionary from /root/ParlAI/data/models/convai2/kvmemnn/model.dict\n",
            "[ num words =  19153 ]\n",
            "Loading existing model params from /root/ParlAI/data/models/convai2/kvmemnn/model\n",
            "[loading candidates: /root/ParlAI/data/models/convai2/kvmemnn/model.candspair*]\n",
            "[caching..]\n",
            "=init done=\n",
            "/usr/local/lib/python3.6/dist-packages/torch/nn/_reduction.py:49: UserWarning: size_average and reduce args will be deprecated, please use reduction='sum' instead.\n",
            "  warnings.warn(warning.format(ret))\n",
            "[creating task(s): parlai.agents.local_human.local_human:LocalHumanAgent]\n",
            "[ optional arguments: ] \n",
            "[  display_examples: False ]\n",
            "[  display_ignore_fields: label_candidates,text_candidates ]\n",
            "[  display_prettify: False ]\n",
            "[ Main ParlAI Arguments: ] \n",
            "[  batchsize: 1 ]\n",
            "[  datapath: /private/home/jase/src/ParlAI/data ]\n",
            "[  datatype: train ]\n",
            "[  download_path: /private/home/jase/src/ParlAI/downloads ]\n",
            "[  hide_labels: False ]\n",
            "[  image_mode: raw ]\n",
            "[  multitask_weights: [1] ]\n",
            "[  numthreads: 40 ]\n",
            "[  show_advanced_args: False ]\n",
            "[  task: convai2:SelfRevisedTeacher ]\n",
            "[ ParlAI Model Arguments: ] \n",
            "[  dict_class: parlai.core.dict:DictionaryAgent ]\n",
            "[  init_model: None ]\n",
            "[  model: projects.personachat.kvmemnn.kvmemnn:KvmemnnAgent ]\n",
            "[  model_file: /root/ParlAI/data/models/convai2/kvmemnn/model ]\n",
            "[ Local Human Arguments: ] \n",
            "[  local_human_candidates_file: None ]\n",
            "[  single_turn: False ]\n",
            "[ ParlAI Image Preprocessing Arguments: ] \n",
            "[  image_cropsize: 224 ]\n",
            "[  image_size: 256 ]\n",
            "[ Dictionary Arguments: ] \n",
            "[  bpe_debug: False ]\n",
            "[  dict_endtoken: __END__ ]\n",
            "[  dict_file: /root/ParlAI/data/models/convai2/kvmemnn/model.dict ]\n",
            "[  dict_initpath: None ]\n",
            "[  dict_language: english ]\n",
            "[  dict_lower: False ]\n",
            "[  dict_max_ngram_size: -1 ]\n",
            "[  dict_maxtokens: -1 ]\n",
            "[  dict_minfreq: 0 ]\n",
            "[  dict_nulltoken: __NULL__ ]\n",
            "[  dict_starttoken: __START__ ]\n",
            "[  dict_textfields: text,labels ]\n",
            "[  dict_tokenizer: split ]\n",
            "[  dict_unktoken: __UNK__ ]\n",
            "[ Kvmemnn Arguments: ] \n",
            "[  cache_size: 1000 ]\n",
            "[  embeddingnorm: 10 ]\n",
            "[  embeddingsize: 2000 ]\n",
            "[  history_length: 100 ]\n",
            "[  history_replies: label ]\n",
            "[  hops: 1 ]\n",
            "[  interactive_mode: False ]\n",
            "[  kvmemnn_debug: False ]\n",
            "[  learningrate: 0.1 ]\n",
            "[  lins: 0 ]\n",
            "[  loadcands: True ]\n",
            "[  loss: cosine ]\n",
            "[  margin: 0.1 ]\n",
            "[  neg_samples: 10 ]\n",
            "[  optimizer: sgd ]\n",
            "[  parrot_neg: 0 ]\n",
            "[  share_embeddings: True ]\n",
            "[  take_next_utt: False ]\n",
            "[  tfidf: False ]\n",
            "[  truncate: -1 ]\n",
            "[  twohop_blend: 0 ]\n",
            "[  twohop_range: 100 ]\n",
            "[creating task(s): convai2:both]\n",
            "[loading fbdialog data:/root/ParlAI/data/ConvAI2/train_both_original.txt]\n",
            "your persona: my favorite is rock fish.\n",
            "your persona: i m going riding on my boat today.\n",
            "your persona: i love tuna.\n",
            "your persona: i live in cape hatteras.\n",
            "your persona: i'm a fisherman.\n",
            "Enter [DONE] if you want a new partner at any time.\n",
            "Enter Your Message: Hey, what are you doing today?\n",
            "great . just left my restaurant i started . how about you ?\n",
            "Enter Your Message: Cool, what kind of restaurant is it? I'm going fishing today.\n",
            "an italian restaurant my dad owns . he was a cop , but now he is a restaurant owner\n",
            "Enter Your Message: That's awesome! When did he start his restaurant?\n",
            "it is , but it does have its rewards . mom taught me to cook , i use her recipes .\n",
            "Enter Your Message: Nice! What's your favorite food?\n",
            "pizza . what is your favorite food ?\n",
            "Enter Your Message: I like ice cream.\n",
            "yes , i do like ice cream . sometimes i make my own ice cream at home .\n",
            "Enter Your Message: Is that difficult? I can't cook very well\n",
            "my mom used to cook well but she went crazy and i do not cook\n",
            "Enter Your Message: Traceback (most recent call last):\n",
            "  File \"/root/ParlAI/projects/convai2/interactive.py\", line 126, in <module>\n",
            "    interactive(parser.parse_args(print_args=False), print_parser=parser)\n",
            "  File \"/root/ParlAI/projects/convai2/interactive.py\", line 102, in interactive\n",
            "    acts[0] = agents[0].act()\n",
            "  File \"/root/ParlAI/parlai/agents/local_human/local_human.py\", line 39, in act\n",
            "    reply_text = input(\"Enter Your Message: \")\n",
            "KeyboardInterrupt\n"
          ],
          "name": "stdout"
        }
      ]
    },
    {
      "cell_type": "code",
      "metadata": {
        "id": "hNbf3YEp31Z0",
        "colab_type": "code",
        "outputId": "6007cf86-a3e9-48ec-a543-4a39b0db0fb6",
        "colab": {
          "base_uri": "https://localhost:8080/",
          "height": 103
        }
      },
      "source": [
        "%%html\n",
        "<p style='color: blue;'>\n",
        "  <b>Questions:</b>\n",
        "  <ul style='color: blue;'>\n",
        "    <li>What does this model seem to be doing well? What is it doing poorly? </li>\n",
        "    <li>Why might it be performing poorly? What kind of experiment could you design to test your hypothesis?</li>\n",
        "    <li>How do we know if we need to use a more complex model? Would we always want to use a more complex model? Why or why not?</li>\n",
        "  </ul>\n",
        "</p>"
      ],
      "execution_count": 0,
      "outputs": [
        {
          "output_type": "display_data",
          "data": {
            "text/html": [
              "<p style='color: blue;'>\n",
              "  <b>Questions:</b>\n",
              "  <ul style='color: blue;'>\n",
              "    <li>What does this model seem to be doing well? What is it doing poorly? </li>\n",
              "    <li>Why might it be performing poorly? What kind of experiment could you design to test your hypothesis?</li>\n",
              "    <li>How do we know if we need to use a more complex model? Would we always want to use a more complex model? Why or why not?</li>\n",
              "  </ul>\n",
              "</p>"
            ],
            "text/plain": [
              "<IPython.core.display.HTML object>"
            ]
          },
          "metadata": {
            "tags": []
          }
        }
      ]
    },
    {
      "cell_type": "code",
      "metadata": {
        "id": "t_SYFM2UaUuq",
        "colab_type": "code",
        "colab": {}
      },
      "source": [
        "# Here is a command to train a Transformer Ranker model if you would like to try it out\n",
        "# !python ~/ParlAI/examples/train_model.py -m transformer/ranker -t personachat -dt train -veps 0.25 --model-file persona_chat_retrieval_model -vmt accuracy"
      ],
      "execution_count": 0,
      "outputs": []
    },
    {
      "cell_type": "markdown",
      "metadata": {
        "id": "Kd7Sfurfdc_3",
        "colab_type": "text"
      },
      "source": [
        "\n",
        "\n",
        "---\n",
        "\n",
        "\n",
        "An important aspect of training models is analyzing them. ***Try to answer the following questions.*** \n",
        "\n",
        "---\n",
        "\n",
        "\n"
      ]
    },
    {
      "cell_type": "code",
      "metadata": {
        "id": "-1pAkQdt4n5_",
        "colab_type": "code",
        "outputId": "c3c9f03a-4187-41c1-d0c7-626b66557a27",
        "colab": {
          "base_uri": "https://localhost:8080/",
          "height": 160
        }
      },
      "source": [
        "%%html\n",
        "<p style='color: blue;'>\n",
        "  <b>Questions:</b>\n",
        "  <ul style='color: blue;'>\n",
        "    <li>Are the models using the persona that we have provided? How can you tell? If I asked you to prove it to me, what experiments could you conduct? </li>\n",
        "    <li>Previously, we computed some statistics about how long the persona is in the training data. The model has also only seen words present in the training dataset. But what happens if you push the model outside of what data it's been trained on? What kind of performance do you get? Why does this happen, and what could you do if you wanted to improve the model's ability to generalize? </li>\n",
        "    <li>In ParlAI, we've set the parameters to save the model's best performance based on validation accuracy. What would happen if we saved the model based on the best training accuracy? Why does this happen? (if you like, try this out on your own and see the effect when you interact with the bot)</li>\n",
        "  </ul>\n",
        "\n",
        "<b> If you would like me to discuss how to use BERT in dialog, please say something! Otherwise, we will skip.</b>\n",
        "</p>"
      ],
      "execution_count": 0,
      "outputs": [
        {
          "output_type": "display_data",
          "data": {
            "text/html": [
              "<p style='color: blue;'>\n",
              "  <b>Questions:</b>\n",
              "  <ul style='color: blue;'>\n",
              "    <li>Are the models using the persona that we have provided? How can you tell? If I asked you to prove it to me, what experiments could you conduct? </li>\n",
              "    <li>Previously, we computed some statistics about how long the persona is in the training data. The model has also only seen words present in the training dataset. But what happens if you push the model outside of what data it's been trained on? What kind of performance do you get? Why does this happen, and what could you do if you wanted to improve the model's ability to generalize? </li>\n",
              "    <li>In ParlAI, we've set the parameters to save the model's best performance based on validation accuracy. What would happen if we saved the model based on the best training accuracy? Why does this happen? (if you like, try this out on your own and see the effect when you interact with the bot)</li>\n",
              "  </ul>\n",
              "\n",
              "<b> If you would like me to discuss how to use BERT in dialog, please say something! Otherwise, we will skip.</b>\n",
              "</p>"
            ],
            "text/plain": [
              "<IPython.core.display.HTML object>"
            ]
          },
          "metadata": {
            "tags": []
          }
        }
      ]
    },
    {
      "cell_type": "markdown",
      "metadata": {
        "id": "eTHItY-QdNtw",
        "colab_type": "text"
      },
      "source": [
        "### [for self exploration] Generative Models"
      ]
    },
    {
      "cell_type": "markdown",
      "metadata": {
        "id": "GM6LaBzbe6Za",
        "colab_type": "text"
      },
      "source": [
        "Generative models must produce word for word what they are going to say next in the dialogue. When predicting the next word, it produces a probability distribution over the entire vocabulary space for which word to generate next. To reduce the vocabulary space, we will use **byte-pair encoding** (BPE). \n",
        "\n",
        "*How does BPE work?* The BPE algorithm takes as input the training data and the number of *operations* it can do. It passes over the training set and tries to create sub-word units. For example, the word \"beautiful\" might be split into \"beau\" \"ti\" \"ful\". Each time it splits a word into sub-words, that is one operation. The final vocabulary output consists of these subwords. So \"ful\" can be part of \"beautiful\" and part of \"fruitful\" and so on.\n",
        "\n",
        "\n",
        "**Questions to ask yourself**:\n",
        "\n",
        "\n",
        "1.   Why is it important to keep the vocabulary space small?\n",
        "2.   What does perplexity measure? Why would we use it as a training objective? \n",
        "\n",
        "\n"
      ]
    },
    {
      "cell_type": "code",
      "metadata": {
        "id": "G4gNbbAugACx",
        "colab_type": "code",
        "colab": {}
      },
      "source": [
        "# !python ~/ParlAI/examples/train_model.py -m transformer/generator -t personachat -dt train -veps 0.25 --model-file persona_chat_generative_model -vmt ppl"
      ],
      "execution_count": 0,
      "outputs": []
    },
    {
      "cell_type": "markdown",
      "metadata": {
        "id": "fHpD0Ccb1zhd",
        "colab_type": "text"
      },
      "source": [
        "## Final Thoughts"
      ]
    },
    {
      "cell_type": "markdown",
      "metadata": {
        "id": "MHdsZ3Sq12n6",
        "colab_type": "text"
      },
      "source": [
        "**What did we learn about dialogue modeling? Review Questions to ask yourself**\n",
        "\n",
        "*   How do retrieval models work? What about generative? What are their pros and cons?\n",
        "*   What are some important traits of dialogue systems? How might the traits differ for different dialogue tasks?\n",
        "\n",
        "\n",
        "**General Takeaways about Machine Learning and Experimentation:**\n",
        "\n",
        "*   We don't try models just to try them - try to have a reason for conducting an experiment. As we did in the lab, try to analyze what's working well in your models and working poorly. Try to use these reasons to guide why you might want to try other models. Complex is not necessarily better. \n",
        "*   Certain models can be better for certain tasks. As we've seen, generative models are working really well for tasks such as machine translation, but have a bit to go before becoming general purpose dialogue generators. \n",
        "\n",
        "\n",
        "\n",
        "**I'm really interested in dialogue! What can I do to learn more?**\n",
        "\n",
        "\n",
        "*   Play around in ParlAI: ParlAI is a general library with many great dialogue models and code for them. It also provides a standard interface to access datasets and interact with various models. \n",
        "*   Read the PersonaChat Paper: https://arxiv.org/pdf/1801.07243.pdf\n",
        "*   Dialog using knowledge: One challenge of these chit chat systems is they do not concretely know any facts. So if you want to chat about a specific topic, the models cannot produce any relevant information - they say generic utterances or incorrect facts. One way to remedy this is to incorporate **knowledge** into the dialogue agents. This has been investigated in many different ways, but one of the first papers to show this is https://arxiv.org/abs/1811.01241. In this work, data is collected by asking one speaker to reference Wikipedia sentences.\n",
        "* Dialog with BERT: pretty new,  there is an investigation of two ways to use BERT in this paper: https://arxiv.org/abs/1903.03094. \n",
        "\n",
        "\n"
      ]
    }
  ]
}
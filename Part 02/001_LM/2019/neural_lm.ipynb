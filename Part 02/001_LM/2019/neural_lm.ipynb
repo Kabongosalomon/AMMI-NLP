{
 "cells": [
  {
   "cell_type": "markdown",
   "metadata": {},
   "source": [
    "# Neural Language Modeling"
   ]
  },
  {
   "cell_type": "markdown",
   "metadata": {},
   "source": [
    "## 1. Data Processing\n",
    "## 2. Encoder: Bag of Words\n",
    "## 3. Decoder: MLP\n",
    "## 4. Training Neural LM\n",
    "## 5. Sentence Score\n",
    "## 6. Sentence Generation"
   ]
  },
  {
   "cell_type": "code",
   "execution_count": 1,
   "metadata": {},
   "outputs": [],
   "source": [
    "# !wget http://ikulikov.name/neural_lm_amazon_model_N10.pt\n",
    "# !wget http://ikulikov.name/neural_lm_amazon_model_N7.pt\n",
    "# !wget http://ikulikov.name/neural_lm_amazon_model_N5.pt\n",
    "# !wget http://ikulikov.name/neural_lm_amazon_model_N3.pt"
   ]
  },
  {
   "cell_type": "code",
   "execution_count": 2,
   "metadata": {},
   "outputs": [],
   "source": [
    "import os\n",
    "import sys\n",
    "sys.path.append('utils/')\n",
    "import torch\n",
    "import numpy as np\n",
    "import torch.nn as nn\n",
    "import random\n",
    "import math\n",
    "\n",
    "import utils.ngram_utils as ngram_utils\n",
    "from utils.ngram_utils import NgramLM\n",
    "from utils.amazon_dataset import AmazonDataset, pad, batchify\n",
    "from torch.utils.data import DataLoader\n",
    "from utils.neural_lm import BagOfNGrams, DecoderMLP, seq2seq\n",
    "import utils.global_variables as gl\n",
    "import torch\n",
    "from tqdm import tqdm_notebook, tqdm\n",
    "_tqdm = tqdm_notebook"
   ]
  },
  {
   "cell_type": "code",
   "execution_count": 3,
   "metadata": {},
   "outputs": [
    {
     "data": {
      "text/plain": [
       "<torch._C.Generator at 0x7f05160c67f0>"
      ]
     },
     "execution_count": 3,
     "metadata": {},
     "output_type": "execute_result"
    }
   ],
   "source": [
    "torch.manual_seed(1)\n"
   ]
  },
  {
   "cell_type": "code",
   "execution_count": 4,
   "metadata": {},
   "outputs": [],
   "source": [
    "USE_CUDA = True\n",
    "device = torch.device(\"cuda\" if (torch.cuda.is_available() and USE_CUDA) else \"cpu\")"
   ]
  },
  {
   "cell_type": "markdown",
   "metadata": {},
   "source": [
    "# Data Processing"
   ]
  },
  {
   "cell_type": "code",
   "execution_count": 5,
   "metadata": {},
   "outputs": [],
   "source": [
    "# Read data from .txt files and create lists of reviews\n",
    "train_data = []\n",
    "# create a list of all the reviews \n",
    "with open('../data/train.txt', 'r') as f:\n",
    "    train_data = [review for review in f.read().split('\\n') if review]\n",
    "    \n",
    "valid_data = []\n",
    "# create a list of all the reviews \n",
    "with open('../data/valid.txt', 'r') as f:\n",
    "    valid_data = [review for review in f.read().split('\\n') if review]\n",
    "    "
   ]
  },
  {
   "cell_type": "code",
   "execution_count": 6,
   "metadata": {},
   "outputs": [
    {
     "data": {
      "text/plain": [
       "(\"this is a great tutu and at a really great price . it doesn ' t look cheap at all . i ' m so glad i looked on amazon and found such an affordable tutu that isn ' t made poorly . a + + \",\n",
       " list,\n",
       " 222919,\n",
       " str)"
      ]
     },
     "execution_count": 6,
     "metadata": {},
     "output_type": "execute_result"
    }
   ],
   "source": [
    "train_data[0], valid_data[0]\n",
    "train_data = train_data#[:100]\n",
    "valid_data = valid_data#[:10]\n",
    "train_data[0], type(train_data), len(train_data), type(train_data[0])"
   ]
  },
  {
   "cell_type": "code",
   "execution_count": 7,
   "metadata": {},
   "outputs": [
    {
     "data": {
      "application/vnd.jupyter.widget-view+json": {
       "model_id": "bbbf388dc21b4d9f90902e192922d047",
       "version_major": 2,
       "version_minor": 0
      },
      "text/plain": [
       "HBox(children=(IntProgress(value=1, bar_style='info', max=1), HTML(value='')))"
      ]
     },
     "metadata": {},
     "output_type": "display_data"
    },
    {
     "name": "stdout",
     "output_type": "stream",
     "text": [
      "\n"
     ]
    },
    {
     "data": {
      "application/vnd.jupyter.widget-view+json": {
       "model_id": "3a16a579c19e4806a673da1663db89c6",
       "version_major": 2,
       "version_minor": 0
      },
      "text/plain": [
       "HBox(children=(IntProgress(value=1, bar_style='info', max=1), HTML(value='')))"
      ]
     },
     "metadata": {},
     "output_type": "display_data"
    },
    {
     "name": "stdout",
     "output_type": "stream",
     "text": [
      "\n"
     ]
    }
   ],
   "source": [
    "# Tokenize the Datasets\n",
    "# TODO: this takes a really long time !! why?\n",
    "train_data_tokenized, all_tokens_train = ngram_utils.tokenize_dataset(train_data)\n",
    "valid_data_tokenized, all_tokens_valid = ngram_utils.tokenize_dataset(valid_data)\n"
   ]
  },
  {
   "cell_type": "code",
   "execution_count": 8,
   "metadata": {},
   "outputs": [],
   "source": [
    "N = 5"
   ]
  },
  {
   "cell_type": "code",
   "execution_count": 9,
   "metadata": {},
   "outputs": [],
   "source": [
    "train_data_padded = ngram_utils.pad_dataset(train_data_tokenized, n=N)\n",
    "valid_data_padded = ngram_utils.pad_dataset(valid_data_tokenized, n=N)"
   ]
  },
  {
   "cell_type": "code",
   "execution_count": 10,
   "metadata": {},
   "outputs": [
    {
     "data": {
      "text/plain": [
       "(63993, ('<sos>', '<eos>', '.', 'the', 'i', ',', 'and', 'a', 'it', 'to'))"
      ]
     },
     "execution_count": 10,
     "metadata": {},
     "output_type": "execute_result"
    }
   ],
   "source": [
    "vocab = ngram_utils.get_vocab(train_data_padded)\n",
    "vocab_size = len(vocab)\n",
    "vocab_size, vocab[:10]"
   ]
  },
  {
   "cell_type": "code",
   "execution_count": 11,
   "metadata": {},
   "outputs": [
    {
     "data": {
      "text/plain": [
       "(63996, 63994)"
      ]
     },
     "execution_count": 11,
     "metadata": {},
     "output_type": "execute_result"
    }
   ],
   "source": [
    "id2token, token2id = ngram_utils.get_dict(vocab)\n",
    "len(id2token), len(token2id)"
   ]
  },
  {
   "cell_type": "code",
   "execution_count": 12,
   "metadata": {},
   "outputs": [],
   "source": [
    "train_data_ids = ngram_utils.get_ids(train_data_padded, token2id)\n",
    "valid_data_ids = ngram_utils.get_ids(valid_data_padded, token2id)"
   ]
  },
  {
   "cell_type": "code",
   "execution_count": 13,
   "metadata": {},
   "outputs": [],
   "source": [
    "BATCH_SIZE = 2048"
   ]
  },
  {
   "cell_type": "code",
   "execution_count": 14,
   "metadata": {},
   "outputs": [
    {
     "name": "stderr",
     "output_type": "stream",
     "text": [
      "100%|██████████| 1069724/1069724 [00:30<00:00, 34677.71it/s]\n"
     ]
    }
   ],
   "source": [
    "train_dataset = AmazonDataset(train_data_ids, max_inp_length=None, use_cuda=USE_CUDA)\n",
    "train_dataset_ngrams = []\n",
    "for t in train_dataset:\n",
    "    for i in range(len(t) - N):\n",
    "        train_dataset_ngrams.append((t[i:i + N], t[i + N]))\n",
    "train_loader = DataLoader(train_dataset_ngrams, batch_size=BATCH_SIZE, collate_fn=batchify, shuffle=True)"
   ]
  },
  {
   "cell_type": "code",
   "execution_count": 15,
   "metadata": {},
   "outputs": [
    {
     "name": "stderr",
     "output_type": "stream",
     "text": [
      "100%|██████████| 124185/124185 [00:03<00:00, 39380.47it/s]\n"
     ]
    }
   ],
   "source": [
    "valid_dataset = AmazonDataset(valid_data_ids, max_inp_length=None, use_cuda=USE_CUDA)\n",
    "valid_dataset_ngrams = []\n",
    "for t in valid_dataset:\n",
    "    for i in range(len(t) - N):\n",
    "        valid_dataset_ngrams.append((t[i:i + N], t[i + N]))\n",
    "valid_loader = DataLoader(valid_dataset_ngrams, batch_size=BATCH_SIZE, collate_fn=batchify, shuffle=True)"
   ]
  },
  {
   "cell_type": "code",
   "execution_count": 16,
   "metadata": {},
   "outputs": [
    {
     "data": {
      "text/plain": [
       "(19223314, 2162309)"
      ]
     },
     "execution_count": 16,
     "metadata": {},
     "output_type": "execute_result"
    }
   ],
   "source": [
    "num_train = len(train_dataset_ngrams)\n",
    "num_valid = len(valid_dataset_ngrams)\n",
    "num_train, num_valid"
   ]
  },
  {
   "cell_type": "code",
   "execution_count": 23,
   "metadata": {},
   "outputs": [],
   "source": [
    "EMB_DIM = 300\n",
    "HIDDEN_SIZE = 256\n",
    "ENC_SIZE = 128\n",
    "ACTIVATION = 'ReLU'\n",
    "NUM_LAYERS = 2\n",
    "REDUCE = 'mean'\n",
    "DROPOUT = 0.1\n",
    "LEARNING_RATE = 0.1\n",
    "BATCH_NORM = False"
   ]
  },
  {
   "cell_type": "markdown",
   "metadata": {},
   "source": [
    "# Encoder"
   ]
  },
  {
   "cell_type": "code",
   "execution_count": 24,
   "metadata": {},
   "outputs": [
    {
     "data": {
      "text/plain": [
       "BagOfNGrams(\n",
       "  (embedding): EmbeddingBag(63996, 300, mode=mean)\n",
       "  (layers): ModuleList(\n",
       "    (0): Linear(in_features=300, out_features=256, bias=True)\n",
       "    (1): ReLU()\n",
       "    (2): Dropout(p=0.1)\n",
       "    (3): Linear(in_features=256, out_features=128, bias=True)\n",
       "  )\n",
       ")"
      ]
     },
     "execution_count": 24,
     "metadata": {},
     "output_type": "execute_result"
    }
   ],
   "source": [
    "encoder = BagOfNGrams(len(id2token), emb_dim=EMB_DIM, hidden_size=HIDDEN_SIZE, out_size=ENC_SIZE, activation=ACTIVATION, \\\n",
    "                        nlayers=NUM_LAYERS, reduce=REDUCE, dropout=DROPOUT, batch_norm=BATCH_NORM)\n",
    "encoder"
   ]
  },
  {
   "cell_type": "markdown",
   "metadata": {},
   "source": [
    "# Decoder"
   ]
  },
  {
   "cell_type": "code",
   "execution_count": 25,
   "metadata": {},
   "outputs": [
    {
     "data": {
      "text/plain": [
       "DecoderMLP(\n",
       "  (linear): Linear(in_features=128, out_features=256, bias=True)\n",
       "  (out): Linear(in_features=256, out_features=63996, bias=True)\n",
       "  (log_softmax): LogSoftmax()\n",
       ")"
      ]
     },
     "execution_count": 25,
     "metadata": {},
     "output_type": "execute_result"
    }
   ],
   "source": [
    "decoder = DecoderMLP(input_size=ENC_SIZE, output_size=len(id2token), hidden_size=HIDDEN_SIZE)\n",
    "decoder"
   ]
  },
  {
   "cell_type": "markdown",
   "metadata": {},
   "source": [
    "# Model"
   ]
  },
  {
   "cell_type": "code",
   "execution_count": 26,
   "metadata": {},
   "outputs": [
    {
     "data": {
      "text/plain": [
       "seq2seq(\n",
       "  (encoder): BagOfNGrams(\n",
       "    (embedding): EmbeddingBag(63996, 300, mode=mean)\n",
       "    (layers): ModuleList(\n",
       "      (0): Linear(in_features=300, out_features=256, bias=True)\n",
       "      (1): ReLU()\n",
       "      (2): Dropout(p=0.1)\n",
       "      (3): Linear(in_features=256, out_features=128, bias=True)\n",
       "    )\n",
       "  )\n",
       "  (decoder): DecoderMLP(\n",
       "    (linear): Linear(in_features=128, out_features=256, bias=True)\n",
       "    (out): Linear(in_features=256, out_features=63996, bias=True)\n",
       "    (log_softmax): LogSoftmax()\n",
       "  )\n",
       "  (criterion): NLLLoss()\n",
       ")"
      ]
     },
     "execution_count": 26,
     "metadata": {},
     "output_type": "execute_result"
    }
   ],
   "source": [
    "model = seq2seq(encoder, decoder, id2token, use_cuda=USE_CUDA, lr=LEARNING_RATE, size_ngrams=N) \n",
    "model"
   ]
  },
  {
   "cell_type": "code",
   "execution_count": 27,
   "metadata": {},
   "outputs": [],
   "source": [
    "TRAIN = True"
   ]
  },
  {
   "cell_type": "markdown",
   "metadata": {},
   "source": [
    "# Training"
   ]
  },
  {
   "cell_type": "code",
   "execution_count": null,
   "metadata": {},
   "outputs": [
    {
     "name": "stdout",
     "output_type": "stream",
     "text": [
      "| Epoch   0 | Train Loss  4.69 | Train PPL   109.34 |  1000/ 9386 Batches\n",
      "| Epoch   0 | Train Loss  4.13 | Train PPL    62.38 |  2000/ 9386 Batches\n",
      "| Epoch   0 | Train Loss  4.04 | Train PPL    56.74 |  3000/ 9386 Batches\n",
      "| Epoch   0 | Train Loss  3.99 | Train PPL    54.11 |  4000/ 9386 Batches\n",
      "| Epoch   0 | Train Loss  3.95 | Train PPL    52.07 |  5000/ 9386 Batches\n",
      "| Epoch   0 | Train Loss  3.93 | Train PPL    51.02 |  6000/ 9386 Batches\n",
      "| Epoch   0 | Train Loss  3.91 | Train PPL    49.67 |  7000/ 9386 Batches\n",
      "| Epoch   0 | Train Loss  3.89 | Train PPL    48.86 |  8000/ 9386 Batches\n",
      "| Epoch   0 | Train Loss  3.88 | Train PPL    48.32 |  9000/ 9386 Batches\n",
      "-----------------------------------------------------------------------------------------\n",
      "| Epoch   0 | Valid Loss  3.68 | Valid PPL    39.72\n",
      "-----------------------------------------------------------------------------------------\n",
      "| Epoch   1 | Train Loss  3.85 | Train PPL    47.07 |  1000/ 9386 Batches\n",
      "| Epoch   1 | Train Loss  3.84 | Train PPL    46.50 |  2000/ 9386 Batches\n",
      "| Epoch   1 | Train Loss  3.83 | Train PPL    46.05 |  3000/ 9386 Batches\n"
     ]
    }
   ],
   "source": [
    "if TRAIN:\n",
    "    num_epochs = 10\n",
    "    log_interval = 1000\n",
    "    best_eval_loss = np.inf\n",
    "\n",
    "    for epoch in range(num_epochs):\n",
    "        # Train on entire train data using minibatches\n",
    "        cur_loss = 0\n",
    "        for i, (data, labels) in enumerate(train_loader):\n",
    "            prediction, loss = model.train_step(data, labels)\n",
    "            cur_loss += loss\n",
    "\n",
    "            if i % log_interval == 0 and i > 0:\n",
    "                cur_loss = cur_loss / log_interval\n",
    "                print('| Epoch {:3d} | Train Loss {:5.2f} | Train PPL {:8.2f} | {:5d}/{:5d} Batches'.format(\n",
    "                    epoch, cur_loss, math.exp(cur_loss), i, int(num_train/len(data))))\n",
    "                cur_loss = 0\n",
    "\n",
    "        # Eval at the end of every epoch\n",
    "        eval_loss = 0\n",
    "        for i, (data, labels) in enumerate(valid_loader):\n",
    "            prediction, loss = model.eval_step(data, labels)\n",
    "            eval_loss += len(data) * loss\n",
    "        eval_loss = eval_loss / num_valid \n",
    "        print('-' * 89)\n",
    "        print('| Epoch {:3d} | Valid Loss {:5.2f} | Valid PPL {:8.2f}'.format(\n",
    "            epoch, eval_loss, math.exp(eval_loss)))\n",
    "        print('-' * 89)\n",
    "\n",
    "        # Save the model if the validation loss is the best we've seen so far.\n",
    "        if not best_eval_loss or eval_loss < best_eval_loss:\n",
    "            model.save_model('neural_lm_amazon_model_all_new_N{}'.format(N) + '.pt')\n",
    "            best_eval_loss = eval_loss\n",
    "            \n",
    "    pretrained_model = model\n",
    "\n",
    "else:\n",
    "    # Load Pretrained Model\n",
    "    pretrained_model = seq2seq(encoder, decoder, id2token, use_cuda=USE_CUDA, lr=LEARNING_RATE, size_ngrams=N) \n",
    "    pretrained_model.load_model('neural_lm_amazon_model_all_new_N{}'.format(N) + '.pt')\n",
    "    pretrained_model"
   ]
  },
  {
   "cell_type": "markdown",
   "metadata": {},
   "source": [
    "### Get Loader for Some N"
   ]
  },
  {
   "cell_type": "code",
   "execution_count": null,
   "metadata": {},
   "outputs": [],
   "source": [
    "def get_loader(train_data_tokenized, valid_data_tokenized, N):\n",
    "    # Tokenize the Datasets\n",
    "    # TODO: this takes a really long time !! why?\n",
    "    train_data_tokenized, all_tokens_train = ngram_utils.tokenize_dataset(train_data)\n",
    "    valid_data_tokenized, all_tokens_valid = ngram_utils.tokenize_dataset(valid_data)\n",
    "    \n",
    "    train_data_padded = ngram_utils.pad_dataset(train_data_tokenized, n=N)\n",
    "    valid_data_padded = ngram_utils.pad_dataset(valid_data_tokenized, n=N)\n",
    "    \n",
    "    vocab = ngram_utils.get_vocab(train_data_padded)\n",
    "    id2token, token2id = ngram_utils.get_dict(vocab)\n",
    "    \n",
    "    train_data_ids = ngram_utils.get_ids(train_data_padded, token2id)\n",
    "    valid_data_ids = ngram_utils.get_ids(valid_data_padded, token2id)\n",
    "\n",
    "    train_dataset = AmazonDataset(train_data_ids, max_inp_length=None, use_cuda=USE_CUDA)\n",
    "    train_dataset_ngrams = []\n",
    "    for t in train_dataset:\n",
    "        for i in range(len(t) - N):\n",
    "            train_dataset_ngrams.append((t[i:i + N], t[i + N]))\n",
    "    train_loader = DataLoader(train_dataset_ngrams, batch_size=BATCH_SIZE, collate_fn=batchify, shuffle=True)\n",
    "\n",
    "    valid_dataset = AmazonDataset(valid_data_ids, max_inp_length=None, use_cuda=USE_CUDA)\n",
    "    valid_dataset_ngrams = []\n",
    "    for t in valid_dataset:\n",
    "        for i in range(len(t) - N):\n",
    "            valid_dataset_ngrams.append((t[i:i + N], t[i + N]))\n",
    "    valid_loader = DataLoader(valid_dataset_ngrams, batch_size=BATCH_SIZE, collate_fn=batchify, shuffle=True)\n",
    "    \n",
    "    num_train = len(train_dataset_ngrams)\n",
    "    num_valid = len(valid_dataset_ngrams)\n",
    "    \n",
    "    return train_loader, num_train, valid_loader, num_valid"
   ]
  },
  {
   "cell_type": "markdown",
   "metadata": {},
   "source": [
    "## Perplexity (Train + Valid Data)"
   ]
  },
  {
   "cell_type": "code",
   "execution_count": null,
   "metadata": {},
   "outputs": [],
   "source": [
    "def get_perplexity(loader, num_data, model):\n",
    "    total_loss = 0\n",
    "    total_count = 0\n",
    "    for i, (data, labels) in enumerate(loader):\n",
    "        prediction, loss = model.eval_step(data, labels)\n",
    "        total_loss += len(data) * loss\n",
    "        total_count += len(data)\n",
    "    total_loss = total_loss / total_count\n",
    "    ppl = math.exp(total_loss)\n",
    "    return ppl"
   ]
  },
  {
   "cell_type": "code",
   "execution_count": null,
   "metadata": {},
   "outputs": [],
   "source": [
    "# Load Pretrained Model\n",
    "N = 3\n",
    "print(\"Ngrams: \", N)\n",
    "\n",
    "model_n3 = seq2seq(encoder, decoder, id2token, use_cuda=USE_CUDA, lr=LEARNING_RATE, size_ngrams=N) \n",
    "model_n3.load_model('neural_lm_amazon_model_all_N{}'.format(N) + '.pt')\n",
    "print(\"Model: \", model_n3)\n",
    "\n",
    "train_loader, num_train, valid_loader, num_valid = get_loader(train_data_tokenized, valid_data_tokenized, N)\n",
    "\n",
    "valid_ppl = get_perplexity(valid_loader, num_valid, model_n3)\n",
    "print(\"Validation Perplexity: \", valid_ppl)\n",
    "\n",
    "train_ppl = get_perplexity(train_loader, num_train, model_n3)\n",
    "print(\"Training Perplexity: \", train_ppl)\n"
   ]
  },
  {
   "cell_type": "code",
   "execution_count": null,
   "metadata": {},
   "outputs": [],
   "source": [
    "# Load Pretrained Model\n",
    "N = 5\n",
    "print(\"Ngrams: \", N)\n",
    "\n",
    "model_n5 = seq2seq(encoder, decoder, id2token, use_cuda=USE_CUDA, lr=LEARNING_RATE, size_ngrams=N) \n",
    "model_n5.load_model('neural_lm_amazon_model_all_N{}'.format(N) + '.pt')\n",
    "print(\"Model: \", model_n5)\n",
    "\n",
    "train_loader, num_train, valid_loader, num_valid = get_loader(train_data_tokenized, valid_data_tokenized, N)\n",
    "\n",
    "valid_ppl = get_perplexity(valid_loader, num_valid, model_n5)\n",
    "print(\"Validation Perplexity: \", valid_ppl)\n",
    "\n",
    "train_ppl = get_perplexity(train_loader, num_train, model_n5)\n",
    "print(\"Training Perplexity: \", train_ppl)\n"
   ]
  },
  {
   "cell_type": "code",
   "execution_count": null,
   "metadata": {},
   "outputs": [],
   "source": [
    "# # Load Pretrained Model\n",
    "# N = 7\n",
    "# print(\"Ngrams: \", N)\n",
    "\n",
    "# model_n7 = seq2seq(encoder, decoder, id2token, use_cuda=USE_CUDA, lr=LEARNING_RATE, size_ngrams=N) \n",
    "# model_n7.load_model('neural_lm_amazon_model_all_N{}'.format(N) + '.pt')\n",
    "# print(\"Model: \", model_n7)\n",
    "\n",
    "# train_loader, num_train, valid_loader, num_valid = get_loader(train_data_tokenized, valid_data_tokenized, N)\n",
    "\n",
    "# valid_ppl = get_perplexity(valid_loader, num_valid, model_n7)\n",
    "# print(\"Validation Perplexity: \", valid_ppl)\n",
    "\n",
    "# train_ppl = get_perplexity(train_loader, num_train, model_n7)\n",
    "# print(\"Training Perplexity: \", train_ppl)\n"
   ]
  },
  {
   "cell_type": "code",
   "execution_count": null,
   "metadata": {},
   "outputs": [],
   "source": [
    "# # Load Pretrained Model\n",
    "# N = 10\n",
    "# print(\"Ngrams: \", N)\n",
    "\n",
    "# model_n10 = seq2seq(encoder, decoder, id2token, use_cuda=USE_CUDA, lr=LEARNING_RATE, size_ngrams=N) \n",
    "# model_n10.load_model('neural_lm_amazon_model_all_N{}'.format(N) + '.pt')\n",
    "# print(\"Model: \", model_n10)\n",
    "\n",
    "# train_loader, num_train, valid_loader, num_valid = get_loader(train_data_tokenized, valid_data_tokenized, N)\n",
    "\n",
    "# valid_ppl = get_perplexity(valid_loader, num_valid, model_n10)\n",
    "# print(\"Validation Perplexity: \", valid_ppl)\n",
    "\n",
    "# train_ppl = get_perplexity(train_loader, num_train, model_n10)\n",
    "# print(\"Training Perplexity: \", train_ppl)\n"
   ]
  },
  {
   "cell_type": "markdown",
   "metadata": {},
   "source": [
    "## Score Sentences"
   ]
  },
  {
   "cell_type": "code",
   "execution_count": null,
   "metadata": {},
   "outputs": [],
   "source": [
    "def score_sentence(sent, model):\n",
    "    tokenized, _ = ngram_utils.tokenize_dataset(sent)\n",
    "    sent_ids = ngram_utils.get_ids(tokenized, token2id)\n",
    "    sent_tensor = torch.LongTensor(sent_ids).to(device)\n",
    "    generated, scores = model.evaluate(sent_tensor, score_only=True)\n",
    "    ppl = math.exp(scores)\n",
    "    return ppl"
   ]
  },
  {
   "cell_type": "code",
   "execution_count": null,
   "metadata": {},
   "outputs": [],
   "source": [
    "sentence = ['i like pandas']\n",
    "ppl3 = score_sentence(sentence, model_n3)\n",
    "ppl5 = score_sentence(sentence, model_n5)\n",
    "# ppl7 = score_sentence(sentence, model_n7)\n",
    "# ppl10 = score_sentence(sentence, model_n10)\n",
    "ppl3, ppl5#, ppl7, ppl10"
   ]
  },
  {
   "cell_type": "code",
   "execution_count": null,
   "metadata": {},
   "outputs": [],
   "source": [
    "sentence = ['tutu tutu is not my favorit']\n",
    "ppl3 = score_sentence(sentence, model_n3)\n",
    "ppl5 = score_sentence(sentence, model_n5)\n",
    "# ppl7 = score_sentence(sentence, model_n7)\n",
    "# ppl10 = score_sentence(sentence, model_n10)\n",
    "ppl3, ppl5#, ppl7, ppl10"
   ]
  },
  {
   "cell_type": "code",
   "execution_count": null,
   "metadata": {},
   "outputs": [],
   "source": [
    "sentence = ['i really like this watch']\n",
    "ppl3 = score_sentence(sentence, model_n3)\n",
    "ppl5 = score_sentence(sentence, model_n5)\n",
    "# ppl7 = score_sentence(sentence, model_n7)\n",
    "# ppl10 = score_sentence(sentence, model_n10)\n",
    "ppl3, ppl5#, ppl7, ppl10"
   ]
  },
  {
   "cell_type": "code",
   "execution_count": null,
   "metadata": {},
   "outputs": [],
   "source": [
    "sentence = ['training neural networks']\n",
    "ppl3 = score_sentence(sentence, model_n3)\n",
    "ppl5 = score_sentence(sentence, model_n5)\n",
    "# ppl7 = score_sentence(sentence, model_n7)\n",
    "# ppl10 = score_sentence(sentence, model_n10)\n",
    "ppl3, ppl5#, ppl7, ppl10"
   ]
  },
  {
   "cell_type": "code",
   "execution_count": null,
   "metadata": {},
   "outputs": [],
   "source": [
    "sentence = ['this is a great tutu']\n",
    "ppl3 = score_sentence(sentence, model_n3)\n",
    "ppl5 = score_sentence(sentence, model_n5)\n",
    "# ppl7 = score_sentence(sentence, model_n7)\n",
    "# ppl10 = score_sentence(sentence, model_n10)\n",
    "ppl3, ppl5#, ppl7, ppl10"
   ]
  },
  {
   "cell_type": "code",
   "execution_count": null,
   "metadata": {},
   "outputs": [],
   "source": [
    "sentence = ['my wife really likes the color of this dress']\n",
    "ppl3 = score_sentence(sentence, model_n3)\n",
    "ppl5 = score_sentence(sentence, model_n5)\n",
    "# ppl7 = score_sentence(sentence, model_n7)\n",
    "# ppl10 = score_sentence(sentence, model_n10)\n",
    "ppl3, ppl5#, ppl7, ppl10"
   ]
  },
  {
   "cell_type": "markdown",
   "metadata": {},
   "source": [
    "## Generate Sentences"
   ]
  },
  {
   "cell_type": "code",
   "execution_count": null,
   "metadata": {},
   "outputs": [],
   "source": [
    "def generate_sentence(model, context=None):\n",
    "    if context is None:\n",
    "        dummy_context = torch.LongTensor([[0]]).to(device)\n",
    "        generated, scores = model.evaluate(dummy_context, use_context=False)\n",
    "    else:\n",
    "        tokenized, _ = ngram_utils.tokenize_dataset(context)\n",
    "        context_ids = ngram_utils.get_ids(tokenized, token2id)\n",
    "        context_tensor = torch.LongTensor(context_ids).to(device)\n",
    "        generated, scores = model.evaluate(context_tensor, use_context=True)\n",
    "    \n",
    "    ppl = math.exp(scores)\n",
    "    return generated, scores"
   ]
  },
  {
   "cell_type": "markdown",
   "metadata": {},
   "source": [
    "### No Context"
   ]
  },
  {
   "cell_type": "code",
   "execution_count": null,
   "metadata": {},
   "outputs": [],
   "source": [
    "generated, scores = generate_sentence(model_n3)\n",
    "print(' '.join(word[0] for word in generated)), scores"
   ]
  },
  {
   "cell_type": "code",
   "execution_count": null,
   "metadata": {},
   "outputs": [],
   "source": [
    "generated, scores = generate_sentence(model_n5)\n",
    "print(' '.join(word[0] for word in generated))"
   ]
  },
  {
   "cell_type": "code",
   "execution_count": null,
   "metadata": {},
   "outputs": [],
   "source": [
    "# generated, scores = generate_sentence(model_n7)\n",
    "# print(' '.join(word[0] for word in generated))"
   ]
  },
  {
   "cell_type": "code",
   "execution_count": null,
   "metadata": {},
   "outputs": [],
   "source": [
    "# generated, scores = generate_sentence(model_n10)\n",
    "# print(' '.join(word[0] for word in generated))"
   ]
  },
  {
   "cell_type": "markdown",
   "metadata": {},
   "source": [
    "### With Context"
   ]
  },
  {
   "cell_type": "code",
   "execution_count": null,
   "metadata": {},
   "outputs": [],
   "source": [
    "generated, scores = generate_sentence(model_n3, context=['this dress'])\n",
    "print(' '.join(word[0] for word in generated))"
   ]
  },
  {
   "cell_type": "code",
   "execution_count": null,
   "metadata": {},
   "outputs": [],
   "source": [
    "generated, scores = generate_sentence(model_n5, context=['this dress'])\n",
    "print(' '.join(word[0] for word in generated))"
   ]
  },
  {
   "cell_type": "code",
   "execution_count": null,
   "metadata": {},
   "outputs": [],
   "source": [
    "# generated, scores = generate_sentence(model_n7, context=['this dress'])\n",
    "# print(' '.join(word[0] for word in generated))"
   ]
  },
  {
   "cell_type": "code",
   "execution_count": null,
   "metadata": {},
   "outputs": [],
   "source": [
    "# generated, scores = generate_sentence(model_n10, context=['this dress'])\n",
    "# print(' '.join(word[0] for word in generated))"
   ]
  },
  {
   "cell_type": "code",
   "execution_count": null,
   "metadata": {},
   "outputs": [],
   "source": []
  },
  {
   "cell_type": "code",
   "execution_count": null,
   "metadata": {},
   "outputs": [],
   "source": [
    "generated, scores = generate_sentence(model_n3, context=['i like'])\n",
    "print(' '.join(word[0] for word in generated))"
   ]
  },
  {
   "cell_type": "code",
   "execution_count": null,
   "metadata": {},
   "outputs": [],
   "source": [
    "generated, scores = generate_sentence(model_n5, context=['i like'])\n",
    "print(' '.join(word[0] for word in generated))"
   ]
  },
  {
   "cell_type": "code",
   "execution_count": null,
   "metadata": {},
   "outputs": [],
   "source": [
    "# generated, scores = generate_sentence(model_n7, context=['i like'])\n",
    "# print(' '.join(word[0] for word in generated))"
   ]
  },
  {
   "cell_type": "code",
   "execution_count": null,
   "metadata": {},
   "outputs": [],
   "source": [
    "# generated, scores = generate_sentence(model_n10, context=['i like'])\n",
    "# print(' '.join(word[0] for word in generated))"
   ]
  },
  {
   "cell_type": "code",
   "execution_count": null,
   "metadata": {},
   "outputs": [],
   "source": []
  },
  {
   "cell_type": "code",
   "execution_count": null,
   "metadata": {},
   "outputs": [],
   "source": []
  }
 ],
 "metadata": {
  "kernelspec": {
   "display_name": "Python 3",
   "language": "python",
   "name": "python3"
  },
  "language_info": {
   "codemirror_mode": {
    "name": "ipython",
    "version": 3
   },
   "file_extension": ".py",
   "mimetype": "text/x-python",
   "name": "python",
   "nbconvert_exporter": "python",
   "pygments_lexer": "ipython3",
   "version": "3.7.1"
  }
 },
 "nbformat": 4,
 "nbformat_minor": 2
}

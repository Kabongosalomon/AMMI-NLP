{
 "cells": [
  {
   "cell_type": "code",
   "execution_count": 59,
   "metadata": {},
   "outputs": [],
   "source": [
    "import os\n",
    "import sys\n",
    "sys.path.append('utils/')\n",
    "import loading_text_and_tokenization\n",
    "import torch\n",
    "import numpy as np\n",
    "import torch.nn as nn\n",
    "import random\n",
    "import math\n",
    "\n",
    "import utils.ngram_utils as ngram_utils\n",
    "from utils.ngram_utils import NgramLM\n",
    "from utils.amazon_dataset import AmazonDataset, pad, batchify\n",
    "from torch.utils.data import DataLoader\n",
    "from utils.neural_lm import BagOfNGrams, DecoderMLP, seq2seq\n",
    "import utils.global_variables as gl\n",
    "import torch\n",
    "from tqdm import tqdm_notebook, tqdm\n",
    "_tqdm = tqdm_notebook"
   ]
  },
  {
   "cell_type": "code",
   "execution_count": 60,
   "metadata": {},
   "outputs": [
    {
     "data": {
      "text/plain": [
       "<torch._C.Generator at 0x7fabb41d07b0>"
      ]
     },
     "execution_count": 60,
     "metadata": {},
     "output_type": "execute_result"
    }
   ],
   "source": [
    "torch.manual_seed(1)\n"
   ]
  },
  {
   "cell_type": "code",
   "execution_count": 61,
   "metadata": {},
   "outputs": [],
   "source": [
    "use_cuda = True\n",
    "device = torch.device(\"cuda\" if (torch.cuda.is_available() and use_cuda) else \"cpu\")\n"
   ]
  },
  {
   "cell_type": "code",
   "execution_count": 62,
   "metadata": {},
   "outputs": [],
   "source": [
    "# Read data from .txt files and create lists of reviews\n",
    "train_data = []\n",
    "# create a list of all the reviews \n",
    "with open('../data/small_train.txt', 'r') as f:\n",
    "    train_data = [review for review in f.read().split('\\n') if review]\n",
    "    \n",
    "valid_data = []\n",
    "# create a list of all the reviews \n",
    "with open('../data/small_valid.txt', 'r') as f:\n",
    "    valid_data = [review for review in f.read().split('\\n') if review]\n",
    "    "
   ]
  },
  {
   "cell_type": "code",
   "execution_count": 63,
   "metadata": {},
   "outputs": [
    {
     "data": {
      "text/plain": [
       "(\"this is a great tutu and at a really great price . it doesn ' t look cheap at all . i ' m so glad i looked on amazon and found such an affordable tutu that isn ' t made poorly . a + + \",\n",
       " list,\n",
       " 2227,\n",
       " str)"
      ]
     },
     "execution_count": 63,
     "metadata": {},
     "output_type": "execute_result"
    }
   ],
   "source": [
    "train_data[0], valid_data[0]\n",
    "train_data = train_data#[:100]\n",
    "valid_data = valid_data#[:10]\n",
    "train_data[0], type(train_data), len(train_data), type(train_data[0])"
   ]
  },
  {
   "cell_type": "code",
   "execution_count": 64,
   "metadata": {},
   "outputs": [
    {
     "data": {
      "application/vnd.jupyter.widget-view+json": {
       "model_id": "54b2193dc98141818c0fbc45467f7039",
       "version_major": 2,
       "version_minor": 0
      },
      "text/plain": [
       "HBox(children=(IntProgress(value=1, bar_style='info', max=1), HTML(value='')))"
      ]
     },
     "metadata": {},
     "output_type": "display_data"
    },
    {
     "name": "stdout",
     "output_type": "stream",
     "text": [
      "\n"
     ]
    },
    {
     "data": {
      "application/vnd.jupyter.widget-view+json": {
       "model_id": "5428a67f0bc0487a87398d47a5f3edae",
       "version_major": 2,
       "version_minor": 0
      },
      "text/plain": [
       "HBox(children=(IntProgress(value=1, bar_style='info', max=1), HTML(value='')))"
      ]
     },
     "metadata": {},
     "output_type": "display_data"
    },
    {
     "name": "stdout",
     "output_type": "stream",
     "text": [
      "\n"
     ]
    }
   ],
   "source": [
    "# Tokenize the Datasets\n",
    "# TODO: this takes a really long time !! why?\n",
    "train_data_tokenized, all_tokens_train = ngram_utils.tokenize_dataset(train_data)\n",
    "valid_data_tokenized, all_tokens_valid = ngram_utils.tokenize_dataset(valid_data)\n"
   ]
  },
  {
   "cell_type": "code",
   "execution_count": 65,
   "metadata": {},
   "outputs": [],
   "source": [
    "N = 7"
   ]
  },
  {
   "cell_type": "code",
   "execution_count": 66,
   "metadata": {},
   "outputs": [],
   "source": [
    "train_data_padded = ngram_utils.pad_dataset(train_data_tokenized, n=N)\n",
    "valid_data_padded = ngram_utils.pad_dataset(valid_data_tokenized, n=N)"
   ]
  },
  {
   "cell_type": "code",
   "execution_count": 67,
   "metadata": {},
   "outputs": [
    {
     "data": {
      "text/plain": [
       "(6940, ('<sos>', '<eos>', '.', 'the', 'i', ',', 'and', 'a', 'to', \"'\"))"
      ]
     },
     "execution_count": 67,
     "metadata": {},
     "output_type": "execute_result"
    }
   ],
   "source": [
    "vocab = ngram_utils.get_vocab(train_data_padded)\n",
    "vocab_size = len(vocab)\n",
    "vocab_size, vocab[:10]"
   ]
  },
  {
   "cell_type": "code",
   "execution_count": 68,
   "metadata": {},
   "outputs": [
    {
     "data": {
      "text/plain": [
       "(6943, 6941)"
      ]
     },
     "execution_count": 68,
     "metadata": {},
     "output_type": "execute_result"
    }
   ],
   "source": [
    "id2token, token2id = ngram_utils.get_dict(vocab)\n",
    "len(id2token), len(token2id)"
   ]
  },
  {
   "cell_type": "code",
   "execution_count": 69,
   "metadata": {},
   "outputs": [],
   "source": [
    "train_data_ids = ngram_utils.get_ids(train_data_padded, token2id)\n",
    "valid_data_ids = ngram_utils.get_ids(valid_data_padded, token2id)"
   ]
  },
  {
   "cell_type": "code",
   "execution_count": 70,
   "metadata": {},
   "outputs": [
    {
     "name": "stderr",
     "output_type": "stream",
     "text": [
      "100%|██████████| 10832/10832 [00:00<00:00, 32761.74it/s]\n"
     ]
    }
   ],
   "source": [
    "train_dataset = AmazonDataset(train_data_ids, max_inp_length=None, use_cuda=True)\n",
    "train_dataset_ngrams = []\n",
    "for t in train_dataset:\n",
    "    for i in range(len(t) - N):\n",
    "        train_dataset_ngrams.append((t[i:i + N], t[i + N]))\n",
    "train_loader = DataLoader(train_dataset_ngrams, batch_size=2048, collate_fn=batchify, shuffle=True)"
   ]
  },
  {
   "cell_type": "code",
   "execution_count": 71,
   "metadata": {},
   "outputs": [
    {
     "name": "stderr",
     "output_type": "stream",
     "text": [
      "100%|██████████| 1533/1533 [00:00<00:00, 45497.03it/s]\n"
     ]
    }
   ],
   "source": [
    "valid_dataset = AmazonDataset(valid_data_ids, max_inp_length=None, use_cuda=True)\n",
    "valid_dataset_ngrams = []\n",
    "for t in valid_dataset:\n",
    "    for i in range(len(t) - N):\n",
    "        valid_dataset_ngrams.append((t[i:i + N], t[i + N]))\n",
    "valid_loader = DataLoader(valid_dataset_ngrams, batch_size=2048, collate_fn=batchify, shuffle=True)"
   ]
  },
  {
   "cell_type": "code",
   "execution_count": 72,
   "metadata": {},
   "outputs": [
    {
     "data": {
      "text/plain": [
       "(220156, 31775)"
      ]
     },
     "execution_count": 72,
     "metadata": {},
     "output_type": "execute_result"
    }
   ],
   "source": [
    "num_train = len(train_dataset_ngrams)\n",
    "num_valid = len(valid_dataset_ngrams)\n",
    "num_train, num_valid"
   ]
  },
  {
   "cell_type": "code",
   "execution_count": 73,
   "metadata": {},
   "outputs": [
    {
     "data": {
      "text/plain": [
       "BagOfNGrams(\n",
       "  (embedding): EmbeddingBag(6943, 300, mode=mean)\n",
       "  (layers): ModuleList(\n",
       "    (0): Linear(in_features=300, out_features=256, bias=True)\n",
       "    (1): ReLU()\n",
       "    (2): Dropout(p=0.1)\n",
       "    (3): Linear(in_features=256, out_features=128, bias=True)\n",
       "  )\n",
       ")"
      ]
     },
     "execution_count": 73,
     "metadata": {},
     "output_type": "execute_result"
    }
   ],
   "source": [
    "encoder = BagOfNGrams(len(id2token), emb_dim=300, hidden_size=256, out_size=128, activation='ReLU', nlayers=2, reduce='mean', dropout=0.1, batch_norm=False)\n",
    "encoder"
   ]
  },
  {
   "cell_type": "code",
   "execution_count": 74,
   "metadata": {},
   "outputs": [
    {
     "data": {
      "text/plain": [
       "DecoderMLP(\n",
       "  (linear): Linear(in_features=128, out_features=256, bias=True)\n",
       "  (out): Linear(in_features=256, out_features=6943, bias=True)\n",
       "  (log_softmax): LogSoftmax()\n",
       ")"
      ]
     },
     "execution_count": 74,
     "metadata": {},
     "output_type": "execute_result"
    }
   ],
   "source": [
    "decoder = DecoderMLP(input_size=128, output_size=len(id2token), hidden_size=256)\n",
    "decoder"
   ]
  },
  {
   "cell_type": "code",
   "execution_count": 75,
   "metadata": {},
   "outputs": [
    {
     "data": {
      "text/plain": [
       "seq2seq(\n",
       "  (encoder): BagOfNGrams(\n",
       "    (embedding): EmbeddingBag(6943, 300, mode=mean)\n",
       "    (layers): ModuleList(\n",
       "      (0): Linear(in_features=300, out_features=256, bias=True)\n",
       "      (1): ReLU()\n",
       "      (2): Dropout(p=0.1)\n",
       "      (3): Linear(in_features=256, out_features=128, bias=True)\n",
       "    )\n",
       "  )\n",
       "  (decoder): DecoderMLP(\n",
       "    (linear): Linear(in_features=128, out_features=256, bias=True)\n",
       "    (out): Linear(in_features=256, out_features=6943, bias=True)\n",
       "    (log_softmax): LogSoftmax()\n",
       "  )\n",
       "  (criterion): NLLLoss()\n",
       ")"
      ]
     },
     "execution_count": 75,
     "metadata": {},
     "output_type": "execute_result"
    }
   ],
   "source": [
    "model = seq2seq(encoder, decoder, id2token, use_cuda=False, lr=0.1, size_ngrams=N) \n",
    "model"
   ]
  },
  {
   "cell_type": "code",
   "execution_count": 76,
   "metadata": {},
   "outputs": [],
   "source": [
    "TRAIN = True"
   ]
  },
  {
   "cell_type": "code",
   "execution_count": 77,
   "metadata": {},
   "outputs": [
    {
     "name": "stdout",
     "output_type": "stream",
     "text": [
      "| Epoch   0 | Train Loss  8.26 | Train PPL  3849.74 |    10/  107 Batches\n",
      "| Epoch   0 | Train Loss  6.39 | Train PPL   594.23 |    20/  107 Batches\n",
      "| Epoch   0 | Train Loss  5.70 | Train PPL   300.25 |    30/  107 Batches\n",
      "| Epoch   0 | Train Loss  5.10 | Train PPL   164.84 |    40/  107 Batches\n",
      "| Epoch   0 | Train Loss  4.82 | Train PPL   123.54 |    50/  107 Batches\n",
      "| Epoch   0 | Train Loss  4.67 | Train PPL   106.59 |    60/  107 Batches\n",
      "| Epoch   0 | Train Loss  4.54 | Train PPL    93.27 |    70/  107 Batches\n",
      "| Epoch   0 | Train Loss  4.49 | Train PPL    89.34 |    80/  107 Batches\n",
      "| Epoch   0 | Train Loss  4.41 | Train PPL    82.25 |    90/  107 Batches\n",
      "| Epoch   0 | Train Loss  4.38 | Train PPL    79.95 |   100/  107 Batches\n",
      "-----------------------------------------------------------------------------------------\n",
      "| Epoch   0 | Valid Loss  4.81 | Valid PPL   122.18\n",
      "-----------------------------------------------------------------------------------------\n",
      "| Epoch   1 | Train Loss  4.87 | Train PPL   130.15 |    10/  107 Batches\n",
      "| Epoch   1 | Train Loss  4.34 | Train PPL    76.91 |    20/  107 Batches\n",
      "| Epoch   1 | Train Loss  4.30 | Train PPL    74.01 |    30/  107 Batches\n",
      "| Epoch   1 | Train Loss  4.41 | Train PPL    82.28 |    40/  107 Batches\n",
      "| Epoch   1 | Train Loss  4.30 | Train PPL    73.93 |    50/  107 Batches\n",
      "| Epoch   1 | Train Loss  4.36 | Train PPL    78.48 |    60/  107 Batches\n",
      "| Epoch   1 | Train Loss  4.28 | Train PPL    72.12 |    70/  107 Batches\n",
      "| Epoch   1 | Train Loss  4.25 | Train PPL    70.15 |    80/  107 Batches\n",
      "| Epoch   1 | Train Loss  4.27 | Train PPL    71.36 |    90/  107 Batches\n",
      "| Epoch   1 | Train Loss  4.25 | Train PPL    70.24 |   100/  107 Batches\n",
      "-----------------------------------------------------------------------------------------\n",
      "| Epoch   1 | Valid Loss  4.18 | Valid PPL    65.21\n",
      "-----------------------------------------------------------------------------------------\n",
      "| Epoch   2 | Train Loss  4.59 | Train PPL    98.87 |    10/  107 Batches\n",
      "| Epoch   2 | Train Loss  4.17 | Train PPL    64.77 |    20/  107 Batches\n",
      "| Epoch   2 | Train Loss  4.16 | Train PPL    64.15 |    30/  107 Batches\n",
      "| Epoch   2 | Train Loss  4.13 | Train PPL    62.30 |    40/  107 Batches\n",
      "| Epoch   2 | Train Loss  4.16 | Train PPL    64.14 |    50/  107 Batches\n",
      "| Epoch   2 | Train Loss  4.12 | Train PPL    61.69 |    60/  107 Batches\n",
      "| Epoch   2 | Train Loss  4.13 | Train PPL    61.96 |    70/  107 Batches\n",
      "| Epoch   2 | Train Loss  4.12 | Train PPL    61.35 |    80/  107 Batches\n",
      "| Epoch   2 | Train Loss  4.12 | Train PPL    61.35 |    90/  107 Batches\n",
      "| Epoch   2 | Train Loss  4.08 | Train PPL    58.89 |   100/  107 Batches\n",
      "-----------------------------------------------------------------------------------------\n",
      "| Epoch   2 | Valid Loss  4.05 | Valid PPL    57.41\n",
      "-----------------------------------------------------------------------------------------\n",
      "| Epoch   3 | Train Loss  4.44 | Train PPL    84.57 |    10/  107 Batches\n",
      "| Epoch   3 | Train Loss  4.06 | Train PPL    58.06 |    20/  107 Batches\n",
      "| Epoch   3 | Train Loss  4.01 | Train PPL    55.11 |    30/  107 Batches\n",
      "| Epoch   3 | Train Loss  4.01 | Train PPL    55.41 |    40/  107 Batches\n",
      "| Epoch   3 | Train Loss  4.00 | Train PPL    54.69 |    50/  107 Batches\n",
      "| Epoch   3 | Train Loss  4.01 | Train PPL    54.98 |    60/  107 Batches\n",
      "| Epoch   3 | Train Loss  4.02 | Train PPL    55.57 |    70/  107 Batches\n",
      "| Epoch   3 | Train Loss  4.00 | Train PPL    54.37 |    80/  107 Batches\n",
      "| Epoch   3 | Train Loss  4.02 | Train PPL    55.85 |    90/  107 Batches\n",
      "| Epoch   3 | Train Loss  3.99 | Train PPL    54.30 |   100/  107 Batches\n",
      "-----------------------------------------------------------------------------------------\n",
      "| Epoch   3 | Valid Loss  4.00 | Valid PPL    54.38\n",
      "-----------------------------------------------------------------------------------------\n",
      "| Epoch   4 | Train Loss  4.35 | Train PPL    77.38 |    10/  107 Batches\n",
      "| Epoch   4 | Train Loss  3.91 | Train PPL    50.11 |    20/  107 Batches\n",
      "| Epoch   4 | Train Loss  3.95 | Train PPL    51.96 |    30/  107 Batches\n",
      "| Epoch   4 | Train Loss  3.93 | Train PPL    51.06 |    40/  107 Batches\n",
      "| Epoch   4 | Train Loss  3.91 | Train PPL    49.69 |    50/  107 Batches\n",
      "| Epoch   4 | Train Loss  3.92 | Train PPL    50.36 |    60/  107 Batches\n",
      "| Epoch   4 | Train Loss  3.90 | Train PPL    49.23 |    70/  107 Batches\n",
      "| Epoch   4 | Train Loss  3.90 | Train PPL    49.43 |    80/  107 Batches\n",
      "| Epoch   4 | Train Loss  3.90 | Train PPL    49.61 |    90/  107 Batches\n",
      "| Epoch   4 | Train Loss  3.96 | Train PPL    52.23 |   100/  107 Batches\n",
      "-----------------------------------------------------------------------------------------\n",
      "| Epoch   4 | Valid Loss  3.95 | Valid PPL    51.71\n",
      "-----------------------------------------------------------------------------------------\n",
      "| Epoch   5 | Train Loss  4.25 | Train PPL    70.14 |    10/  107 Batches\n",
      "| Epoch   5 | Train Loss  3.88 | Train PPL    48.24 |    20/  107 Batches\n",
      "| Epoch   5 | Train Loss  3.88 | Train PPL    48.27 |    30/  107 Batches\n",
      "| Epoch   5 | Train Loss  3.85 | Train PPL    47.02 |    40/  107 Batches\n",
      "| Epoch   5 | Train Loss  3.84 | Train PPL    46.68 |    50/  107 Batches\n",
      "| Epoch   5 | Train Loss  3.84 | Train PPL    46.53 |    60/  107 Batches\n",
      "| Epoch   5 | Train Loss  3.87 | Train PPL    47.85 |    70/  107 Batches\n",
      "| Epoch   5 | Train Loss  3.80 | Train PPL    44.63 |    80/  107 Batches\n",
      "| Epoch   5 | Train Loss  3.84 | Train PPL    46.65 |    90/  107 Batches\n",
      "| Epoch   5 | Train Loss  3.84 | Train PPL    46.46 |   100/  107 Batches\n",
      "-----------------------------------------------------------------------------------------\n",
      "| Epoch   5 | Valid Loss  3.91 | Valid PPL    50.08\n",
      "-----------------------------------------------------------------------------------------\n",
      "| Epoch   6 | Train Loss  4.16 | Train PPL    64.15 |    10/  107 Batches\n",
      "| Epoch   6 | Train Loss  3.81 | Train PPL    45.00 |    20/  107 Batches\n",
      "| Epoch   6 | Train Loss  3.78 | Train PPL    43.93 |    30/  107 Batches\n",
      "| Epoch   6 | Train Loss  3.78 | Train PPL    43.87 |    40/  107 Batches\n",
      "| Epoch   6 | Train Loss  3.79 | Train PPL    44.29 |    50/  107 Batches\n",
      "| Epoch   6 | Train Loss  3.75 | Train PPL    42.46 |    60/  107 Batches\n",
      "| Epoch   6 | Train Loss  3.75 | Train PPL    42.72 |    70/  107 Batches\n",
      "| Epoch   6 | Train Loss  3.77 | Train PPL    43.55 |    80/  107 Batches\n",
      "| Epoch   6 | Train Loss  3.76 | Train PPL    43.09 |    90/  107 Batches\n",
      "| Epoch   6 | Train Loss  3.79 | Train PPL    44.38 |   100/  107 Batches\n",
      "-----------------------------------------------------------------------------------------\n",
      "| Epoch   6 | Valid Loss  3.89 | Valid PPL    48.94\n",
      "-----------------------------------------------------------------------------------------\n",
      "| Epoch   7 | Train Loss  4.08 | Train PPL    58.87 |    10/  107 Batches\n",
      "| Epoch   7 | Train Loss  3.70 | Train PPL    40.32 |    20/  107 Batches\n",
      "| Epoch   7 | Train Loss  3.74 | Train PPL    42.15 |    30/  107 Batches\n",
      "| Epoch   7 | Train Loss  3.71 | Train PPL    40.97 |    40/  107 Batches\n",
      "| Epoch   7 | Train Loss  3.72 | Train PPL    41.25 |    50/  107 Batches\n",
      "| Epoch   7 | Train Loss  3.71 | Train PPL    40.71 |    60/  107 Batches\n",
      "| Epoch   7 | Train Loss  3.71 | Train PPL    40.97 |    70/  107 Batches\n",
      "| Epoch   7 | Train Loss  3.74 | Train PPL    41.96 |    80/  107 Batches\n",
      "| Epoch   7 | Train Loss  3.72 | Train PPL    41.31 |    90/  107 Batches\n",
      "| Epoch   7 | Train Loss  3.71 | Train PPL    40.91 |   100/  107 Batches\n",
      "-----------------------------------------------------------------------------------------\n",
      "| Epoch   7 | Valid Loss  3.90 | Valid PPL    49.22\n",
      "-----------------------------------------------------------------------------------------\n",
      "| Epoch   8 | Train Loss  4.00 | Train PPL    54.43 |    10/  107 Batches\n",
      "| Epoch   8 | Train Loss  3.65 | Train PPL    38.37 |    20/  107 Batches\n",
      "| Epoch   8 | Train Loss  3.61 | Train PPL    37.15 |    30/  107 Batches\n",
      "| Epoch   8 | Train Loss  3.64 | Train PPL    38.18 |    40/  107 Batches\n",
      "| Epoch   8 | Train Loss  3.67 | Train PPL    39.38 |    50/  107 Batches\n",
      "| Epoch   8 | Train Loss  3.66 | Train PPL    38.83 |    60/  107 Batches\n",
      "| Epoch   8 | Train Loss  3.67 | Train PPL    39.20 |    70/  107 Batches\n",
      "| Epoch   8 | Train Loss  3.70 | Train PPL    40.32 |    80/  107 Batches\n",
      "| Epoch   8 | Train Loss  3.68 | Train PPL    39.46 |    90/  107 Batches\n",
      "| Epoch   8 | Train Loss  3.70 | Train PPL    40.29 |   100/  107 Batches\n",
      "-----------------------------------------------------------------------------------------\n",
      "| Epoch   8 | Valid Loss  3.90 | Valid PPL    49.20\n",
      "-----------------------------------------------------------------------------------------\n",
      "| Epoch   9 | Train Loss  3.95 | Train PPL    52.10 |    10/  107 Batches\n",
      "| Epoch   9 | Train Loss  3.62 | Train PPL    37.42 |    20/  107 Batches\n",
      "| Epoch   9 | Train Loss  3.61 | Train PPL    37.01 |    30/  107 Batches\n",
      "| Epoch   9 | Train Loss  3.58 | Train PPL    35.76 |    40/  107 Batches\n",
      "| Epoch   9 | Train Loss  3.63 | Train PPL    37.59 |    50/  107 Batches\n",
      "| Epoch   9 | Train Loss  3.58 | Train PPL    35.80 |    60/  107 Batches\n",
      "| Epoch   9 | Train Loss  3.65 | Train PPL    38.46 |    70/  107 Batches\n",
      "| Epoch   9 | Train Loss  3.64 | Train PPL    38.11 |    80/  107 Batches\n",
      "| Epoch   9 | Train Loss  3.60 | Train PPL    36.65 |    90/  107 Batches\n",
      "| Epoch   9 | Train Loss  3.60 | Train PPL    36.77 |   100/  107 Batches\n",
      "-----------------------------------------------------------------------------------------\n",
      "| Epoch   9 | Valid Loss  3.90 | Valid PPL    49.55\n",
      "-----------------------------------------------------------------------------------------\n"
     ]
    }
   ],
   "source": [
    "if TRAIN:\n",
    "    num_epochs = 10\n",
    "    log_interval = 10\n",
    "    best_eval_loss = np.inf\n",
    "\n",
    "    for epoch in range(num_epochs):\n",
    "        # Train\n",
    "        cur_loss = 0\n",
    "        for i, (data, labels) in enumerate(train_loader):\n",
    "            prediction, loss = model.train_step(data, labels)\n",
    "            cur_loss += loss\n",
    "\n",
    "            if i % log_interval == 0 and i > 0:\n",
    "                cur_loss = cur_loss / log_interval\n",
    "                print('| Epoch {:3d} | Train Loss {:5.2f} | Train PPL {:8.2f} | {:5d}/{:5d} Batches'.format(\n",
    "                    epoch, cur_loss, math.exp(cur_loss), i, int(num_train/len(data))))\n",
    "                cur_loss = 0\n",
    "\n",
    "        # Eval\n",
    "        if epoch % 1 == 0:        \n",
    "            eval_loss = 0\n",
    "            for i, (data, labels) in enumerate(valid_loader):\n",
    "                prediction, loss = model.eval_step(data, labels)\n",
    "                eval_loss += len(data) * loss\n",
    "            eval_loss = eval_loss / num_valid \n",
    "            print('-' * 89)\n",
    "            print('| Epoch {:3d} | Valid Loss {:5.2f} | Valid PPL {:8.2f}'.format(\n",
    "                epoch, eval_loss, math.exp(eval_loss)))\n",
    "            print('-' * 89)\n",
    "\n",
    "            # Save the model if the validation loss is the best we've seen so far.\n",
    "            if not best_eval_loss or eval_loss < best_eval_loss:\n",
    "                model.save_model('neural_lm_amazon_model_small_N{}'.format(N) + '.pt')\n",
    "                best_eval_loss = eval_loss\n",
    "                \n",
    "else:\n",
    "    # Load Pretrained Model\n",
    "    pretrained_model = seq2seq(encoder, decoder, id2token, use_cuda=False, lr=0.1, size_ngrams=N) \n",
    "    pretrained_model.load_model('neural_lm_amazon_model_small_N{}'.format(N) + '.pt')\n",
    "    pretrained_model"
   ]
  },
  {
   "cell_type": "code",
   "execution_count": 81,
   "metadata": {},
   "outputs": [
    {
     "data": {
      "text/plain": [
       "seq2seq(\n",
       "  (encoder): BagOfNGrams(\n",
       "    (embedding): EmbeddingBag(6943, 300, mode=mean)\n",
       "    (layers): ModuleList(\n",
       "      (0): Linear(in_features=300, out_features=256, bias=True)\n",
       "      (1): ReLU()\n",
       "      (2): Dropout(p=0.1)\n",
       "      (3): Linear(in_features=256, out_features=128, bias=True)\n",
       "    )\n",
       "  )\n",
       "  (decoder): DecoderMLP(\n",
       "    (linear): Linear(in_features=128, out_features=256, bias=True)\n",
       "    (out): Linear(in_features=256, out_features=6943, bias=True)\n",
       "    (log_softmax): LogSoftmax()\n",
       "  )\n",
       "  (criterion): NLLLoss()\n",
       ")"
      ]
     },
     "execution_count": 81,
     "metadata": {},
     "output_type": "execute_result"
    }
   ],
   "source": [
    "# Load Pretrained Model\n",
    "pretrained_model = seq2seq(encoder, decoder, id2token, use_cuda=False, lr=0.1, size_ngrams=N) \n",
    "pretrained_model.load_model('neural_lm_amazon_model_small_N{}'.format(N) + '.pt')\n",
    "pretrained_model"
   ]
  },
  {
   "cell_type": "code",
   "execution_count": 53,
   "metadata": {},
   "outputs": [],
   "source": [
    "def get_perplexity(loader, num_data):\n",
    "    total_loss = 0\n",
    "    for i, (data, labels) in enumerate(loader):\n",
    "        prediction, loss = model.eval_step(data, labels)\n",
    "        total_loss += len(data) * loss\n",
    "    total_loss = total_loss / num_data \n",
    "    ppl = math.exp(total_loss)\n",
    "    return ppl"
   ]
  },
  {
   "cell_type": "code",
   "execution_count": 54,
   "metadata": {},
   "outputs": [
    {
     "data": {
      "text/plain": [
       "69.0622579313137"
      ]
     },
     "execution_count": 54,
     "metadata": {},
     "output_type": "execute_result"
    }
   ],
   "source": [
    "valid_ppl = get_perplexity(valid_loader, num_valid)\n",
    "valid_ppl"
   ]
  },
  {
   "cell_type": "code",
   "execution_count": 55,
   "metadata": {},
   "outputs": [
    {
     "data": {
      "text/plain": [
       "42.59412000037929"
      ]
     },
     "execution_count": 55,
     "metadata": {},
     "output_type": "execute_result"
    }
   ],
   "source": [
    "train_ppl = get_perplexity(train_loader, num_train)\n",
    "train_ppl\n"
   ]
  },
  {
   "cell_type": "code",
   "execution_count": 82,
   "metadata": {},
   "outputs": [
    {
     "data": {
      "text/plain": [
       "seq2seq(\n",
       "  (encoder): BagOfNGrams(\n",
       "    (embedding): EmbeddingBag(6943, 300, mode=mean)\n",
       "    (layers): ModuleList(\n",
       "      (0): Linear(in_features=300, out_features=256, bias=True)\n",
       "      (1): ReLU()\n",
       "      (2): Dropout(p=0.1)\n",
       "      (3): Linear(in_features=256, out_features=128, bias=True)\n",
       "    )\n",
       "  )\n",
       "  (decoder): DecoderMLP(\n",
       "    (linear): Linear(in_features=128, out_features=256, bias=True)\n",
       "    (out): Linear(in_features=256, out_features=6943, bias=True)\n",
       "    (log_softmax): LogSoftmax()\n",
       "  )\n",
       "  (criterion): NLLLoss()\n",
       ")"
      ]
     },
     "execution_count": 82,
     "metadata": {},
     "output_type": "execute_result"
    }
   ],
   "source": [
    "# Load Pretrained Model\n",
    "N = 7\n",
    "pretrained_model = seq2seq(encoder, decoder, id2token, use_cuda=False, lr=0.1, size_ngrams=N) \n",
    "pretrained_model.load_model('neural_lm_amazon_model_small_N{}'.format(N) + '.pt')\n",
    "pretrained_model"
   ]
  },
  {
   "cell_type": "code",
   "execution_count": 83,
   "metadata": {},
   "outputs": [
    {
     "data": {
      "text/plain": [
       "48.93646292377866"
      ]
     },
     "execution_count": 83,
     "metadata": {},
     "output_type": "execute_result"
    }
   ],
   "source": [
    "valid_ppl = get_perplexity(valid_loader, num_valid)\n",
    "valid_ppl"
   ]
  },
  {
   "cell_type": "code",
   "execution_count": 84,
   "metadata": {},
   "outputs": [
    {
     "data": {
      "text/plain": [
       "39.59437173192687"
      ]
     },
     "execution_count": 84,
     "metadata": {},
     "output_type": "execute_result"
    }
   ],
   "source": [
    "train_ppl = get_perplexity(train_loader, num_train)\n",
    "train_ppl\n"
   ]
  },
  {
   "cell_type": "code",
   "execution_count": null,
   "metadata": {},
   "outputs": [],
   "source": []
  },
  {
   "cell_type": "code",
   "execution_count": null,
   "metadata": {},
   "outputs": [],
   "source": []
  },
  {
   "cell_type": "code",
   "execution_count": 23,
   "metadata": {},
   "outputs": [],
   "source": [
    "def score_sentence(sent, model):\n",
    "    tokenized, _ = ngram_utils.tokenize_dataset(sent)\n",
    "    sent_ids = ngram_utils.get_ids(tokenized, token2id)\n",
    "    sent_tensor = torch.LongTensor(sent_ids).to(device)\n",
    "    generated, scores = model.evaluate(sent_tensor, score_only=True)\n",
    "    ppl = math.exp(scores)\n",
    "    return ppl"
   ]
  },
  {
   "cell_type": "code",
   "execution_count": 24,
   "metadata": {},
   "outputs": [
    {
     "data": {
      "application/vnd.jupyter.widget-view+json": {
       "model_id": "dd9d8c6d74e54056858b5ee19694c334",
       "version_major": 2,
       "version_minor": 0
      },
      "text/plain": [
       "HBox(children=(IntProgress(value=1, bar_style='info', max=1), HTML(value='')))"
      ]
     },
     "metadata": {},
     "output_type": "display_data"
    },
    {
     "name": "stdout",
     "output_type": "stream",
     "text": [
      "\n"
     ]
    },
    {
     "data": {
      "text/plain": [
       "0.15014100526958427"
      ]
     },
     "execution_count": 24,
     "metadata": {},
     "output_type": "execute_result"
    }
   ],
   "source": [
    "sent = ['this is a great tutu']\n",
    "ppl = score_sentence(sent, pretrained_model)\n",
    "ppl"
   ]
  },
  {
   "cell_type": "code",
   "execution_count": 25,
   "metadata": {},
   "outputs": [
    {
     "data": {
      "application/vnd.jupyter.widget-view+json": {
       "model_id": "ab335f33b80d4da4beab1cd10e1886c9",
       "version_major": 2,
       "version_minor": 0
      },
      "text/plain": [
       "HBox(children=(IntProgress(value=1, bar_style='info', max=1), HTML(value='')))"
      ]
     },
     "metadata": {},
     "output_type": "display_data"
    },
    {
     "name": "stdout",
     "output_type": "stream",
     "text": [
      "\n"
     ]
    },
    {
     "data": {
      "text/plain": [
       "0.14301309310331706"
      ]
     },
     "execution_count": 25,
     "metadata": {},
     "output_type": "execute_result"
    }
   ],
   "source": [
    "sent = ['tutu tutu is not my favorit']\n",
    "ppl = score_sentence(sent, pretrained_model)\n",
    "ppl"
   ]
  },
  {
   "cell_type": "code",
   "execution_count": 26,
   "metadata": {},
   "outputs": [
    {
     "data": {
      "application/vnd.jupyter.widget-view+json": {
       "model_id": "2bfcde4716584bee925bc2f7e00fb1ec",
       "version_major": 2,
       "version_minor": 0
      },
      "text/plain": [
       "HBox(children=(IntProgress(value=1, bar_style='info', max=1), HTML(value='')))"
      ]
     },
     "metadata": {},
     "output_type": "display_data"
    },
    {
     "name": "stdout",
     "output_type": "stream",
     "text": [
      "\n"
     ]
    },
    {
     "data": {
      "text/plain": [
       "0.15309299992093092"
      ]
     },
     "execution_count": 26,
     "metadata": {},
     "output_type": "execute_result"
    }
   ],
   "source": [
    "sent = ['i really like this watch']\n",
    "ppl = score_sentence(sent, pretrained_model)\n",
    "ppl"
   ]
  },
  {
   "cell_type": "code",
   "execution_count": 27,
   "metadata": {},
   "outputs": [
    {
     "data": {
      "application/vnd.jupyter.widget-view+json": {
       "model_id": "2ce732277cfb46e6b7eaf59879de5501",
       "version_major": 2,
       "version_minor": 0
      },
      "text/plain": [
       "HBox(children=(IntProgress(value=1, bar_style='info', max=1), HTML(value='')))"
      ]
     },
     "metadata": {},
     "output_type": "display_data"
    },
    {
     "name": "stdout",
     "output_type": "stream",
     "text": [
      "\n"
     ]
    },
    {
     "data": {
      "text/plain": [
       "0.11108022254632716"
      ]
     },
     "execution_count": 27,
     "metadata": {},
     "output_type": "execute_result"
    }
   ],
   "source": [
    "sent = ['training neural networks']\n",
    "ppl = score_sentence(sent, pretrained_model)\n",
    "ppl"
   ]
  },
  {
   "cell_type": "code",
   "execution_count": 28,
   "metadata": {},
   "outputs": [],
   "source": [
    "def generate_sentence(model, context=None):\n",
    "    if context is None:\n",
    "        dummy_context = torch.LongTensor([[0]]).to(device)\n",
    "        generated, scores = model.evaluate(dummy_context, use_context=False)\n",
    "    else:\n",
    "        tokenized, _ = ngram_utils.tokenize_dataset(context)\n",
    "        context_ids = ngram_utils.get_ids(tokenized, token2id)\n",
    "        context_tensor = torch.LongTensor(context_ids).to(device)\n",
    "        generated, scores = model.evaluate(context_tensor, use_context=True)\n",
    "    \n",
    "    ppl = math.exp(scores)\n",
    "    return generated, scores"
   ]
  },
  {
   "cell_type": "code",
   "execution_count": 29,
   "metadata": {},
   "outputs": [
    {
     "name": "stdout",
     "output_type": "stream",
     "text": [
      ", i ' m a lot of carhartt . <eos>\n"
     ]
    }
   ],
   "source": [
    "generated, scores = generate_sentence(pretrained_model)\n",
    "print(' '.join(word[0] for word in generated))"
   ]
  },
  {
   "cell_type": "code",
   "execution_count": 30,
   "metadata": {},
   "outputs": [
    {
     "data": {
      "application/vnd.jupyter.widget-view+json": {
       "model_id": "dd3944d8af5d44939921fc42a8b40178",
       "version_major": 2,
       "version_minor": 0
      },
      "text/plain": [
       "HBox(children=(IntProgress(value=1, bar_style='info', max=1), HTML(value='')))"
      ]
     },
     "metadata": {},
     "output_type": "display_data"
    },
    {
     "name": "stdout",
     "output_type": "stream",
     "text": [
      "\n",
      "be the . <eos>\n"
     ]
    }
   ],
   "source": [
    "generated, scores = generate_sentence(pretrained_model, context=['i would like to request a refund'])\n",
    "print(' '.join(word[0] for word in generated))"
   ]
  },
  {
   "cell_type": "code",
   "execution_count": 31,
   "metadata": {},
   "outputs": [
    {
     "data": {
      "application/vnd.jupyter.widget-view+json": {
       "model_id": "93d9cc6884414d52abb82a8490afae0f",
       "version_major": 2,
       "version_minor": 0
      },
      "text/plain": [
       "HBox(children=(IntProgress(value=1, bar_style='info', max=1), HTML(value='')))"
      ]
     },
     "metadata": {},
     "output_type": "display_data"
    },
    {
     "name": "stdout",
     "output_type": "stream",
     "text": [
      "\n",
      "this bra not . <eos>\n"
     ]
    }
   ],
   "source": [
    "generated, scores = generate_sentence(pretrained_model, context=['i would like'])\n",
    "print(' '.join(word[0] for word in generated))"
   ]
  },
  {
   "cell_type": "code",
   "execution_count": 32,
   "metadata": {},
   "outputs": [
    {
     "data": {
      "application/vnd.jupyter.widget-view+json": {
       "model_id": "fedcb84df04e4d198d7847e2e421b948",
       "version_major": 2,
       "version_minor": 0
      },
      "text/plain": [
       "HBox(children=(IntProgress(value=1, bar_style='info', max=1), HTML(value='')))"
      ]
     },
     "metadata": {},
     "output_type": "display_data"
    },
    {
     "name": "stdout",
     "output_type": "stream",
     "text": [
      "\n",
      "be the . <eos>\n"
     ]
    }
   ],
   "source": [
    "generated, scores = generate_sentence(pretrained_model, context=['i would like to request a refund for this'])\n",
    "print(' '.join(word[0] for word in generated))"
   ]
  },
  {
   "cell_type": "code",
   "execution_count": null,
   "metadata": {},
   "outputs": [],
   "source": []
  }
 ],
 "metadata": {
  "kernelspec": {
   "display_name": "Python 3",
   "language": "python",
   "name": "python3"
  },
  "language_info": {
   "codemirror_mode": {
    "name": "ipython",
    "version": 3
   },
   "file_extension": ".py",
   "mimetype": "text/x-python",
   "name": "python",
   "nbconvert_exporter": "python",
   "pygments_lexer": "ipython3",
   "version": "3.7.1"
  }
 },
 "nbformat": 4,
 "nbformat_minor": 2
}

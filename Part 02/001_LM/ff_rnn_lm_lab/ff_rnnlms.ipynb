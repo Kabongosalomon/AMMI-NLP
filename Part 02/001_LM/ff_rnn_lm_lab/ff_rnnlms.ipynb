{
 "cells": [
  {
   "cell_type": "markdown",
   "metadata": {
    "colab_type": "text",
    "id": "IxZ97MQPbj90"
   },
   "source": [
    "# Feed-forward and Recurrent Language Models"
   ]
  },
  {
   "cell_type": "markdown",
   "metadata": {},
   "source": [
    "### Preliminaries"
   ]
  },
  {
   "cell_type": "code",
   "execution_count": 1,
   "metadata": {},
   "outputs": [
    {
     "name": "stdout",
     "output_type": "stream",
     "text": [
      "Populating the interactive namespace from numpy and matplotlib\n"
     ]
    }
   ],
   "source": [
    "%pylab inline\n",
    "%load_ext autoreload\n",
    "%autoreload 2"
   ]
  },
  {
   "cell_type": "code",
   "execution_count": 2,
   "metadata": {},
   "outputs": [
    {
     "name": "stdout",
     "output_type": "stream",
     "text": [
      "Requirement already satisfied: jsonlines in /home/aims/anaconda3/envs/aims/lib/python3.7/site-packages (1.2.0)\n",
      "Requirement already satisfied: tqdm in /home/aims/anaconda3/envs/aims/lib/python3.7/site-packages (4.37.0)\n",
      "Requirement already satisfied: six in /home/aims/anaconda3/envs/aims/lib/python3.7/site-packages (from jsonlines) (1.12.0)\n"
     ]
    }
   ],
   "source": [
    "# !pip install jsonlines tqdm"
   ]
  },
  {
   "cell_type": "code",
   "execution_count": 3,
   "metadata": {
    "colab": {
     "base_uri": "https://localhost:8080/",
     "height": 1000
    },
    "colab_type": "code",
    "id": "RSqJllXkKGZR",
    "outputId": "e3ec5aa0-bbf9-4851-aad1-6c1ab1fdf4f1"
   },
   "outputs": [
    {
     "name": "stdout",
     "output_type": "stream",
     "text": [
      "--2020-03-22 23:46:58--  https://nyu.box.com/shared/static/q4nvswb0szelivhgyx87vd1056ttqfyi.jsonl\n",
      "Resolving nyu.box.com (nyu.box.com)... 185.235.236.197\n",
      "Connecting to nyu.box.com (nyu.box.com)|185.235.236.197|:443... connected.\n",
      "HTTP request sent, awaiting response... 301 Moved Permanently\n",
      "Location: /public/static/q4nvswb0szelivhgyx87vd1056ttqfyi.jsonl [following]\n",
      "--2020-03-22 23:46:59--  https://nyu.box.com/public/static/q4nvswb0szelivhgyx87vd1056ttqfyi.jsonl\n",
      "Reusing existing connection to nyu.box.com:443.\n",
      "HTTP request sent, awaiting response... 301 Moved Permanently\n",
      "Location: https://nyu.app.box.com/public/static/q4nvswb0szelivhgyx87vd1056ttqfyi.jsonl [following]\n",
      "--2020-03-22 23:47:00--  https://nyu.app.box.com/public/static/q4nvswb0szelivhgyx87vd1056ttqfyi.jsonl\n",
      "Resolving nyu.app.box.com (nyu.app.box.com)... 185.235.236.199\n",
      "Connecting to nyu.app.box.com (nyu.app.box.com)|185.235.236.199|:443... connected.\n",
      "HTTP request sent, awaiting response... 302 Found\n",
      "Location: https://public.boxcloud.com/d/1/b1!YIeGz5LZnD3LgCNn1HqoEC8Z3wwOag3NruX5bLV_WvuiRA-wJsKRUqmcjXJBITAwm5CDA46N7KZq75j_SZNEUSijo_GLd4cMYeefLVgo7StgVgwbZtwAXpPFRRYBeoZewz-4ZZchsuLpehwLIOSKa3sdVxFohzPCAXIwUF2mlbT-SuuvsRFQxlxpPAnYvTuHJfa8gWcn6FIiWIR97xBOCAZ8uIk12LtbUJdB-K3PsGhdrnRsHFi-E3D0oSjg0TQeBN895B83FWijqdP6nvLPrIi2s8ReRxUmRCXPpFI5OzulAsK6MUAFfGGhyFjwiyvawW120MO33gYREppWP13fPfu_Xlh0bsUmbxfhb6NmhG7BJf62fU22HQpprbU3EUfPlbMCE-EhAFsNfzEOABdYqEQRcqnaSJctfxNgQQTrVGwYLHL8hGYdFJxgCQYKNH9x6U7QXyKeNyPcmeqb0U05CKnEn4dHD_RohHvJdft_kF-_2y_mErYmolMrFP30i84A42Z82PttWsZOXazC-Pzp6YibzC15oJt6INbMUcd4_B77GFJ4m_0gSs3aAOa5UaaJluqNV0k2BOAh8UkV6IhrT8abCemnIAzbbMPVGeHNv5nok4kZ8wnqVhxsgbpSVH3zbZ8hC6QsI0oTsgXxcgNKgJ9mFiNtU_oIeJhpkxwU4hX-iEfS6RUrKcGMwDeeo9vz6_5obubppTjqU9A_JWlNEzSZSWNfORmGvgXSBARjEUstgwPy8UuRozwUkZA1CYR531xA5XYiIkbZlFKcu7rQgx2SQRxdL0FKtbkVih7I_QeBZ2qArE22J42j8TPX0s25IiE2FyWbRJb0UQy7WFwTWecve3kKK_m8aEj_hHPooicUMdmQcpttKI0kO4J5vnRC3732KdGkfvKd5K4zlPnHvNoRr5AIhF6AXV_JA0BAehtKMu3Y8v6fVqZXjdsACxHxrjRrBVTSkOirrYYydQYF2DgS4iRex4bBglXWDYFs-Et8HVz_kJk6Ui0S7C-R3DvBeEr0JGL_6mmDbiJ7BZMhMn1OMdAb3uzYZ8UOEi3JFXB4YRj29Y9psPW6ynmsLf7Fx-tkiww-V_SSmskec4ybw1VHJGnGydcFVPdhoE_lHpUN9rbZThk1WL9KHg8j51f8HkcvEFW0aXvdqkDGDHlXiEwAq2UrywjOrgEPXQJN9DO_nPZoQdfYJkuBN22Q5SWbOVtEUwcJ2_DCZCZK1YEm5VBE6hPuorackebXYTI9lmNUZqR_msFzjQ4Uh7C3U6qSejbhyKQsTnZ0VpC_0XAikX9OdyXIecej3aVqrIeG9KBtrE_8C1QKnu2QekCaIfrQyANpLM3WvC3-vvO0gojf-dsWS0rDKyVmcnlmACdfnmJagRsd9V8H7vE755JONSKQIR4NU5kX2BGi8APSzTA2i9rN73tp1Q../download [following]\n",
      "--2020-03-22 23:47:01--  https://public.boxcloud.com/d/1/b1!YIeGz5LZnD3LgCNn1HqoEC8Z3wwOag3NruX5bLV_WvuiRA-wJsKRUqmcjXJBITAwm5CDA46N7KZq75j_SZNEUSijo_GLd4cMYeefLVgo7StgVgwbZtwAXpPFRRYBeoZewz-4ZZchsuLpehwLIOSKa3sdVxFohzPCAXIwUF2mlbT-SuuvsRFQxlxpPAnYvTuHJfa8gWcn6FIiWIR97xBOCAZ8uIk12LtbUJdB-K3PsGhdrnRsHFi-E3D0oSjg0TQeBN895B83FWijqdP6nvLPrIi2s8ReRxUmRCXPpFI5OzulAsK6MUAFfGGhyFjwiyvawW120MO33gYREppWP13fPfu_Xlh0bsUmbxfhb6NmhG7BJf62fU22HQpprbU3EUfPlbMCE-EhAFsNfzEOABdYqEQRcqnaSJctfxNgQQTrVGwYLHL8hGYdFJxgCQYKNH9x6U7QXyKeNyPcmeqb0U05CKnEn4dHD_RohHvJdft_kF-_2y_mErYmolMrFP30i84A42Z82PttWsZOXazC-Pzp6YibzC15oJt6INbMUcd4_B77GFJ4m_0gSs3aAOa5UaaJluqNV0k2BOAh8UkV6IhrT8abCemnIAzbbMPVGeHNv5nok4kZ8wnqVhxsgbpSVH3zbZ8hC6QsI0oTsgXxcgNKgJ9mFiNtU_oIeJhpkxwU4hX-iEfS6RUrKcGMwDeeo9vz6_5obubppTjqU9A_JWlNEzSZSWNfORmGvgXSBARjEUstgwPy8UuRozwUkZA1CYR531xA5XYiIkbZlFKcu7rQgx2SQRxdL0FKtbkVih7I_QeBZ2qArE22J42j8TPX0s25IiE2FyWbRJb0UQy7WFwTWecve3kKK_m8aEj_hHPooicUMdmQcpttKI0kO4J5vnRC3732KdGkfvKd5K4zlPnHvNoRr5AIhF6AXV_JA0BAehtKMu3Y8v6fVqZXjdsACxHxrjRrBVTSkOirrYYydQYF2DgS4iRex4bBglXWDYFs-Et8HVz_kJk6Ui0S7C-R3DvBeEr0JGL_6mmDbiJ7BZMhMn1OMdAb3uzYZ8UOEi3JFXB4YRj29Y9psPW6ynmsLf7Fx-tkiww-V_SSmskec4ybw1VHJGnGydcFVPdhoE_lHpUN9rbZThk1WL9KHg8j51f8HkcvEFW0aXvdqkDGDHlXiEwAq2UrywjOrgEPXQJN9DO_nPZoQdfYJkuBN22Q5SWbOVtEUwcJ2_DCZCZK1YEm5VBE6hPuorackebXYTI9lmNUZqR_msFzjQ4Uh7C3U6qSejbhyKQsTnZ0VpC_0XAikX9OdyXIecej3aVqrIeG9KBtrE_8C1QKnu2QekCaIfrQyANpLM3WvC3-vvO0gojf-dsWS0rDKyVmcnlmACdfnmJagRsd9V8H7vE755JONSKQIR4NU5kX2BGi8APSzTA2i9rN73tp1Q../download\n",
      "Resolving public.boxcloud.com (public.boxcloud.com)... 185.235.236.200\n",
      "Connecting to public.boxcloud.com (public.boxcloud.com)|185.235.236.200|:443... connected.\n",
      "HTTP request sent, awaiting response... 200 OK\n",
      "Length: 13403897 (13M) [application/octet-stream]\n",
      "Saving to: ‘personachat_all_sentences_train.jsonl’\n",
      "\n",
      "personachat_all_sen 100%[===================>]  12.78M  7.56MB/s    in 1.7s    \n",
      "\n",
      "2020-03-22 23:47:04 (7.56 MB/s) - ‘personachat_all_sentences_train.jsonl’ saved [13403897/13403897]\n",
      "\n",
      "--2020-03-22 23:47:04--  https://nyu.box.com/shared/static/8krcizo8sms1m0ppy7uiwfcx4a3l5nsq.jsonl\n",
      "Resolving nyu.box.com (nyu.box.com)... 185.235.236.197\n",
      "Connecting to nyu.box.com (nyu.box.com)|185.235.236.197|:443... connected.\n",
      "HTTP request sent, awaiting response... 301 Moved Permanently\n",
      "Location: /public/static/8krcizo8sms1m0ppy7uiwfcx4a3l5nsq.jsonl [following]\n",
      "--2020-03-22 23:47:05--  https://nyu.box.com/public/static/8krcizo8sms1m0ppy7uiwfcx4a3l5nsq.jsonl\n",
      "Reusing existing connection to nyu.box.com:443.\n",
      "HTTP request sent, awaiting response... 301 Moved Permanently\n",
      "Location: https://nyu.app.box.com/public/static/8krcizo8sms1m0ppy7uiwfcx4a3l5nsq.jsonl [following]\n",
      "--2020-03-22 23:47:05--  https://nyu.app.box.com/public/static/8krcizo8sms1m0ppy7uiwfcx4a3l5nsq.jsonl\n",
      "Resolving nyu.app.box.com (nyu.app.box.com)... 185.235.236.199\n",
      "Connecting to nyu.app.box.com (nyu.app.box.com)|185.235.236.199|:443... connected.\n",
      "HTTP request sent, awaiting response... 302 Found\n",
      "Location: https://public.boxcloud.com/d/1/b1!P7f2tWjqhlo7S-r0GmhNqvqLPhS8TMjKniY0i8CA8cO2WwRHWu_MD9GBqc0N9oqIiBOZoA6hd2f-_epLsWslDXUNfwlSRbhs97rRZopfuZPjfS9QMIQhq5j8BkIiAaNQV15MHpSsVubGqEokWZrX-7bOEqCb2TXf11UPompaji9ZgpDHYF3WC2FPu4MgG5YeBJAN9Or4BI2F3aAzLqnPBy80yngPHe3qah0-GelRpKI7v7F-6IG8QbQPkRAhch6T8CUt3aegjreytJK8vO3gOn0hqec-9sVaduo0q98JJX6VB_jvO6eX0Jy_nfi2jvqkPaol2xqUHtaKboHypvS5j2ix26-HG_QrCnVifeJFlnHe4_lPlKxo96hyCr6kIjiTdGN0N4aZABKnFEIarI333HKqqULDKiucdXYpPown83h2n4oMDDUZrDSsyJmAKGOAkJaJQUgsIMX8nY7Tk5BndEgCzaMSDJMW5McO5pLQOMWFOWQ5gGKLjyP-IBci8A0JgqyQX_noGfZ-s1SRt_ZIojohnaaYw1wYWcwObblSCB6QLukZlewhD__7ZhaG9Xy-ljjTjC3UHgpIOMo2FPb304noQpGl9ywYEF4uyuHbGEIfDbV6JQ__OUlsFQH7OXeTd06gRyJdTFTuRvnhjAoJEBYIP8RCfBCtoegoZaRJfqBMMDYJ7_s5jbtsRVLyZMlwaz4St4oDuYpHr1lWN9BToRqhhE7glHghs_S4s-4sl-XCjVNmiYXMQ82UfFwcPHroqsyqKr-bBDQ1VOipNeIku5d0GgnuV6fLjbk9R2Gjjzcjh13cN68m_d5iry1lsWZwIYd7Sggkz3TAn8DruogG7w8TSATWaTy4exFRN3ZFnyFKHfok_2Mx49RnZnBG1aJAY_EZBatkCj9WLoLAXWXUcFoTtRwCks8AOkPFSQKWE3YuTUPAlRckTDims_JQ0t9f_Lj-rO_-65C_HbNymtYKtdK6edYV7IdEadvM2sHksmN73LrcAbCaV884OKALNyEbBEyE0INpZgJsC0Yn9avAVytvnrGCxXev_E0tpspk0cL6TV1RQ5jqSCogv7mVsWeZ1a4Oo0nuTou3C49c845gInctU2s-RI19Cyqcry-MfbKtfohvquuBTLMRfWy1NpmjiMHAEht-zafOCuWj1ILpv8XQIdwjNAF64Xq2XMU1cfHCImn5oUodN61DHH8dMPQAiDOrKoewY__UtSX-BSaxceA439qxgpHHViLtgE3Gk2GD9S1ZLr5oiXb-oa7y7NcYM726-pnUJX5ZNinqUqOVUvN0Es3Tpe9iSOlc6lUdD8MQksvlu7G2vRAxh-KaabCbIy4_kxOlMaqfIsBg7NFoebTM_ZzVyaz0IVgbNHqN5sGMYQv6m4Df3-o2kwwd-i7MRFHlOVscJjBnvT6s2pGyONMbGGI9/download [following]\n",
      "--2020-03-22 23:47:06--  https://public.boxcloud.com/d/1/b1!P7f2tWjqhlo7S-r0GmhNqvqLPhS8TMjKniY0i8CA8cO2WwRHWu_MD9GBqc0N9oqIiBOZoA6hd2f-_epLsWslDXUNfwlSRbhs97rRZopfuZPjfS9QMIQhq5j8BkIiAaNQV15MHpSsVubGqEokWZrX-7bOEqCb2TXf11UPompaji9ZgpDHYF3WC2FPu4MgG5YeBJAN9Or4BI2F3aAzLqnPBy80yngPHe3qah0-GelRpKI7v7F-6IG8QbQPkRAhch6T8CUt3aegjreytJK8vO3gOn0hqec-9sVaduo0q98JJX6VB_jvO6eX0Jy_nfi2jvqkPaol2xqUHtaKboHypvS5j2ix26-HG_QrCnVifeJFlnHe4_lPlKxo96hyCr6kIjiTdGN0N4aZABKnFEIarI333HKqqULDKiucdXYpPown83h2n4oMDDUZrDSsyJmAKGOAkJaJQUgsIMX8nY7Tk5BndEgCzaMSDJMW5McO5pLQOMWFOWQ5gGKLjyP-IBci8A0JgqyQX_noGfZ-s1SRt_ZIojohnaaYw1wYWcwObblSCB6QLukZlewhD__7ZhaG9Xy-ljjTjC3UHgpIOMo2FPb304noQpGl9ywYEF4uyuHbGEIfDbV6JQ__OUlsFQH7OXeTd06gRyJdTFTuRvnhjAoJEBYIP8RCfBCtoegoZaRJfqBMMDYJ7_s5jbtsRVLyZMlwaz4St4oDuYpHr1lWN9BToRqhhE7glHghs_S4s-4sl-XCjVNmiYXMQ82UfFwcPHroqsyqKr-bBDQ1VOipNeIku5d0GgnuV6fLjbk9R2Gjjzcjh13cN68m_d5iry1lsWZwIYd7Sggkz3TAn8DruogG7w8TSATWaTy4exFRN3ZFnyFKHfok_2Mx49RnZnBG1aJAY_EZBatkCj9WLoLAXWXUcFoTtRwCks8AOkPFSQKWE3YuTUPAlRckTDims_JQ0t9f_Lj-rO_-65C_HbNymtYKtdK6edYV7IdEadvM2sHksmN73LrcAbCaV884OKALNyEbBEyE0INpZgJsC0Yn9avAVytvnrGCxXev_E0tpspk0cL6TV1RQ5jqSCogv7mVsWeZ1a4Oo0nuTou3C49c845gInctU2s-RI19Cyqcry-MfbKtfohvquuBTLMRfWy1NpmjiMHAEht-zafOCuWj1ILpv8XQIdwjNAF64Xq2XMU1cfHCImn5oUodN61DHH8dMPQAiDOrKoewY__UtSX-BSaxceA439qxgpHHViLtgE3Gk2GD9S1ZLr5oiXb-oa7y7NcYM726-pnUJX5ZNinqUqOVUvN0Es3Tpe9iSOlc6lUdD8MQksvlu7G2vRAxh-KaabCbIy4_kxOlMaqfIsBg7NFoebTM_ZzVyaz0IVgbNHqN5sGMYQv6m4Df3-o2kwwd-i7MRFHlOVscJjBnvT6s2pGyONMbGGI9/download\n",
      "Resolving public.boxcloud.com (public.boxcloud.com)... 185.235.236.200\n",
      "Connecting to public.boxcloud.com (public.boxcloud.com)|185.235.236.200|:443... connected.\n",
      "HTTP request sent, awaiting response... 200 OK\n",
      "Length: 1640194 (1.6M) [application/octet-stream]\n",
      "Saving to: ‘personachat_all_sentences_valid.jsonl’\n",
      "\n",
      "personachat_all_sen 100%[===================>]   1.56M  2.06MB/s    in 0.8s    \n",
      "\n",
      "2020-03-22 23:47:13 (2.06 MB/s) - ‘personachat_all_sentences_valid.jsonl’ saved [1640194/1640194]\n",
      "\n",
      "--2020-03-22 23:47:13--  https://nyu.box.com/shared/static/im7we9k2gcf8kslqnfamsimicgosuw9y.jsonl\n",
      "Resolving nyu.box.com (nyu.box.com)... 185.235.236.197\n",
      "Connecting to nyu.box.com (nyu.box.com)|185.235.236.197|:443... connected.\n",
      "HTTP request sent, awaiting response... 301 Moved Permanently\n",
      "Location: /public/static/im7we9k2gcf8kslqnfamsimicgosuw9y.jsonl [following]\n",
      "--2020-03-22 23:47:14--  https://nyu.box.com/public/static/im7we9k2gcf8kslqnfamsimicgosuw9y.jsonl\n",
      "Reusing existing connection to nyu.box.com:443.\n",
      "HTTP request sent, awaiting response... 301 Moved Permanently\n",
      "Location: https://nyu.app.box.com/public/static/im7we9k2gcf8kslqnfamsimicgosuw9y.jsonl [following]\n",
      "--2020-03-22 23:47:14--  https://nyu.app.box.com/public/static/im7we9k2gcf8kslqnfamsimicgosuw9y.jsonl\n",
      "Resolving nyu.app.box.com (nyu.app.box.com)... 185.235.236.199\n",
      "Connecting to nyu.app.box.com (nyu.app.box.com)|185.235.236.199|:443... connected.\n",
      "HTTP request sent, awaiting response... 302 Found\n",
      "Location: https://public.boxcloud.com/d/1/b1!G-57BfL6LiaVX-qmwd_xcPWOYxTJyG_g-9tAGRgwR1D3ghnIluLMiB189SCWw6x_oS45ajbKq2ON3SDnLdN_uen9tH7mGGKJiGUaTb6tYd-oCVwZR1rbo5UE60N12etNPt-RCCawzFBkxiZQqDM_7TR1mHiyESmKE9zC54OYtaD77UQX2AW5G9E8_kePMgCJHg7KQfcQKbll3rvYov_1CoYowRvbr_BlMTECx8JPcU107RB9wQrK3iiKq7gWVxKavkp8CyMfYw0D_9CmhrjMsEo4q4AmxHNsI6m_60r3UcnyIf_hDP3DSZ0iv0FhNunQnuaWPjFGwOaQVgOHQIjNSCejdIVjmuDw6Sf75t7aE4ddfI_T2EijAPPEWWMJ33EPr6jY0wsh6Gq7fZWYdpC-lPHOWMGwGWBv7Iz3k3hkLQ6wJlV_PNP1yDxixnE1IXf-TFuuEUpt9m2rcVn_mVLg_6utMYFY21_gWtZa2hJmaho74i0JdFQZsGAThtsvfiHHVqoFOdGuniBNrbYECMYj7umAzVUy8KTz8kJlb5oqfsKg88Rx3R2iw0GOWeVOGBZbnpkr1-q2lec-RjZTe6MUrIfNoSyuqayCW-x8Bg_GSElI31rBzfhVp_rV6nwyet2byUbo-vkFCY-62NS21dTXp1MszSxHpPb_XSSMtt1WougXAjOAY2QfKOpeDeQ_gk4UlUytzQ7D4h-1ir97fKeeFQcPbVVvPrPLera9tBpPKvtG04sG6LrWtAm9gGX3M7XdHu6ZZaSJqlOCQSsb9liVktcqB-69KS0IhJQ0NXj3U-EOZf-FiQ8ExyRYAYKKJzJkn3aCOJe2N8zf3-ZhAgaEIzfuw27XB0L0o-RwI4Y3oXviaeQDvt41welX7gogVAKQJFs_UsHdDJJptZjiXlQRfX5rxgMqC0GPZ8KAdjKT1RLwJKf1jx66Q7wjVYAVus7famqbq7MJbb_7U7XtqsSLzf7aw7n2cpmgoah0iRpcevkm8HdYCIvRcvE5BYuASBSm8hmNgsVxUDFoscaMqnOUQDITlRDBUIq2cKiiCvwfLRajzRJ1JQcNkVlUTiPwcGi_Zkd-W1eJI5jAE6xgNJq9JOkrYbN_tbntzS8bP3ekmo4_8WiOBEXOJD3zQI8ocXorxNIKLwvoXYYucGiaUAU3XdVR4jwIbzjUBAblRfgxS1sC010cUFoRKQkXDaC7lWBrhRzuX3BWq2Lba9QWjGi1_2UVb0vFEmt2SVvGFrbMXrE35it3HeGxfVsKj21-4Xokkryoc3jqzdMrNkVtRipa5Odq9nPRv6VjNm2fqYcrtY_Mdn0U5lzzjkmJ4_rT9VBvihLSizlBA4dP--kx3TIjqTyYjRFV2zArRNd8IqlFwy1OqHF1lPog4Q_P1FFNQ_uVKDlhCkd4m8fsSrXFlDr6I5AUTJU./download [following]\n",
      "--2020-03-22 23:47:15--  https://public.boxcloud.com/d/1/b1!G-57BfL6LiaVX-qmwd_xcPWOYxTJyG_g-9tAGRgwR1D3ghnIluLMiB189SCWw6x_oS45ajbKq2ON3SDnLdN_uen9tH7mGGKJiGUaTb6tYd-oCVwZR1rbo5UE60N12etNPt-RCCawzFBkxiZQqDM_7TR1mHiyESmKE9zC54OYtaD77UQX2AW5G9E8_kePMgCJHg7KQfcQKbll3rvYov_1CoYowRvbr_BlMTECx8JPcU107RB9wQrK3iiKq7gWVxKavkp8CyMfYw0D_9CmhrjMsEo4q4AmxHNsI6m_60r3UcnyIf_hDP3DSZ0iv0FhNunQnuaWPjFGwOaQVgOHQIjNSCejdIVjmuDw6Sf75t7aE4ddfI_T2EijAPPEWWMJ33EPr6jY0wsh6Gq7fZWYdpC-lPHOWMGwGWBv7Iz3k3hkLQ6wJlV_PNP1yDxixnE1IXf-TFuuEUpt9m2rcVn_mVLg_6utMYFY21_gWtZa2hJmaho74i0JdFQZsGAThtsvfiHHVqoFOdGuniBNrbYECMYj7umAzVUy8KTz8kJlb5oqfsKg88Rx3R2iw0GOWeVOGBZbnpkr1-q2lec-RjZTe6MUrIfNoSyuqayCW-x8Bg_GSElI31rBzfhVp_rV6nwyet2byUbo-vkFCY-62NS21dTXp1MszSxHpPb_XSSMtt1WougXAjOAY2QfKOpeDeQ_gk4UlUytzQ7D4h-1ir97fKeeFQcPbVVvPrPLera9tBpPKvtG04sG6LrWtAm9gGX3M7XdHu6ZZaSJqlOCQSsb9liVktcqB-69KS0IhJQ0NXj3U-EOZf-FiQ8ExyRYAYKKJzJkn3aCOJe2N8zf3-ZhAgaEIzfuw27XB0L0o-RwI4Y3oXviaeQDvt41welX7gogVAKQJFs_UsHdDJJptZjiXlQRfX5rxgMqC0GPZ8KAdjKT1RLwJKf1jx66Q7wjVYAVus7famqbq7MJbb_7U7XtqsSLzf7aw7n2cpmgoah0iRpcevkm8HdYCIvRcvE5BYuASBSm8hmNgsVxUDFoscaMqnOUQDITlRDBUIq2cKiiCvwfLRajzRJ1JQcNkVlUTiPwcGi_Zkd-W1eJI5jAE6xgNJq9JOkrYbN_tbntzS8bP3ekmo4_8WiOBEXOJD3zQI8ocXorxNIKLwvoXYYucGiaUAU3XdVR4jwIbzjUBAblRfgxS1sC010cUFoRKQkXDaC7lWBrhRzuX3BWq2Lba9QWjGi1_2UVb0vFEmt2SVvGFrbMXrE35it3HeGxfVsKj21-4Xokkryoc3jqzdMrNkVtRipa5Odq9nPRv6VjNm2fqYcrtY_Mdn0U5lzzjkmJ4_rT9VBvihLSizlBA4dP--kx3TIjqTyYjRFV2zArRNd8IqlFwy1OqHF1lPog4Q_P1FFNQ_uVKDlhCkd4m8fsSrXFlDr6I5AUTJU./download\n",
      "Resolving public.boxcloud.com (public.boxcloud.com)... 185.235.236.200\n",
      "Connecting to public.boxcloud.com (public.boxcloud.com)|185.235.236.200|:443... connected.\n",
      "HTTP request sent, awaiting response... 200 OK\n",
      "Length: 1559597 (1.5M) [application/octet-stream]\n",
      "Saving to: ‘personachat_all_sentences_test.jsonl’\n",
      "\n",
      "personachat_all_sen 100%[===================>]   1.49M  1.88MB/s    in 0.8s    \n",
      "\n",
      "2020-03-22 23:47:22 (1.88 MB/s) - ‘personachat_all_sentences_test.jsonl’ saved [1559597/1559597]\n",
      "\n",
      "--2020-03-22 23:47:22--  https://nyu.box.com/shared/static/looczvct7ssh30x0gwqmvencple8xok9.pt\n",
      "Resolving nyu.box.com (nyu.box.com)... 185.235.236.197\n",
      "Connecting to nyu.box.com (nyu.box.com)|185.235.236.197|:443... connected.\n",
      "HTTP request sent, awaiting response... 301 Moved Permanently\n",
      "Location: /public/static/looczvct7ssh30x0gwqmvencple8xok9.pt [following]\n",
      "--2020-03-22 23:47:23--  https://nyu.box.com/public/static/looczvct7ssh30x0gwqmvencple8xok9.pt\n",
      "Reusing existing connection to nyu.box.com:443.\n",
      "HTTP request sent, awaiting response... 301 Moved Permanently\n",
      "Location: https://nyu.app.box.com/public/static/looczvct7ssh30x0gwqmvencple8xok9.pt [following]\n",
      "--2020-03-22 23:47:23--  https://nyu.app.box.com/public/static/looczvct7ssh30x0gwqmvencple8xok9.pt\n",
      "Resolving nyu.app.box.com (nyu.app.box.com)... 185.235.236.199\n",
      "Connecting to nyu.app.box.com (nyu.app.box.com)|185.235.236.199|:443... connected.\n",
      "HTTP request sent, awaiting response... 302 Found\n",
      "Location: https://public.boxcloud.com/d/1/b1!VtbaRlDyF7vktjP1LUIcGOcNz2yDhBKTN_hjswBUfYMVYyX8S7kBxGFL2FByo9-x6ZyxELKOd1YLPYbzVCDlwZxf9c9ZmImbf4NVDfAg9LD0W5tjGk0iRowuCd6VWB_LvQv9rphgFgX92bRNEE-1sOe6Khs_VYEz_ciUJamdzLVPfzmNi3TqhlcuaPosKggQ9eOrpGpJ9Ilq0F_utKhqIkEgIhDbdxq2UslewdNdgFl-UKjpitqXduto4KxAKnP9nkSuKaJm3the1_BwaEySSIbBAlzM2Z-T5U3LE1w5Xr40t6-5ASxwpj-he-PLraXCJ6nqbJYUYJBIfXCJ9SlZSqbjx3nCmsXpLtz7ThjHE5N5tr7U32wustpw-w_dPRwbHOLcxFu0Z6h0RegOU8CdLOu70ngZV1F1OirmIUpR_e7cYb_b-JqNOku6tJbtDRYlokIteWBlvUCDPYBtfferdsqN_ZwsFBZ2ZbGhb7muBzfxyTpXm_salPbuda6m5rN66y-OkFjqVmVUEjmUN4e438xstcmXssjoOx4GZ1d4AvNiqcqgzWEJ3kFKshXp5eljuCSOXjjc5B2GZARgC_42y_mnPOdOdo10HWln3EpOHKNVwuaaDwo2E3MIsQ5pMjsTWJJKzBvul6usvVg5YZWxJaqMmyX0yFD9uyuW7-SjCD0d0d9c8BlpGAWnaxUXaKC7lpo1jGEPlbOL2UfNTwQiH9RYvwzjc7CvScXP6hDzxoK09GV_-wbezZX8YLeledA5U1vRStGsKGuNFPrb9QEjpx5Y-yRTBEJys23Ckn2TSfeTVlp2nRDowoDDUSLeXFxzAkErhSUuzt8fEUbl5DlTMNnbj-J8rwFZt6Zxe1gVdqbVuv59njsr54aw2Ebb3BElS1L1pL1vGPywYkvYzSIIp8CLWq1wBZJlyrO3O1ZVa95Rjv4f4HPTYF0d7CklGKSMjOOYRqrQH8mJla45Crg07Uy_29_ZE9zoa09RL-yriQvdlBeaQkU8woHe9mCMT7UsK6MFNoVe8c0CuBqKAnz7iUijfQyWOme8jeul3A28ckL1IZB_AzTzzsUGjlfX0-QVOszqW-d9BYmQ-cBnP8IlBoVQKLca1h76R2N7sQBhZnxtjxkApLlNzhtlFKGRBEiXj1oYvsn7WbKN0pWy60f2Vsqf9wIu_4DqFS6vqk5X97UImE98v_8XfnwxIpuZKzReYdeFh-G6HlvPN8ORKE8WMFynToPgBCPnmTHfVEHe8Ibd4G3EFP_oJ5H994wMoGE-5FFe-ow6pugyj9ZjeTcVBSAJuWp6b96xupfQDhrRL9SNhmmjUFtyGCXIrVcCVyqljgEEEq-9FgV8b28S60P9ZGe1xu_IIl77bMikswI8iCs5o2vnnpX0dFYX_F2V9M1K8vAP/download [following]\n",
      "--2020-03-22 23:47:24--  https://public.boxcloud.com/d/1/b1!VtbaRlDyF7vktjP1LUIcGOcNz2yDhBKTN_hjswBUfYMVYyX8S7kBxGFL2FByo9-x6ZyxELKOd1YLPYbzVCDlwZxf9c9ZmImbf4NVDfAg9LD0W5tjGk0iRowuCd6VWB_LvQv9rphgFgX92bRNEE-1sOe6Khs_VYEz_ciUJamdzLVPfzmNi3TqhlcuaPosKggQ9eOrpGpJ9Ilq0F_utKhqIkEgIhDbdxq2UslewdNdgFl-UKjpitqXduto4KxAKnP9nkSuKaJm3the1_BwaEySSIbBAlzM2Z-T5U3LE1w5Xr40t6-5ASxwpj-he-PLraXCJ6nqbJYUYJBIfXCJ9SlZSqbjx3nCmsXpLtz7ThjHE5N5tr7U32wustpw-w_dPRwbHOLcxFu0Z6h0RegOU8CdLOu70ngZV1F1OirmIUpR_e7cYb_b-JqNOku6tJbtDRYlokIteWBlvUCDPYBtfferdsqN_ZwsFBZ2ZbGhb7muBzfxyTpXm_salPbuda6m5rN66y-OkFjqVmVUEjmUN4e438xstcmXssjoOx4GZ1d4AvNiqcqgzWEJ3kFKshXp5eljuCSOXjjc5B2GZARgC_42y_mnPOdOdo10HWln3EpOHKNVwuaaDwo2E3MIsQ5pMjsTWJJKzBvul6usvVg5YZWxJaqMmyX0yFD9uyuW7-SjCD0d0d9c8BlpGAWnaxUXaKC7lpo1jGEPlbOL2UfNTwQiH9RYvwzjc7CvScXP6hDzxoK09GV_-wbezZX8YLeledA5U1vRStGsKGuNFPrb9QEjpx5Y-yRTBEJys23Ckn2TSfeTVlp2nRDowoDDUSLeXFxzAkErhSUuzt8fEUbl5DlTMNnbj-J8rwFZt6Zxe1gVdqbVuv59njsr54aw2Ebb3BElS1L1pL1vGPywYkvYzSIIp8CLWq1wBZJlyrO3O1ZVa95Rjv4f4HPTYF0d7CklGKSMjOOYRqrQH8mJla45Crg07Uy_29_ZE9zoa09RL-yriQvdlBeaQkU8woHe9mCMT7UsK6MFNoVe8c0CuBqKAnz7iUijfQyWOme8jeul3A28ckL1IZB_AzTzzsUGjlfX0-QVOszqW-d9BYmQ-cBnP8IlBoVQKLca1h76R2N7sQBhZnxtjxkApLlNzhtlFKGRBEiXj1oYvsn7WbKN0pWy60f2Vsqf9wIu_4DqFS6vqk5X97UImE98v_8XfnwxIpuZKzReYdeFh-G6HlvPN8ORKE8WMFynToPgBCPnmTHfVEHe8Ibd4G3EFP_oJ5H994wMoGE-5FFe-ow6pugyj9ZjeTcVBSAJuWp6b96xupfQDhrRL9SNhmmjUFtyGCXIrVcCVyqljgEEEq-9FgV8b28S60P9ZGe1xu_IIl77bMikswI8iCs5o2vnnpX0dFYX_F2V9M1K8vAP/download\n",
      "Resolving public.boxcloud.com (public.boxcloud.com)... 185.235.236.200\n",
      "Connecting to public.boxcloud.com (public.boxcloud.com)|185.235.236.200|:443... connected.\n",
      "HTTP request sent, awaiting response... 200 OK\n",
      "Length: 63894321 (61M) [application/octet-stream]\n",
      "Saving to: ‘personachat_ffnn_lm.pt’\n",
      "\n",
      "personachat_ffnn_lm 100%[===================>]  60.93M  8.61MB/s    in 8.8s    \n",
      "\n",
      "2020-03-22 23:47:35 (6.90 MB/s) - ‘personachat_ffnn_lm.pt’ saved [63894321/63894321]\n",
      "\n",
      "--2020-03-22 23:47:35--  https://nyu.box.com/shared/static/3jl9erctnvbefnczgmetkdil0xwpcxzb.pt\n",
      "Resolving nyu.box.com (nyu.box.com)... 185.235.236.197\n",
      "Connecting to nyu.box.com (nyu.box.com)|185.235.236.197|:443... connected.\n",
      "HTTP request sent, awaiting response... 301 Moved Permanently\n",
      "Location: /public/static/3jl9erctnvbefnczgmetkdil0xwpcxzb.pt [following]\n",
      "--2020-03-22 23:47:35--  https://nyu.box.com/public/static/3jl9erctnvbefnczgmetkdil0xwpcxzb.pt\n",
      "Reusing existing connection to nyu.box.com:443.\n",
      "HTTP request sent, awaiting response... 301 Moved Permanently\n",
      "Location: https://nyu.app.box.com/public/static/3jl9erctnvbefnczgmetkdil0xwpcxzb.pt [following]\n",
      "--2020-03-22 23:47:36--  https://nyu.app.box.com/public/static/3jl9erctnvbefnczgmetkdil0xwpcxzb.pt\n",
      "Resolving nyu.app.box.com (nyu.app.box.com)... 185.235.236.199\n",
      "Connecting to nyu.app.box.com (nyu.app.box.com)|185.235.236.199|:443... connected.\n",
      "HTTP request sent, awaiting response... 302 Found\n",
      "Location: https://public.boxcloud.com/d/1/b1!CyLZtFf4saVvid5ZDvNRKfunVN0hx-Ls2eJmvuf44UDk5s1WCizYxz3mng51iSfOh7zdkvhl46QJxy6UtJN1MVLWlvHvVKHpZ5d4PJ51YVP1ww1NUC5KtpGeFEWKGmzOklmzzLjCvNgYuH-ArvTt3ogB_sjpfdJjBvN8WvaFnOwWUpKSYxxIg8DSgY34FYGlPbvV8-EOdsy3x3wAfKiWOpouBlj-jcMlhMUf0lSxRBSdapFhDtY8Z8miRS6IJJ2lY5zUV-hODqsf0hmgXrhvVsZJYwUH0yIc_a4lW6K18u7hLzy2qfjjdqIRirTdzm8wQIYvIQaIQGOjzqziB0-eV7hiKz7XiaiPwpGfHaCnBVp7vcA8q0ysolCCRmJorLGjozy1yhwYFWbxWllFxNnxWjxuPY5GUQlI_LIS1lw_oDEgsxVzeVtLjnDBU3G1gHNhaiDr-OicMYjDUwhZlHeUF2YgPzbVTYFMbO_vg0m5iwchS7pw9gXSwpXqLeHmrvrTx2ATkFAizX5jkokGU1hs0yLYINk3nxHJe2ftN7BONeYMjWY2nbxxCTDYXox6MHwY8aYOGQvJDJqKbCXbQNAH-uppP0LB7zw9VW7OGnLncHd_6JvhUo2akFXR9X0yGeLSRrYmYwolGk1NO1tV_cwBsVIxfOcribXbnK1fN0cz3OR3xp3Feyh49lCSQ0vM8mPMV7NtsxG4sCv8oE7WIOhqsEg9kct7S4adJ_GMXYPeKmh0z0owDYXgkVUAMIzPXiFEYKkz5zp31PjEY4QjM3PqUhrahe9KRoZsKEQzIQvS1j5EiUz2lfbUwAML4xvZv34EB7aVCMsr23cPNV0PNXpl0QK-8G57mcvH0gDPe_mQhOW9d59GxT8xd6LTK6_jINennOY_SPClvRGx2N36yFtVRR6xxjERhbtfuItYo2GvCdgQvJnFCQEIigW6_up2RjGjQor9JARHyPuBfvn7BQNEDUu2fvMXy2SucM44rL4bF9YOPjC0LlbMWt5Y9_7_khKS5sVCSDlmwmHpApgFRQtptn-TMTHYhmeicTT90w1Z_sTQUcSVqzOPIOiB30g3G58Ldvy07GB3MrXaHMRC5zYouzyigNXaCPqIw38fbqLBY2rUyFBmqktbm86pWrg1LipnFznx5cnEVU-ZGstxTK0VPADKeQ7RqjHo4npdDaN3RrmQIGu4FbK7TY8uzZsGCYaygbsItnFzSChN57x6AB0wym62lce1ivc4me2CCiBN_CigLITmQ4PtqrapVm3gqCjP1L6wr-sB9wnkY1dbxnoFONzqruuqKSpY6EBn-vqkPQE5bRoQtPPJbtS_YsSHV0AHbQaq6nD69R7K7Au1qQiEhojh5O4Fkc2pNDHnnlhlgzWT1tE3bRG9icY1-xKcC-O-iig./download [following]\n",
      "--2020-03-22 23:47:37--  https://public.boxcloud.com/d/1/b1!CyLZtFf4saVvid5ZDvNRKfunVN0hx-Ls2eJmvuf44UDk5s1WCizYxz3mng51iSfOh7zdkvhl46QJxy6UtJN1MVLWlvHvVKHpZ5d4PJ51YVP1ww1NUC5KtpGeFEWKGmzOklmzzLjCvNgYuH-ArvTt3ogB_sjpfdJjBvN8WvaFnOwWUpKSYxxIg8DSgY34FYGlPbvV8-EOdsy3x3wAfKiWOpouBlj-jcMlhMUf0lSxRBSdapFhDtY8Z8miRS6IJJ2lY5zUV-hODqsf0hmgXrhvVsZJYwUH0yIc_a4lW6K18u7hLzy2qfjjdqIRirTdzm8wQIYvIQaIQGOjzqziB0-eV7hiKz7XiaiPwpGfHaCnBVp7vcA8q0ysolCCRmJorLGjozy1yhwYFWbxWllFxNnxWjxuPY5GUQlI_LIS1lw_oDEgsxVzeVtLjnDBU3G1gHNhaiDr-OicMYjDUwhZlHeUF2YgPzbVTYFMbO_vg0m5iwchS7pw9gXSwpXqLeHmrvrTx2ATkFAizX5jkokGU1hs0yLYINk3nxHJe2ftN7BONeYMjWY2nbxxCTDYXox6MHwY8aYOGQvJDJqKbCXbQNAH-uppP0LB7zw9VW7OGnLncHd_6JvhUo2akFXR9X0yGeLSRrYmYwolGk1NO1tV_cwBsVIxfOcribXbnK1fN0cz3OR3xp3Feyh49lCSQ0vM8mPMV7NtsxG4sCv8oE7WIOhqsEg9kct7S4adJ_GMXYPeKmh0z0owDYXgkVUAMIzPXiFEYKkz5zp31PjEY4QjM3PqUhrahe9KRoZsKEQzIQvS1j5EiUz2lfbUwAML4xvZv34EB7aVCMsr23cPNV0PNXpl0QK-8G57mcvH0gDPe_mQhOW9d59GxT8xd6LTK6_jINennOY_SPClvRGx2N36yFtVRR6xxjERhbtfuItYo2GvCdgQvJnFCQEIigW6_up2RjGjQor9JARHyPuBfvn7BQNEDUu2fvMXy2SucM44rL4bF9YOPjC0LlbMWt5Y9_7_khKS5sVCSDlmwmHpApgFRQtptn-TMTHYhmeicTT90w1Z_sTQUcSVqzOPIOiB30g3G58Ldvy07GB3MrXaHMRC5zYouzyigNXaCPqIw38fbqLBY2rUyFBmqktbm86pWrg1LipnFznx5cnEVU-ZGstxTK0VPADKeQ7RqjHo4npdDaN3RrmQIGu4FbK7TY8uzZsGCYaygbsItnFzSChN57x6AB0wym62lce1ivc4me2CCiBN_CigLITmQ4PtqrapVm3gqCjP1L6wr-sB9wnkY1dbxnoFONzqruuqKSpY6EBn-vqkPQE5bRoQtPPJbtS_YsSHV0AHbQaq6nD69R7K7Au1qQiEhojh5O4Fkc2pNDHnnlhlgzWT1tE3bRG9icY1-xKcC-O-iig./download\n",
      "Resolving public.boxcloud.com (public.boxcloud.com)... 185.235.236.200\n",
      "Connecting to public.boxcloud.com (public.boxcloud.com)|185.235.236.200|:443... connected.\n",
      "HTTP request sent, awaiting response... 200 OK\n",
      "Length: 67576905 (64M) [application/octet-stream]\n",
      "Saving to: ‘personachat_rnn_lm.pt’\n",
      "\n",
      "personachat_rnn_lm. 100%[===================>]  64.45M  10.8MB/s    in 17s     \n",
      "\n",
      "2020-03-22 23:47:55 (3.69 MB/s) - ‘personachat_rnn_lm.pt’ saved [67576905/67576905]\n",
      "\n"
     ]
    }
   ],
   "source": [
    "# download pretrained models and data\n",
    "### DOWNLOADING THE FILES\n",
    "import os\n",
    "\n",
    "### persona chat dataset\n",
    "if not os.path.exists('personachat_all_sentences_train.jsonl'):\n",
    "    !wget \"https://nyu.box.com/shared/static/q4nvswb0szelivhgyx87vd1056ttqfyi.jsonl\" -O 'personachat_all_sentences_train.jsonl'\n",
    "if not os.path.exists('personachat_all_sentences_valid.jsonl'):\n",
    "    !wget \"https://nyu.box.com/shared/static/8krcizo8sms1m0ppy7uiwfcx4a3l5nsq.jsonl\" -O 'personachat_all_sentences_valid.jsonl'\n",
    "if not os.path.exists('personachat_all_sentences_test.jsonl'):\n",
    "    !wget \"https://nyu.box.com/shared/static/im7we9k2gcf8kslqnfamsimicgosuw9y.jsonl\" -O 'personachat_all_sentences_test.jsonl'\n",
    "\n",
    "## wikitext-2 dataset\n",
    "if not os.path.exists('wikitext2-sentencized.json'):\n",
    "    !wget \"https://nyu.box.com/shared/static/9kb7l7ci30hb6uahhbssjlq0kctr5ii4.json\" -O 'wikitext2-sentencized.json'\n",
    "\n",
    "### pretrained ffnn model\n",
    "if not os.path.exists('personachat_ffnn_lm.pt'):\n",
    "    !wget \"https://nyu.box.com/shared/static/looczvct7ssh30x0gwqmvencple8xok9.pt\" -O 'personachat_ffnn_lm.pt'\n",
    "\n",
    "### pretrained rnn model\n",
    "if not os.path.exists('personachat_rnn_lm.pt'):\n",
    "    !wget \"https://nyu.box.com/shared/static/3jl9erctnvbefnczgmetkdil0xwpcxzb.pt\" -O 'personachat_rnn_lm.pt'"
   ]
  },
  {
   "cell_type": "markdown",
   "metadata": {
    "colab_type": "text",
    "id": "G0PkAzAkKHZw"
   },
   "source": [
    "## N-gram modeling as classification\n",
    "\n",
    "In the previous n-gram language models lab, the probability of a word given a history ('prefix') was computed using n-gram **counts**.\n",
    "\n",
    "In this lab, our goal will be the same: modeling the probability of variable length sequences, $$p(x_1,\\ldots,x_T)=\\prod_{t=1}^T p(x_t|x_{<t}),$$\n",
    "\n",
    "by assuming that each word $x_t$ only depends on the preceding $n-1$ words, $$p(x_1,\\ldots,x_T)=\\prod_{t=1}^T p(x_t|x_{t-n+1},\\ldots,x_{t-1}).$$\n",
    "\n",
    "\n",
    "However, _instead of counts_, we will now use a **neural network** to **classify** each history, where each class is the next word.\n",
    "\n",
    "<img src=\"img/fflm.png\" alt=\"Drawing\" style=\"width: 35%;\"/>\n",
    "\n",
    "[Diagram: modified from the [NLP Lecture Note](https://github.com/nyu-dl/NLP_DL_Lecture_Note/blob/master/lecture_note.pdf) by Kyunghyun Cho]"
   ]
  },
  {
   "cell_type": "markdown",
   "metadata": {
    "colab_type": "text",
    "id": "_rHGuy-zbj-R"
   },
   "source": [
    "## Modeling chat utterances\n",
    "\n",
    "We will build a **feed-forward neural n-gram model** to model chat utterances.\n",
    "\n",
    "### 1. Prepare the data\n",
    "\n",
    "To load and preprocess the data, we'll use utility functions from `data.py`."
   ]
  },
  {
   "cell_type": "code",
   "execution_count": 4,
   "metadata": {
    "colab": {},
    "colab_type": "code",
    "id": "TsLd-pAlbj-Y"
   },
   "outputs": [],
   "source": [
    "import data as data_utils"
   ]
  },
  {
   "cell_type": "code",
   "execution_count": 5,
   "metadata": {
    "colab": {},
    "colab_type": "code",
    "id": "UYIBNnOwO9wa"
   },
   "outputs": [
    {
     "name": "stderr",
     "output_type": "stream",
     "text": [
      "100%|██████████| 133176/133176 [00:17<00:00, 7738.66it/s]\n",
      "100%|██████████| 16181/16181 [00:03<00:00, 4905.39it/s]\n"
     ]
    }
   ],
   "source": [
    "datasets = data_utils.load_personachat('./')\n",
    "dictionary = data_utils.Dictionary(datasets, include_valid=True)"
   ]
  },
  {
   "cell_type": "markdown",
   "metadata": {},
   "source": [
    "Let's look at an example from the dataset (note that in addition to `train` we also have `valid`, `test` splits):"
   ]
  },
  {
   "cell_type": "code",
   "execution_count": 6,
   "metadata": {},
   "outputs": [
    {
     "name": "stdout",
     "output_type": "stream",
     "text": [
      "Dataset size 133176 (train), 16181 (valid), 15608 (test).\n",
      "\n",
      "i am doing great except for the allergies .\n",
      "\n",
      " word indices - [4, 5, 6, 7, 8, 9, 10, 11, 12]\n",
      "\n",
      " words - ['i', 'am', 'doing', 'great', 'except', 'for', 'the', 'allergies', '.']\n"
     ]
    }
   ],
   "source": [
    "index = 0\n",
    "split = 'train'\n",
    "encoded = dictionary.encode_token_seq(datasets[split][index])\n",
    "decoded = dictionary.decode_idx_seq(encoded)\n",
    "\n",
    "print(\"Dataset size %d (train), %d (valid), %d (test).\\n\" %\n",
    "     (len(datasets['train']), \n",
    "      len(datasets['valid']), \n",
    "      len(datasets['test'])))\n",
    "print(' '.join(datasets[split][index]))\n",
    "print(f'\\n word indices - {encoded}')\n",
    "print(f'\\n words - {decoded}')"
   ]
  },
  {
   "cell_type": "markdown",
   "metadata": {},
   "source": [
    "Now we add `<bos>`, `<eos>`, and turn each **sequence** into **n-grams**:"
   ]
  },
  {
   "cell_type": "code",
   "execution_count": 7,
   "metadata": {},
   "outputs": [
    {
     "name": "stdout",
     "output_type": "stream",
     "text": [
      "\n",
      " 0 - ['<bos>', '<bos>', '<bos>', '<bos>', 'i']\n",
      "\n",
      " 1 - ['<bos>', '<bos>', '<bos>', 'i', 'am']\n",
      "\n",
      " 2 - ['<bos>', '<bos>', 'i', 'am', 'doing']\n",
      "\n",
      " 3 - ['<bos>', 'i', 'am', 'doing', 'great']\n",
      "\n",
      " 4 - ['i', 'am', 'doing', 'great', 'except']\n",
      "\n",
      " 5 - ['am', 'doing', 'great', 'except', 'for']\n",
      "\n",
      " 6 - ['doing', 'great', 'except', 'for', 'the']\n",
      "\n",
      " 7 - ['great', 'except', 'for', 'the', 'allergies']\n",
      "\n",
      " 8 - ['except', 'for', 'the', 'allergies', '.']\n",
      "\n",
      " 9 - ['for', 'the', 'allergies', '.', '<eos>']\n"
     ]
    }
   ],
   "source": [
    "ngram_order = 5\n",
    "tokenized_datasets = data_utils.tokenize_dataset(\n",
    "    datasets, dictionary, ngram_order\n",
    ")\n",
    "ngram_datasets = data_utils.slice_into_ngrams(\n",
    "    tokenized_datasets, ngram_order\n",
    ")\n",
    "\n",
    "for i in range(10):\n",
    "    decoded = dictionary.decode_idx_seq(ngram_datasets[split][index+i])\n",
    "    print(f'\\n {i} - {decoded}')"
   ]
  },
  {
   "cell_type": "code",
   "execution_count": 11,
   "metadata": {},
   "outputs": [
    {
     "data": {
      "text/plain": [
       "['for', 'the', 'allergies', '.', '<eos>']"
      ]
     },
     "execution_count": 11,
     "metadata": {},
     "output_type": "execute_result"
    }
   ],
   "source": [
    "decoded"
   ]
  },
  {
   "cell_type": "markdown",
   "metadata": {},
   "source": [
    "Finally, we create a **Pytorch** `Dataset` and `DataLoader` that can be used for training a neural network."
   ]
  },
  {
   "cell_type": "code",
   "execution_count": 12,
   "metadata": {
    "colab": {
     "base_uri": "https://localhost:8080/",
     "height": 299
    },
    "colab_type": "code",
    "id": "401zpVGvNcmR",
    "outputId": "eec5cc33-1daa-45d4-e457-f13f73e74a05"
   },
   "outputs": [],
   "source": [
    "from torch.utils.data import DataLoader\n",
    "\n",
    "datasets = {}\n",
    "dataloaders = {}\n",
    "for split, dataset in ngram_datasets.items():\n",
    "    dataset_ = data_utils.NgramDataset(dataset)\n",
    "    datasets[split] = dataset_\n",
    "    dataloaders[split] = DataLoader(\n",
    "        dataset_, \n",
    "        batch_size=2048, \n",
    "        shuffle=(split == 'train'), \n",
    "        collate_fn=data_utils.batchify\n",
    "    )"
   ]
  },
  {
   "cell_type": "markdown",
   "metadata": {},
   "source": [
    "### 2. Defining the model\n",
    "\n",
    "\n",
    "#### How do we represent the input $x_t$? \n",
    "\n",
    "Each $x_t$ is an **integer** (token id), and we transform it into a **vector** $f_{\\text{embed}}(x_t)\\in\\mathbb{R}^d$ using an `Embedding` layer."
   ]
  },
  {
   "cell_type": "markdown",
   "metadata": {
    "colab_type": "text",
    "id": "jlUBUtnhbj-f"
   },
   "source": [
    "An embedding layer serves as a differentiable look-up table. Given an integer token id, it returns a vector representation which we call an **embedding**."
   ]
  },
  {
   "cell_type": "code",
   "execution_count": 16,
   "metadata": {
    "colab": {},
    "colab_type": "code",
    "id": "F7wBvXaYbj-g"
   },
   "outputs": [],
   "source": [
    "import torch\n",
    "from torch.nn import Embedding\n",
    "# Embedding??"
   ]
  },
  {
   "cell_type": "markdown",
   "metadata": {},
   "source": [
    "<div style=\"text-align:center\"><span style=\"color:red; font-family:Georgia; font-size:2em;\">#############################################################</div>\n"
   ]
  },
  {
   "cell_type": "markdown",
   "metadata": {},
   "source": [
    "## Embedding understanding"
   ]
  },
  {
   "cell_type": "markdown",
   "metadata": {},
   "source": [
    "Examples 1 :\n",
    "\n",
    "        >>> # an Embedding module containing 10 tensors of size 3\n",
    "        >>> embedding = nn.Embedding(10, 3)\n",
    "        >>> # a batch of 2 samples of 4 indices each\n",
    "        >>> input = torch.LongTensor([[1,2,4,5],[4,3,2,9]])\n",
    "        >>> embedding(input)\n",
    "        tensor([[[-0.0251, -1.6902,  0.7172],\n",
    "                 [-0.6431,  0.0748,  0.6969],\n",
    "                 [ 1.4970,  1.3448, -0.9685],\n",
    "                 [-0.3677, -2.7265, -0.1685]],\n",
    "\n",
    "                [[ 1.4970,  1.3448, -0.9685],\n",
    "                 [ 0.4362, -0.4004,  0.9400],\n",
    "                 [-0.6431,  0.0748,  0.6969],\n",
    "                 [ 0.9124, -2.3616,  1.1151]]])\n",
    "\n",
    "\n",
    "        >>> # example with padding_idx\n",
    "        >>> embedding = nn.Embedding(10, 3, padding_idx=0)\n",
    "        >>> input = torch.LongTensor([[0,2,0,5]])\n",
    "        >>> embedding(input)\n",
    "        tensor([[[ 0.0000,  0.0000,  0.0000],\n",
    "                 [ 0.1535, -2.0309,  0.9315],\n",
    "                 [ 0.0000,  0.0000,  0.0000],\n",
    "                 [-0.1655,  0.9897,  0.0635]]])\n",
    "        \n",
    "Example 2 :\n",
    "\n",
    "        >>> # FloatTensor containing pretrained weights\n",
    "        >>> weight = torch.FloatTensor([[1, 2.3, 3], [4, 5.1, 6.3]])\n",
    "        >>> embedding = nn.Embedding.from_pretrained(weight)\n",
    "        >>> # Get embeddings for index 1\n",
    "        >>> input = torch.LongTensor([1])\n",
    "        >>> embedding(input)\n",
    "        tensor([[ 4.0000,  5.1000,  6.3000]])"
   ]
  },
  {
   "cell_type": "code",
   "execution_count": 41,
   "metadata": {},
   "outputs": [
    {
     "name": "stdout",
     "output_type": "stream",
     "text": [
      "tensor([[[ 0.2339, -1.4586,  0.9286],\n",
      "         [ 1.2614, -0.8096,  0.9579],\n",
      "         [-1.6218,  2.0938, -2.4359],\n",
      "         [ 0.2904, -0.1651,  0.4570]],\n",
      "\n",
      "        [[-1.6218,  2.0938, -2.4359],\n",
      "         [ 1.4508,  1.4126,  1.1867],\n",
      "         [ 1.2614, -0.8096,  0.9579],\n",
      "         [ 0.3698, -0.4603, -0.0109]]], grad_fn=<EmbeddingBackward>)\n",
      "torch.Size([2, 4, 3])\n"
     ]
    }
   ],
   "source": [
    ">>> # an Embedding module containing 10 tensors of size 3 \n",
    ">>> embedding = Embedding(10, 3) # every number from 0-9 has an unique vector of size 3 as embedding\n",
    ">>> # a batch of 2 samples of 4 indices each\n",
    ">>> input = torch.LongTensor([[1,2,4,5],[4,3,2,9]])\n",
    ">>> print(embedding(input))\n",
    ">>> print(embedding(input).shape)"
   ]
  },
  {
   "cell_type": "code",
   "execution_count": 26,
   "metadata": {},
   "outputs": [
    {
     "data": {
      "text/plain": [
       "tensor([[[ 0.0000,  0.0000,  0.0000],\n",
       "         [-0.1574,  0.2488,  0.0292],\n",
       "         [ 0.0000,  0.0000,  0.0000],\n",
       "         [-1.1507,  0.2455,  0.7681]]], grad_fn=<EmbeddingBackward>)"
      ]
     },
     "execution_count": 26,
     "metadata": {},
     "output_type": "execute_result"
    }
   ],
   "source": [
    ">>> # example with padding_idx\n",
    ">>> embedding = Embedding(10, 3, padding_idx=0)\n",
    ">>> input = torch.LongTensor([[0,2,0,5]])\n",
    ">>> embedding(input)"
   ]
  },
  {
   "cell_type": "code",
   "execution_count": 42,
   "metadata": {},
   "outputs": [
    {
     "data": {
      "text/plain": [
       "tensor([[4.0000, 5.1000, 6.3000],\n",
       "        [1.0000, 2.3000, 3.0000],\n",
       "        [4.0000, 5.1000, 6.3000]])"
      ]
     },
     "execution_count": 42,
     "metadata": {},
     "output_type": "execute_result"
    }
   ],
   "source": [
    ">>> # FloatTensor containing pretrained weights\n",
    ">>> weight = torch.FloatTensor([[1, 2.3, 3], [4, 5.1, 6.3]]) # we load our own embedding\n",
    ">>> embedding = Embedding.from_pretrained(weight)\n",
    ">>> # Get embeddings for index 1 and 0\n",
    ">>> input = torch.LongTensor([1, 0, 1])\n",
    ">>> embedding(input)"
   ]
  },
  {
   "cell_type": "markdown",
   "metadata": {},
   "source": [
    "<div style=\"text-align:center\"><span style=\"color:red; font-family:Georgia; font-size:2em;\">#############################################################</div>"
   ]
  },
  {
   "cell_type": "code",
   "execution_count": 43,
   "metadata": {
    "colab": {},
    "colab_type": "code",
    "id": "hPUY40tXbj-m"
   },
   "outputs": [],
   "source": [
    "lookup = Embedding(\n",
    "    num_embeddings=len(dictionary), \n",
    "    embedding_dim=16, \n",
    "    padding_idx=dictionary.get_id('<pad>')\n",
    ")"
   ]
  },
  {
   "cell_type": "code",
   "execution_count": 44,
   "metadata": {
    "colab": {
     "base_uri": "https://localhost:8080/",
     "height": 34
    },
    "colab_type": "code",
    "id": "eSDJy98Jbj-o",
    "outputId": "3e1b3726-d1ae-439e-8a2b-432257b52651"
   },
   "outputs": [
    {
     "data": {
      "text/plain": [
       "torch.Size([20089, 16])"
      ]
     },
     "execution_count": 44,
     "metadata": {},
     "output_type": "execute_result"
    }
   ],
   "source": [
    "lookup.weight.size()"
   ]
  },
  {
   "cell_type": "code",
   "execution_count": 55,
   "metadata": {
    "colab": {
     "base_uri": "https://localhost:8080/",
     "height": 51
    },
    "colab_type": "code",
    "id": "3WMCuASKbj-s",
    "outputId": "91c5996e-fd32-4f4b-841d-9ac5c7a8716c"
   },
   "outputs": [
    {
     "name": "stdout",
     "output_type": "stream",
     "text": [
      "token ids: [[179, 373]]\n",
      "tokens embedding size: torch.Size([1, 2, 16])\n",
      "embedding for 'hello' (179):\n",
      "tensor([-0.7419, -1.8968,  1.2170,  0.1180,  2.2437, -0.6516,  0.7949, -0.9582,\n",
      "        -1.0196, -0.3526,  0.8856, -0.5736,  0.8464, -0.1362, -0.5174, -0.7914])\n",
      "\n",
      "embedding for 'world' (373):\n"
     ]
    },
    {
     "data": {
      "text/plain": [
       "tensor([-0.6392, -0.5286, -0.8954, -2.1456,  0.8496,  1.5555,  1.1416, -0.9123,\n",
       "         0.0053, -0.9957, -0.8532,  1.6187,  1.0987, -0.3596,  1.0180, -2.0651])"
      ]
     },
     "execution_count": 55,
     "metadata": {},
     "output_type": "execute_result"
    }
   ],
   "source": [
    "input_ = dictionary.encode_token_seq(['hello', 'world'])\n",
    "print(f'token ids: {[input_]}')\n",
    "\n",
    "input_embedded = lookup(torch.tensor([input_], dtype=torch.long))\n",
    "print(f'tokens embedding size: {input_embedded.size()}')\n",
    "\n",
    "print(f\"embedding for 'hello' ({input_[0]}):\")\n",
    "print(input_embedded[0, 0].data)\n",
    "\n",
    "print(f\"\\nembedding for 'world' ({input_[1]}):\")\n",
    "input_embedded[0, 1].data"
   ]
  },
  {
   "cell_type": "markdown",
   "metadata": {},
   "source": [
    "### Defining the neural network\n",
    "\n",
    "There are three components:\n",
    "1. `Embedding` $$\\large f_{embed}:\\text{vocab}\\rightarrow \\mathbb{R}^d$$\n",
    "2. Hidden layer $$\\large f_{hidden}: \\mathbb{R}^{nd}\\rightarrow \\mathbb{R}^h$$\n",
    "3. Projection $$\\large f_{project}: \\mathbb{R}^{h}\\rightarrow \\mathbb{R}^{|vocab|}$$\n",
    "\n",
    "The conditional distribution is then: $$\\large p(x_t|x_{t-1},\\ldots,x_{t-n-1})=\\text{softmax}(f_{project}(f_{hidden}(f_{embed}(x_{t-1},\\ldots,x_{t-n-1}))).$$\n",
    "\n",
    "\n",
    "We implement the hidden layer and projection with Pytorch `nn.Linear` layers:"
   ]
  },
  {
   "cell_type": "code",
   "execution_count": 58,
   "metadata": {
    "colab": {},
    "colab_type": "code",
    "id": "dvlP70FiOrJ3"
   },
   "outputs": [],
   "source": [
    "import torch\n",
    "import torch.nn as nn\n",
    "\n",
    "class NeuralNgramLM(nn.Module):\n",
    "    def __init__(self, options):\n",
    "        super().__init__()\n",
    "        self.lookup = nn.Embedding(\n",
    "            num_embeddings=options['num_embeddings'], \n",
    "            embedding_dim=options['embedding_dim']\n",
    "        )\n",
    "        self.hidden_layer = nn.Linear(\n",
    "            options['input_size'],  # input\n",
    "            options['hidden_size'], # output \n",
    "            bias=True\n",
    "        )\n",
    "        self.projection = nn.Linear(\n",
    "            options['hidden_size'],   # input\n",
    "            options['num_embeddings'] # output\n",
    "        )\n",
    "\n",
    "    def forward(self, inp):\n",
    "        embedded = self.lookup(inp) \n",
    "        embedded_timeflat = embedded.view(embedded.size(0), -1)\n",
    "        hidden_out = self.hidden_layer(embedded_timeflat)\n",
    "        hidden_out = torch.tanh(hidden_out)\n",
    "        logits = self.projection(hidden_out)\n",
    "        return logits"
   ]
  },
  {
   "cell_type": "markdown",
   "metadata": {},
   "source": [
    "### 3. Train the model\n",
    "\n",
    "#### Initialize the model, criterion (loss), and optimizer"
   ]
  },
  {
   "cell_type": "code",
   "execution_count": 67,
   "metadata": {
    "colab": {},
    "colab_type": "code",
    "id": "VfjWvd6jTDjh"
   },
   "outputs": [],
   "source": [
    "import os\n",
    "import torch\n",
    "import torch.nn as nn\n",
    "import torch.optim as optim\n",
    "\n",
    "load_pretrained = True\n",
    "\n",
    "num_gpus = torch.cuda.device_count()\n",
    "if num_gpus > 0:\n",
    "    current_device = 'cuda'\n",
    "else:\n",
    "    current_device = 'cpu'\n",
    "\n",
    "if load_pretrained:\n",
    "    if not os.path.exists('personachat_ffnn_lm.pt'):\n",
    "        raise EOFError('No model downloaded!')\n",
    "    model_dict = torch.load(\n",
    "        'personachat_ffnn_lm.pt',\n",
    "        map_location=torch.device(current_device)\n",
    "    )\n",
    "    \n",
    "    options = model_dict['options']\n",
    "    model = NeuralNgramLM(options).to(current_device)\n",
    "    model.load_state_dict(\n",
    "        model_dict['model_dict']\n",
    "    )\n",
    "    \n",
    "else:\n",
    "    embedding_size = 256\n",
    "    ngram_order = 4\n",
    "    input_size = embedding_size * ngram_order\n",
    "    hidden_size = 512\n",
    "\n",
    "    options = {\n",
    "        'num_embeddings': len(persona_dict),\n",
    "        'embedding_dim': embedding_size,\n",
    "        'input_size': input_size,\n",
    "        'hidden_size': hidden_size,\n",
    "    }\n",
    "    model = NeuralNgramLM(options).to(current_device)\n",
    "\n",
    "criterion = nn.CrossEntropyLoss(\n",
    "    ignore_index=dictionary.get_id('<pad>'), \n",
    "    reduction='sum'\n",
    ")\n",
    "\n",
    "model_parameters = [p for p in model.parameters() if p.requires_grad]\n",
    "optimizer = optim.SGD(model_parameters, lr=0.01, momentum=0.99)"
   ]
  },
  {
   "cell_type": "markdown",
   "metadata": {},
   "source": [
    "#### Training Loop"
   ]
  },
  {
   "cell_type": "code",
   "execution_count": 68,
   "metadata": {
    "colab": {
     "base_uri": "https://localhost:8080/",
     "height": 309
    },
    "colab_type": "code",
    "id": "dHeMz2Q2ULYQ",
    "outputId": "be100b2c-b6bd-454d-d86b-9080e25977cb"
   },
   "outputs": [],
   "source": [
    "plot_cache = []\n",
    "\n",
    "if not load_pretrained:\n",
    "    for epoch_number in range(10):\n",
    "        avg_loss = -1\n",
    "\n",
    "        # -- Training\n",
    "        model.train()\n",
    "\n",
    "        train_loss_cache = 0\n",
    "        train_non_pad_tokens_cache = 0\n",
    "\n",
    "        # == Iterate through batches from the dataset.\n",
    "        for i, (inp, target) in enumerate(dataloaders['train']):\n",
    "            optimizer.zero_grad()\n",
    "            inp = inp.to(current_device)\n",
    "            target = target.to(current_device)\n",
    "\n",
    "            # == Forward pass.\n",
    "            logits = model(inp)\n",
    "\n",
    "            # == Computed (summed) loss.\n",
    "            loss = criterion(logits.view(-1, logits.size(-1)), target.view(-1))\n",
    "            train_loss_cache += loss.item()\n",
    "\n",
    "            # == Compute the number of non `<pad>` tokens in the target.\n",
    "            non_pad_tokens = target.view(-1).ne(dictionary.get_id('<pad>')).sum().item()\n",
    "\n",
    "            # == Normalize the (summed) loss so that it is an average.\n",
    "            loss /= non_pad_tokens  \n",
    "            loss.backward()\n",
    "            optimizer.step()\n",
    "\n",
    "            train_non_pad_tokens_cache += non_pad_tokens\n",
    "            if i % 100 == 0:\n",
    "                avg_loss = train_loss_cache/train_non_pad_tokens_cache\n",
    "                print('Step {} avg train loss = {:.{prec}f}'.format(i, avg_loss, prec=4))\n",
    "\n",
    "        # -- Validation\n",
    "        valid_loss_cache = 0\n",
    "        valid_non_pad_tokens_cache = 0\n",
    "\n",
    "        model.eval()\n",
    "        with torch.no_grad():\n",
    "            non_pad_tokens = 0\n",
    "            for i, (inp, target) in enumerate(dataloaders['valid']):\n",
    "                inp = inp.to(current_device)\n",
    "                target = target.to(current_device)\n",
    "\n",
    "                # == Forward pass and loss\n",
    "                logits = model(inp)\n",
    "                loss = criterion(logits.view(-1, logits.size(-1)), target.view(-1))\n",
    "                valid_loss_cache += loss.item()            \n",
    "\n",
    "                # == Normalize the loss\n",
    "                non_pad_tokens = target.view(-1).ne(dictionary.get_id('<pad>')).sum().item()\n",
    "                valid_non_pad_tokens_cache += non_pad_tokens\n",
    "\n",
    "            avg_val_loss = valid_loss_cache / valid_non_pad_tokens_cache\n",
    "            print('Validation loss after {} epoch = {:.{prec}f}'.format(epoch_number, avg_val_loss, prec=4))\n",
    "\n",
    "        plot_cache.append((avg_loss, avg_val_loss))"
   ]
  },
  {
   "cell_type": "code",
   "execution_count": 69,
   "metadata": {
    "colab": {},
    "colab_type": "code",
    "id": "DEjiLvdFmjrg"
   },
   "outputs": [],
   "source": [
    "if load_pretrained:\n",
    "    plot_cache = model_dict['loss_cache']"
   ]
  },
  {
   "cell_type": "code",
   "execution_count": 70,
   "metadata": {
    "colab": {
     "base_uri": "https://localhost:8080/",
     "height": 281
    },
    "colab_type": "code",
    "id": "C0nNouO4Z-TJ",
    "outputId": "1f9b3a4f-b801-4d7a-dc38-70c1baa488f1"
   },
   "outputs": [
    {
     "data": {
      "image/png": "[encoded data removed]",
      "text/plain": [
       "<Figure size 432x288 with 1 Axes>"
      ]
     },
     "metadata": {
      "needs_background": "light"
     },
     "output_type": "display_data"
    }
   ],
   "source": [
    "import matplotlib.pyplot as plt\n",
    "import numpy\n",
    "\n",
    "epochs = numpy.array(list(range(len(plot_cache))))\n",
    "plt.plot(epochs, [i[0] for i in plot_cache], label='Train loss')\n",
    "plt.plot(epochs, [i[1] for i in plot_cache], label='Valid loss')\n",
    "\n",
    "plt.legend()\n",
    "plt.title('Loss curves')\n",
    "plt.show()"
   ]
  },
  {
   "cell_type": "markdown",
   "metadata": {
    "colab_type": "text",
    "id": "UTyb2zZYbj_O"
   },
   "source": [
    "### 4. Evaluate the model\n",
    "\n",
    "#### Recap: Perplexity\n",
    "Recall **perplexity** from the preceding lab:\n",
    "\n",
    "\\begin{align}\n",
    "\\large \\text{ppl}(p, D) &\\large = 2^{-\\frac{1}{N_{total}}\\log_2 p(D)}\n",
    "\\end{align}\n",
    "\n",
    "where $D=\\{(w_1,\\ldots,w_{N_i})_i\\}_{i=1}^M$ is a dataset of $M$ sequences with total length $N_{\\text{total}}=\\sum_{i}N_i$.\n",
    "\n",
    "#### Computing perplexity\n",
    "\n",
    "Our model's loss is the (negative) log probability of every token in the output sequence, which can be used to compute perplexity.\n",
    "\n",
    "We define perplexity using the **base 2** logarithm. By default `torch.log` uses base `e`. \n",
    "\n",
    "To **convert to base 2** we use: `log_2 p = log_e p / log_e 2`."
   ]
  },
  {
   "cell_type": "code",
   "execution_count": 63,
   "metadata": {
    "colab": {
     "base_uri": "https://localhost:8080/",
     "height": 281
    },
    "colab_type": "code",
    "id": "dcuSFVZvbmWR",
    "outputId": "7441ed5d-59fc-44b3-96fb-726cfcec92cc"
   },
   "outputs": [
    {
     "data": {
      "image/png": "[encoded data removed]",
      "text/plain": [
       "<Figure size 432x288 with 1 Axes>"
      ]
     },
     "metadata": {
      "needs_background": "light"
     },
     "output_type": "display_data"
    }
   ],
   "source": [
    "import matplotlib.pyplot as plt\n",
    "import numpy\n",
    "\n",
    "epochs = numpy.array(list(range(len(plot_cache))))\n",
    "plt.plot(epochs, [2**(i[0]/numpy.log(2)) for i in plot_cache], label='Train ppl')\n",
    "plt.plot(epochs, [2**(i[1]/numpy.log(2)) for i in plot_cache], label='Valid ppl')\n",
    "\n",
    "plt.legend()\n",
    "plt.title('PPL curves')\n",
    "plt.show()"
   ]
  },
  {
   "cell_type": "code",
   "execution_count": 64,
   "metadata": {
    "colab": {},
    "colab_type": "code",
    "id": "9t_WHUYcOe_8"
   },
   "outputs": [],
   "source": [
    "# Saving the model\n",
    "if False:\n",
    "    torch.save({\n",
    "        'options': options,\n",
    "        'loss_cache': plot_cache,\n",
    "        'model_dict': model.state_dict()\n",
    "    }, './persona_ffnn_lm.pt')"
   ]
  },
  {
   "cell_type": "markdown",
   "metadata": {},
   "source": [
    "#### Conditional probability queries\n",
    "We can now query the model for conditional probabilities:\n",
    "\n",
    "\\begin{align}\n",
    "\\large p(x_t|x_{t-1},\\ldots,x_{t-4}) \n",
    "\\end{align} "
   ]
  },
  {
   "cell_type": "code",
   "execution_count": 65,
   "metadata": {},
   "outputs": [
    {
     "name": "stdout",
     "output_type": "stream",
     "text": [
      "p( dog  | <bos> i have a )\t= 7.468E-02\n",
      "p( zebra  | <bos> i have a )\t= 1.473E-04\n",
      "p( donut  | <bos> i have a )\t= 7.881E-06\n",
      "p( velociraptor  | <bos> i have a )\t= 1.323E-06\n"
     ]
    }
   ],
   "source": [
    "import torch\n",
    "\n",
    "def next_token_probabilities(prefix, token):\n",
    "    inp = dictionary.encode_token_seq(prefix.split(' '))\n",
    "    with torch.no_grad():\n",
    "        model.eval()\n",
    "        logits = model(\n",
    "            torch.tensor([inp], dtype=torch.long).to(current_device)\n",
    "        )\n",
    "    token_id = dictionary.get_id(token)\n",
    "    p_next_token = torch.softmax(logits, dim=-1)\n",
    "    return p_next_token[0, token_id]\n",
    "\n",
    "prefix = '<bos> i have a'\n",
    "\n",
    "for w in ['dog', 'zebra', 'donut', 'velociraptor']:\n",
    "    prob = next_token_probabilities(prefix, w)\n",
    "    print('p( %s  | %s )\\t= %.3E' % (w, prefix, prob))\n",
    "    "
   ]
  },
  {
   "cell_type": "markdown",
   "metadata": {},
   "source": [
    "\n",
    "\n",
    "And sort by the highest probability next-tokens:\n",
    "\n",
    "$\\large \\texttt{sort}(p(\\cdot|\\underbrace{x_{<t}}_{\\text{prefix}}))$"
   ]
  },
  {
   "cell_type": "code",
   "execution_count": 66,
   "metadata": {
    "colab": {
     "base_uri": "https://localhost:8080/",
     "height": 404
    },
    "colab_type": "code",
    "id": "l4zVv--owi3d",
    "outputId": "2c64752d-d913-4dfa-814d-ba7042982462"
   },
   "outputs": [
    {
     "name": "stdout",
     "output_type": "stream",
     "text": [
      "p( dog  | <bos> i have a )\t= 0.07468\n",
      "p( cat  | <bos> i have a )\t= 0.04418\n",
      "p( lot  | <bos> i have a )\t= 0.04310\n",
      "p( job  | <bos> i have a )\t= 0.03759\n",
      "p( couple  | <bos> i have a )\t= 0.03458\n",
      "p( few  | <bos> i have a )\t= 0.02293\n",
      "p( black  | <bos> i have a )\t= 0.01704\n",
      "p( little  | <bos> i have a )\t= 0.01618\n",
      "p( hard  | <bos> i have a )\t= 0.01604\n",
      "p( very  | <bos> i have a )\t= 0.01478\n"
     ]
    }
   ],
   "source": [
    "def get_top_token_given_prefix(prefix, top=10):\n",
    "    inp = dictionary.encode_token_seq(prefix.split(' '))\n",
    "    with torch.no_grad():\n",
    "        model.eval()\n",
    "        logits = model(\n",
    "            torch.tensor([inp], dtype=torch.long).to(current_device)\n",
    "        )\n",
    "        \n",
    "    p_next_token = torch.softmax(logits, dim=-1)\n",
    "    sorted_probs, sorted_token_ids = torch.topk(p_next_token[0], top)\n",
    "\n",
    "    for i in range(sorted_token_ids.size(0)):\n",
    "        print('p( %s  | %s )\\t= %.5f' % \n",
    "              (dictionary.decode_idx_seq([sorted_token_ids[i]])[0], \n",
    "               prefix, \n",
    "               sorted_probs[i])\n",
    "        )\n",
    "\n",
    "get_top_token_given_prefix('<bos> i have a')  # '<bos> the weather is'  '<bos> <bos> <bos> hello'"
   ]
  },
  {
   "cell_type": "markdown",
   "metadata": {
    "colab_type": "text",
    "id": "Eb9Va-p4bj96"
   },
   "source": [
    "# Recurrent neural network language model\n",
    "Recall that in **language modeling**, we want to model the probability of variable length sequences, $$p(x_1,\\ldots,x_T)=\\prod_{t=1}^T p(x_t|x_{<t}).$$\n",
    "\n",
    "*Unlike n-gram models*, we will now define a model that allows a **full history** $x_{<t}$.\n",
    "\n",
    "To do so, we will use a function called a **recurrent neural network** to compute each distribution $p(x_t|x_{<t})$:\n",
    "\\begin{align}\n",
    "h_t &= f^{\\text{RNN}}_{\\theta}(x_{t-1}, h_{t-1}) & \\mathbb{R}^d\\\\\n",
    "s_t &= Wh_t & \\mathbb{R}^{\\text{|vocab|}}\\\\\n",
    "p_{\\theta}(x_t|x_{<t}) &= \\text{softmax}(s_t) & [0,1]^{\\text{|vocab|}}\n",
    "\\end{align}\n",
    "\n",
    "where $h_t$ is an internal (hidden) state of the model at time step $t$, and $x_t$ is an input at time step $t$.\n",
    "\n",
    "<img src=\"img/rnn.png\" alt=\"Drawing\" style=\"width: 35%; margin-left: 29%; padding: 3em;\"/>"
   ]
  },
  {
   "cell_type": "markdown",
   "metadata": {},
   "source": [
    "\n",
    "In the simplest form used in practice, $f_{\\theta}^{\\text{RNN}}$ is defined as:\n",
    " $$f_{\\theta}^{\\text{RNN}}(x_{t-1}, h_{t-1}) = \\text{tanh}(a_t)\\\\ a_t = b + W \\cdot h_{t-1} + U \\cdot x_{t-1},$$\n",
    " \n",
    "but there are other variants (e.g. [GRU](https://arxiv.org/pdf/1406.1078.pdf), [LSTM](https://www.bioinf.jku.at/publications/older/2604.pdf)).\n",
    "\n",
    "Similar to the n-gram neural network above, the goal at time $t$ is to **predict the next token $x_t$**."
   ]
  },
  {
   "cell_type": "markdown",
   "metadata": {
    "colab_type": "text",
    "id": "DLTwdNF-bj97"
   },
   "source": [
    "### Pytorch implementation: `RNNCell`"
   ]
  },
  {
   "cell_type": "code",
   "execution_count": 71,
   "metadata": {
    "colab": {},
    "colab_type": "code",
    "id": "F1WfgVLybj98"
   },
   "outputs": [],
   "source": [
    "from torch.nn import RNNCell\n",
    "# RNNCell??"
   ]
  },
  {
   "cell_type": "code",
   "execution_count": 72,
   "metadata": {
    "colab": {},
    "colab_type": "code",
    "id": "OseW45d9bj9_"
   },
   "outputs": [],
   "source": [
    "import torch\n",
    "hidden_size = 16\n",
    "embedding_dim = 8\n",
    "\n",
    "rnn_cell = RNNCell(embedding_dim, hidden_size)"
   ]
  },
  {
   "cell_type": "code",
   "execution_count": 73,
   "metadata": {
    "colab": {
     "base_uri": "https://localhost:8080/",
     "height": 104
    },
    "colab_type": "code",
    "id": "UnPEPW5Nbj-B",
    "outputId": "4dbe89a7-989f-4db7-e89e-bd2d0d0fe13d"
   },
   "outputs": [
    {
     "name": "stdout",
     "output_type": "stream",
     "text": [
      "tensor([[0., 0., 0., 0., 0., 0., 0., 0., 0., 0., 0., 0., 0., 0., 0., 0.]])\n",
      "torch.Size([1, 16])\n"
     ]
    }
   ],
   "source": [
    "hidden = torch.zeros(1, hidden_size)\n",
    "print(hidden)\n",
    "print(hidden.size())"
   ]
  },
  {
   "cell_type": "code",
   "execution_count": 74,
   "metadata": {
    "colab": {
     "base_uri": "https://localhost:8080/",
     "height": 884
    },
    "colab_type": "code",
    "id": "9TIjbLsMbj-C",
    "outputId": "a3dd9a6a-fa65-4ff6-b499-d5acc650a94a"
   },
   "outputs": [
    {
     "name": "stdout",
     "output_type": "stream",
     "text": [
      "tensor([[0.6630, 0.1265, 0.1560, 0.5926, 0.8322, 0.5431, 0.9106, 0.5570]])\n",
      "torch.Size([1, 8])\n"
     ]
    }
   ],
   "source": [
    "random_input = torch.rand(1, embedding_dim)\n",
    "print(random_input)\n",
    "print(random_input.size())"
   ]
  },
  {
   "cell_type": "code",
   "execution_count": 75,
   "metadata": {
    "colab": {
     "base_uri": "https://localhost:8080/",
     "height": 121
    },
    "colab_type": "code",
    "id": "1n2k_CEBbj-E",
    "outputId": "3a521311-9bca-404d-8928-958f369c1129"
   },
   "outputs": [
    {
     "name": "stdout",
     "output_type": "stream",
     "text": [
      "tensor([[-0.2780,  0.0610, -0.1174, -0.2919, -0.4712,  0.0316, -0.2864, -0.0774,\n",
      "         -0.4569,  0.2362,  0.1223,  0.3585, -0.0390, -0.1081,  0.4882, -0.1864]],\n",
      "       grad_fn=<TanhBackward>)\n",
      "torch.Size([1, 16])\n"
     ]
    }
   ],
   "source": [
    "hidden = rnn_cell(random_input, hidden)\n",
    "print(hidden)\n",
    "print(hidden.size())"
   ]
  },
  {
   "cell_type": "markdown",
   "metadata": {
    "colab_type": "text",
    "id": "L4QaNlS2bj-O"
   },
   "source": [
    "### Pytorch implementation: `RNN`\n",
    "\n",
    "`RNNCell` is a building block of an RNN model. The Pytorch `RNN` model supports multi-layer networks by creating separate `RNNCell`s for every layer. \n",
    "\n",
    "`RNN` can also process a whole sequence of data by iteratively applying `RNNCell`."
   ]
  },
  {
   "cell_type": "code",
   "execution_count": 76,
   "metadata": {
    "colab": {},
    "colab_type": "code",
    "id": "FCvackw4bj-O"
   },
   "outputs": [],
   "source": [
    "from torch.nn import RNNBase, RNN\n",
    "# RNNBase.__init__??\n",
    "# RNN.__init__??"
   ]
  },
  {
   "cell_type": "markdown",
   "metadata": {
    "colab_type": "text",
    "id": "LHqYjtCYbj--"
   },
   "source": [
    "### 1. Define the model"
   ]
  },
  {
   "cell_type": "code",
   "execution_count": 77,
   "metadata": {
    "colab": {},
    "colab_type": "code",
    "id": "IdlUbyiybj_A"
   },
   "outputs": [],
   "source": [
    "import torch.nn as nn\n",
    "\n",
    "class RNNLanguageModel(nn.Module):\n",
    "    def __init__(self, options):\n",
    "        super().__init__()\n",
    "        \n",
    "        self.lookup = nn.Embedding(\n",
    "            num_embeddings=options['num_embeddings'], \n",
    "            embedding_dim=options['embedding_dim'], \n",
    "            padding_idx=options['padding_idx']\n",
    "        )\n",
    "        self.rnn = nn.RNN(\n",
    "            options['input_size'], \n",
    "            options['hidden_size'], \n",
    "            options['num_layers'], \n",
    "            dropout=options['rnn_dropout'], \n",
    "            batch_first=True\n",
    "        )\n",
    "        self.projection = nn.Linear(\n",
    "            options['hidden_size'], \n",
    "            options['num_embeddings']\n",
    "        )\n",
    "        \n",
    "    def forward(self, token_ids):\n",
    "        embeddings = self.lookup(token_ids)\n",
    "        output, hidden = self.rnn(embeddings)\n",
    "        logits = self.projection(output) \n",
    "        return logits"
   ]
  },
  {
   "cell_type": "markdown",
   "metadata": {},
   "source": [
    "### 2. Prepare the data"
   ]
  },
  {
   "cell_type": "markdown",
   "metadata": {},
   "source": [
    "#### Dataset and Dataloader\n",
    "\n",
    "See `data_utils.py` for the implementation. "
   ]
  },
  {
   "cell_type": "code",
   "execution_count": 78,
   "metadata": {},
   "outputs": [
    {
     "name": "stderr",
     "output_type": "stream",
     "text": [
      "100%|██████████| 133176/133176 [00:18<00:00, 7382.82it/s]\n",
      "100%|██████████| 16181/16181 [00:03<00:00, 4807.32it/s]\n"
     ]
    }
   ],
   "source": [
    "datasets_ = data_utils.load_personachat('./')\n",
    "dictionary = data_utils.Dictionary(datasets_, include_valid=True)\n",
    "datasets_ = data_utils.tokenize_dataset(datasets_, dictionary)\n",
    "\n",
    "datasets = {}\n",
    "for split, dataset in datasets_.items():\n",
    "    datasets[split] = data_utils.TensoredDataset(dataset, dictionary.get_id('<pad>'))"
   ]
  },
  {
   "cell_type": "markdown",
   "metadata": {},
   "source": [
    "- The **input** is now a **full sequence**.\n",
    "- The **output** is the **next token** for each position of the input:"
   ]
  },
  {
   "cell_type": "code",
   "execution_count": 79,
   "metadata": {},
   "outputs": [
    {
     "name": "stdout",
     "output_type": "stream",
     "text": [
      "Input: \n",
      "\ttensor([ 0,  4,  5,  6,  7,  8,  9, 10, 11, 12])\n",
      "\t(['<bos>', 'i', 'am', 'doing', 'great', 'except', 'for', 'the', 'allergies', '.'])\n",
      "Output: \n",
      "\ttensor([ 4,  5,  6,  7,  8,  9, 10, 11, 12,  1])\n",
      "\t(['i', 'am', 'doing', 'great', 'except', 'for', 'the', 'allergies', '.', '<eos>'])\n"
     ]
    }
   ],
   "source": [
    "inp, out = datasets['train'][0]\n",
    "\n",
    "print(\"Input: \\n\\t%s\\n\\t(%s)\" %\n",
    "      (inp.data[0], dictionary.decode_idx_seq(inp.data[0])))\n",
    "\n",
    "print(\"Output: \\n\\t%s\\n\\t(%s)\" %\n",
    "      (out.data[0], dictionary.decode_idx_seq(out.data[0])))"
   ]
  },
  {
   "cell_type": "markdown",
   "metadata": {},
   "source": [
    "#### Pytorch dataloader"
   ]
  },
  {
   "cell_type": "code",
   "execution_count": 80,
   "metadata": {},
   "outputs": [],
   "source": [
    "dataloaders = {}\n",
    "batch_size = 128\n",
    "\n",
    "for split, dataset in datasets.items():\n",
    "    dataloaders[split] = DataLoader(\n",
    "        dataset, \n",
    "        batch_size=batch_size, \n",
    "        shuffle=True, \n",
    "        collate_fn=dataset.pad_collate_fn  # pads the sequences in the batch\n",
    "    )"
   ]
  },
  {
   "cell_type": "markdown",
   "metadata": {},
   "source": [
    "#### Padding to handle variable sequence lengths:"
   ]
  },
  {
   "cell_type": "code",
   "execution_count": 81,
   "metadata": {},
   "outputs": [
    {
     "name": "stdout",
     "output_type": "stream",
     "text": [
      "Batch size torch.Size([128, 25])\n",
      "Batch element 1: \n",
      "\ttensor([ 0,  4,  5, 44, 13, 21, 12,  2,  2,  2,  2,  2,  2,  2,  2,  2,  2,  2,\n",
      "         2,  2,  2,  2,  2,  2,  2])\n",
      "\t(<bos> i am just a kid . <pad> <pad> <pad> <pad> <pad> <pad> <pad> <pad> <pad> <pad> <pad> <pad> <pad> <pad> <pad> <pad> <pad> <pad>)\n",
      "Batch element 2: \n",
      "\ttensor([   0,  625, 3468,  122, 1791,   78,    4,  113,   86, 1178,   12,    2,\n",
      "           2,    2,    2,    2,    2,    2,    2,    2,    2,    2,    2,    2,\n",
      "           2])\n",
      "\t(<bos> everyone calls me mary and i live in colorado . <pad> <pad> <pad> <pad> <pad> <pad> <pad> <pad> <pad> <pad> <pad> <pad> <pad> <pad>)\n"
     ]
    }
   ],
   "source": [
    "inp, target = next(dataloaders['train'].__iter__())\n",
    "\n",
    "print(\"Batch size %s\" % str(inp.shape))\n",
    "print(\"Batch element 1: \\n\\t%s\\n\\t(%s)\" %\n",
    "      (inp.data[0], ' '.join(dictionary.decode_idx_seq(inp.data[0]))))\n",
    "print(\"Batch element 2: \\n\\t%s\\n\\t(%s)\" %\n",
    "      (inp.data[1], ' '.join(dictionary.decode_idx_seq(inp.data[1]))))"
   ]
  },
  {
   "cell_type": "markdown",
   "metadata": {},
   "source": [
    "### 3. Train the model\n",
    "\n",
    "#### Initializing model, criterion, and optimizer (similar to the feedforward model)"
   ]
  },
  {
   "cell_type": "code",
   "execution_count": 82,
   "metadata": {
    "colab": {},
    "colab_type": "code",
    "id": "zQB-RbIhbj_B"
   },
   "outputs": [],
   "source": [
    "import torch\n",
    "import torch.nn as nn\n",
    "import torch.optim as optim\n",
    "\n",
    "load_pretrained = True\n",
    "\n",
    "num_gpus = torch.cuda.device_count()\n",
    "if num_gpus > 0:\n",
    "    current_device = 'cuda'\n",
    "else:\n",
    "    current_device = 'cpu'\n",
    "\n",
    "if load_pretrained:\n",
    "    if not os.path.exists('personachat_rnn_lm.pt'):\n",
    "        raise EOFError('Download pretrained model!')\n",
    "    model_dict = torch.load(\n",
    "        'personachat_rnn_lm.pt',\n",
    "        map_location=torch.device(current_device)\n",
    "    )\n",
    "    \n",
    "    options = model_dict['options']\n",
    "    model = RNNLanguageModel(options).to(current_device)\n",
    "    model.load_state_dict(model_dict['model_dict'])\n",
    "    \n",
    "else:\n",
    "    embedding_size = 256\n",
    "    hidden_size = 512\n",
    "    num_layers = 3\n",
    "    rnn_dropout = 0.3\n",
    "\n",
    "    options = {\n",
    "        'num_embeddings': len(dictionary),\n",
    "        'embedding_dim': embedding_size,\n",
    "        'padding_idx': dictionary.get_id('<pad>'),\n",
    "        'input_size': embedding_size,\n",
    "        'hidden_size': hidden_size,\n",
    "        'num_layers': num_layers,\n",
    "        'rnn_dropout': rnn_dropout,\n",
    "    }\n",
    "    model = RNNLanguageModel(options).to(current_device)\n",
    "    \n",
    "\n",
    "criterion = nn.CrossEntropyLoss(\n",
    "    ignore_index=dictionary.get_id('<pad>'), \n",
    "    reduction='sum'\n",
    ")\n",
    "\n",
    "model_parameters = [p for p in model.parameters() if p.requires_grad]\n",
    "optimizer = optim.SGD(model_parameters, lr=0.001, momentum=0.999)"
   ]
  },
  {
   "cell_type": "code",
   "execution_count": 83,
   "metadata": {
    "colab": {
     "base_uri": "https://localhost:8080/",
     "height": 104
    },
    "colab_type": "code",
    "id": "qmMLIrhjbj_D",
    "outputId": "88d88e38-f723-4946-dde9-0c8a8834e746"
   },
   "outputs": [
    {
     "data": {
      "text/plain": [
       "RNNLanguageModel(\n",
       "  (lookup): Embedding(20089, 256, padding_idx=2)\n",
       "  (rnn): RNN(256, 512, num_layers=3, batch_first=True, dropout=0.3)\n",
       "  (projection): Linear(in_features=512, out_features=20089, bias=True)\n",
       ")"
      ]
     },
     "execution_count": 83,
     "metadata": {},
     "output_type": "execute_result"
    }
   ],
   "source": [
    "model"
   ]
  },
  {
   "cell_type": "markdown",
   "metadata": {
    "colab": {},
    "colab_type": "code",
    "id": "qwBqO3z7bj_L"
   },
   "source": [
    "#### Training loop (same as the feedforward model)"
   ]
  },
  {
   "cell_type": "code",
   "execution_count": 84,
   "metadata": {
    "colab": {
     "base_uri": "https://localhost:8080/",
     "height": 34
    },
    "colab_type": "code",
    "id": "Fw28_6qXbj_M",
    "outputId": "bbfb150f-55d0-4d46-c715-7430d7204f17"
   },
   "outputs": [],
   "source": [
    "plot_cache = []\n",
    "\n",
    "if not load_pretrained:\n",
    "    for epoch_number in range(100):\n",
    "        avg_loss = 0\n",
    "        model.train()\n",
    "\n",
    "        train_loss_cache = 0\n",
    "        train_non_pad_tokens_cache = 0\n",
    "\n",
    "        for i, (inp, target) in enumerate(persona_loaders['train']):\n",
    "            optimizer.zero_grad()\n",
    "            inp = inp.to(current_device)\n",
    "            target = target.to(current_device)\n",
    "            logits = model(inp)\n",
    "\n",
    "            loss = criterion(logits.view(-1, logits.size(-1)), target.view(-1))\n",
    "            train_loss_cache += loss.item()  # still sum here\n",
    "\n",
    "            non_pad_tokens = target.view(-1).ne(persona_dict.get_id('<pad>')).sum().item()            \n",
    "            train_non_pad_tokens_cache += non_pad_tokens\n",
    "\n",
    "            loss /= non_pad_tokens \n",
    "\n",
    "            loss.backward()\n",
    "            optimizer.step()\n",
    "\n",
    "            if i % 100 == 0:\n",
    "                avg_loss = train_loss_cache / train_non_pad_tokens_cache\n",
    "                print('Step {} avg train loss = {:.{prec}f}'.format(i, avg_loss, prec=4))\n",
    "                train_log_cache = []\n",
    "\n",
    "        valid_loss_cache = 0\n",
    "        valid_non_pad_tokens_cache = 0\n",
    "\n",
    "        model.eval()\n",
    "        with torch.no_grad():\n",
    "            for i, (inp, target) in enumerate(persona_loaders['valid']):\n",
    "                inp = inp.to(current_device)\n",
    "                target = target.to(current_device)\n",
    "                logits = model(inp)\n",
    "\n",
    "                loss = criterion(logits.view(-1, logits.size(-1)), target.view(-1))\n",
    "                valid_loss_cache += loss.item()  # still sum here\n",
    "                non_pad_tokens = target.view(-1).ne(persona_dict.get_id('<pad>')).sum().item()\n",
    "\n",
    "                valid_non_pad_tokens_cache += non_pad_tokens\n",
    "\n",
    "            avg_val_loss = valid_loss_cache / valid_non_pad_tokens_cache\n",
    "\n",
    "            print('Validation loss after {} epoch = {:.{prec}f}'.format(epoch_number, avg_val_loss, prec=4))\n",
    "\n",
    "        plot_cache.append((avg_loss, avg_val_loss))\n"
   ]
  },
  {
   "cell_type": "code",
   "execution_count": 85,
   "metadata": {
    "colab": {},
    "colab_type": "code",
    "id": "KAV_hzMvbj_O"
   },
   "outputs": [],
   "source": [
    "if load_pretrained:\n",
    "    plot_cache = model_dict['loss_cache']"
   ]
  },
  {
   "cell_type": "markdown",
   "metadata": {},
   "source": [
    "### 4. Evaluation"
   ]
  },
  {
   "cell_type": "code",
   "execution_count": 86,
   "metadata": {
    "colab": {
     "base_uri": "https://localhost:8080/",
     "height": 281
    },
    "colab_type": "code",
    "id": "fhTtmqBfufyE",
    "outputId": "41019bb9-79c9-440f-a6d7-ecc5817769db"
   },
   "outputs": [
    {
     "data": {
      "image/png": "[encoded data removed]",
      "text/plain": [
       "<Figure size 432x288 with 1 Axes>"
      ]
     },
     "metadata": {
      "needs_background": "light"
     },
     "output_type": "display_data"
    }
   ],
   "source": [
    "import matplotlib.pyplot as plt\n",
    "import numpy\n",
    "\n",
    "epochs = numpy.array(list(range(len(plot_cache))))\n",
    "plt.plot(epochs, [i[0] for i in plot_cache], label='Train loss')\n",
    "plt.plot(epochs, [i[1] for i in plot_cache], label='Valid loss')\n",
    "\n",
    "plt.legend()\n",
    "plt.title('Loss curves')\n",
    "plt.show()"
   ]
  },
  {
   "cell_type": "code",
   "execution_count": 87,
   "metadata": {
    "colab": {
     "base_uri": "https://localhost:8080/",
     "height": 281
    },
    "colab_type": "code",
    "id": "R_A4w1QFufyN",
    "outputId": "23fe62f5-96e3-4893-b4b0-72cd63d4ccd6"
   },
   "outputs": [
    {
     "data": {
      "image/png": "[encoded data removed]",
      "text/plain": [
       "<Figure size 432x288 with 1 Axes>"
      ]
     },
     "metadata": {
      "needs_background": "light"
     },
     "output_type": "display_data"
    }
   ],
   "source": [
    "import matplotlib.pyplot as plt\n",
    "import numpy\n",
    "\n",
    "epochs = numpy.array(list(range(len(plot_cache))))\n",
    "plt.plot(epochs, [2**(i[0]/numpy.log(2)) for i in plot_cache], label='Train ppl')\n",
    "plt.plot(epochs, [2**(i[1]/numpy.log(2)) for i in plot_cache], label='Valid ppl')\n",
    "\n",
    "plt.legend()\n",
    "plt.title('PPL curves')\n",
    "plt.show()"
   ]
  },
  {
   "cell_type": "markdown",
   "metadata": {
    "colab_type": "text",
    "id": "zAvP_FXgbj_W"
   },
   "source": [
    "### Conditional probability queries\n",
    "\n",
    "We can query different probabilities:\n",
    "\n",
    "$\\large p(\\underbrace{x_t}_{\\text{token}}|\\underbrace{x_{<t}}_{\\text{prefix}})$"
   ]
  },
  {
   "cell_type": "code",
   "execution_count": 88,
   "metadata": {
    "colab": {
     "base_uri": "https://localhost:8080/",
     "height": 419
    },
    "colab_type": "code",
    "id": "TMG0r9zwbj_X",
    "outputId": "95a284e7-3913-46ca-e43f-3505dacb6555"
   },
   "outputs": [
    {
     "name": "stdout",
     "output_type": "stream",
     "text": [
      "p( dog  | <bos> i have a )\t= 6.960E-02\n",
      "p( zebra  | <bos> i have a )\t= 1.633E-04\n",
      "p( donut  | <bos> i have a )\t= 1.039E-05\n",
      "p( velociraptor  | <bos> i have a )\t= 2.267E-07\n"
     ]
    }
   ],
   "source": [
    "import torch\n",
    "\n",
    "def next_token_probabilities(prefix, token):\n",
    "    inp = dictionary.encode_token_seq(prefix.split(' '))\n",
    "    with torch.no_grad():\n",
    "        model.eval()\n",
    "        logits = model(\n",
    "            torch.tensor([inp], dtype=torch.long).to(current_device)\n",
    "        )\n",
    "        \n",
    "    token_id = dictionary.get_id(token)\n",
    "    p_next_token = torch.softmax(logits[0, -1], dim=-1)\n",
    "    return p_next_token[token_id]\n",
    "\n",
    "prefix = '<bos> i have a'\n",
    "\n",
    "for w in ['dog', 'zebra', 'donut', 'velociraptor']:\n",
    "    prob = next_token_probabilities(prefix, w)\n",
    "    print('p( %s  | %s )\\t= %.3E' % (w, prefix, prob))\n",
    "    "
   ]
  },
  {
   "cell_type": "markdown",
   "metadata": {},
   "source": [
    "\n",
    "\n",
    "And sort by the highest probability next-tokens:\n",
    "\n",
    "$\\large \\texttt{sort}(p(\\cdot|\\underbrace{x_{<t}}_{\\text{prefix}}))$"
   ]
  },
  {
   "cell_type": "code",
   "execution_count": 89,
   "metadata": {
    "colab": {
     "base_uri": "https://localhost:8080/",
     "height": 404
    },
    "colab_type": "code",
    "id": "l4zVv--owi3d",
    "outputId": "2c64752d-d913-4dfa-814d-ba7042982462"
   },
   "outputs": [
    {
     "name": "stdout",
     "output_type": "stream",
     "text": [
      "p( great  | <bos> the weather is )\t= 0.09953\n",
      "p( nice  | <bos> the weather is )\t= 0.07859\n",
      "p( beautiful  | <bos> the weather is )\t= 0.06185\n",
      "p( fun  | <bos> the weather is )\t= 0.05039\n",
      "p( good  | <bos> the weather is )\t= 0.04573\n",
      "p( awesome  | <bos> the weather is )\t= 0.04308\n",
      "p( cool  | <bos> the weather is )\t= 0.04212\n",
      "p( my  | <bos> the weather is )\t= 0.03604\n",
      "p( a  | <bos> the weather is )\t= 0.02892\n",
      "p( so  | <bos> the weather is )\t= 0.02230\n"
     ]
    }
   ],
   "source": [
    "def get_top_token_given_prefix(prefix, top=10):\n",
    "    inp = dictionary.encode_token_seq(prefix.split(' '))\n",
    "    with torch.no_grad():\n",
    "        model.eval()\n",
    "        logits = model(\n",
    "            torch.tensor([inp], dtype=torch.long).to(current_device)\n",
    "        )\n",
    "        \n",
    "    p_next_token = torch.softmax(logits[0, -1], dim=-1)\n",
    "    sorted_probs, sorted_token_ids = torch.topk(p_next_token, top)\n",
    "\n",
    "    for i in range(sorted_token_ids.size(0)):\n",
    "        print('p( %s  | %s )\\t= %.5f' % \n",
    "              (dictionary.decode_idx_seq([sorted_token_ids[i]])[0], \n",
    "               prefix, \n",
    "               sorted_probs[i])\n",
    "        )\n",
    "\n",
    "get_top_token_given_prefix('<bos> the weather is')"
   ]
  },
  {
   "cell_type": "markdown",
   "metadata": {},
   "source": [
    "### Generation (Sampling)\n",
    "\n",
    "Finally, we can generate sentences using the model's conditional distribution:\n",
    "\n",
    "            context = [<bos>]\n",
    "            until <eos> is generated:\n",
    "                wt ~ p(wt | context)\n",
    "                context += [wt]\n",
    "                \n",
    "                \n",
    "Here, the `~` symbol stands for sampling from a categorical distribution. "
   ]
  },
  {
   "cell_type": "code",
   "execution_count": 90,
   "metadata": {},
   "outputs": [
    {
     "name": "stdout",
     "output_type": "stream",
     "text": [
      "Temperature 1.00\n",
      "<bos> i have a cat named toto named after mah . <eos>\n",
      "<bos> i have a book named killswitch and trump my bf . are you married ? <eos>\n",
      "<bos> i have a huge belt play with globe tea listening to music . <eos>\n",
      "<bos> i have a lot of jokes to share . any hobbies ? <eos>\n",
      "<bos> i have a moped . <eos>\n",
      "\n",
      "Temperature 0.50\n",
      "<bos> i have a dog named toto . <eos>\n",
      "<bos> i have a lot of friends . <eos>\n",
      "<bos> i have a cat named cow . <eos>\n",
      "<bos> i have a dog . <eos>\n",
      "<bos> i have a lot of friends . <eos>\n",
      "\n",
      "Temperature 0.10\n",
      "<bos> i have a cat named cow . <eos>\n",
      "<bos> i have a cat named cow . <eos>\n",
      "<bos> i have a cat named cow . <eos>\n",
      "<bos> i have a cat named cow . <eos>\n",
      "<bos> i have a dog named toto . <eos>\n",
      "\n"
     ]
    }
   ],
   "source": [
    "import torch\n",
    "\n",
    "def sample(model, prefix, num_samples, temperature=1.0, max_len=50):\n",
    "    inp = torch.tensor([\n",
    "        dictionary.encode_token_seq(prefix.split(' '))\n",
    "    ], dtype=torch.long).to(current_device).repeat([num_samples, 1])\n",
    "\n",
    "    sampled = [prefix.split(' ') for _ in range(num_samples)]\n",
    "    done = torch.tensor([False for _ in range(num_samples)])\n",
    "    hidden = None\n",
    "    \n",
    "    with torch.no_grad():\n",
    "        model.eval()\n",
    "        for t in range(max_len):\n",
    "            logits, hidden = step(model, inp, hidden)\n",
    "            logits_ = (logits[:, -1, :] / temperature)\n",
    "            inp = logits_.softmax(-1).multinomial(1)            \n",
    "            for i in range(num_samples):\n",
    "                tok_ti = dictionary.get_token(inp[i, 0].item())\n",
    "                if tok_ti == '<eos>' and not done[i]:\n",
    "                    done[i] = True\n",
    "                    sampled[i].append(tok_ti)\n",
    "                elif not done[i]:\n",
    "                    sampled[i].append(tok_ti)\n",
    "                else:\n",
    "                    pass\n",
    "            if done.sum() == num_samples:\n",
    "                break\n",
    "        \n",
    "    return sampled\n",
    "\n",
    "def step(rnn, token_ids, hidden):\n",
    "    embeddings = rnn.lookup(token_ids)\n",
    "    output, hidden = rnn.rnn(embeddings, hidden)\n",
    "    logits = rnn.projection(output) \n",
    "    return logits, hidden\n",
    "\n",
    "\n",
    "prefix = '<bos> i have a'\n",
    "\n",
    "for temp in [1.0, 0.5, 0.1]:\n",
    "    print(\"Temperature %.2f\" % temp)\n",
    "    samples = sample(model, prefix, 5, temperature=temp)\n",
    "    for s in samples:\n",
    "        print(' '.join(s))\n",
    "    print()"
   ]
  },
  {
   "cell_type": "code",
   "execution_count": 91,
   "metadata": {
    "colab": {},
    "colab_type": "code",
    "id": "uzGqlrKhbj_g"
   },
   "outputs": [],
   "source": [
    "# Saving the model\n",
    "if False:\n",
    "    torch.save({\n",
    "        'options': options,\n",
    "        'loss_cache': plot_cache,\n",
    "        'model_dict': model.state_dict()\n",
    "    }, './static_files/persona_rnn_lm.pt')"
   ]
  },
  {
   "cell_type": "markdown",
   "metadata": {},
   "source": [
    "## Large-scale Language Modeling: GPT-2\n",
    "\n",
    "The language model above is relatively small in terms of the number of parameters, and is trained on a (very) small dataset.\n",
    "\n",
    "Recently, researchers have trained **large-scale language models** on **large amounts of data**, resulting in improved language modeling and generation ability. \n",
    "\n",
    "A representative example is **GPT-2** [[paper](https://cdn.openai.com/better-language-models/language_models_are_unsupervised_multitask_learners.pdf)], [[blog](https://openai.com/blog/better-language-models/)]. We won't currently discuss the details of this model, but we can easily **use a pre-trained version to generate text**:"
   ]
  },
  {
   "cell_type": "code",
   "execution_count": 43,
   "metadata": {},
   "outputs": [
    {
     "name": "stdout",
     "output_type": "stream",
     "text": [
      "Requirement already satisfied: transformers in /opt/anaconda3/lib/python3.7/site-packages (2.5.1)\n",
      "Requirement already satisfied: requests in /opt/anaconda3/lib/python3.7/site-packages (from transformers) (2.22.0)\n",
      "Requirement already satisfied: filelock in /opt/anaconda3/lib/python3.7/site-packages (from transformers) (3.0.12)\n",
      "Requirement already satisfied: tokenizers==0.5.2 in /opt/anaconda3/lib/python3.7/site-packages (from transformers) (0.5.2)\n",
      "Requirement already satisfied: boto3 in /opt/anaconda3/lib/python3.7/site-packages/boto3-1.9.246-py3.7.egg (from transformers) (1.9.246)\n",
      "Requirement already satisfied: tqdm>=4.27 in /opt/anaconda3/lib/python3.7/site-packages (from transformers) (4.42.0)\n",
      "Requirement already satisfied: numpy in /opt/anaconda3/lib/python3.7/site-packages (from transformers) (1.18.1)\n",
      "Requirement already satisfied: regex!=2019.12.17 in /opt/anaconda3/lib/python3.7/site-packages (from transformers) (2019.8.19)\n",
      "Requirement already satisfied: sentencepiece in /opt/anaconda3/lib/python3.7/site-packages (from transformers) (0.1.85)\n",
      "Requirement already satisfied: sacremoses in /opt/anaconda3/lib/python3.7/site-packages (from transformers) (0.0.38)\n",
      "Requirement already satisfied: idna<2.9,>=2.5 in /opt/anaconda3/lib/python3.7/site-packages (from requests->transformers) (2.8)\n",
      "Requirement already satisfied: chardet<3.1.0,>=3.0.2 in /opt/anaconda3/lib/python3.7/site-packages (from requests->transformers) (3.0.4)\n",
      "Requirement already satisfied: certifi>=2017.4.17 in /opt/anaconda3/lib/python3.7/site-packages (from requests->transformers) (2019.11.28)\n",
      "Requirement already satisfied: urllib3!=1.25.0,!=1.25.1,<1.26,>=1.21.1 in /opt/anaconda3/lib/python3.7/site-packages (from requests->transformers) (1.24.2)\n",
      "Requirement already satisfied: botocore<1.13.0,>=1.12.246 in /opt/anaconda3/lib/python3.7/site-packages/botocore-1.12.246-py3.7.egg (from boto3->transformers) (1.12.246)\n",
      "Requirement already satisfied: jmespath<1.0.0,>=0.7.1 in /opt/anaconda3/lib/python3.7/site-packages/jmespath-0.9.5-py3.7.egg (from boto3->transformers) (0.9.5)\n",
      "Requirement already satisfied: s3transfer<0.3.0,>=0.2.0 in /opt/anaconda3/lib/python3.7/site-packages/s3transfer-0.2.1-py3.7.egg (from boto3->transformers) (0.2.1)\n",
      "Requirement already satisfied: joblib in /opt/anaconda3/lib/python3.7/site-packages (from sacremoses->transformers) (0.14.1)\n",
      "Requirement already satisfied: six in /opt/anaconda3/lib/python3.7/site-packages (from sacremoses->transformers) (1.12.0)\n",
      "Requirement already satisfied: click in /opt/anaconda3/lib/python3.7/site-packages (from sacremoses->transformers) (7.0)\n",
      "Requirement already satisfied: docutils<0.16,>=0.10 in /opt/anaconda3/lib/python3.7/site-packages (from botocore<1.13.0,>=1.12.246->boto3->transformers) (0.15.2)\n",
      "Requirement already satisfied: python-dateutil<3.0.0,>=2.1 in /opt/anaconda3/lib/python3.7/site-packages (from botocore<1.13.0,>=1.12.246->boto3->transformers) (2.8.1)\n"
     ]
    }
   ],
   "source": [
    "!pip install transformers"
   ]
  },
  {
   "cell_type": "markdown",
   "metadata": {},
   "source": [
    "#### Load the model and tokenizer"
   ]
  },
  {
   "cell_type": "code",
   "execution_count": 44,
   "metadata": {},
   "outputs": [
    {
     "data": {
      "application/vnd.jupyter.widget-view+json": {
       "model_id": "f3219aed9735497aafd57652d4b9b15b",
       "version_major": 2,
       "version_minor": 0
      },
      "text/plain": [
       "HBox(children=(FloatProgress(value=0.0, description='Downloading', max=1042301.0, style=ProgressStyle(descript…"
      ]
     },
     "metadata": {},
     "output_type": "display_data"
    },
    {
     "name": "stdout",
     "output_type": "stream",
     "text": [
      "\n"
     ]
    },
    {
     "data": {
      "application/vnd.jupyter.widget-view+json": {
       "model_id": "412ceb3e50c54d86a95bb5ed4f8f6084",
       "version_major": 2,
       "version_minor": 0
      },
      "text/plain": [
       "HBox(children=(FloatProgress(value=0.0, description='Downloading', max=456318.0, style=ProgressStyle(descripti…"
      ]
     },
     "metadata": {},
     "output_type": "display_data"
    },
    {
     "name": "stdout",
     "output_type": "stream",
     "text": [
      "\n"
     ]
    },
    {
     "data": {
      "application/vnd.jupyter.widget-view+json": {
       "model_id": "6ed06f681e4547d5aabe45b58dc8d810",
       "version_major": 2,
       "version_minor": 0
      },
      "text/plain": [
       "HBox(children=(FloatProgress(value=0.0, description='Downloading', max=224.0, style=ProgressStyle(description_…"
      ]
     },
     "metadata": {},
     "output_type": "display_data"
    },
    {
     "name": "stdout",
     "output_type": "stream",
     "text": [
      "\n"
     ]
    },
    {
     "data": {
      "application/vnd.jupyter.widget-view+json": {
       "model_id": "4a1c328c2e9846198638a0b30e47b88c",
       "version_major": 2,
       "version_minor": 0
      },
      "text/plain": [
       "HBox(children=(FloatProgress(value=0.0, description='Downloading', max=548118077.0, style=ProgressStyle(descri…"
      ]
     },
     "metadata": {},
     "output_type": "display_data"
    },
    {
     "name": "stdout",
     "output_type": "stream",
     "text": [
      "\n"
     ]
    }
   ],
   "source": [
    "import torch\n",
    "from transformers import (\n",
    "    GPT2LMHeadModel,\n",
    "    GPT2Tokenizer\n",
    ")\n",
    "\n",
    "device = torch.device('cpu') if not torch.cuda.is_available() else torch.device('cuda:0')\n",
    "\n",
    "tokenizer = GPT2Tokenizer.from_pretrained(\"gpt2\")\n",
    "model = GPT2LMHeadModel.from_pretrained(\"gpt2\")\n",
    "model.to(device);"
   ]
  },
  {
   "cell_type": "markdown",
   "metadata": {},
   "source": [
    "#### Generate (Sampling)\n",
    "\n",
    "We'll talk about other ways to generate later in the course."
   ]
  },
  {
   "cell_type": "code",
   "execution_count": 45,
   "metadata": {},
   "outputs": [
    {
     "name": "stdout",
     "output_type": "stream",
     "text": [
      "My favorite food is not pizza…it is your meal!\"\n",
      "\n",
      "\"Wanna try me out? I should really start by asking for a discount. It's awesome!\"\n",
      "\n",
      "\"I'm here today with my buddy John to talk about this great recipe for Pizza Noodles.\"\n",
      "\n",
      "Thank you so much for stopping by! We wanted to introduce you to John for lunch and dinner.\n",
      "\n",
      "I like pizza. I've never had pizza in my life. The reason I have a\n",
      "---------------------------------------------------\n",
      "My favorite food is the prawns from the island of Tanga. It's very cheap and easy to get for the price of one and then again for the rice with the traditional pork chop and chicken prawns. And they also tend to be great with pork or pork ribs if you can find them locally, that's very special.\n",
      "\n",
      "But how do you buy any special vegetables in Tonga?\n",
      "\n",
      "The pinyon sauce in Tonga is made with a bamboo straw and\n",
      "---------------------------------------------------\n",
      "My favorite food is probably The Bistro, which is packed with the best, most savory food I've ever had. I love their sandwiches or the ones on the menu, especially if they're gluten free, they're filled with tasty things like tofu that you can use as sauce, you can use as bread, and I love the fact they provide you with something to spend more time with. The best thing about this place are the prices to pick up from: you can pay less than\n",
      "---------------------------------------------------\n",
      "My favorite food is my family's favorite. It's so good!\n",
      "\n",
      "When it is easy to find some, it actually makes the whole family more fun. Our family goes to the park at Christmas time every day. I have our favorite food, it isn't as bad as the other foods but it is much more salty.\n",
      "\n",
      "We love this shop for all the wonderful things you can find there, including \"Pizza\". I haven't experienced anything that you might not know about it\n",
      "---------------------------------------------------\n",
      "My favorite food is rice, and it tastes like rice. I use so many to make my dishes (they take a lot of time and work well), and I use lots more rice than I did last week on the restaurant's food roll. The menu has different flavors like chicken casserole, pasta, and seafood. The salad gets really spicy, and the bread is always greasy and greasy. I love its comfort food, and it doesn't bite.\n",
      "\n",
      "\n",
      "If you think you\n",
      "---------------------------------------------------\n"
     ]
    }
   ],
   "source": [
    "prefix = 'My favorite food is'\n",
    "\n",
    "max_length = 100\n",
    "num_samples = 5\n",
    "\n",
    "inp = torch.tensor([tokenizer.encode(prefix)], device=device).repeat(num_samples, 1)\n",
    "\n",
    "out = model.generate(\n",
    "    input_ids=inp,\n",
    "    do_sample=True,\n",
    "    max_length=max_length\n",
    ")\n",
    "\n",
    "for i in range(num_samples):\n",
    "    sample = tokenizer.decode(out[i])\n",
    "    print(sample)\n",
    "    print('---------------------------------------------------')"
   ]
  }
 ],
 "metadata": {
  "accelerator": "GPU",
  "colab": {
   "collapsed_sections": [],
   "name": "lab4_rnnlm.ipynb",
   "provenance": []
  },
  "kernelspec": {
   "display_name": "Python 3",
   "language": "python",
   "name": "python3"
  },
  "language_info": {
   "codemirror_mode": {
    "name": "ipython",
    "version": 3
   },
   "file_extension": ".py",
   "mimetype": "text/x-python",
   "name": "python",
   "nbconvert_exporter": "python",
   "pygments_lexer": "ipython3",
   "version": "3.7.4"
  }
 },
 "nbformat": 4,
 "nbformat_minor": 4
}

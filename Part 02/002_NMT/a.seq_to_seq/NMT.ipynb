{
 "cells": [
  {
   "cell_type": "markdown",
   "metadata": {},
   "source": [
    "# Neural Machine Translation"
   ]
  },
  {
   "cell_type": "markdown",
   "metadata": {},
   "source": [
    "<sup> with inputs from https://pytorch.org/tutorials/intermediate/seq2seq_translation_tutorial.html </sup>\n",
    "\n",
    "General Reference: https://github.com/nyu-dl/NLP_DL_Lecture_Note/blob/master/lecture_note.pdf"
   ]
  },
  {
   "cell_type": "markdown",
   "metadata": {},
   "source": [
    "### Install Google Translate API for Comparision"
   ]
  },
  {
   "cell_type": "markdown",
   "metadata": {},
   "source": [
    "https://github.com/ssut/py-googletrans"
   ]
  },
  {
   "cell_type": "code",
   "execution_count": null,
   "metadata": {},
   "outputs": [],
   "source": []
  },
  {
   "cell_type": "code",
   "execution_count": 1,
   "metadata": {},
   "outputs": [
    {
     "name": "stdout",
     "output_type": "stream",
     "text": [
      "Requirement already satisfied: googletrans in /misc/vlgscratch4/BowmanGroup/pmh330/virtual_envs/venv_metaqa/lib/python3.6/site-packages (2.4.0)\n",
      "Requirement already satisfied: requests in /misc/vlgscratch4/BowmanGroup/pmh330/virtual_envs/venv_metaqa/lib/python3.6/site-packages (from googletrans) (2.22.0)\n",
      "Requirement already satisfied: certifi>=2017.4.17 in /misc/vlgscratch4/BowmanGroup/pmh330/virtual_envs/venv_metaqa/lib/python3.6/site-packages (from requests->googletrans) (2019.11.28)\n",
      "Requirement already satisfied: idna<2.9,>=2.5 in /misc/vlgscratch4/BowmanGroup/pmh330/virtual_envs/venv_metaqa/lib/python3.6/site-packages (from requests->googletrans) (2.8)\n",
      "Requirement already satisfied: chardet<3.1.0,>=3.0.2 in /misc/vlgscratch4/BowmanGroup/pmh330/virtual_envs/venv_metaqa/lib/python3.6/site-packages (from requests->googletrans) (3.0.4)\n",
      "Requirement already satisfied: urllib3!=1.25.0,!=1.25.1,<1.26,>=1.21.1 in /misc/vlgscratch4/BowmanGroup/pmh330/virtual_envs/venv_metaqa/lib/python3.6/site-packages (from requests->googletrans) (1.25.8)\n",
      "\u001b[33mYou are using pip version 18.1, however version 20.0.2 is available.\n",
      "You should consider upgrading via the 'pip install --upgrade pip' command.\u001b[0m\n"
     ]
    }
   ],
   "source": [
    "! pip install googletrans"
   ]
  },
  {
   "cell_type": "code",
   "execution_count": 2,
   "metadata": {},
   "outputs": [],
   "source": [
    "from googletrans import Translator\n",
    "translator = Translator()"
   ]
  },
  {
   "cell_type": "code",
   "execution_count": 3,
   "metadata": {},
   "outputs": [],
   "source": [
    "path_to_utils = 'pyfiles'"
   ]
  },
  {
   "cell_type": "code",
   "execution_count": 4,
   "metadata": {},
   "outputs": [],
   "source": [
    "import os\n",
    "import sys\n",
    "sys.path.append(path_to_utils)"
   ]
  },
  {
   "cell_type": "code",
   "execution_count": 5,
   "metadata": {},
   "outputs": [],
   "source": [
    "import global_variables\n",
    "import nmt_dataset\n",
    "import nnet_models_new"
   ]
  },
  {
   "cell_type": "code",
   "execution_count": 6,
   "metadata": {},
   "outputs": [],
   "source": [
    "import torch\n",
    "import torch.nn as nn\n",
    "from torch import optim\n",
    "import torch.nn.functional as F\n",
    "from torch.utils.data import DataLoader\n",
    "from torch.optim.lr_scheduler import ReduceLROnPlateau\n",
    "\n",
    "from functools import partial\n",
    "import time\n",
    "# from tqdm import tqdm_notebook as tqdm\n",
    "import tqdm"
   ]
  },
  {
   "cell_type": "code",
   "execution_count": 7,
   "metadata": {},
   "outputs": [],
   "source": [
    "base_saved_models_dir = '.'"
   ]
  },
  {
   "cell_type": "markdown",
   "metadata": {},
   "source": [
    "### The Dataset"
   ]
  },
  {
   "cell_type": "markdown",
   "metadata": {},
   "source": [
    "We will work with a English to French Dataset from https://www.manythings.org/anki/"
   ]
  },
  {
   "cell_type": "code",
   "execution_count": 8,
   "metadata": {},
   "outputs": [],
   "source": [
    "main_data_path = './data/'"
   ]
  },
  {
   "cell_type": "code",
   "execution_count": 9,
   "metadata": {},
   "outputs": [],
   "source": [
    "source_name = 'en'\n",
    "target_name = 'fr'\n",
    "\n",
    "path_to_train_data = {'source':main_data_path+'train.'+source_name, \n",
    "                      'target':main_data_path+'train.'+target_name}\n",
    "path_to_val_data = {'source': main_data_path+'valid.'+source_name, \n",
    "                      'target':main_data_path+'valid.'+target_name}"
   ]
  },
  {
   "cell_type": "code",
   "execution_count": 10,
   "metadata": {},
   "outputs": [],
   "source": [
    "saved_models_dir = os.path.join(base_saved_models_dir, source_name+'2'+target_name)"
   ]
  },
  {
   "cell_type": "code",
   "execution_count": 11,
   "metadata": {},
   "outputs": [
    {
     "name": "stdout",
     "output_type": "stream",
     "text": [
      "i think we may have something that you d be interested in buying .\n",
      "they got it .\n",
      "i m glad to see you .\n",
      "he got into his car in a hurry .\n",
      "do you like mozart s music ?\n"
     ]
    }
   ],
   "source": [
    "## See first 5 records\n",
    "! head -5 'data/train.en'"
   ]
  },
  {
   "cell_type": "code",
   "execution_count": 12,
   "metadata": {},
   "outputs": [
    {
     "name": "stdout",
     "output_type": "stream",
     "text": [
      "je pense que nous avons peut etre quelque chose dont vous seriez interesses de faire l acquisition .\n",
      "ils l ont eue .\n",
      "je suis enchante de vous rencontrer .\n",
      "il monta en vitesse dans sa voiture .\n",
      "aimez vous la musique de mozart ?\n"
     ]
    }
   ],
   "source": [
    "! head -5 'data/train.fr'"
   ]
  },
  {
   "cell_type": "markdown",
   "metadata": {},
   "source": [
    "### Processing and making PyTorch Dataset"
   ]
  },
  {
   "cell_type": "markdown",
   "metadata": {},
   "source": [
    "We have to make it a pair - (source, target) sentence pair. For this, we have to read the file and parse it accordingly. We might have to take care of some details there, like making sure that we strip off any non-required special characters or extra space. All those boring details aside (which you can see in dataset_helper.py) what are the other things we have to do?\n",
    "\n",
    "We have to make a vocabulary and tokenize like we have been doing. Here, we are writing a Language Class, to take care of this for you. Once we have done all this and tokenized, we write a pytorch dataset object to help as handle this efficiently during training"
   ]
  },
  {
   "cell_type": "code",
   "execution_count": 13,
   "metadata": {},
   "outputs": [],
   "source": [
    "saved_language_model_dir = os.path.join(saved_models_dir, 'lang_obj')"
   ]
  },
  {
   "cell_type": "code",
   "execution_count": 14,
   "metadata": {},
   "outputs": [],
   "source": [
    "dataset_dict = {'train': nmt_dataset.LanguagePair(source_name = source_name, target_name=target_name, \n",
    "                    filepath = path_to_train_data, \n",
    "                    lang_obj_path = saved_language_model_dir,\n",
    "                     minimum_count = 1), \n",
    "\n",
    "                'val': nmt_dataset.LanguagePair(source_name = source_name, target_name=target_name, \n",
    "                    filepath = path_to_val_data, \n",
    "                    lang_obj_path = saved_language_model_dir,\n",
    "                    minimum_count = 1)}"
   ]
  },
  {
   "cell_type": "markdown",
   "metadata": {},
   "source": [
    "The LanguagePair object we built has a DataFrame underneath. We see the first 5 rows of the dataframe below:"
   ]
  },
  {
   "cell_type": "code",
   "execution_count": 15,
   "metadata": {},
   "outputs": [
    {
     "data": {
      "text/html": [
       "<div>\n",
       "<style scoped>\n",
       "    .dataframe tbody tr th:only-of-type {\n",
       "        vertical-align: middle;\n",
       "    }\n",
       "\n",
       "    .dataframe tbody tr th {\n",
       "        vertical-align: top;\n",
       "    }\n",
       "\n",
       "    .dataframe thead th {\n",
       "        text-align: right;\n",
       "    }\n",
       "</style>\n",
       "<table border=\"1\" class=\"dataframe\">\n",
       "  <thead>\n",
       "    <tr style=\"text-align: right;\">\n",
       "      <th></th>\n",
       "      <th>source_data</th>\n",
       "      <th>target_data</th>\n",
       "      <th>source_tokenized</th>\n",
       "      <th>source_len</th>\n",
       "      <th>target_tokenized</th>\n",
       "      <th>target_len</th>\n",
       "      <th>source_indized</th>\n",
       "      <th>target_indized</th>\n",
       "    </tr>\n",
       "  </thead>\n",
       "  <tbody>\n",
       "    <tr>\n",
       "      <th>0</th>\n",
       "      <td>i think we may have something that you d be in...</td>\n",
       "      <td>je pense que nous avons peut etre quelque chos...</td>\n",
       "      <td>[i, think, we, may, have, something, that, you...</td>\n",
       "      <td>15</td>\n",
       "      <td>[je, pense, que, nous, avons, peut, etre, quel...</td>\n",
       "      <td>19</td>\n",
       "      <td>[4, 5, 6, 7, 8, 9, 10, 11, 12, 13, 14, 15, 16,...</td>\n",
       "      <td>[4, 5, 6, 7, 8, 9, 10, 11, 12, 13, 14, 15, 16,...</td>\n",
       "    </tr>\n",
       "    <tr>\n",
       "      <th>1</th>\n",
       "      <td>they got it .</td>\n",
       "      <td>ils l ont eue .</td>\n",
       "      <td>[they, got, it, .]</td>\n",
       "      <td>5</td>\n",
       "      <td>[ils, l, ont, eue, .]</td>\n",
       "      <td>6</td>\n",
       "      <td>[18, 19, 20, 17, 3]</td>\n",
       "      <td>[22, 19, 23, 24, 21, 3]</td>\n",
       "    </tr>\n",
       "    <tr>\n",
       "      <th>2</th>\n",
       "      <td>i m glad to see you .</td>\n",
       "      <td>je suis enchante de vous rencontrer .</td>\n",
       "      <td>[i, m, glad, to, see, you, .]</td>\n",
       "      <td>8</td>\n",
       "      <td>[je, suis, enchante, de, vous, rencontrer, .]</td>\n",
       "      <td>8</td>\n",
       "      <td>[4, 21, 22, 23, 24, 11, 17, 3]</td>\n",
       "      <td>[4, 25, 26, 17, 14, 27, 21, 3]</td>\n",
       "    </tr>\n",
       "    <tr>\n",
       "      <th>3</th>\n",
       "      <td>he got into his car in a hurry .</td>\n",
       "      <td>il monta en vitesse dans sa voiture .</td>\n",
       "      <td>[he, got, into, his, car, in, a, hurry, .]</td>\n",
       "      <td>10</td>\n",
       "      <td>[il, monta, en, vitesse, dans, sa, voiture, .]</td>\n",
       "      <td>9</td>\n",
       "      <td>[25, 19, 26, 27, 28, 15, 29, 30, 17, 3]</td>\n",
       "      <td>[28, 29, 30, 31, 32, 33, 34, 21, 3]</td>\n",
       "    </tr>\n",
       "    <tr>\n",
       "      <th>4</th>\n",
       "      <td>do you like mozart s music ?</td>\n",
       "      <td>aimez vous la musique de mozart ?</td>\n",
       "      <td>[do, you, like, mozart, s, music, ?]</td>\n",
       "      <td>8</td>\n",
       "      <td>[aimez, vous, la, musique, de, mozart, ?]</td>\n",
       "      <td>8</td>\n",
       "      <td>[31, 11, 32, 33, 34, 35, 36, 3]</td>\n",
       "      <td>[35, 14, 36, 37, 17, 38, 39, 3]</td>\n",
       "    </tr>\n",
       "  </tbody>\n",
       "</table>\n",
       "</div>"
      ],
      "text/plain": [
       "                                         source_data  \\\n",
       "0  i think we may have something that you d be in...   \n",
       "1                                      they got it .   \n",
       "2                              i m glad to see you .   \n",
       "3                   he got into his car in a hurry .   \n",
       "4                       do you like mozart s music ?   \n",
       "\n",
       "                                         target_data  \\\n",
       "0  je pense que nous avons peut etre quelque chos...   \n",
       "1                                    ils l ont eue .   \n",
       "2              je suis enchante de vous rencontrer .   \n",
       "3              il monta en vitesse dans sa voiture .   \n",
       "4                  aimez vous la musique de mozart ?   \n",
       "\n",
       "                                    source_tokenized  source_len  \\\n",
       "0  [i, think, we, may, have, something, that, you...          15   \n",
       "1                                 [they, got, it, .]           5   \n",
       "2                      [i, m, glad, to, see, you, .]           8   \n",
       "3         [he, got, into, his, car, in, a, hurry, .]          10   \n",
       "4               [do, you, like, mozart, s, music, ?]           8   \n",
       "\n",
       "                                    target_tokenized  target_len  \\\n",
       "0  [je, pense, que, nous, avons, peut, etre, quel...          19   \n",
       "1                              [ils, l, ont, eue, .]           6   \n",
       "2      [je, suis, enchante, de, vous, rencontrer, .]           8   \n",
       "3     [il, monta, en, vitesse, dans, sa, voiture, .]           9   \n",
       "4          [aimez, vous, la, musique, de, mozart, ?]           8   \n",
       "\n",
       "                                      source_indized  \\\n",
       "0  [4, 5, 6, 7, 8, 9, 10, 11, 12, 13, 14, 15, 16,...   \n",
       "1                                [18, 19, 20, 17, 3]   \n",
       "2                     [4, 21, 22, 23, 24, 11, 17, 3]   \n",
       "3            [25, 19, 26, 27, 28, 15, 29, 30, 17, 3]   \n",
       "4                    [31, 11, 32, 33, 34, 35, 36, 3]   \n",
       "\n",
       "                                      target_indized  \n",
       "0  [4, 5, 6, 7, 8, 9, 10, 11, 12, 13, 14, 15, 16,...  \n",
       "1                            [22, 19, 23, 24, 21, 3]  \n",
       "2                     [4, 25, 26, 17, 14, 27, 21, 3]  \n",
       "3                [28, 29, 30, 31, 32, 33, 34, 21, 3]  \n",
       "4                    [35, 14, 36, 37, 17, 38, 39, 3]  "
      ]
     },
     "execution_count": 15,
     "metadata": {},
     "output_type": "execute_result"
    }
   ],
   "source": [
    "dataset_dict['train'].main_df.iloc[:5]"
   ]
  },
  {
   "cell_type": "markdown",
   "metadata": {},
   "source": [
    "### vocabulary sizes and sentence lengths"
   ]
  },
  {
   "cell_type": "code",
   "execution_count": 16,
   "metadata": {},
   "outputs": [
    {
     "name": "stdout",
     "output_type": "stream",
     "text": [
      "source vocab:  12392 target vocab:  20111\n"
     ]
    }
   ],
   "source": [
    "### vocabulary sizes\n",
    "print('source vocab: ', dataset_dict['train'].source_lang_obj.n_words , \n",
    "      'target vocab: ', dataset_dict['train'].target_lang_obj.n_words)"
   ]
  },
  {
   "cell_type": "code",
   "execution_count": 17,
   "metadata": {},
   "outputs": [
    {
     "name": "stdout",
     "output_type": "stream",
     "text": [
      "max len:  51 min len:  3\n"
     ]
    }
   ],
   "source": [
    "### vocabulary sizes\n",
    "print('max len: ', dataset_dict['train'].main_df['source_len'].max(), \n",
    "      'min len: ', dataset_dict['train'].main_df['source_len'].min() )"
   ]
  },
  {
   "cell_type": "code",
   "execution_count": 18,
   "metadata": {},
   "outputs": [
    {
     "data": {
      "text/plain": [
       "0.5000     8.0\n",
       "0.7500    10.0\n",
       "0.9000    12.0\n",
       "0.9500    13.0\n",
       "0.9900    17.0\n",
       "0.9990    22.0\n",
       "0.9999    32.0\n",
       "Name: source_len, dtype: float64"
      ]
     },
     "execution_count": 18,
     "metadata": {},
     "output_type": "execute_result"
    }
   ],
   "source": [
    "dataset_dict['train'].main_df['source_len'].quantile([0.5, 0.75, 0.9, 0.95, 0.99, 0.999, 0.9999])"
   ]
  },
  {
   "cell_type": "markdown",
   "metadata": {},
   "source": [
    "51 looks like a very long sentence and at the $99.99$th percentile is 32. We probably don't want that much. How do we get rid of rest of the words or clip sentence at some MAX LEN? We can use the collate function of pytorch that we had seen earlier to do this. "
   ]
  },
  {
   "cell_type": "code",
   "execution_count": 19,
   "metadata": {},
   "outputs": [],
   "source": [
    "MAX_LEN = int(dataset_dict['train'].main_df['source_len'].quantile(0.9999))\n",
    "batchSize = 64"
   ]
  },
  {
   "cell_type": "code",
   "execution_count": 20,
   "metadata": {},
   "outputs": [],
   "source": [
    "dataloader_dict = {'train': DataLoader(dataset_dict['train'], batch_size = batchSize, \n",
    "                            collate_fn = partial(nmt_dataset.vocab_collate_func, MAX_LEN=MAX_LEN),\n",
    "                            shuffle = True, num_workers=0), \n",
    "                    'val': DataLoader(dataset_dict['val'], batch_size = batchSize, \n",
    "                            collate_fn = partial(nmt_dataset.vocab_collate_func, MAX_LEN=MAX_LEN),\n",
    "                            shuffle = True, num_workers=0) }"
   ]
  },
  {
   "cell_type": "markdown",
   "metadata": {},
   "source": [
    "The Seq2Seq Model\n",
    "=================\n",
    "\n",
    "A Recurrent Neural Network, or RNN, is a network that operates on a\n",
    "sequence and uses its own output as input for subsequent steps.\n",
    "\n",
    "A `Sequence to Sequence network <http://arxiv.org/abs/1409.3215>`__, or\n",
    "seq2seq network, or `Encoder Decoder\n",
    "network <https://arxiv.org/pdf/1406.1078v3.pdf>`__, is a model\n",
    "consisting of usually of two RNNs called the encoder and decoder. The encoder reads\n",
    "an input sequence and outputs a single vector, and the decoder reads\n",
    "that vector to produce an output sequence. Essentially, all we need is some mechanism to read the source sentence and create an encoding and some mechanism to read the encoding and decode it to the target language. \n",
    "\n",
    "Unlike sequence prediction with a single RNN, where every input\n",
    "corresponds to an output, the seq2seq model frees us from sequence\n",
    "length and order, which makes it ideal for translation between two\n",
    "languages.\n",
    "\n",
    "Consider the sentence \"I am not the\n",
    "black cat\" → \"Je ne suis pas le chat noir\". Most of the words in the input sentence have a direct\n",
    "translation in the output sentence, but are in slightly different\n",
    "orders, e.g. \"chat noir\" and \"black cat\". Because of the \"ne/pas\"\n",
    "construction there is also one more word in the input sentence. It would\n",
    "be difficult to produce a correct translation directly from the sequence\n",
    "of input words.\n",
    "\n",
    "With a seq2seq model the encoder creates a single vector which, in the\n",
    "ideal case, encodes the \"meaning\" of the input sequence into a single\n",
    "vector — a single point in some N dimensional space of sentences.\n",
    "\n",
    "\n"
   ]
  },
  {
   "cell_type": "markdown",
   "metadata": {},
   "source": [
    "### Concepts:\n",
    "1. NMT as a conditional language modelling\n",
    "2. Encoder\n",
    "3. Decoding during evaluation - step by step (see code)\n",
    "4. Teaching Forcing (see code) and train step\n",
    "5. How do we evaluate the quality of translation? BLEU Score"
   ]
  },
  {
   "cell_type": "markdown",
   "metadata": {},
   "source": [
    "The Encoder\n",
    "-----------\n",
    "\n",
    "The encoder is anything which takes in a sentence and gives us a representation for the sentence. \n",
    "\n",
    "Usually, the encoder of a seq2seq network is a RNN that outputs some value for\n",
    "every word from the input sentence. For every input word the encoder\n",
    "outputs a vector and a hidden state, and uses the hidden state for the\n",
    "next input word.\n",
    "\n",
    "However, we will first start with a BoW encoder and then move on to RNN based encoders"
   ]
  },
  {
   "cell_type": "code",
   "execution_count": 22,
   "metadata": {},
   "outputs": [],
   "source": [
    "### configuration\n",
    "source_lang_obj = dataset_dict['train'].source_lang_obj\n",
    "target_lang_obj = dataset_dict['train'].target_lang_obj\n",
    "\n",
    "source_vocab = dataset_dict['train'].source_lang_obj.n_words;\n",
    "target_vocab = dataset_dict['train'].target_lang_obj.n_words;\n",
    "hidden_size = 512\n",
    "rnn_layers = 1\n",
    "lr = 0.25;\n",
    "longest_label = 32;\n",
    "gradient_clip = 0.3;\n",
    "use_cuda = True\n",
    "\n",
    "num_epochs = 10"
   ]
  },
  {
   "cell_type": "markdown",
   "metadata": {},
   "source": [
    "### BagOfWords Encoder"
   ]
  },
  {
   "cell_type": "code",
   "execution_count": 23,
   "metadata": {},
   "outputs": [],
   "source": [
    "encoder_bow = nnet_models_new.BagOfWords(input_size = source_vocab,\n",
    "                                    hidden_size = hidden_size, \n",
    "                                    nlayers=4, \n",
    "                                    reduce = \"sum\")"
   ]
  },
  {
   "cell_type": "code",
   "execution_count": 24,
   "metadata": {},
   "outputs": [
    {
     "name": "stdout",
     "output_type": "stream",
     "text": [
      "BagOfWords(\n",
      "  (embedding): Embedding(12392, 512, padding_idx=0)\n",
      "  (layers): ModuleList(\n",
      "    (0): Linear(in_features=512, out_features=512, bias=True)\n",
      "    (1): ReLU()\n",
      "    (2): Dropout(p=0.1, inplace=False)\n",
      "    (3): Linear(in_features=512, out_features=512, bias=True)\n",
      "    (4): ReLU()\n",
      "    (5): Dropout(p=0.1, inplace=False)\n",
      "    (6): Linear(in_features=512, out_features=512, bias=True)\n",
      "    (7): ReLU()\n",
      "    (8): Dropout(p=0.1, inplace=False)\n",
      "    (9): Linear(in_features=512, out_features=512, bias=True)\n",
      "  )\n",
      ")\n"
     ]
    }
   ],
   "source": [
    "print(encoder_bow)"
   ]
  },
  {
   "cell_type": "markdown",
   "metadata": {},
   "source": [
    "The Decoder\n",
    "--------------------\n",
    "\n",
    "\n",
    "The decoder is another RNN that takes the encoder output vector(s) and outputs a sequence of words to create the translation.\n",
    "\n",
    "Decoder w/o Attention\n",
    "------------------------\n",
    "In the simplest seq2seq decoder we use only last output of the encoder. This last output is sometimes called the context vector as it encodes context from the entire sequence. This context vector is used as the initial hidden state of the decoder.\n",
    "\n",
    "At every step of decoding, the decoder is given an input token and hidden state. The initial input token is the start-of-string <SOS> token, and the first hidden state is the context vector (the encoder's last hidden state)."
   ]
  },
  {
   "cell_type": "code",
   "execution_count": 25,
   "metadata": {},
   "outputs": [],
   "source": [
    "decoder_bow = nnet_models_new.DecoderRNN(target_vocab, hidden_size, rnn_layers)"
   ]
  },
  {
   "cell_type": "code",
   "execution_count": 26,
   "metadata": {},
   "outputs": [
    {
     "name": "stdout",
     "output_type": "stream",
     "text": [
      "DecoderRNN(\n",
      "  (embedding): Embedding(20111, 512)\n",
      "  (gru): GRU(512, 512, batch_first=True)\n",
      "  (out): Linear(in_features=512, out_features=20111, bias=True)\n",
      "  (softmax): LogSoftmax()\n",
      ")\n"
     ]
    }
   ],
   "source": [
    "print(decoder_bow)"
   ]
  },
  {
   "cell_type": "code",
   "execution_count": 27,
   "metadata": {},
   "outputs": [],
   "source": [
    "nmt_bow = nnet_models_new.seq2seq(encoder_bow, decoder_bow,\n",
    "                              lr = 1e-2, \n",
    "                              use_cuda = use_cuda, \n",
    "                              hiddensize = hidden_size, \n",
    "                              numlayers = hidden_size, \n",
    "                              target_lang=dataset_dict['train'].target_lang_obj,\n",
    "                              longest_label = longest_label,\n",
    "                              clip = gradient_clip)"
   ]
  },
  {
   "cell_type": "markdown",
   "metadata": {},
   "source": [
    "### Training Loop"
   ]
  },
  {
   "cell_type": "code",
   "execution_count": 28,
   "metadata": {},
   "outputs": [],
   "source": [
    "def get_full_filepath(path, enc_type):\n",
    "    filename = 'nmt_enc_'+enc_type+'_dec_rnn.pth'\n",
    "    return os.path.join(path, filename)"
   ]
  },
  {
   "cell_type": "code",
   "execution_count": 29,
   "metadata": {},
   "outputs": [],
   "source": [
    "def save_models(nmt_model, path, enc_type):\n",
    "    if not os.path.exists(path):\n",
    "            os.makedirs(path)\n",
    "    filename = 'nmt_enc_'+enc_type+'_dec_rnn.pth'\n",
    "    torch.save(nmt_model, os.path.join(path, filename))\n",
    "   "
   ]
  },
  {
   "cell_type": "code",
   "execution_count": 30,
   "metadata": {},
   "outputs": [],
   "source": [
    "def train_model(dataloader, nmt, num_epochs=50, val_every=1, saved_model_path = '.', enc_type ='rnn'):\n",
    "\n",
    "    best_bleu = -1;\n",
    "    for epoch in range(num_epochs):\n",
    "\n",
    "        start = time.time()\n",
    "        running_loss = 0\n",
    "\n",
    "        print('Epoch: [{}/{}]'.format(epoch, num_epochs));\n",
    "        \n",
    "        for i, data in tqdm.tqdm_notebook(enumerate(dataloader['train']), total=len(dataloader['train'])):  \n",
    "            _, curr_loss = nmt.train_step(data);\n",
    "            running_loss += curr_loss\n",
    "\n",
    "        epoch_loss = running_loss / len(dataloader['train']) \n",
    "        \n",
    "        print(\"epoch {} loss = {}, time = {}\".format(epoch, epoch_loss,\n",
    "                                                        time.time() - start))\n",
    "        sys.stdout.flush()\n",
    "   \n",
    "        if epoch%val_every == 0:\n",
    "            val_bleu_score = nmt.get_bleu_score(dataloader['val']);\n",
    "            print('validation bleu: ', val_bleu_score)\n",
    "            sys.stdout.flush()\n",
    "            \n",
    "            nmt.scheduler_step(val_bleu_score);\n",
    "            \n",
    "            if val_bleu_score > best_bleu:\n",
    "                best_bleu = val_bleu_score\n",
    "                save_models(nmt, saved_model_path, enc_type);\n",
    "\n",
    "        print('='*50)\n",
    "\n",
    "    print(\"Training completed. Best BLEU is {}\".format(best_bleu))\n",
    "\n",
    "    "
   ]
  },
  {
   "cell_type": "markdown",
   "metadata": {},
   "source": [
    "### Training Bow Encoder GRU Decoder Model"
   ]
  },
  {
   "cell_type": "code",
   "execution_count": 31,
   "metadata": {},
   "outputs": [],
   "source": [
    "train_again = False\n",
    "modelname = 'bow_model'\n",
    "\n",
    "device = torch.device('cuda') if use_cuda and torch.cuda.is_available() else torch.device('cpu');\n",
    "if os.path.exists(get_full_filepath(saved_models_dir, modelname)) and (not train_again):\n",
    "    nmt_bow = torch.load(get_full_filepath(saved_models_dir, modelname))\n",
    "else:\n",
    "    train_model(dataloader_dict, nmt_bow, \n",
    "                          num_epochs = num_epochs, \n",
    "                          saved_model_path = saved_models_dir, \n",
    "                          enc_type = 'bow_test')"
   ]
  },
  {
   "cell_type": "markdown",
   "metadata": {},
   "source": [
    "### Check Performance"
   ]
  },
  {
   "cell_type": "code",
   "execution_count": 32,
   "metadata": {},
   "outputs": [
    {
     "name": "stdout",
     "output_type": "stream",
     "text": [
      "21.839684366840807\n"
     ]
    }
   ],
   "source": [
    "print(nmt_bow.get_bleu_score(dataloader_dict['val']))"
   ]
  },
  {
   "cell_type": "markdown",
   "metadata": {},
   "source": [
    "## Interacting with the system"
   ]
  },
  {
   "cell_type": "code",
   "execution_count": 33,
   "metadata": {},
   "outputs": [],
   "source": [
    "from collections import namedtuple\n",
    "import numpy as np\n",
    "import matplotlib.pyplot as plt\n",
    "import matplotlib.ticker as ticker\n",
    "import copy\n",
    "%matplotlib inline\n",
    "\n",
    "\n",
    "def get_binned_bl_score(nmt_model, val_dataset):\n",
    "    \n",
    "    len_threshold = np.arange(0, 31, 5)\n",
    "    bin_bl_score = np.zeros(len(len_threshold));\n",
    "    \n",
    "    for i in tqdm.tqdm_notebook( range(1, len(len_threshold)), total = len(len_threshold)-1):\n",
    "        min_len = len_threshold[i-1]\n",
    "        max_len = len_threshold[i]\n",
    "        \n",
    "        temp_dataset = copy.deepcopy(val_dataset);\n",
    "        temp_dataset.main_df = temp_dataset.main_df[(temp_dataset.main_df['source_len'] > min_len) & (temp_dataset.main_df['source_len'] <= max_len)];\n",
    "        temp_loader = DataLoader(temp_dataset, batch_size = batchSize, \n",
    "                            collate_fn = partial(nmt_dataset.vocab_collate_func, MAX_LEN=100),\n",
    "                            shuffle = True, num_workers=0)\n",
    "        \n",
    "        bin_bl_score[i] = nmt_model.get_bleu_score(temp_loader);\n",
    "        \n",
    "    \n",
    "    len_threshold = len_threshold[1:]\n",
    "    bin_bl_score = bin_bl_score[1:]\n",
    "    \n",
    "    plt.plot(len_threshold, bin_bl_score, 'x-')\n",
    "    plt.ylim(0, np.max(bin_bl_score)+1)\n",
    "    plt.xlabel('len')\n",
    "    plt.ylabel('bl score')\n",
    "    \n",
    "    return len_threshold, bin_bl_score\n",
    "    \n",
    "        \n",
    "        \n",
    "    \n",
    "def showAttention(input_sentence, output_words, attentions):\n",
    "    # Set up figure with colorbar\n",
    "    fig = plt.figure()\n",
    "    ax = fig.add_subplot(111)\n",
    "    cax = ax.matshow(attentions, cmap='bone', aspect='auto')\n",
    "    fig.colorbar(cax)\n",
    "\n",
    "    # Set up axes\n",
    "    ax.set_xticklabels([''] + input_sentence.split(' ') +\n",
    "                       [global_variables.EOS_TOKEN], rotation=90)\n",
    "    ax.set_yticklabels([''] + output_words.split(' ')+\n",
    "                       [global_variables.EOS_TOKEN]);\n",
    "\n",
    "    # Show label at every tick\n",
    "    ax.xaxis.set_major_locator(ticker.MultipleLocator(1))\n",
    "    ax.yaxis.set_major_locator(ticker.MultipleLocator(1))\n",
    "\n",
    "    plt.show()\n",
    "\n",
    "def get_encoded_batch(sentence, lang_obj, use_cuda):\n",
    "    \"\"\" accepts only bsz = 1.\n",
    "        input: one sentence as a string\n",
    "        output: named tuple with vector and length\"\"\"\n",
    "    \n",
    "    sentence = sentence + ' ' + global_variables.EOS_TOKEN;\n",
    "    tensor = source_lang_obj.txt2vec(sentence).unsqueeze(0)\n",
    "    \n",
    "    device = torch.device('cuda') if use_cuda and torch.cuda.is_available() else torch.device('cpu');\n",
    "    \n",
    "    named_returntuple = namedtuple('namedtuple', ['text_vecs', 'text_lens', 'label_vecs', 'label_lens', 'use_packed'])\n",
    "    return_tuple = named_returntuple( tensor.to(device), \n",
    "                                     torch.from_numpy(np.array([tensor.shape[-1]])).to(device),\n",
    "                                     None,\n",
    "                                     None,\n",
    "                                     False );\n",
    "\n",
    "    return return_tuple\n",
    "\n",
    "def get_translation(nmt_model, sentence, lang_obj, use_cuda):\n",
    "    print('souce: ', sentence)\n",
    "    batch = get_encoded_batch(sentence, lang_obj, use_cuda);\n",
    "    \n",
    "    prediction, attn_scores_list = nmt_model.eval_step(batch, return_attn = True);\n",
    "    prediction = prediction[0];\n",
    "    print('prediction: ', prediction)\n",
    "    print('GT on sentence (src->tgt): ', translator.translate(sentence, \n",
    "                                                     src = source_name,\n",
    "                                                     dest = target_name).text)\n",
    "    print('GT on prediction (tgt->src): ', translator.translate(prediction, \n",
    "                                                     src = target_name,\n",
    "                                                     dest = source_name).text)\n",
    "\n",
    "    if attn_scores_list[0] is not None:\n",
    "        if attn_scores_list[0][0] is not None:\n",
    "            attn_matrix = [x[0].data.cpu().numpy() for x in attn_scores_list];\n",
    "            attn_matrix = np.stack(attn_matrix)[:,:, 0]\n",
    "            showAttention(sentence, prediction, attn_matrix)"
   ]
  },
  {
   "cell_type": "code",
   "execution_count": 47,
   "metadata": {},
   "outputs": [
    {
     "name": "stdout",
     "output_type": "stream",
     "text": [
      "souce:  how are you ?\n",
      "prediction:  comment etes vous ?\n",
      "GT on sentence (src->tgt):  Comment allez-vous ?\n",
      "GT on prediction (tgt->src):  How are you ?\n"
     ]
    }
   ],
   "source": [
    "get_translation(nmt_bow, 'how are you ?', source_lang_obj, use_cuda)"
   ]
  },
  {
   "cell_type": "code",
   "execution_count": 35,
   "metadata": {},
   "outputs": [
    {
     "name": "stdout",
     "output_type": "stream",
     "text": [
      "souce:  are hello ? how you\n",
      "prediction:  comment etes vous en train de faire ?\n",
      "GT on sentence (src->tgt):  sont bonjour? comment vous\n",
      "GT on prediction (tgt->src):  how you're doing?\n"
     ]
    }
   ],
   "source": [
    "get_translation(nmt_bow, 'are hello ? how you', source_lang_obj, use_cuda)"
   ]
  },
  {
   "cell_type": "markdown",
   "metadata": {},
   "source": [
    "## RNN Encoder"
   ]
  },
  {
   "cell_type": "code",
   "execution_count": 36,
   "metadata": {},
   "outputs": [],
   "source": [
    "encoder_rnn = nnet_models_new.EncoderRNN(source_vocab, hidden_size, rnn_layers)"
   ]
  },
  {
   "cell_type": "code",
   "execution_count": 37,
   "metadata": {},
   "outputs": [
    {
     "name": "stdout",
     "output_type": "stream",
     "text": [
      "EncoderRNN(\n",
      "  (embedding): Embedding(12392, 512, padding_idx=0)\n",
      "  (gru): GRU(512, 512, batch_first=True)\n",
      ")\n"
     ]
    }
   ],
   "source": [
    "print(encoder_rnn)"
   ]
  },
  {
   "cell_type": "code",
   "execution_count": 38,
   "metadata": {},
   "outputs": [],
   "source": [
    "decoder_rnn = nnet_models_new.DecoderRNN(target_vocab, hidden_size, rnn_layers)"
   ]
  },
  {
   "cell_type": "code",
   "execution_count": 39,
   "metadata": {},
   "outputs": [
    {
     "name": "stdout",
     "output_type": "stream",
     "text": [
      "DecoderRNN(\n",
      "  (embedding): Embedding(20111, 512)\n",
      "  (gru): GRU(512, 512, batch_first=True)\n",
      "  (out): Linear(in_features=512, out_features=20111, bias=True)\n",
      "  (softmax): LogSoftmax()\n",
      ")\n"
     ]
    }
   ],
   "source": [
    "print(decoder_rnn)"
   ]
  },
  {
   "cell_type": "code",
   "execution_count": 40,
   "metadata": {},
   "outputs": [],
   "source": [
    "nmt_rnn = nnet_models_new.seq2seq(encoder_rnn, decoder_rnn,\n",
    "                              lr = lr, \n",
    "                              use_cuda = use_cuda, \n",
    "                              hiddensize = hidden_size, \n",
    "                              numlayers = hidden_size, \n",
    "                              target_lang=dataset_dict['train'].target_lang_obj,\n",
    "                              longest_label = longest_label,\n",
    "                              clip = gradient_clip)"
   ]
  },
  {
   "cell_type": "code",
   "execution_count": 41,
   "metadata": {},
   "outputs": [],
   "source": [
    "train_again = False\n",
    "modelname = 'rnn_model'\n",
    "if os.path.exists(get_full_filepath(saved_models_dir, modelname)) and (not train_again):\n",
    "    nmt_rnn = torch.load(get_full_filepath(saved_models_dir, modelname))\n",
    "else:\n",
    "    train_model(dataloader_dict, nmt_rnn, \n",
    "                      num_epochs = num_epochs, \n",
    "                      saved_model_path = saved_models_dir, \n",
    "                      enc_type = 'rnn_test')"
   ]
  },
  {
   "cell_type": "markdown",
   "metadata": {},
   "source": [
    "### Check Performance"
   ]
  },
  {
   "cell_type": "code",
   "execution_count": 42,
   "metadata": {},
   "outputs": [
    {
     "name": "stdout",
     "output_type": "stream",
     "text": [
      "26.298743054003605\n"
     ]
    }
   ],
   "source": [
    "print(nmt_rnn.get_bleu_score(dataloader_dict['val']))"
   ]
  },
  {
   "cell_type": "markdown",
   "metadata": {},
   "source": [
    "### Interacting with system"
   ]
  },
  {
   "cell_type": "code",
   "execution_count": 44,
   "metadata": {},
   "outputs": [
    {
     "name": "stdout",
     "output_type": "stream",
     "text": [
      "souce:  how are you ?\n",
      "prediction:  comment etes vous vous en train de vous etre ?\n",
      "GT on sentence (src->tgt):  Comment allez-vous ?\n",
      "GT on prediction (tgt->src):  how you're you trying to be you?\n"
     ]
    }
   ],
   "source": [
    "get_translation(nmt_rnn, 'how are you ?', source_lang_obj, use_cuda)"
   ]
  },
  {
   "cell_type": "code",
   "execution_count": 45,
   "metadata": {},
   "outputs": [
    {
     "name": "stdout",
     "output_type": "stream",
     "text": [
      "souce:  are hello ? how you\n",
      "prediction:  comment as tu fait ?\n",
      "GT on sentence (src->tgt):  sont bonjour? comment vous\n",
      "GT on prediction (tgt->src):  How did you do ?\n"
     ]
    }
   ],
   "source": [
    "get_translation(nmt_rnn, 'are hello ? how you', source_lang_obj, use_cuda)"
   ]
  },
  {
   "cell_type": "code",
   "execution_count": 46,
   "metadata": {},
   "outputs": [
    {
     "name": "stdout",
     "output_type": "stream",
     "text": [
      "souce:  i know that the last thing you want to do is help me .\n",
      "prediction:  je sais que vous veuillez faire est ce que la derniere chose que moi .\n",
      "GT on sentence (src->tgt):  Je sais que la dernière chose que vous voulez faire est de me d'aide.\n",
      "GT on prediction (tgt->src):  I know you please is that the last thing me.\n"
     ]
    }
   ],
   "source": [
    "get_translation(nmt_rnn, 'i know that the last thing you want to do is help me .', source_lang_obj, use_cuda)"
   ]
  },
  {
   "cell_type": "code",
   "execution_count": 48,
   "metadata": {},
   "outputs": [
    {
     "name": "stderr",
     "output_type": "stream",
     "text": [
      "/misc/vlgscratch4/BowmanGroup/pmh330/virtual_envs/venv_metaqa/lib/python3.6/site-packages/ipykernel_launcher.py:14: TqdmDeprecationWarning: This function will be removed in tqdm==5.0.0\n",
      "Please use `tqdm.notebook.tqdm` instead of `tqdm.tqdm_notebook`\n",
      "  \n"
     ]
    },
    {
     "data": {
      "application/vnd.jupyter.widget-view+json": {
       "model_id": "8a198864a2ad473a8123333bc3ecfa38",
       "version_major": 2,
       "version_minor": 0
      },
      "text/plain": [
       "HBox(children=(FloatProgress(value=0.0, max=6.0), HTML(value='')))"
      ]
     },
     "metadata": {},
     "output_type": "display_data"
    },
    {
     "name": "stdout",
     "output_type": "stream",
     "text": [
      "\n"
     ]
    },
    {
     "data": {
      "image/png": "[encoded data removed]",
      "text/plain": [
       "<Figure size 432x288 with 1 Axes>"
      ]
     },
     "metadata": {
      "needs_background": "light"
     },
     "output_type": "display_data"
    }
   ],
   "source": [
    "rnn_len_threshold, rnn_bin_bl = get_binned_bl_score(nmt_rnn, dataset_dict['val'])"
   ]
  },
  {
   "cell_type": "markdown",
   "metadata": {},
   "source": [
    "We work with a small training data and hence you see this drop in BLEU score for sentences of shorter length. We don't have enough data points with small sentence length"
   ]
  },
  {
   "cell_type": "markdown",
   "metadata": {},
   "source": [
    "## RNN Encoder + Source Side Attention"
   ]
  },
  {
   "cell_type": "markdown",
   "metadata": {},
   "source": [
    "### Concepts:\n",
    "1. Context Vector which gives additional information from source side for decoding the next token. \n",
    "2. Fit context vector into decoding framework: <br>\n",
    "    a) Initiaze with 0 <br>\n",
    "    b) input to RNN is the concatenation of the input token and context vector <br>\n",
    "    c) output token decoded from context vector calculated from the hidden of previous timestep; i.e, context vector for the next timestep is used for decoding the current output\n",
    "3. Calculating the context vector. Explain attention module: <br>\n",
    "    a) hidden transformed to encoder hidden dimension using linear layer. This is your query vector. <br> \n",
    "    b) Value and Key vectors are the encoder outputs. <br>\n",
    "    c) Dot product. Raw Score. Softmax. Linear Combination. <br>\n",
    "    d) contactenated the linear combination vector with the input hidden from decoder. Pass it through a linear layer to project it back to decoder hidden dimension followed by a `tanh`.  \n",
    "\n",
    "    \n",
    "    "
   ]
  },
  {
   "cell_type": "code",
   "execution_count": 49,
   "metadata": {},
   "outputs": [],
   "source": [
    "encoder_attention = True\n",
    "self_attention = False"
   ]
  },
  {
   "cell_type": "code",
   "execution_count": 50,
   "metadata": {},
   "outputs": [],
   "source": [
    "encoder_encoderattn = nnet_models_new.EncoderRNN(source_vocab, hidden_size, 1)"
   ]
  },
  {
   "cell_type": "code",
   "execution_count": 51,
   "metadata": {},
   "outputs": [],
   "source": [
    "decoder_encoderattn = nnet_models_new.Decoder_SelfAttn(output_size=target_vocab,\n",
    "                                 hidden_size=hidden_size, \n",
    "                                 encoder_attention = encoder_attention,\n",
    "                                 self_attention = self_attention)"
   ]
  },
  {
   "cell_type": "code",
   "execution_count": 52,
   "metadata": {},
   "outputs": [],
   "source": [
    "nmt_encoderattn = nnet_models_new.seq2seq(encoder_encoderattn, decoder_encoderattn,\n",
    "                              lr = lr, \n",
    "                              use_cuda = use_cuda, \n",
    "                              hiddensize = hidden_size, \n",
    "                              numlayers = hidden_size, \n",
    "                              target_lang=dataset_dict['train'].target_lang_obj,\n",
    "                              longest_label = longest_label,\n",
    "                              clip = gradient_clip)"
   ]
  },
  {
   "cell_type": "code",
   "execution_count": 53,
   "metadata": {},
   "outputs": [],
   "source": [
    "train_again = False\n",
    "modelname = 'encoderattn_model'\n",
    "if os.path.exists(get_full_filepath(saved_models_dir, modelname)) and (not train_again):\n",
    "    nmt_encoderattn = torch.load(get_full_filepath(saved_models_dir, modelname))\n",
    "else:\n",
    "    train_model(dataloader_dict, nmt_encoderattn, \n",
    "                      num_epochs = num_epochs, \n",
    "                      saved_model_path = saved_models_dir, \n",
    "                      enc_type = 'encoderattn_test')"
   ]
  },
  {
   "cell_type": "markdown",
   "metadata": {},
   "source": [
    "### Check Performance"
   ]
  },
  {
   "cell_type": "code",
   "execution_count": 54,
   "metadata": {},
   "outputs": [
    {
     "name": "stdout",
     "output_type": "stream",
     "text": [
      "38.72150872314742\n"
     ]
    }
   ],
   "source": [
    "print(nmt_encoderattn.get_bleu_score(dataloader_dict['val']))"
   ]
  },
  {
   "cell_type": "markdown",
   "metadata": {},
   "source": [
    "### BLEU vs Sentence Length"
   ]
  },
  {
   "cell_type": "code",
   "execution_count": 55,
   "metadata": {},
   "outputs": [
    {
     "name": "stderr",
     "output_type": "stream",
     "text": [
      "/misc/vlgscratch4/BowmanGroup/pmh330/virtual_envs/venv_metaqa/lib/python3.6/site-packages/ipykernel_launcher.py:14: TqdmDeprecationWarning: This function will be removed in tqdm==5.0.0\n",
      "Please use `tqdm.notebook.tqdm` instead of `tqdm.tqdm_notebook`\n",
      "  \n"
     ]
    },
    {
     "data": {
      "application/vnd.jupyter.widget-view+json": {
       "model_id": "797b524531ec447583a18ca90eca1f42",
       "version_major": 2,
       "version_minor": 0
      },
      "text/plain": [
       "HBox(children=(FloatProgress(value=0.0, max=6.0), HTML(value='')))"
      ]
     },
     "metadata": {},
     "output_type": "display_data"
    },
    {
     "name": "stdout",
     "output_type": "stream",
     "text": [
      "\n"
     ]
    },
    {
     "data": {
      "image/png": "[encoded data removed]",
      "text/plain": [
       "<Figure size 432x288 with 1 Axes>"
      ]
     },
     "metadata": {
      "needs_background": "light"
     },
     "output_type": "display_data"
    }
   ],
   "source": [
    "attn_len_threshold, attn_bin_bl = get_binned_bl_score(nmt_encoderattn, dataset_dict['val'])"
   ]
  },
  {
   "cell_type": "code",
   "execution_count": 56,
   "metadata": {},
   "outputs": [
    {
     "data": {
      "text/plain": [
       "<matplotlib.legend.Legend at 0x7f85b8c5b860>"
      ]
     },
     "execution_count": 56,
     "metadata": {},
     "output_type": "execute_result"
    },
    {
     "data": {
      "image/png": "[encoded data removed]",
      "text/plain": [
       "<Figure size 432x288 with 1 Axes>"
      ]
     },
     "metadata": {
      "needs_background": "light"
     },
     "output_type": "display_data"
    }
   ],
   "source": [
    "plt.plot(rnn_len_threshold, rnn_bin_bl, '--x', label = 'w/o attn')\n",
    "plt.plot(attn_len_threshold, attn_bin_bl, '--x', label = 'attn')\n",
    "plt.xlabel('len sentence')\n",
    "plt.ylabel('bl score')\n",
    "plt.legend()"
   ]
  },
  {
   "cell_type": "markdown",
   "metadata": {},
   "source": [
    "### Interacting with system"
   ]
  },
  {
   "cell_type": "code",
   "execution_count": 57,
   "metadata": {},
   "outputs": [
    {
     "name": "stdout",
     "output_type": "stream",
     "text": [
      "souce:  how are you ?\n",
      "prediction:  comment allez vous ?\n",
      "GT on sentence (src->tgt):  Comment allez-vous ?\n",
      "GT on prediction (tgt->src):  how are you ?\n"
     ]
    },
    {
     "data": {
      "image/png": "[encoded data removed]",
      "text/plain": [
       "<Figure size 432x288 with 2 Axes>"
      ]
     },
     "metadata": {
      "needs_background": "light"
     },
     "output_type": "display_data"
    }
   ],
   "source": [
    "get_translation(nmt_encoderattn, 'how are you ?', source_lang_obj, use_cuda)"
   ]
  },
  {
   "cell_type": "code",
   "execution_count": 58,
   "metadata": {},
   "outputs": [
    {
     "name": "stdout",
     "output_type": "stream",
     "text": [
      "souce:  she knows better than to argue with him .\n",
      "prediction:  elle sait mieux que de ne pas le disputer avec lui .\n",
      "GT on sentence (src->tgt):  elle sait mieux que de discuter avec lui.\n",
      "GT on prediction (tgt->src):  she knows better than not to argue with him.\n"
     ]
    },
    {
     "data": {
      "image/png": "[encoded data removed]",
      "text/plain": [
       "<Figure size 432x288 with 2 Axes>"
      ]
     },
     "metadata": {
      "needs_background": "light"
     },
     "output_type": "display_data"
    }
   ],
   "source": [
    "get_translation(nmt_encoderattn, 'she knows better than to argue with him .', source_lang_obj, use_cuda)"
   ]
  },
  {
   "cell_type": "code",
   "execution_count": 59,
   "metadata": {},
   "outputs": [
    {
     "name": "stdout",
     "output_type": "stream",
     "text": [
      "souce:  she s five years younger than me .\n",
      "prediction:  elle a cinq ans de moins que moi .\n",
      "GT on sentence (src->tgt):  elle est cinq ans plus jeune que moi.\n",
      "GT on prediction (tgt->src):  She was five years younger than me.\n"
     ]
    },
    {
     "data": {
      "image/png": "[encoded data removed]",
      "text/plain": [
       "<Figure size 432x288 with 2 Axes>"
      ]
     },
     "metadata": {
      "needs_background": "light"
     },
     "output_type": "display_data"
    }
   ],
   "source": [
    "get_translation(nmt_encoderattn, 'she s five years younger than me .', source_lang_obj, use_cuda)"
   ]
  },
  {
   "cell_type": "code",
   "execution_count": 60,
   "metadata": {},
   "outputs": [
    {
     "name": "stdout",
     "output_type": "stream",
     "text": [
      "souce:  i know that the last thing you want to do is help me .\n",
      "prediction:  je sais que la derniere chose que tu veuilles faire est de m aider .\n",
      "GT on sentence (src->tgt):  Je sais que la dernière chose que vous voulez faire est de me d'aide.\n",
      "GT on prediction (tgt->src):  I know the last thing you want to do is help me.\n"
     ]
    },
    {
     "data": {
      "image/png": "[encoded data removed]",
      "text/plain": [
       "<Figure size 432x288 with 2 Axes>"
      ]
     },
     "metadata": {
      "needs_background": "light"
     },
     "output_type": "display_data"
    }
   ],
   "source": [
    "get_translation(nmt_encoderattn, 'i know that the last thing you want to do is help me .', source_lang_obj, use_cuda)"
   ]
  }
 ],
 "metadata": {
  "kernelspec": {
   "display_name": "Python 3",
   "language": "python",
   "name": "python3"
  },
  "language_info": {
   "codemirror_mode": {
    "name": "ipython",
    "version": 3
   },
   "file_extension": ".py",
   "mimetype": "text/x-python",
   "name": "python",
   "nbconvert_exporter": "python",
   "pygments_lexer": "ipython3",
   "version": "3.7.4"
  }
 },
 "nbformat": 4,
 "nbformat_minor": 4
}

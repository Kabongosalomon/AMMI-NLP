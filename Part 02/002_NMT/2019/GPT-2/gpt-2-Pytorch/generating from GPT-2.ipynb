{
 "cells": [
  {
   "cell_type": "code",
   "execution_count": 2,
   "metadata": {},
   "outputs": [
    {
     "name": "stdout",
     "output_type": "stream",
     "text": [
      "Namespace(batch_size=-1, length=-1, nsamples=1, quiet=False, temperature=0.7, text='Hello', top_k=40, unconditional=False)\n",
      "Hello\n",
      "100%|█████████████████████████████████████████| 512/512 [00:07<00:00, 66.21it/s]\n",
      "======================================== SAMPLE 1 ========================================\n",
      ".\n",
      "\n",
      "What is the difference between a \"real\" and a \"fake\" website?\n",
      "\n",
      "The real website comes from the \"real\" website. The fake website comes from the \"fake\" website.\n",
      "\n",
      "How do you know if a website is fake?\n",
      "\n",
      "Because we use the correct domain name for all our websites. The domain name is the name of a company on the internet.\n",
      "\n",
      "How do you know if a website is legit?\n",
      "\n",
      "Because we use the correct domain name for all our websites. The domain name is the name of a company on the internet.\n",
      "\n",
      "How do you know if a website is legit?\n",
      "\n",
      "Because we use the correct domain name for all our websites. The domain name is the name of a company on the internet.\n",
      "\n",
      "How do you know if a website is legit?\n",
      "\n",
      "Because we use the correct domain name for all our websites. The domain name is the name of a company on the internet.\n",
      "\n",
      "How do you know if a website is legit?\n",
      "\n",
      "Because we use the correct domain name for all our websites. The domain name is the name of a company on the internet.\n",
      "\n",
      "How do you know if a website is legit?\n",
      "\n",
      "Because we use the correct domain name for all our websites. The domain name is the name of a company on the internet.\n",
      "\n",
      "How do you know if a website is legit?\n",
      "\n",
      "Because we use the correct domain name for all our websites. The domain name is the name of a company on the internet.\n",
      "\n",
      "How do you know if a website is legit?\n",
      "\n",
      "Because we use the correct domain name for all our websites. The domain name is the name of a company on the internet.\n",
      "\n",
      "How do you know if a website is legit?\n",
      "\n",
      "Because we use the correct domain name for all our websites. The domain name is the name of a company on the internet.\n",
      "\n",
      "This is what I call a \"fake\" website. This is what I call a \"fake\" website.\n",
      "\n",
      "How do you know if a website is legit?\n",
      "\n",
      "Because we use the correct domain name for all our websites. The domain name is the name of a company on the internet.\n",
      "\n",
      "How do you know if a website is legit?\n",
      "\n",
      "Because we use the correct domain name for all our websites. The domain name is the name of a company on the internet.\n",
      "\n",
      "How do you know if a website is legit?\n",
      "\n",
      "Because we\n"
     ]
    }
   ],
   "source": [
    "!python main.py --text \"Hello\""
   ]
  },
  {
   "cell_type": "code",
   "execution_count": 5,
   "metadata": {},
   "outputs": [
    {
     "name": "stdout",
     "output_type": "stream",
     "text": [
      "Namespace(batch_size=-1, length=-1, nsamples=1, quiet=False, temperature=0.7, text='I like eating.', top_k=40, unconditional=False)\n",
      "I like eating.\n",
      "100%|█████████████████████████████████████████| 512/512 [00:08<00:00, 61.43it/s]\n",
      "======================================== SAMPLE 1 ========================================\n",
      " And I don't use caffeine. But I do try to take supplements. I try to get my body under control when I'm taking a meal or two.\n",
      "\n",
      "I know there are some people who get better with exercise, so I'm not trying to be a snob. But I do try to try to take a lot of different things, but I don't really do that, so I think it's good to try. I think it's important to be mindful and not take the wrong medications.\n",
      "\n",
      "There is something about being a snob about your weight. Do you think that going into a weight loss program may help with your weight loss?\n",
      "\n",
      "I think that it should be taken away. I'm just not that interested in being told I'm getting better and I'm not getting better. If I get more of a good meal or a good meal of protein it should be taken away.\n",
      "\n",
      "What do you think is the most important part of weight loss?\n",
      "\n",
      "Weight loss, I think, is really important. What's important is that you're getting more of your body to be able to metabolize and be able to be able to metabolize more of your body to be able to do a lot of different things.\n",
      "\n",
      "I think that the big thing is that you're getting less fat and less of your body getting to be able to metabolize more of your body. If you know it's not possible, then you're going to have to do something else.\n",
      "\n",
      "I think that you're not going to be able to keep your body fat as low as you want to be. You're going to have to be able to eat less and more and more. I think that you've got to be able to do things differently.\n",
      "\n",
      "What are some of the things you do differently to get a better weight loss?\n",
      "\n",
      "I'm eating less. I'm not too much less of a lot of things. I've been doing less of both of those things. I'm eating more of the things that are good for me. I'm eating less of things that are not good for me. I'm eating less of different things.\n",
      "\n",
      "What do you do differently for your weight loss?\n",
      "\n",
      "I've been doing more of the things that I find interesting to do. I'm eating less of different things that are good for me. I'm eating a little less of different things that are not good for me. I'm eating less of different things that are not good for\n"
     ]
    }
   ],
   "source": [
    "!python main.py --text \"I like eating.\""
   ]
  },
  {
   "cell_type": "code",
   "execution_count": 6,
   "metadata": {},
   "outputs": [
    {
     "name": "stdout",
     "output_type": "stream",
     "text": [
      "Namespace(batch_size=-1, length=-1, nsamples=1, quiet=False, temperature=0.7, text='Kigali is the capital of Rwanda.', top_k=40, unconditional=False)\n",
      "Kigali is the capital of Rwanda.\n",
      "100%|█████████████████████████████████████████| 512/512 [00:07<00:00, 67.12it/s]\n",
      "======================================== SAMPLE 1 ========================================\n",
      " It is also the birthplace of the Rwandan President Nelson Hutu, and the birthplace of President Zuma.\n",
      "\n",
      "Since its inception in 1876, Rwanda has undergone an unprecedented level of transformation and has made enormous strides in its development and development in order to meet the many challenges faced by the majority of its people. The country's history has been marked by a remarkable achievement of reconstruction, but it has also been marked by a significant amount of suffering.\n",
      "\n",
      "The country has also suffered greatly because of the violence of the past. In recent years, the government has been engaged in a series of war crimes that are now being investigated by international groups and are in a state of criminal investigation. In recent years, the government has been involved in a series of violations of human rights and environmental regulations that have led to the deaths of thousands of people.\n",
      "\n",
      "The country's long-standing history of atrocities against its people has been well documented in an international body called the International Committee of the Red Cross. The International Committee of the Red Cross (ICRC) is the world's largest humanitarian organization, and it has been responsible for more than 2.5 billion dollars in humanitarian aid to more than 100 countries across the globe.\n",
      "\n",
      "The World Health Organization (WHO) has repeatedly called on Rwanda to end its war crimes and to improve and improve its international humanitarian law. The UN has also called on Rwanda to commit to ending its war crimes and to provide assistance to the country in need.\n",
      "\n",
      "The Rwandan government has consistently supported the UN's decision to investigate the genocide and crimes against humanity committed against its people.\n",
      "\n",
      "In 1996, the Rwandan government pledged to provide $500 million to the International Committee of the Red Cross to help the country in its fight against the genocide of its people. In 2007, the Rwandan government announced a new $500 million humanitarian aid package to the country, including $500 million for the recovery and transfer of human remains from the country.\n",
      "\n",
      "The Government of Rwanda has also offered to provide $5 million for a special team to assist the country in its drive to eliminate the Hutu Hutu and other Hutu-aligned groups that have been responsible for the genocide.\n",
      "\n",
      "In 2007, it was announced that the government will provide $500 million to the International Committee of the Red Cross (ICRC) to provide assistance to the Rwandan Government in its fight against the genocide of its people.\n",
      "\n",
      "In October 2009, the Rwandan government announced the establishment of the United Nations Committee on the Elimination\n"
     ]
    }
   ],
   "source": [
    "!python main.py --text \"Kigali is the capital of Rwanda.\""
   ]
  },
  {
   "cell_type": "code",
   "execution_count": 1,
   "metadata": {},
   "outputs": [
    {
     "name": "stdout",
     "output_type": "stream",
     "text": [
      "Namespace(batch_size=-1, length=-1, nsamples=1, quiet=False, temperature=0.7, text='Once when I was six years old I saw a magnificent picture in a book, called True Stories from Nature, about the primeval forest.', top_k=40, unconditional=False)\n",
      "Once when I was six years old I saw a magnificent picture in a book, called True Stories from Nature, about the primeval forest.\n",
      "100%|█████████████████████████████████████████| 512/512 [00:08<00:00, 63.13it/s]\n",
      "======================================== SAMPLE 1 ========================================\n",
      " The whole forest had vanished, and the trees were scattered everywhere. At the same time there was a great change in the shape of the tree, which was called the Golden Leaf. The picture was from the early days of the forest, but now a forest has been built up in this forest, and now there are still trees left on it. The Golden Leaf is the most beautiful thing that exists in nature. It is the most beautiful thing that can be created, and it exists so that we can live in a world of peace and justice. There are no laws and no laws on earth that can be broken. We are all free from this evil. We are all free from this evil. What is the result of our laws? We have made a new world. We have made a new world. We have created our own world. We have created our own world. The only difference between this new world and the old world is the difference in the shape of the tree. The Golden Leaf is like a beautiful tree. It is like a beautiful tree. We have created a new world, but it is not the same tree, but a different tree. The Golden Leaf is like a beautiful tree. It is like a beautiful tree. We have created our own world. We have created our own world. We have created our own world. We have created our own world. We have created our own world. It is a beautiful thing.\n",
      "\n",
      "I know it is a very difficult question to answer, but I hope I will give it a try.\n",
      "\n",
      "\"A new world is a beautiful thing, but it is not an existing world.\"\n",
      "\n",
      "—Henry Hudson\n",
      "\n",
      "I once heard an old man say that when I was a child, I could find no good tree in the forest, but he found one in my garden in the late evening. I said, \"You know, you know, I want to plant it, and you have to turn and look to see what it looks like now.\"\n",
      "\n",
      "He had the best garden in the world, but I didn't like it. I grew up in a farm and I had never planted a single tree, but it was easy to see the garden and the garden was beautiful.\n",
      "\n",
      "I was very curious when my father told me about the Golden Leaf, and I was very curious when he told me about the trees. What is the difference between an existing tree and an existing tree that I have seen growing in the forest?\n",
      "\n",
      "\"There is no difference, but the\n"
     ]
    }
   ],
   "source": [
    "!python main.py --text \"Once when I was six years old I saw a magnificent picture in a book, called True Stories from Nature, about the primeval forest.\""
   ]
  },
  {
   "cell_type": "code",
   "execution_count": null,
   "metadata": {},
   "outputs": [],
   "source": []
  }
 ],
 "metadata": {
  "kernelspec": {
   "display_name": "Python 3",
   "language": "python",
   "name": "python3"
  },
  "language_info": {
   "codemirror_mode": {
    "name": "ipython",
    "version": 3
   },
   "file_extension": ".py",
   "mimetype": "text/x-python",
   "name": "python",
   "nbconvert_exporter": "python",
   "pygments_lexer": "ipython3",
   "version": "3.7.1"
  }
 },
 "nbformat": 4,
 "nbformat_minor": 2
}

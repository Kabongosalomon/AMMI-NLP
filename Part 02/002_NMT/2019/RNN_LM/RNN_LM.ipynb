{
 "cells": [
  {
   "cell_type": "markdown",
   "metadata": {},
   "source": [
    "# Recurrent Language Model"
   ]
  },
  {
   "cell_type": "code",
   "execution_count": 107,
   "metadata": {},
   "outputs": [],
   "source": [
    "path_to_utils = '../../utils'\n",
    "\n",
    "dataset = 'amazon'\n",
    "if dataset == 'amazon':\n",
    "    path_to_data = './amazon_review_data'\n",
    "else:\n",
    "    path_to_data = './data'"
   ]
  },
  {
   "cell_type": "code",
   "execution_count": 34,
   "metadata": {},
   "outputs": [],
   "source": [
    "import os\n",
    "import sys\n",
    "\n",
    "sys.path.append(path_to_utils)\n",
    "\n",
    "import loading_text_and_tokenization\n",
    "import torch\n",
    "import numpy as np\n",
    "import torch.nn as nn\n",
    "import random\n",
    "import math\n",
    "import torch.nn.functional as F\n",
    "\n",
    "import pickle"
   ]
  },
  {
   "cell_type": "code",
   "execution_count": 3,
   "metadata": {},
   "outputs": [],
   "source": [
    "USE_CUDA = True\n",
    "device = torch.device(\"cuda\" if USE_CUDA else \"cpu\")"
   ]
  },
  {
   "cell_type": "code",
   "execution_count": 4,
   "metadata": {},
   "outputs": [],
   "source": [
    "batch_size  = 32\n",
    "\n",
    "if dataset == 'amazon':\n",
    "    batch_size = 64"
   ]
  },
  {
   "cell_type": "markdown",
   "metadata": {},
   "source": [
    "### Loading Data and turning into batches"
   ]
  },
  {
   "cell_type": "code",
   "execution_count": 5,
   "metadata": {},
   "outputs": [
    {
     "name": "stdout",
     "output_type": "stream",
     "text": [
      "Adding words from train to dictionary..\n",
      "tokenizing train..\n",
      "tokenizing valid..\n"
     ]
    }
   ],
   "source": [
    "corpus_filename = dataset+'_obj.p'\n",
    "\n",
    "if os.path.exists(corpus_filename):\n",
    "    corpus = pickle.load( open( corpus_filename, \"rb\" ) )\n",
    "else:\n",
    "    corpus = loading_text_and_tokenization.Corpus(path_to_data)\n",
    "    pickle.dump( corpus, open( corpus_filename, \"wb\" ) )"
   ]
  },
  {
   "cell_type": "code",
   "execution_count": 6,
   "metadata": {},
   "outputs": [
    {
     "name": "stdout",
     "output_type": "stream",
     "text": [
      "Train dataset size is 16616677\n",
      "Val dataset size is 1860569\n"
     ]
    }
   ],
   "source": [
    "print (\"Train dataset size is {}\".format(len(corpus.train)))\n",
    "print (\"Val dataset size is {}\".format(len(corpus.valid)))\n"
   ]
  },
  {
   "cell_type": "markdown",
   "metadata": {},
   "source": [
    "### Aside: torch.Tensor.narrow"
   ]
  },
  {
   "cell_type": "code",
   "execution_count": 7,
   "metadata": {},
   "outputs": [
    {
     "name": "stdout",
     "output_type": "stream",
     "text": [
      "tensor([0, 1, 2, 3, 4, 5, 6, 7, 8, 9])\n"
     ]
    }
   ],
   "source": [
    "dummy_tensor = torch.arange(0, 10);\n",
    "print(dummy_tensor)"
   ]
  },
  {
   "cell_type": "code",
   "execution_count": 8,
   "metadata": {},
   "outputs": [
    {
     "data": {
      "text/plain": [
       "tensor([1, 2, 3, 4, 5])"
      ]
     },
     "execution_count": 8,
     "metadata": {},
     "output_type": "execute_result"
    }
   ],
   "source": [
    "dummy_tensor.narrow(0, 1, 5)"
   ]
  },
  {
   "cell_type": "code",
   "execution_count": 9,
   "metadata": {},
   "outputs": [
    {
     "data": {
      "text/plain": [
       "tensor([5, 6, 7, 8])"
      ]
     },
     "execution_count": 9,
     "metadata": {},
     "output_type": "execute_result"
    }
   ],
   "source": [
    "dummy_tensor.narrow(0, 5, 4)"
   ]
  },
  {
   "cell_type": "markdown",
   "metadata": {},
   "source": [
    "All we need to understand is that .narrow() is just a way to do indexing. When we do dummy_tensor.narrow(0, i, j) we are indexing dummy_tensor[i:i+j]"
   ]
  },
  {
   "cell_type": "raw",
   "metadata": {},
   "source": [
    "Batchify Function\n",
    "\n",
    "Starting from sequential data, batchify arranges the dataset into columns.\n",
    "For instance, with the alphabet as the sequence and batch size 4, we'd get\n",
    "┌ a g m s ┐\n",
    "│ b h n t │\n",
    "│ c i o u │\n",
    "│ d j p v │\n",
    "│ e k q w │\n",
    "└ f l r x ┘.\n",
    "These columns are treated as independent by the model, which means that the\n",
    "dependence of e. g. 'g' on 'f' can not be learned, but allows more efficient\n",
    "batch processing."
   ]
  },
  {
   "cell_type": "code",
   "execution_count": 10,
   "metadata": {},
   "outputs": [],
   "source": [
    "def batchify(data, bsz, random_start_idx=False):\n",
    "    # calculate total number of batches that fit cleanly\n",
    "    nbatch = data.size(0) // bsz\n",
    "    if random_start_idx:\n",
    "        start_idx = random.randint(0, data.size(0) % bsz - 1)\n",
    "    else:\n",
    "        start_idx = 0\n",
    "        \n",
    "    # Trim off any extra elements that wouldn't cleanly fit (remainders).\n",
    "    # Nice thing about this: \n",
    "    # u don't need to pad since every sequence now has same length\n",
    "    data = data.narrow(0, start_idx, nbatch * bsz)\n",
    "    \n",
    "    # Evenly divide the data across the bsz batches.\n",
    "    data = data.view(bsz, -1).t().contiguous()\n",
    "    return data.to(device)\n"
   ]
  },
  {
   "cell_type": "raw",
   "metadata": {},
   "source": [
    "Get Batch Function\n",
    "\n",
    "get_batch subdivides the source data into chunks of max_seq_len.\n",
    "If source is equal to the example output of the batchify function, i, e, \n",
    "┌ a g m s ┐\n",
    "│ b h n t │\n",
    "│ c i o u │\n",
    "│ d j p v │\n",
    "│ e k q w │\n",
    "└ f l r x ┘\n",
    "\n",
    "then with max_seq_len = 2, we'd get the following two Variables for i = 0:\n",
    "┌ a g m s ┐ ┌ b h n t ┐\n",
    "└ b h n t ┘ └ c i o u ┘\n"
   ]
  },
  {
   "cell_type": "code",
   "execution_count": 11,
   "metadata": {},
   "outputs": [],
   "source": [
    "\n",
    "def get_batch(source, i, max_seq_len):\n",
    "    seq_len = min(max_seq_len, len(source) - 1 - i)\n",
    "    data = source[i:i+seq_len]\n",
    "    target = source[i+1:i+1+seq_len].view(-1)\n",
    "    return data, target\n"
   ]
  },
  {
   "cell_type": "code",
   "execution_count": 36,
   "metadata": {},
   "outputs": [],
   "source": [
    "clip = 0.25\n",
    "log_interval = 200\n",
    "criterion = nn.CrossEntropyLoss()\n",
    "\n",
    "def repackage_hidden(h):\n",
    "    \"\"\"\n",
    "        Wraps hidden states in new Tensors, to detach them from their history.\n",
    "    \"\"\"\n",
    "    if isinstance(h, torch.Tensor):\n",
    "        return h.detach()\n",
    "    else:\n",
    "        return tuple(repackage_hidden(v) for v in h)\n",
    "    \n",
    "def train_step(model, lr, epoch):\n",
    "    model.train()\n",
    "    total_loss = 0.\n",
    "    hidden = model.init_hidden(batch_size)\n",
    "    \n",
    "    # We shuffle train data every epoch\n",
    "    train_data = batchify(corpus.train, batch_size, random_start_idx=True)\n",
    "    \n",
    "    for batch, i in enumerate(range(0, train_data.size(0) - 1, max_seq_len)):\n",
    "        data, targets = get_batch(train_data, i, max_seq_len)\n",
    "        \n",
    "        # Starting each batch, we detach the hidden state from how it was previously produced.\n",
    "        # If we didn't, the model would try backpropagating all the way to start of the dataset.\n",
    "        hidden = repackage_hidden(hidden)\n",
    "        model.zero_grad()\n",
    "        \n",
    "        output, hidden = model(data, hidden)\n",
    "        loss = criterion(output.view(-1, vocab_size), targets)\n",
    "        loss.backward()\n",
    "\n",
    "        # `clip_grad_norm` helps prevent the exploding gradient problem\n",
    "        torch.nn.utils.clip_grad_norm_(model.parameters(), clip)\n",
    "        for p in model.parameters():\n",
    "            if p.grad is not None:\n",
    "                p.data.add_(-lr, p.grad.data)\n",
    "\n",
    "        total_loss += loss.item()\n",
    "\n",
    "        if batch %log_interval == 0 and batch > 0:\n",
    "            cur_loss = total_loss / log_interval\n",
    "            \n",
    "            print('| epoch {:3d} | {:5d}/{:5d} batches | lr {:02.2f} | '\n",
    "                    'loss {:5.2f} | ppl {:8.2f}'.format(\n",
    "                epoch, batch, len(train_data) // max_seq_len, lr,\n",
    "                cur_loss, math.exp(cur_loss)))\n",
    "            total_loss = 0\n",
    "            \n",
    "    return model\n"
   ]
  },
  {
   "cell_type": "markdown",
   "metadata": {},
   "source": [
    "### Perplexity"
   ]
  },
  {
   "cell_type": "markdown",
   "metadata": {},
   "source": [
    "Description here"
   ]
  },
  {
   "cell_type": "code",
   "execution_count": 89,
   "metadata": {},
   "outputs": [],
   "source": [
    "# perplexity evaluation for a given corpus\n",
    "def evaluate(model, data_source, max_seq_len, eval_batch_size=32, calc_prob = False):\n",
    "    model.eval()\n",
    "    total_loss = 0.\n",
    "    hidden = model.init_hidden(eval_batch_size)\n",
    "    with torch.no_grad():\n",
    "        for i in range(0, data_source.size(0) - 1, max_seq_len):\n",
    "            data, targets = get_batch(data_source, i, max_seq_len)\n",
    "            \n",
    "            output, hidden = model(data, hidden)\n",
    "            if calc_prob:\n",
    "                out = output.clone();\n",
    "                out = F.softmax(out, dim = 2)\n",
    "\n",
    "                sum_prob = 0;\n",
    "                for idx in range(len(targets)):\n",
    "                    sum_prob += torch.log(out[idx, 0, targets[idx]])\n",
    "                    \n",
    "            output_flat = output.view(-1, vocab_size)\n",
    "            \n",
    "            total_loss += len(data) * criterion(output_flat, targets).item()\n",
    "            hidden = repackage_hidden(hidden)\n",
    "            \n",
    "\n",
    "    if calc_prob:\n",
    "        return total_loss / len(data_source), torch.exp(sum_prob).item()\n",
    "    return total_loss / len(data_source)"
   ]
  },
  {
   "cell_type": "markdown",
   "metadata": {},
   "source": [
    "### Train for $n$ epochs"
   ]
  },
  {
   "cell_type": "code",
   "execution_count": 23,
   "metadata": {},
   "outputs": [],
   "source": [
    "def train_for_n_epochs(model, filename, num_epochs = 10, lr=20):\n",
    "    best_val_loss = np.inf\n",
    "    val_data = batchify(corpus.valid, batch_size, random_start_idx=True)\n",
    "    for epoch in range(1, num_epochs+1):\n",
    "        model = train_step(model, lr, epoch)\n",
    "        val_loss = evaluate(model, val_data, max_seq_len, batch_size)\n",
    "        print('-' * 89)\n",
    "        print('| end of epoch {:3d} | valid loss {:5.2f} | '\n",
    "                    'valid ppl {:8.2f}'.format(epoch, \n",
    "                                               val_loss, math.exp(val_loss)))\n",
    "        print('-' * 89)\n",
    "        # Save the model if the validation loss is the best we've seen so far.\n",
    "        if not best_val_loss or val_loss < best_val_loss:\n",
    "            with open(filename, 'wb') as f:\n",
    "                torch.save(model, f)\n",
    "            best_val_loss = val_loss\n",
    "        else:\n",
    "            # Anneal the learning rate if no improvement has been seen in the validation dataset.\n",
    "            lr /= 4.0\n",
    "    return model"
   ]
  },
  {
   "cell_type": "markdown",
   "metadata": {},
   "source": [
    "## RNN Model"
   ]
  },
  {
   "cell_type": "code",
   "execution_count": 15,
   "metadata": {},
   "outputs": [],
   "source": [
    "## Common Model Parameters\n",
    "\n",
    "embed_size = 200\n",
    "hidden_size = 200\n",
    "num_layers = 2\n",
    "num_epochs = 20\n",
    "lr = 20.0\n",
    "dropout = 0.2\n",
    "max_seq_len = 35\n",
    "\n",
    "if dataset == 'amazon':\n",
    "    num_epochs = 5;\n",
    "    max_seq_len = 70\n",
    "\n",
    "\n",
    "vocab_size = len(corpus.dictionary)"
   ]
  },
  {
   "cell_type": "code",
   "execution_count": 16,
   "metadata": {},
   "outputs": [
    {
     "data": {
      "text/plain": [
       "21134"
      ]
     },
     "execution_count": 16,
     "metadata": {},
     "output_type": "execute_result"
    }
   ],
   "source": [
    "vocab_size"
   ]
  },
  {
   "cell_type": "code",
   "execution_count": 18,
   "metadata": {},
   "outputs": [],
   "source": [
    "filename_rnn = 'rnn_'+dataset+'.pth';"
   ]
  },
  {
   "cell_type": "code",
   "execution_count": 19,
   "metadata": {},
   "outputs": [],
   "source": [
    "class RNNModel(nn.Module):\n",
    "    def __init__(self, vocab_size, embed_size, hidden_size, num_layers, dropout=0.5):\n",
    "        super(RNNModel, self).__init__()\n",
    "        self.drop = nn.Dropout(dropout)\n",
    "        \n",
    "        self.encoder = nn.Embedding(vocab_size, embed_size)\n",
    "        self.rnn = nn.LSTM(embed_size, hidden_size, num_layers, dropout=dropout)\n",
    "        self.decoder = nn.Linear(hidden_size, vocab_size)\n",
    "\n",
    "        self.init_weights()\n",
    "        self.hidden_size = hidden_size\n",
    "        self.num_layers = num_layers\n",
    "\n",
    "    def init_weights(self):\n",
    "        initrange = 0.1\n",
    "        self.encoder.weight.data.uniform_(-initrange, initrange)\n",
    "        self.decoder.bias.data.zero_()\n",
    "        self.decoder.weight.data.uniform_(-initrange, initrange)\n",
    "\n",
    "    def forward(self, input, hidden):\n",
    "        emb = self.drop(self.encoder(input))\n",
    "        output, hidden = self.rnn(emb, hidden)\n",
    "        output = self.drop(output)\n",
    "        decoded = self.decoder(output.view(output.size(0)*output.size(1), output.size(2)))\n",
    "        return decoded.view(output.size(0), output.size(1), decoded.size(1)), hidden\n",
    "\n",
    "    def init_hidden(self, bsz):\n",
    "        weight = next(self.parameters())\n",
    "        return (weight.new_zeros(self.num_layers, bsz, self.hidden_size),\n",
    "                    weight.new_zeros(self.num_layers, bsz, self.hidden_size))"
   ]
  },
  {
   "cell_type": "code",
   "execution_count": 20,
   "metadata": {},
   "outputs": [],
   "source": [
    "model_rnn = RNNModel(vocab_size, embed_size, hidden_size, num_layers, dropout).to(device)"
   ]
  },
  {
   "cell_type": "markdown",
   "metadata": {},
   "source": [
    "### Training RNN Model or Loading Saved Model"
   ]
  },
  {
   "cell_type": "code",
   "execution_count": 21,
   "metadata": {},
   "outputs": [],
   "source": [
    "train_again = False"
   ]
  },
  {
   "cell_type": "code",
   "execution_count": 24,
   "metadata": {},
   "outputs": [
    {
     "name": "stdout",
     "output_type": "stream",
     "text": [
      "| epoch   1 |   200/ 3709 batches | lr 20.00 | loss  4.10 | ppl    60.44\n",
      "| epoch   1 |   400/ 3709 batches | lr 20.00 | loss  4.06 | ppl    58.07\n",
      "| epoch   1 |   600/ 3709 batches | lr 20.00 | loss  4.07 | ppl    58.35\n",
      "| epoch   1 |   800/ 3709 batches | lr 20.00 | loss  4.03 | ppl    56.12\n",
      "| epoch   1 |  1000/ 3709 batches | lr 20.00 | loss  4.01 | ppl    55.40\n",
      "| epoch   1 |  1200/ 3709 batches | lr 20.00 | loss  4.02 | ppl    55.93\n",
      "| epoch   1 |  1400/ 3709 batches | lr 20.00 | loss  3.99 | ppl    53.89\n",
      "| epoch   1 |  1600/ 3709 batches | lr 20.00 | loss  3.96 | ppl    52.59\n",
      "| epoch   1 |  1800/ 3709 batches | lr 20.00 | loss  3.97 | ppl    52.83\n",
      "| epoch   1 |  2000/ 3709 batches | lr 20.00 | loss  3.95 | ppl    51.71\n",
      "| epoch   1 |  2200/ 3709 batches | lr 20.00 | loss  3.94 | ppl    51.37\n",
      "| epoch   1 |  2400/ 3709 batches | lr 20.00 | loss  3.94 | ppl    51.21\n",
      "| epoch   1 |  2600/ 3709 batches | lr 20.00 | loss  3.95 | ppl    51.96\n",
      "| epoch   1 |  2800/ 3709 batches | lr 20.00 | loss  3.94 | ppl    51.21\n",
      "| epoch   1 |  3000/ 3709 batches | lr 20.00 | loss  3.94 | ppl    51.21\n",
      "| epoch   1 |  3200/ 3709 batches | lr 20.00 | loss  3.95 | ppl    52.07\n",
      "| epoch   1 |  3400/ 3709 batches | lr 20.00 | loss  3.93 | ppl    50.91\n",
      "| epoch   1 |  3600/ 3709 batches | lr 20.00 | loss  3.90 | ppl    49.47\n",
      "-----------------------------------------------------------------------------------------\n",
      "| end of epoch   1 | valid loss  3.73 | valid ppl    41.52\n",
      "-----------------------------------------------------------------------------------------\n"
     ]
    },
    {
     "name": "stderr",
     "output_type": "stream",
     "text": [
      "/scratch/sm7582/condaenvs/denoising/lib/python3.7/site-packages/torch/serialization.py:250: UserWarning: Couldn't retrieve source code for container of type RNNModel. It won't be checked for correctness upon loading.\n",
      "  \"type \" + obj.__name__ + \". It won't be checked \"\n"
     ]
    },
    {
     "name": "stdout",
     "output_type": "stream",
     "text": [
      "| epoch   2 |   200/ 3709 batches | lr 20.00 | loss  3.92 | ppl    50.53\n",
      "| epoch   2 |   400/ 3709 batches | lr 20.00 | loss  3.90 | ppl    49.17\n",
      "| epoch   2 |   600/ 3709 batches | lr 20.00 | loss  3.91 | ppl    49.75\n",
      "| epoch   2 |   800/ 3709 batches | lr 20.00 | loss  3.88 | ppl    48.31\n",
      "| epoch   2 |  1000/ 3709 batches | lr 20.00 | loss  3.87 | ppl    48.05\n",
      "| epoch   2 |  1200/ 3709 batches | lr 20.00 | loss  3.89 | ppl    49.04\n",
      "| epoch   2 |  1400/ 3709 batches | lr 20.00 | loss  3.86 | ppl    47.47\n",
      "| epoch   2 |  1600/ 3709 batches | lr 20.00 | loss  3.84 | ppl    46.49\n",
      "| epoch   2 |  1800/ 3709 batches | lr 20.00 | loss  3.85 | ppl    47.07\n",
      "| epoch   2 |  2000/ 3709 batches | lr 20.00 | loss  3.83 | ppl    46.13\n",
      "| epoch   2 |  2200/ 3709 batches | lr 20.00 | loss  3.83 | ppl    46.13\n",
      "| epoch   2 |  2400/ 3709 batches | lr 20.00 | loss  3.83 | ppl    46.14\n",
      "| epoch   2 |  2600/ 3709 batches | lr 20.00 | loss  3.85 | ppl    46.99\n",
      "| epoch   2 |  2800/ 3709 batches | lr 20.00 | loss  3.84 | ppl    46.58\n",
      "| epoch   2 |  3000/ 3709 batches | lr 20.00 | loss  3.84 | ppl    46.70\n",
      "| epoch   2 |  3200/ 3709 batches | lr 20.00 | loss  3.86 | ppl    47.62\n",
      "| epoch   2 |  3400/ 3709 batches | lr 20.00 | loss  3.84 | ppl    46.62\n",
      "| epoch   2 |  3600/ 3709 batches | lr 20.00 | loss  3.82 | ppl    45.54\n",
      "-----------------------------------------------------------------------------------------\n",
      "| end of epoch   2 | valid loss  3.64 | valid ppl    38.11\n",
      "-----------------------------------------------------------------------------------------\n",
      "| epoch   3 |   200/ 3709 batches | lr 20.00 | loss  3.84 | ppl    46.57\n",
      "| epoch   3 |   400/ 3709 batches | lr 20.00 | loss  3.82 | ppl    45.58\n",
      "| epoch   3 |   600/ 3709 batches | lr 20.00 | loss  3.83 | ppl    46.06\n",
      "| epoch   3 |   800/ 3709 batches | lr 20.00 | loss  3.80 | ppl    44.87\n",
      "| epoch   3 |  1000/ 3709 batches | lr 20.00 | loss  3.80 | ppl    44.81\n",
      "| epoch   3 |  1200/ 3709 batches | lr 20.00 | loss  3.82 | ppl    45.72\n",
      "| epoch   3 |  1400/ 3709 batches | lr 20.00 | loss  3.79 | ppl    44.41\n",
      "| epoch   3 |  1600/ 3709 batches | lr 20.00 | loss  3.78 | ppl    43.66\n",
      "| epoch   3 |  1800/ 3709 batches | lr 20.00 | loss  3.79 | ppl    44.22\n",
      "| epoch   3 |  2000/ 3709 batches | lr 20.00 | loss  3.77 | ppl    43.45\n",
      "| epoch   3 |  2200/ 3709 batches | lr 20.00 | loss  3.77 | ppl    43.49\n",
      "| epoch   3 |  2400/ 3709 batches | lr 20.00 | loss  3.78 | ppl    43.63\n",
      "| epoch   3 |  2600/ 3709 batches | lr 20.00 | loss  3.80 | ppl    44.50\n",
      "| epoch   3 |  2800/ 3709 batches | lr 20.00 | loss  3.79 | ppl    44.17\n",
      "| epoch   3 |  3000/ 3709 batches | lr 20.00 | loss  3.79 | ppl    44.32\n",
      "| epoch   3 |  3200/ 3709 batches | lr 20.00 | loss  3.81 | ppl    45.13\n",
      "| epoch   3 |  3400/ 3709 batches | lr 20.00 | loss  3.79 | ppl    44.36\n",
      "| epoch   3 |  3600/ 3709 batches | lr 20.00 | loss  3.77 | ppl    43.45\n",
      "-----------------------------------------------------------------------------------------\n",
      "| end of epoch   3 | valid loss  3.62 | valid ppl    37.49\n",
      "-----------------------------------------------------------------------------------------\n",
      "| epoch   4 |   200/ 3709 batches | lr 20.00 | loss  3.79 | ppl    44.37\n",
      "| epoch   4 |   400/ 3709 batches | lr 20.00 | loss  3.77 | ppl    43.57\n",
      "| epoch   4 |   600/ 3709 batches | lr 20.00 | loss  3.79 | ppl    44.06\n",
      "| epoch   4 |   800/ 3709 batches | lr 20.00 | loss  3.76 | ppl    42.91\n",
      "| epoch   4 |  1000/ 3709 batches | lr 20.00 | loss  3.76 | ppl    42.95\n",
      "| epoch   4 |  1200/ 3709 batches | lr 20.00 | loss  3.78 | ppl    43.83\n",
      "| epoch   4 |  1400/ 3709 batches | lr 20.00 | loss  3.75 | ppl    42.71\n",
      "| epoch   4 |  1600/ 3709 batches | lr 20.00 | loss  3.74 | ppl    41.91\n",
      "| epoch   4 |  1800/ 3709 batches | lr 20.00 | loss  3.75 | ppl    42.43\n",
      "| epoch   4 |  2000/ 3709 batches | lr 20.00 | loss  3.73 | ppl    41.80\n",
      "| epoch   4 |  2200/ 3709 batches | lr 20.00 | loss  3.73 | ppl    41.88\n",
      "| epoch   4 |  2400/ 3709 batches | lr 20.00 | loss  3.74 | ppl    42.10\n",
      "| epoch   4 |  2600/ 3709 batches | lr 20.00 | loss  3.76 | ppl    42.86\n",
      "| epoch   4 |  2800/ 3709 batches | lr 20.00 | loss  3.75 | ppl    42.49\n",
      "| epoch   4 |  3000/ 3709 batches | lr 20.00 | loss  3.75 | ppl    42.69\n",
      "| epoch   4 |  3200/ 3709 batches | lr 20.00 | loss  3.78 | ppl    43.67\n",
      "| epoch   4 |  3400/ 3709 batches | lr 20.00 | loss  3.76 | ppl    42.85\n",
      "| epoch   4 |  3600/ 3709 batches | lr 20.00 | loss  3.74 | ppl    42.04\n",
      "-----------------------------------------------------------------------------------------\n",
      "| end of epoch   4 | valid loss  3.56 | valid ppl    35.06\n",
      "-----------------------------------------------------------------------------------------\n",
      "| epoch   5 |   200/ 3709 batches | lr 20.00 | loss  3.76 | ppl    42.94\n",
      "| epoch   5 |   400/ 3709 batches | lr 20.00 | loss  3.74 | ppl    42.16\n",
      "| epoch   5 |   600/ 3709 batches | lr 20.00 | loss  3.75 | ppl    42.59\n",
      "| epoch   5 |   800/ 3709 batches | lr 20.00 | loss  3.73 | ppl    41.56\n",
      "| epoch   5 |  1000/ 3709 batches | lr 20.00 | loss  3.73 | ppl    41.65\n",
      "| epoch   5 |  1200/ 3709 batches | lr 20.00 | loss  3.75 | ppl    42.49\n",
      "| epoch   5 |  1400/ 3709 batches | lr 20.00 | loss  3.72 | ppl    41.42\n",
      "| epoch   5 |  1600/ 3709 batches | lr 20.00 | loss  3.70 | ppl    40.65\n",
      "| epoch   5 |  1800/ 3709 batches | lr 20.00 | loss  3.72 | ppl    41.26\n",
      "| epoch   5 |  2000/ 3709 batches | lr 20.00 | loss  3.70 | ppl    40.64\n",
      "| epoch   5 |  2200/ 3709 batches | lr 20.00 | loss  3.71 | ppl    40.78\n",
      "| epoch   5 |  2400/ 3709 batches | lr 20.00 | loss  3.71 | ppl    40.95\n",
      "| epoch   5 |  2600/ 3709 batches | lr 20.00 | loss  3.73 | ppl    41.72\n",
      "| epoch   5 |  2800/ 3709 batches | lr 20.00 | loss  3.73 | ppl    41.49\n",
      "| epoch   5 |  3000/ 3709 batches | lr 20.00 | loss  3.73 | ppl    41.69\n",
      "| epoch   5 |  3200/ 3709 batches | lr 20.00 | loss  3.75 | ppl    42.52\n",
      "| epoch   5 |  3400/ 3709 batches | lr 20.00 | loss  3.73 | ppl    41.80\n",
      "| epoch   5 |  3600/ 3709 batches | lr 20.00 | loss  3.71 | ppl    40.95\n",
      "-----------------------------------------------------------------------------------------\n",
      "| end of epoch   5 | valid loss  3.55 | valid ppl    34.66\n",
      "-----------------------------------------------------------------------------------------\n"
     ]
    }
   ],
   "source": [
    "if os.path.exists(filename_rnn) and (not train_again):\n",
    "    model_rnn = torch.load(filename_rnn);\n",
    "else:\n",
    "    model_rnn = train_for_n_epochs(model = model_rnn, \n",
    "                               filename = filename_rnn,\n",
    "                               num_epochs = num_epochs)\n"
   ]
  },
  {
   "cell_type": "markdown",
   "metadata": {},
   "source": [
    "### Scoring The Sentence"
   ]
  },
  {
   "cell_type": "code",
   "execution_count": 58,
   "metadata": {},
   "outputs": [],
   "source": [
    "def score_sentences(model, sent_list):\n",
    "    ppl_list = []\n",
    "    for sent in sent_list:\n",
    "        tokens = corpus.tokenize_sentence(sent)\n",
    "        test_sent_idx = batchify(tokens, 1)\n",
    "        loss, prob = evaluate(model, test_sent_idx, len(tokens), 1, calc_prob = True)\n",
    "        ppl_list.append((sent, math.exp(loss), prob))\n",
    "    return ppl_list"
   ]
  },
  {
   "cell_type": "code",
   "execution_count": 71,
   "metadata": {},
   "outputs": [
    {
     "data": {
      "text/plain": [
       "[('how are you?', 85.30433599726925, 1.8884946939579095e-08),\n",
       " ('dividend yields have been bolstered by stock declines',\n",
       "  335.5168345683966,\n",
       "  1.8559707221977514e-23),\n",
       " ('stock bolstered declines dividend by yields have been',\n",
       "  329.04241356628273,\n",
       "  2.2117348419944873e-23),\n",
       " ('artificial neural networks are computing systems vaguely inspired by the biological neural networks',\n",
       "  111.46072618656794,\n",
       "  2.1892486535251042e-29),\n",
       " ('Cho is so cool', 33.46978211595802, 2.380864927431503e-08),\n",
       " ('roberta is so cool', 33.46978211595802, 2.380864927431503e-08),\n",
       " ('this cloth is nice', 66.64289569409148, 7.607302565659779e-10),\n",
       " ('a', 66.33855753905767, 0.00022723140136804432)]"
      ]
     },
     "execution_count": 71,
     "metadata": {},
     "output_type": "execute_result"
    }
   ],
   "source": [
    "test_sentences = [ 'how are you?', \\\n",
    "                'dividend yields have been bolstered by stock declines', \\\n",
    "             'stock bolstered declines dividend by yields have been', \\\n",
    "             'artificial neural networks are computing systems vaguely inspired by the biological neural networks', \\\n",
    "             'Cho is so cool', \\\n",
    "             'roberta is so cool', \\\n",
    "              'this cloth is nice', \\\n",
    "                 'a']\n",
    "\n",
    "score_sentences(model_rnn, test_sentences)"
   ]
  },
  {
   "cell_type": "markdown",
   "metadata": {},
   "source": [
    "## Generation"
   ]
  },
  {
   "cell_type": "code",
   "execution_count": 28,
   "metadata": {},
   "outputs": [],
   "source": [
    "def generate_words(model, n_words = 100):\n",
    "    #n_words number of words to generate\n",
    "    ntokens = len(corpus.dictionary)\n",
    "    hidden = model.init_hidden(1)\n",
    "    input = torch.randint(ntokens, (1, 1), dtype=torch.long).to(device)\n",
    "    # input = torch.tensor([[corpus.dictionary.word2idx['a']]], dtype=torch.long).to(device)\n",
    "    \n",
    "    sentence = corpus.dictionary.idx2word[input.item()] + ' '\n",
    "    model.eval()\n",
    "    with torch.no_grad():  # no tracking history\n",
    "        for i in range(n_words):\n",
    "            output, hidden = model(input, hidden)\n",
    "            word_weights = output.squeeze().div(1.0).exp().cpu()\n",
    "            word_idx = torch.multinomial(word_weights, 1)[0]\n",
    "\n",
    "            input.fill_(word_idx)\n",
    "  \n",
    "            word = corpus.dictionary.idx2word[word_idx]\n",
    "\n",
    "            sentence += word +' '\n",
    "        \n",
    "    return sentence"
   ]
  },
  {
   "cell_type": "code",
   "execution_count": 29,
   "metadata": {},
   "outputs": [
    {
     "data": {
      "text/plain": [
       "'veil , protects the <unk> and the material / potent <unk> to not be quite comfortable heat , no where . <eos> this item is so cute ! lightweight and comfortable . they are a bit on a close side . . . but individual books are a great first place a great <unk> . these are a really nice , lightweight and comfy piece . <eos> for the price , or a good present for the other buyers , at the money this is the most exciting pack i can see . it works , but the closest did the '"
      ]
     },
     "execution_count": 29,
     "metadata": {},
     "output_type": "execute_result"
    }
   ],
   "source": [
    "generate_words(model_rnn)"
   ]
  },
  {
   "cell_type": "markdown",
   "metadata": {},
   "source": [
    "## RNN + Self Attention"
   ]
  },
  {
   "cell_type": "code",
   "execution_count": 30,
   "metadata": {},
   "outputs": [],
   "source": [
    "class RNN_SelfAttn_Model(nn.Module):\n",
    "    def __init__(self, vocab_size, embed_size, hidden_size, num_layers=1, \n",
    "                 dropout = 0.5, idropout = 0.5, self_attention = True):\n",
    "        super(RNN_SelfAttn_Model, self).__init__()\n",
    "\n",
    "        \n",
    "        self.drop = nn.Dropout(dropout)\n",
    "        \n",
    "        self.encoder = nn.Embedding(vocab_size, embed_size)\n",
    "        self.rnn = nn.GRUCell(hidden_size, hidden_size, bias=True);\n",
    "\n",
    "        self.hidden_size = hidden_size\n",
    "        self.num_layers = num_layers\n",
    "        \n",
    "        self.memory_rnn = nn.GRUCell(embed_size, hidden_size)\n",
    "        self.projector_summ = nn.Sequential(nn.Dropout(idropout),\n",
    "                                            nn.Linear(embed_size + hidden_size, hidden_size),\n",
    "                                            nn.Dropout(idropout))\n",
    "        \n",
    "        self.decoder = nn.Linear(hidden_size, vocab_size)\n",
    "        self.vocab_size = vocab_size;\n",
    "        \n",
    "        self.self_attention = self_attention;\n",
    "\n",
    "    def forward(self, input, memory):\n",
    "        emb = self.encoder(input)\n",
    "        emb = F.relu(emb)\n",
    "        \n",
    "#         print(emb.shape)\n",
    "#         emb = emb.transpose(0, 1);\n",
    "        return_scores = torch.empty(emb.size(0), emb.size(1), self.vocab_size).to(input.device)        \n",
    "        \n",
    "        for t in range(emb.size(0)):\n",
    "            current_vec = emb[t];\n",
    "            \n",
    "            if self.self_attention:\n",
    "                selected_memory, attention0 = self.attention(current_vec, memory)\n",
    "            else:\n",
    "                selected_memory, attention0 = memory[:, 0, :], None;\n",
    "\n",
    "            # recurrent\n",
    "            mem_out = self.memory_rnn(current_vec, selected_memory);\n",
    "\n",
    "            # update memory\n",
    "            memory = torch.cat([mem_out[:, None, :], memory[:, :-3, :]], dim=1)\n",
    "    \n",
    "            scores = self.decoder(mem_out)\n",
    "            return_scores[t] = scores\n",
    "            \n",
    "        return return_scores.contiguous(), memory\n",
    "\n",
    "    def attention(self, input, memory):\n",
    "        # select memory to use\n",
    "        concat_vec = torch.cat([input,  memory[:, 0, :]], dim=1);\n",
    "        projected_vec = self.projector_summ(concat_vec);\n",
    "    \n",
    "        dot_product_values = torch.bmm(memory, projected_vec.unsqueeze(-1)).squeeze(-1)/ math.sqrt(self.hidden_size);\n",
    "        \n",
    "        weights =  F.softmax(dot_product_values, dim = 1).unsqueeze(-1);\n",
    "        \n",
    "        selected_memory = torch.sum( memory * weights, dim=1)\n",
    "        return selected_memory, weights\n",
    "\n",
    "    def init_hidden(self, bsz):\n",
    "        return torch.zeros(bsz, 1, self.hidden_size).to(self.decoder.weight.device)\n"
   ]
  },
  {
   "cell_type": "code",
   "execution_count": 31,
   "metadata": {},
   "outputs": [],
   "source": [
    "filename_rnn_selfattn = 'rnn_selfattn'+dataset+'.pth';"
   ]
  },
  {
   "cell_type": "code",
   "execution_count": 32,
   "metadata": {},
   "outputs": [],
   "source": [
    "model_rnn_selfattn = RNN_SelfAttn_Model(vocab_size, embed_size, hidden_size, num_layers, dropout).to(device)"
   ]
  },
  {
   "cell_type": "code",
   "execution_count": 37,
   "metadata": {},
   "outputs": [
    {
     "name": "stdout",
     "output_type": "stream",
     "text": [
      "| epoch   1 |   200/ 3709 batches | lr 20.00 | loss 13.35 | ppl 625810.23\n",
      "| epoch   1 |   400/ 3709 batches | lr 20.00 | loss  8.75 | ppl  6324.29\n",
      "| epoch   1 |   600/ 3709 batches | lr 20.00 | loss  6.56 | ppl   706.73\n",
      "| epoch   1 |   800/ 3709 batches | lr 20.00 | loss  5.57 | ppl   261.60\n",
      "| epoch   1 |  1000/ 3709 batches | lr 20.00 | loss  5.10 | ppl   164.67\n",
      "| epoch   1 |  1200/ 3709 batches | lr 20.00 | loss  4.92 | ppl   137.68\n",
      "| epoch   1 |  1400/ 3709 batches | lr 20.00 | loss  4.76 | ppl   116.37\n",
      "| epoch   1 |  1600/ 3709 batches | lr 20.00 | loss  4.63 | ppl   102.72\n",
      "| epoch   1 |  1800/ 3709 batches | lr 20.00 | loss  4.55 | ppl    94.64\n",
      "| epoch   1 |  2000/ 3709 batches | lr 20.00 | loss  4.48 | ppl    88.11\n",
      "| epoch   1 |  2200/ 3709 batches | lr 20.00 | loss  4.42 | ppl    82.87\n",
      "| epoch   1 |  2400/ 3709 batches | lr 20.00 | loss  4.39 | ppl    80.55\n",
      "| epoch   1 |  2600/ 3709 batches | lr 20.00 | loss  4.37 | ppl    79.24\n",
      "| epoch   1 |  2800/ 3709 batches | lr 20.00 | loss  4.33 | ppl    75.94\n",
      "| epoch   1 |  3000/ 3709 batches | lr 20.00 | loss  4.30 | ppl    73.77\n",
      "| epoch   1 |  3200/ 3709 batches | lr 20.00 | loss  4.30 | ppl    73.99\n",
      "| epoch   1 |  3400/ 3709 batches | lr 20.00 | loss  4.27 | ppl    71.64\n",
      "| epoch   1 |  3600/ 3709 batches | lr 20.00 | loss  4.23 | ppl    68.54\n",
      "-----------------------------------------------------------------------------------------\n",
      "| end of epoch   1 | valid loss  4.20 | valid ppl    66.72\n",
      "-----------------------------------------------------------------------------------------\n"
     ]
    },
    {
     "name": "stderr",
     "output_type": "stream",
     "text": [
      "/scratch/sm7582/condaenvs/denoising/lib/python3.7/site-packages/torch/serialization.py:250: UserWarning: Couldn't retrieve source code for container of type RNN_SelfAttn_Model. It won't be checked for correctness upon loading.\n",
      "  \"type \" + obj.__name__ + \". It won't be checked \"\n"
     ]
    },
    {
     "name": "stdout",
     "output_type": "stream",
     "text": [
      "| epoch   2 |   200/ 3709 batches | lr 20.00 | loss  4.23 | ppl    69.06\n",
      "| epoch   2 |   400/ 3709 batches | lr 20.00 | loss  4.18 | ppl    65.46\n",
      "| epoch   2 |   600/ 3709 batches | lr 20.00 | loss  4.18 | ppl    65.67\n",
      "| epoch   2 |   800/ 3709 batches | lr 20.00 | loss  4.15 | ppl    63.27\n",
      "| epoch   2 |  1000/ 3709 batches | lr 20.00 | loss  4.12 | ppl    61.72\n",
      "| epoch   2 |  1200/ 3709 batches | lr 20.00 | loss  4.14 | ppl    62.86\n",
      "| epoch   2 |  1400/ 3709 batches | lr 20.00 | loss  4.10 | ppl    60.15\n",
      "| epoch   2 |  1600/ 3709 batches | lr 20.00 | loss  4.07 | ppl    58.74\n",
      "| epoch   2 |  1800/ 3709 batches | lr 20.00 | loss  4.08 | ppl    58.93\n",
      "| epoch   2 |  2000/ 3709 batches | lr 20.00 | loss  4.05 | ppl    57.48\n",
      "| epoch   2 |  2200/ 3709 batches | lr 20.00 | loss  4.04 | ppl    57.00\n",
      "| epoch   2 |  2400/ 3709 batches | lr 20.00 | loss  4.04 | ppl    57.06\n",
      "| epoch   2 |  2600/ 3709 batches | lr 20.00 | loss  4.06 | ppl    57.81\n",
      "| epoch   2 |  2800/ 3709 batches | lr 20.00 | loss  4.04 | ppl    57.00\n",
      "| epoch   2 |  3000/ 3709 batches | lr 20.00 | loss  4.04 | ppl    56.77\n",
      "| epoch   2 |  3200/ 3709 batches | lr 20.00 | loss  4.05 | ppl    57.56\n",
      "| epoch   2 |  3400/ 3709 batches | lr 20.00 | loss  4.04 | ppl    56.64\n",
      "| epoch   2 |  3600/ 3709 batches | lr 20.00 | loss  4.01 | ppl    55.12\n",
      "-----------------------------------------------------------------------------------------\n",
      "| end of epoch   2 | valid loss  4.00 | valid ppl    54.59\n",
      "-----------------------------------------------------------------------------------------\n",
      "| epoch   3 |   200/ 3709 batches | lr 20.00 | loss  4.02 | ppl    55.73\n",
      "| epoch   3 |   400/ 3709 batches | lr 20.00 | loss  3.99 | ppl    54.29\n",
      "| epoch   3 |   600/ 3709 batches | lr 20.00 | loss  4.01 | ppl    55.01\n",
      "| epoch   3 |   800/ 3709 batches | lr 20.00 | loss  3.97 | ppl    53.09\n",
      "| epoch   3 |  1000/ 3709 batches | lr 20.00 | loss  3.97 | ppl    52.90\n",
      "| epoch   3 |  1200/ 3709 batches | lr 20.00 | loss  3.99 | ppl    53.94\n",
      "| epoch   3 |  1400/ 3709 batches | lr 20.00 | loss  3.96 | ppl    52.32\n",
      "| epoch   3 |  1600/ 3709 batches | lr 20.00 | loss  3.93 | ppl    50.99\n",
      "| epoch   3 |  1800/ 3709 batches | lr 20.00 | loss  3.94 | ppl    51.63\n",
      "| epoch   3 |  2000/ 3709 batches | lr 20.00 | loss  3.93 | ppl    50.71\n",
      "| epoch   3 |  2200/ 3709 batches | lr 20.00 | loss  3.93 | ppl    50.70\n",
      "| epoch   3 |  2400/ 3709 batches | lr 20.00 | loss  3.93 | ppl    50.87\n",
      "| epoch   3 |  2600/ 3709 batches | lr 20.00 | loss  3.94 | ppl    51.50\n",
      "| epoch   3 |  2800/ 3709 batches | lr 20.00 | loss  3.94 | ppl    51.25\n",
      "| epoch   3 |  3000/ 3709 batches | lr 20.00 | loss  3.94 | ppl    51.24\n",
      "| epoch   3 |  3200/ 3709 batches | lr 20.00 | loss  3.95 | ppl    51.99\n",
      "| epoch   3 |  3400/ 3709 batches | lr 20.00 | loss  3.94 | ppl    51.39\n",
      "| epoch   3 |  3600/ 3709 batches | lr 20.00 | loss  3.91 | ppl    50.14\n",
      "-----------------------------------------------------------------------------------------\n",
      "| end of epoch   3 | valid loss  3.89 | valid ppl    48.93\n",
      "-----------------------------------------------------------------------------------------\n"
     ]
    },
    {
     "ename": "KeyboardInterrupt",
     "evalue": "",
     "output_type": "error",
     "traceback": [
      "\u001b[0;31m---------------------------------------------------------------------------\u001b[0m",
      "\u001b[0;31mKeyboardInterrupt\u001b[0m                         Traceback (most recent call last)",
      "\u001b[0;32m<ipython-input-37-631e1c1163d1>\u001b[0m in \u001b[0;36m<module>\u001b[0;34m\u001b[0m\n\u001b[1;32m      4\u001b[0m     model_rnn_selfattn = train_for_n_epochs(model = model_rnn_selfattn, \n\u001b[1;32m      5\u001b[0m                                \u001b[0mfilename\u001b[0m \u001b[0;34m=\u001b[0m \u001b[0mfilename_rnn\u001b[0m\u001b[0;34m,\u001b[0m\u001b[0;34m\u001b[0m\u001b[0;34m\u001b[0m\u001b[0m\n\u001b[0;32m----> 6\u001b[0;31m                                num_epochs = num_epochs)\n\u001b[0m",
      "\u001b[0;32m<ipython-input-23-ccd95816c1ab>\u001b[0m in \u001b[0;36mtrain_for_n_epochs\u001b[0;34m(model, filename, num_epochs, lr)\u001b[0m\n\u001b[1;32m      3\u001b[0m     \u001b[0mval_data\u001b[0m \u001b[0;34m=\u001b[0m \u001b[0mbatchify\u001b[0m\u001b[0;34m(\u001b[0m\u001b[0mcorpus\u001b[0m\u001b[0;34m.\u001b[0m\u001b[0mvalid\u001b[0m\u001b[0;34m,\u001b[0m \u001b[0mbatch_size\u001b[0m\u001b[0;34m,\u001b[0m \u001b[0mrandom_start_idx\u001b[0m\u001b[0;34m=\u001b[0m\u001b[0;32mTrue\u001b[0m\u001b[0;34m)\u001b[0m\u001b[0;34m\u001b[0m\u001b[0;34m\u001b[0m\u001b[0m\n\u001b[1;32m      4\u001b[0m     \u001b[0;32mfor\u001b[0m \u001b[0mepoch\u001b[0m \u001b[0;32min\u001b[0m \u001b[0mrange\u001b[0m\u001b[0;34m(\u001b[0m\u001b[0;36m1\u001b[0m\u001b[0;34m,\u001b[0m \u001b[0mnum_epochs\u001b[0m\u001b[0;34m+\u001b[0m\u001b[0;36m1\u001b[0m\u001b[0;34m)\u001b[0m\u001b[0;34m:\u001b[0m\u001b[0;34m\u001b[0m\u001b[0;34m\u001b[0m\u001b[0m\n\u001b[0;32m----> 5\u001b[0;31m         \u001b[0mmodel\u001b[0m \u001b[0;34m=\u001b[0m \u001b[0mtrain_step\u001b[0m\u001b[0;34m(\u001b[0m\u001b[0mmodel\u001b[0m\u001b[0;34m,\u001b[0m \u001b[0mlr\u001b[0m\u001b[0;34m,\u001b[0m \u001b[0mepoch\u001b[0m\u001b[0;34m)\u001b[0m\u001b[0;34m\u001b[0m\u001b[0;34m\u001b[0m\u001b[0m\n\u001b[0m\u001b[1;32m      6\u001b[0m         \u001b[0mval_loss\u001b[0m \u001b[0;34m=\u001b[0m \u001b[0mevaluate\u001b[0m\u001b[0;34m(\u001b[0m\u001b[0mmodel\u001b[0m\u001b[0;34m,\u001b[0m \u001b[0mval_data\u001b[0m\u001b[0;34m,\u001b[0m \u001b[0mmax_seq_len\u001b[0m\u001b[0;34m,\u001b[0m \u001b[0mbatch_size\u001b[0m\u001b[0;34m)\u001b[0m\u001b[0;34m\u001b[0m\u001b[0;34m\u001b[0m\u001b[0m\n\u001b[1;32m      7\u001b[0m         \u001b[0mprint\u001b[0m\u001b[0;34m(\u001b[0m\u001b[0;34m'-'\u001b[0m \u001b[0;34m*\u001b[0m \u001b[0;36m89\u001b[0m\u001b[0;34m)\u001b[0m\u001b[0;34m\u001b[0m\u001b[0;34m\u001b[0m\u001b[0m\n",
      "\u001b[0;32m<ipython-input-36-aad238fae0ec>\u001b[0m in \u001b[0;36mtrain_step\u001b[0;34m(model, lr, epoch)\u001b[0m\n\u001b[1;32m     30\u001b[0m         \u001b[0moutput\u001b[0m\u001b[0;34m,\u001b[0m \u001b[0mhidden\u001b[0m \u001b[0;34m=\u001b[0m \u001b[0mmodel\u001b[0m\u001b[0;34m(\u001b[0m\u001b[0mdata\u001b[0m\u001b[0;34m,\u001b[0m \u001b[0mhidden\u001b[0m\u001b[0;34m)\u001b[0m\u001b[0;34m\u001b[0m\u001b[0;34m\u001b[0m\u001b[0m\n\u001b[1;32m     31\u001b[0m         \u001b[0mloss\u001b[0m \u001b[0;34m=\u001b[0m \u001b[0mcriterion\u001b[0m\u001b[0;34m(\u001b[0m\u001b[0moutput\u001b[0m\u001b[0;34m.\u001b[0m\u001b[0mview\u001b[0m\u001b[0;34m(\u001b[0m\u001b[0;34m-\u001b[0m\u001b[0;36m1\u001b[0m\u001b[0;34m,\u001b[0m \u001b[0mvocab_size\u001b[0m\u001b[0;34m)\u001b[0m\u001b[0;34m,\u001b[0m \u001b[0mtargets\u001b[0m\u001b[0;34m)\u001b[0m\u001b[0;34m\u001b[0m\u001b[0;34m\u001b[0m\u001b[0m\n\u001b[0;32m---> 32\u001b[0;31m         \u001b[0mloss\u001b[0m\u001b[0;34m.\u001b[0m\u001b[0mbackward\u001b[0m\u001b[0;34m(\u001b[0m\u001b[0;34m)\u001b[0m\u001b[0;34m\u001b[0m\u001b[0;34m\u001b[0m\u001b[0m\n\u001b[0m\u001b[1;32m     33\u001b[0m \u001b[0;34m\u001b[0m\u001b[0m\n\u001b[1;32m     34\u001b[0m         \u001b[0;31m# `clip_grad_norm` helps prevent the exploding gradient problem\u001b[0m\u001b[0;34m\u001b[0m\u001b[0;34m\u001b[0m\u001b[0;34m\u001b[0m\u001b[0m\n",
      "\u001b[0;32m/scratch/sm7582/condaenvs/denoising/lib/python3.7/site-packages/torch/tensor.py\u001b[0m in \u001b[0;36mbackward\u001b[0;34m(self, gradient, retain_graph, create_graph)\u001b[0m\n\u001b[1;32m    100\u001b[0m                 \u001b[0mproducts\u001b[0m\u001b[0;34m.\u001b[0m \u001b[0mDefaults\u001b[0m \u001b[0mto\u001b[0m\u001b[0;31m \u001b[0m\u001b[0;31m`\u001b[0m\u001b[0;31m`\u001b[0m\u001b[0;32mFalse\u001b[0m\u001b[0;31m`\u001b[0m\u001b[0;31m`\u001b[0m\u001b[0;34m.\u001b[0m\u001b[0;34m\u001b[0m\u001b[0;34m\u001b[0m\u001b[0m\n\u001b[1;32m    101\u001b[0m         \"\"\"\n\u001b[0;32m--> 102\u001b[0;31m         \u001b[0mtorch\u001b[0m\u001b[0;34m.\u001b[0m\u001b[0mautograd\u001b[0m\u001b[0;34m.\u001b[0m\u001b[0mbackward\u001b[0m\u001b[0;34m(\u001b[0m\u001b[0mself\u001b[0m\u001b[0;34m,\u001b[0m \u001b[0mgradient\u001b[0m\u001b[0;34m,\u001b[0m \u001b[0mretain_graph\u001b[0m\u001b[0;34m,\u001b[0m \u001b[0mcreate_graph\u001b[0m\u001b[0;34m)\u001b[0m\u001b[0;34m\u001b[0m\u001b[0;34m\u001b[0m\u001b[0m\n\u001b[0m\u001b[1;32m    103\u001b[0m \u001b[0;34m\u001b[0m\u001b[0m\n\u001b[1;32m    104\u001b[0m     \u001b[0;32mdef\u001b[0m \u001b[0mregister_hook\u001b[0m\u001b[0;34m(\u001b[0m\u001b[0mself\u001b[0m\u001b[0;34m,\u001b[0m \u001b[0mhook\u001b[0m\u001b[0;34m)\u001b[0m\u001b[0;34m:\u001b[0m\u001b[0;34m\u001b[0m\u001b[0;34m\u001b[0m\u001b[0m\n",
      "\u001b[0;32m/scratch/sm7582/condaenvs/denoising/lib/python3.7/site-packages/torch/autograd/__init__.py\u001b[0m in \u001b[0;36mbackward\u001b[0;34m(tensors, grad_tensors, retain_graph, create_graph, grad_variables)\u001b[0m\n\u001b[1;32m     88\u001b[0m     Variable._execution_engine.run_backward(\n\u001b[1;32m     89\u001b[0m         \u001b[0mtensors\u001b[0m\u001b[0;34m,\u001b[0m \u001b[0mgrad_tensors\u001b[0m\u001b[0;34m,\u001b[0m \u001b[0mretain_graph\u001b[0m\u001b[0;34m,\u001b[0m \u001b[0mcreate_graph\u001b[0m\u001b[0;34m,\u001b[0m\u001b[0;34m\u001b[0m\u001b[0;34m\u001b[0m\u001b[0m\n\u001b[0;32m---> 90\u001b[0;31m         allow_unreachable=True)  # allow_unreachable flag\n\u001b[0m\u001b[1;32m     91\u001b[0m \u001b[0;34m\u001b[0m\u001b[0m\n\u001b[1;32m     92\u001b[0m \u001b[0;34m\u001b[0m\u001b[0m\n",
      "\u001b[0;31mKeyboardInterrupt\u001b[0m: "
     ]
    }
   ],
   "source": [
    "if os.path.exists(filename_rnn_selfattn) and (not train_again):\n",
    "    model_rnn_selfattn = torch.load(filename_rnn_selfattn);\n",
    "else:\n",
    "    model_rnn_selfattn = train_for_n_epochs(model = model_rnn_selfattn, \n",
    "                               filename = filename_rnn_selfattn,\n",
    "                               num_epochs = num_epochs)\n"
   ]
  },
  {
   "cell_type": "markdown",
   "metadata": {},
   "source": [
    "### Scoring Sentences"
   ]
  },
  {
   "cell_type": "code",
   "execution_count": 90,
   "metadata": {},
   "outputs": [
    {
     "data": {
      "text/plain": [
       "[('how are you?', 101.36184006487102, 9.47329770184524e-09),\n",
       " ('dividend yields have been bolstered by stock declines',\n",
       "  228.70603132037192,\n",
       "  5.841191633299324e-22),\n",
       " ('stock bolstered declines dividend by yields have been',\n",
       "  226.93469120306304,\n",
       "  6.264579970671918e-22),\n",
       " ('artificial neural networks are computing systems vaguely inspired by the biological neural networks',\n",
       "  206.47568442864693,\n",
       "  3.906920411508972e-33),\n",
       " ('Cho is so cool', 39.82627319195157, 9.980484882987639e-09),\n",
       " ('roberta is so cool', 39.82627319195157, 9.980484882987639e-09),\n",
       " ('this cloth is nice', 41.82467837258902, 7.813343749774049e-09),\n",
       " ('a', 279.6846450160066, 1.278389390790835e-05)]"
      ]
     },
     "execution_count": 90,
     "metadata": {},
     "output_type": "execute_result"
    }
   ],
   "source": [
    "score_sentences(model_rnn_selfattn, test_sentences)"
   ]
  },
  {
   "cell_type": "markdown",
   "metadata": {},
   "source": [
    "### Generating Sentences"
   ]
  },
  {
   "cell_type": "code",
   "execution_count": 91,
   "metadata": {},
   "outputs": [
    {
     "data": {
      "text/plain": [
       "\"string . they get easily fit and made the crease after 1 hour i received promised macy ' s only the ones i had to change my computer barely jewels and power shorts were dragging put together on my head instead of the first time buckled are related and see through them . <eos> my son loved sapphire stockings seat and this khaki is perfect . do not recommend it as you should be damaged and love these overall excellent quality . the style is great or blue and are very easy to use on and just outside for what moves \""
      ]
     },
     "execution_count": 91,
     "metadata": {},
     "output_type": "execute_result"
    }
   ],
   "source": [
    "generate_words(model_rnn_selfattn)"
   ]
  },
  {
   "cell_type": "markdown",
   "metadata": {},
   "source": [
    "# Self Attention"
   ]
  },
  {
   "cell_type": "code",
   "execution_count": 103,
   "metadata": {},
   "outputs": [],
   "source": [
    "class SelfAttn_Model(nn.Module):\n",
    "    def __init__(self, vocab_size, embed_size, hidden_size, num_layers=1, \n",
    "                 dropout = 0.5, idropout = 0.5, self_attention = True):\n",
    "        super(SelfAttn_Model, self).__init__()\n",
    "\n",
    "        \n",
    "        self.drop = nn.Dropout(dropout)\n",
    "        \n",
    "        self.encoder = nn.Embedding(vocab_size, embed_size)\n",
    "        self.rnn = nn.GRUCell(hidden_size, hidden_size, bias=True);\n",
    "\n",
    "        self.hidden_size = hidden_size\n",
    "        self.num_layers = num_layers\n",
    "        \n",
    "    \n",
    "        self.projector_summ = nn.Sequential(nn.Dropout(idropout),\n",
    "                                            nn.Linear(embed_size + hidden_size, hidden_size),\n",
    "                                            nn.Dropout(idropout))\n",
    "        \n",
    "        self.decoder = nn.Linear(embed_size + hidden_size, vocab_size)\n",
    "        self.vocab_size = vocab_size;\n",
    "        \n",
    "        self.self_attention = self_attention;\n",
    "\n",
    "    def forward(self, input, memory):\n",
    "        emb = self.encoder(input)\n",
    "        emb = F.relu(emb)\n",
    "        \n",
    "#         print(emb.shape)\n",
    "#         emb = emb.transpose(0, 1);\n",
    "        return_scores = torch.empty(emb.size(0), emb.size(1), self.vocab_size).to(input.device)        \n",
    "        \n",
    "        for t in range(emb.size(0)):\n",
    "            current_vec = emb[t];\n",
    "            \n",
    "            if self.self_attention:\n",
    "                selected_memory, attention0 = self.attention(current_vec, memory)\n",
    "            else:\n",
    "                selected_memory, attention0 = memory[:, 0, :], None;\n",
    "\n",
    "            # recurrent\n",
    "            mem_out = current_vec;\n",
    "\n",
    "            # update memory\n",
    "            memory = torch.cat([mem_out[:, None, :], memory[:, :-25, :]], dim=1)\n",
    "    \n",
    "#             print(mem_out.shape)\n",
    "#             print(selected_memory.shape)\n",
    "            scores = self.decoder( torch.cat([mem_out, selected_memory], dim = 1) )\n",
    "            return_scores[t] = scores\n",
    "            \n",
    "        return return_scores.contiguous(), memory\n",
    "\n",
    "    def attention(self, input, memory):\n",
    "        # select memory to use\n",
    "        concat_vec = torch.cat([input,  memory[:, 0, :]], dim=1);\n",
    "        projected_vec = self.projector_summ(concat_vec);\n",
    "    \n",
    "        dot_product_values = torch.bmm(memory, projected_vec.unsqueeze(-1)).squeeze(-1)/ math.sqrt(self.hidden_size);\n",
    "        \n",
    "        weights =  F.softmax(dot_product_values, dim = 1).unsqueeze(-1);\n",
    "        \n",
    "        selected_memory = torch.sum( memory * weights, dim=1)\n",
    "        return selected_memory, weights\n",
    "\n",
    "    def init_hidden(self, bsz):\n",
    "        return torch.zeros(bsz, 1, self.hidden_size).to(self.decoder.weight.device)\n"
   ]
  },
  {
   "cell_type": "code",
   "execution_count": 104,
   "metadata": {},
   "outputs": [],
   "source": [
    "filename_selfattn = 'selfattn'+dataset+'.pth';"
   ]
  },
  {
   "cell_type": "code",
   "execution_count": 105,
   "metadata": {},
   "outputs": [],
   "source": [
    "model_selfattn = SelfAttn_Model(vocab_size, embed_size, hidden_size, num_layers, dropout).to(device)"
   ]
  },
  {
   "cell_type": "code",
   "execution_count": null,
   "metadata": {},
   "outputs": [
    {
     "name": "stdout",
     "output_type": "stream",
     "text": [
      "| epoch   1 |   200/ 3709 batches | lr 20.00 | loss  4.48 | ppl    88.47\n",
      "| epoch   1 |   400/ 3709 batches | lr 20.00 | loss  4.44 | ppl    85.17\n",
      "| epoch   1 |   600/ 3709 batches | lr 20.00 | loss  4.47 | ppl    87.19\n",
      "| epoch   1 |   800/ 3709 batches | lr 20.00 | loss  4.44 | ppl    84.60\n",
      "| epoch   1 |  1000/ 3709 batches | lr 20.00 | loss  4.44 | ppl    84.47\n",
      "| epoch   1 |  1200/ 3709 batches | lr 20.00 | loss  4.45 | ppl    85.97\n",
      "| epoch   1 |  1400/ 3709 batches | lr 20.00 | loss  4.43 | ppl    84.09\n",
      "| epoch   1 |  1600/ 3709 batches | lr 20.00 | loss  4.41 | ppl    81.86\n",
      "| epoch   1 |  1800/ 3709 batches | lr 20.00 | loss  4.43 | ppl    83.82\n",
      "| epoch   1 |  2000/ 3709 batches | lr 20.00 | loss  4.40 | ppl    81.30\n",
      "| epoch   1 |  2200/ 3709 batches | lr 20.00 | loss  4.40 | ppl    81.47\n",
      "| epoch   1 |  2400/ 3709 batches | lr 20.00 | loss  4.40 | ppl    81.42\n",
      "| epoch   1 |  2600/ 3709 batches | lr 20.00 | loss  4.44 | ppl    84.37\n",
      "| epoch   1 |  2800/ 3709 batches | lr 20.00 | loss  4.40 | ppl    81.65\n",
      "| epoch   1 |  3000/ 3709 batches | lr 20.00 | loss  4.43 | ppl    83.53\n",
      "| epoch   1 |  3200/ 3709 batches | lr 20.00 | loss  4.45 | ppl    85.29\n",
      "| epoch   1 |  3400/ 3709 batches | lr 20.00 | loss  4.42 | ppl    83.44\n",
      "| epoch   1 |  3600/ 3709 batches | lr 20.00 | loss  4.39 | ppl    80.61\n",
      "-----------------------------------------------------------------------------------------\n",
      "| end of epoch   1 | valid loss  4.34 | valid ppl    76.70\n",
      "-----------------------------------------------------------------------------------------\n"
     ]
    },
    {
     "name": "stderr",
     "output_type": "stream",
     "text": [
      "/scratch/sm7582/condaenvs/denoising/lib/python3.7/site-packages/torch/serialization.py:250: UserWarning: Couldn't retrieve source code for container of type SelfAttn_Model. It won't be checked for correctness upon loading.\n",
      "  \"type \" + obj.__name__ + \". It won't be checked \"\n"
     ]
    },
    {
     "name": "stdout",
     "output_type": "stream",
     "text": [
      "| epoch   2 |   200/ 3709 batches | lr 20.00 | loss  4.43 | ppl    83.73\n",
      "| epoch   2 |   400/ 3709 batches | lr 20.00 | loss  4.39 | ppl    80.61\n",
      "| epoch   2 |   600/ 3709 batches | lr 20.00 | loss  4.42 | ppl    83.04\n",
      "| epoch   2 |   800/ 3709 batches | lr 20.00 | loss  4.39 | ppl    81.02\n",
      "| epoch   2 |  1000/ 3709 batches | lr 20.00 | loss  4.37 | ppl    79.41\n",
      "| epoch   2 |  1200/ 3709 batches | lr 20.00 | loss  4.41 | ppl    82.67\n",
      "| epoch   2 |  1400/ 3709 batches | lr 20.00 | loss  4.37 | ppl    79.19\n",
      "| epoch   2 |  1600/ 3709 batches | lr 20.00 | loss  4.35 | ppl    77.71\n",
      "| epoch   2 |  1800/ 3709 batches | lr 20.00 | loss  4.37 | ppl    79.08\n",
      "| epoch   2 |  2000/ 3709 batches | lr 20.00 | loss  4.35 | ppl    77.74\n",
      "| epoch   2 |  2200/ 3709 batches | lr 20.00 | loss  4.35 | ppl    77.77\n",
      "| epoch   2 |  2400/ 3709 batches | lr 20.00 | loss  4.36 | ppl    78.10\n",
      "| epoch   2 |  2600/ 3709 batches | lr 20.00 | loss  4.38 | ppl    80.07\n",
      "| epoch   2 |  2800/ 3709 batches | lr 20.00 | loss  4.37 | ppl    79.16\n",
      "| epoch   2 |  3000/ 3709 batches | lr 20.00 | loss  4.38 | ppl    79.70\n",
      "| epoch   2 |  3200/ 3709 batches | lr 20.00 | loss  4.41 | ppl    81.96\n",
      "| epoch   2 |  3400/ 3709 batches | lr 20.00 | loss  4.38 | ppl    79.87\n",
      "| epoch   2 |  3600/ 3709 batches | lr 20.00 | loss  4.34 | ppl    76.69\n",
      "-----------------------------------------------------------------------------------------\n",
      "| end of epoch   2 | valid loss  4.27 | valid ppl    71.28\n",
      "-----------------------------------------------------------------------------------------\n",
      "| epoch   3 |   200/ 3709 batches | lr 20.00 | loss  4.37 | ppl    79.43\n",
      "| epoch   3 |   400/ 3709 batches | lr 20.00 | loss  4.35 | ppl    77.36\n",
      "| epoch   3 |   600/ 3709 batches | lr 20.00 | loss  4.38 | ppl    79.47\n"
     ]
    }
   ],
   "source": [
    "train_again = True\n",
    "if os.path.exists(filename_selfattn) and (not train_again):\n",
    "    model_selfattn = torch.load(filename_selfattn);\n",
    "else:\n",
    "    model_selfattn = train_for_n_epochs(model = model_selfattn, \n",
    "                               filename = filename_selfattn,\n",
    "                               num_epochs = num_epochs)\n"
   ]
  },
  {
   "cell_type": "markdown",
   "metadata": {},
   "source": [
    "### Scoring Sentences"
   ]
  },
  {
   "cell_type": "code",
   "execution_count": 108,
   "metadata": {},
   "outputs": [
    {
     "data": {
      "text/plain": [
       "[('how are you?', 103.00469458609216, 8.883246138680079e-09),\n",
       " ('dividend yields have been bolstered by stock declines',\n",
       "  706.8707342755534,\n",
       "  2.2695685399091972e-26),\n",
       " ('stock bolstered declines dividend by yields have been',\n",
       "  562.5903504763468,\n",
       "  1.7712076968178442e-25),\n",
       " ('artificial neural networks are computing systems vaguely inspired by the biological neural networks',\n",
       "  270.4123081023086,\n",
       "  8.94595511602657e-35),\n",
       " ('Cho is so cool', 44.463124679970925, 5.754389853507291e-09),\n",
       " ('roberta is so cool', 44.463124679970925, 5.754389853507291e-09),\n",
       " ('this cloth is nice', 70.44770105140095, 5.763228783095542e-10),\n",
       " ('a', 60.45458798167272, 0.00027361573302187026)]"
      ]
     },
     "execution_count": 108,
     "metadata": {},
     "output_type": "execute_result"
    }
   ],
   "source": [
    "score_sentences(model_selfattn, test_sentences)"
   ]
  },
  {
   "cell_type": "markdown",
   "metadata": {},
   "source": [
    "### Generating Sentences"
   ]
  },
  {
   "cell_type": "code",
   "execution_count": 109,
   "metadata": {},
   "outputs": [
    {
     "data": {
      "text/plain": [
       "\"shelve for a girl run a little disappointed to wear them for so long , it ! <eos> cute red for example and requirements to have a 3 different pair of these were more comfortable , nice , love orthaheel sandals are the right , it has to stretch but it people far at all . i had to the store with these panties , based on a while payless bag face and holic of your manufacture or wearing them on a thin costume ( it ' s agent for a couple runs big , it was too big people with \""
      ]
     },
     "execution_count": 109,
     "metadata": {},
     "output_type": "execute_result"
    }
   ],
   "source": [
    "generate_words(model_selfattn)"
   ]
  },
  {
   "cell_type": "code",
   "execution_count": null,
   "metadata": {},
   "outputs": [],
   "source": []
  }
 ],
 "metadata": {
  "kernelspec": {
   "display_name": "Python 3",
   "language": "python",
   "name": "python3"
  },
  "language_info": {
   "codemirror_mode": {
    "name": "ipython",
    "version": 3
   },
   "file_extension": ".py",
   "mimetype": "text/x-python",
   "name": "python",
   "nbconvert_exporter": "python",
   "pygments_lexer": "ipython3",
   "version": "3.7.1"
  }
 },
 "nbformat": 4,
 "nbformat_minor": 2
}
